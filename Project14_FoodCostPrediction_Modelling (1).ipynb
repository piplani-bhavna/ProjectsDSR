{
 "cells": [
  {
   "cell_type": "code",
   "execution_count": 1,
   "metadata": {},
   "outputs": [],
   "source": [
    "import pandas as pd \n",
    "import numpy as np \n",
    "import matplotlib.pyplot as plt\n",
    "import seaborn as sns\n",
    "import warnings\n",
    "warnings.filterwarnings('ignore')"
   ]
  },
  {
   "cell_type": "code",
   "execution_count": 2,
   "metadata": {},
   "outputs": [
    {
     "data": {
      "text/html": [
       "<div>\n",
       "<style scoped>\n",
       "    .dataframe tbody tr th:only-of-type {\n",
       "        vertical-align: middle;\n",
       "    }\n",
       "\n",
       "    .dataframe tbody tr th {\n",
       "        vertical-align: top;\n",
       "    }\n",
       "\n",
       "    .dataframe thead th {\n",
       "        text-align: right;\n",
       "    }\n",
       "</style>\n",
       "<table border=\"1\" class=\"dataframe\">\n",
       "  <thead>\n",
       "    <tr style=\"text-align: right;\">\n",
       "      <th></th>\n",
       "      <th>TITLE</th>\n",
       "      <th>RESTAURANT_ID</th>\n",
       "      <th>CUISINES</th>\n",
       "      <th>TIME</th>\n",
       "      <th>CITY</th>\n",
       "      <th>LOCALITY</th>\n",
       "      <th>RATING</th>\n",
       "      <th>VOTES</th>\n",
       "    </tr>\n",
       "  </thead>\n",
       "  <tbody>\n",
       "    <tr>\n",
       "      <th>0</th>\n",
       "      <td>CASUAL DINING</td>\n",
       "      <td>4085</td>\n",
       "      <td>North Indian, Chinese, Mughlai, Kebab</td>\n",
       "      <td>12noon – 12midnight (Mon-Sun)</td>\n",
       "      <td>Noida</td>\n",
       "      <td>Sector 18</td>\n",
       "      <td>4.3</td>\n",
       "      <td>564 votes</td>\n",
       "    </tr>\n",
       "    <tr>\n",
       "      <th>1</th>\n",
       "      <td>QUICK BITES</td>\n",
       "      <td>12680</td>\n",
       "      <td>South Indian, Fast Food, Pizza, North Indian</td>\n",
       "      <td>7am – 12:30AM (Mon-Sun)</td>\n",
       "      <td>Mumbai</td>\n",
       "      <td>Grant Road</td>\n",
       "      <td>4.2</td>\n",
       "      <td>61 votes</td>\n",
       "    </tr>\n",
       "    <tr>\n",
       "      <th>2</th>\n",
       "      <td>CASUAL DINING</td>\n",
       "      <td>1411</td>\n",
       "      <td>North Indian, Seafood, Biryani, Chinese</td>\n",
       "      <td>11am – 11:30pm (Mon-Sun)</td>\n",
       "      <td>Mumbai</td>\n",
       "      <td>Marine Lines</td>\n",
       "      <td>3.8</td>\n",
       "      <td>350 votes</td>\n",
       "    </tr>\n",
       "    <tr>\n",
       "      <th>3</th>\n",
       "      <td>None</td>\n",
       "      <td>204</td>\n",
       "      <td>Biryani</td>\n",
       "      <td>9am – 10pm (Mon, Wed, Thu, Fri, Sat, Sun), 10:...</td>\n",
       "      <td>Faridabad</td>\n",
       "      <td>NIT</td>\n",
       "      <td>3.8</td>\n",
       "      <td>1445 votes</td>\n",
       "    </tr>\n",
       "    <tr>\n",
       "      <th>4</th>\n",
       "      <td>QUICK BITES</td>\n",
       "      <td>13453</td>\n",
       "      <td>South Indian, Kerala</td>\n",
       "      <td>11am – 10pm (Mon-Sun)</td>\n",
       "      <td>Kochi</td>\n",
       "      <td>Kaloor</td>\n",
       "      <td>3.6</td>\n",
       "      <td>23 votes</td>\n",
       "    </tr>\n",
       "    <tr>\n",
       "      <th>...</th>\n",
       "      <td>...</td>\n",
       "      <td>...</td>\n",
       "      <td>...</td>\n",
       "      <td>...</td>\n",
       "      <td>...</td>\n",
       "      <td>...</td>\n",
       "      <td>...</td>\n",
       "      <td>...</td>\n",
       "    </tr>\n",
       "    <tr>\n",
       "      <th>4226</th>\n",
       "      <td>CASUAL DINING</td>\n",
       "      <td>9057</td>\n",
       "      <td>North Indian, Mughlai, Chinese</td>\n",
       "      <td>11:30am – 11:30pm (Mon-Sun)</td>\n",
       "      <td>New Delhi</td>\n",
       "      <td>Punjabi Bagh</td>\n",
       "      <td>3.9</td>\n",
       "      <td>287 votes</td>\n",
       "    </tr>\n",
       "    <tr>\n",
       "      <th>4227</th>\n",
       "      <td>None</td>\n",
       "      <td>1247</td>\n",
       "      <td>Biryani, North Indian, Sandwich, Salad, Wraps</td>\n",
       "      <td>11am – 1am (Mon-Sun)</td>\n",
       "      <td>Bangalore</td>\n",
       "      <td>HSR Layout</td>\n",
       "      <td>4.3</td>\n",
       "      <td>469 votes</td>\n",
       "    </tr>\n",
       "    <tr>\n",
       "      <th>4228</th>\n",
       "      <td>QUICK BITES</td>\n",
       "      <td>8617</td>\n",
       "      <td>Continental, North Indian</td>\n",
       "      <td>9:30am – 10:30pm (Mon-Sun)</td>\n",
       "      <td>Faridabad</td>\n",
       "      <td>Sector 86</td>\n",
       "      <td>3.7</td>\n",
       "      <td>53 votes</td>\n",
       "    </tr>\n",
       "    <tr>\n",
       "      <th>4229</th>\n",
       "      <td>QUICK BITES</td>\n",
       "      <td>6485</td>\n",
       "      <td>Rolls, Beverages</td>\n",
       "      <td>11am – 11:30pm (Mon, Tue, Wed, Thu, Sat, Sun),...</td>\n",
       "      <td>Kochi</td>\n",
       "      <td>Kochi</td>\n",
       "      <td>-</td>\n",
       "      <td>NaN</td>\n",
       "    </tr>\n",
       "    <tr>\n",
       "      <th>4230</th>\n",
       "      <td>QUICK BITES</td>\n",
       "      <td>2421</td>\n",
       "      <td>Mughlai</td>\n",
       "      <td>5pm – 1am (Mon-Sun)</td>\n",
       "      <td>Bandra West</td>\n",
       "      <td>Perry Cross Road</td>\n",
       "      <td>3.7</td>\n",
       "      <td>63 votes</td>\n",
       "    </tr>\n",
       "  </tbody>\n",
       "</table>\n",
       "<p>4231 rows × 8 columns</p>\n",
       "</div>"
      ],
      "text/plain": [
       "              TITLE  RESTAURANT_ID  \\\n",
       "0     CASUAL DINING           4085   \n",
       "1       QUICK BITES          12680   \n",
       "2     CASUAL DINING           1411   \n",
       "3              None            204   \n",
       "4       QUICK BITES          13453   \n",
       "...             ...            ...   \n",
       "4226  CASUAL DINING           9057   \n",
       "4227           None           1247   \n",
       "4228    QUICK BITES           8617   \n",
       "4229    QUICK BITES           6485   \n",
       "4230    QUICK BITES           2421   \n",
       "\n",
       "                                           CUISINES  \\\n",
       "0             North Indian, Chinese, Mughlai, Kebab   \n",
       "1      South Indian, Fast Food, Pizza, North Indian   \n",
       "2           North Indian, Seafood, Biryani, Chinese   \n",
       "3                                           Biryani   \n",
       "4                              South Indian, Kerala   \n",
       "...                                             ...   \n",
       "4226                 North Indian, Mughlai, Chinese   \n",
       "4227  Biryani, North Indian, Sandwich, Salad, Wraps   \n",
       "4228                      Continental, North Indian   \n",
       "4229                               Rolls, Beverages   \n",
       "4230                                        Mughlai   \n",
       "\n",
       "                                                   TIME         CITY  \\\n",
       "0                         12noon – 12midnight (Mon-Sun)        Noida   \n",
       "1                               7am – 12:30AM (Mon-Sun)       Mumbai   \n",
       "2                              11am – 11:30pm (Mon-Sun)       Mumbai   \n",
       "3     9am – 10pm (Mon, Wed, Thu, Fri, Sat, Sun), 10:...    Faridabad   \n",
       "4                                 11am – 10pm (Mon-Sun)        Kochi   \n",
       "...                                                 ...          ...   \n",
       "4226                        11:30am – 11:30pm (Mon-Sun)    New Delhi   \n",
       "4227                               11am – 1am (Mon-Sun)    Bangalore   \n",
       "4228                         9:30am – 10:30pm (Mon-Sun)    Faridabad   \n",
       "4229  11am – 11:30pm (Mon, Tue, Wed, Thu, Sat, Sun),...        Kochi   \n",
       "4230                                5pm – 1am (Mon-Sun)  Bandra West   \n",
       "\n",
       "              LOCALITY RATING       VOTES  \n",
       "0            Sector 18    4.3   564 votes  \n",
       "1           Grant Road    4.2    61 votes  \n",
       "2         Marine Lines    3.8   350 votes  \n",
       "3                  NIT    3.8  1445 votes  \n",
       "4               Kaloor    3.6    23 votes  \n",
       "...                ...    ...         ...  \n",
       "4226      Punjabi Bagh    3.9   287 votes  \n",
       "4227        HSR Layout    4.3   469 votes  \n",
       "4228         Sector 86    3.7    53 votes  \n",
       "4229             Kochi      -         NaN  \n",
       "4230  Perry Cross Road    3.7    63 votes  \n",
       "\n",
       "[4231 rows x 8 columns]"
      ]
     },
     "execution_count": 2,
     "metadata": {},
     "output_type": "execute_result"
    }
   ],
   "source": [
    "df=pd.read_csv('FoodCost_test.csv',sep='\\t' )\n",
    "df\n"
   ]
  },
  {
   "cell_type": "markdown",
   "metadata": {},
   "source": [
    "# EDA for Test Data"
   ]
  },
  {
   "cell_type": "code",
   "execution_count": 3,
   "metadata": {},
   "outputs": [
    {
     "data": {
      "text/plain": [
       "(4231, 8)"
      ]
     },
     "execution_count": 3,
     "metadata": {},
     "output_type": "execute_result"
    }
   ],
   "source": [
    "df.shape #checking the rows and ccolumns count"
   ]
  },
  {
   "cell_type": "code",
   "execution_count": 4,
   "metadata": {},
   "outputs": [
    {
     "data": {
      "text/plain": [
       "Index(['TITLE', 'RESTAURANT_ID', 'CUISINES', 'TIME', 'CITY', 'LOCALITY',\n",
       "       'RATING', 'VOTES'],\n",
       "      dtype='object')"
      ]
     },
     "execution_count": 4,
     "metadata": {},
     "output_type": "execute_result"
    }
   ],
   "source": [
    "df.columns #checking various columns "
   ]
  },
  {
   "cell_type": "code",
   "execution_count": 5,
   "metadata": {},
   "outputs": [
    {
     "data": {
      "text/plain": [
       "TITLE            object\n",
       "RESTAURANT_ID     int64\n",
       "CUISINES         object\n",
       "TIME             object\n",
       "CITY             object\n",
       "LOCALITY         object\n",
       "RATING           object\n",
       "VOTES            object\n",
       "dtype: object"
      ]
     },
     "execution_count": 5,
     "metadata": {},
     "output_type": "execute_result"
    }
   ],
   "source": [
    "df.dtypes  # checking the data types of columns "
   ]
  },
  {
   "cell_type": "code",
   "execution_count": 6,
   "metadata": {},
   "outputs": [
    {
     "data": {
      "text/plain": [
       "TITLE              0\n",
       "RESTAURANT_ID      0\n",
       "CUISINES           0\n",
       "TIME               0\n",
       "CITY              35\n",
       "LOCALITY          30\n",
       "RATING             2\n",
       "VOTES            402\n",
       "dtype: int64"
      ]
     },
     "execution_count": 6,
     "metadata": {},
     "output_type": "execute_result"
    }
   ],
   "source": [
    "df.isnull().sum() # checking for null values "
   ]
  },
  {
   "cell_type": "code",
   "execution_count": 7,
   "metadata": {},
   "outputs": [
    {
     "data": {
      "text/plain": [
       "<AxesSubplot:>"
      ]
     },
     "execution_count": 7,
     "metadata": {},
     "output_type": "execute_result"
    },
    {
     "data": {
      "image/png": "[encoded data removed]",
      "text/plain": [
       "<Figure size 432x288 with 2 Axes>"
      ]
     },
     "metadata": {
      "needs_background": "light"
     },
     "output_type": "display_data"
    }
   ],
   "source": [
    "sns.heatmap(df.isnull())"
   ]
  },
  {
   "cell_type": "markdown",
   "metadata": {},
   "source": [
    "There are null values in column CITY,LOCALITY,RATING,VOTES"
   ]
  },
  {
   "cell_type": "markdown",
   "metadata": {},
   "source": [
    "Key Obseravtions till here\n",
    "1. Data is not numerical. \n",
    "2. nominal values are alphanumeric also.\n",
    "So, One by one we will try to extract the relevant values from each variable."
   ]
  },
  {
   "cell_type": "code",
   "execution_count": 8,
   "metadata": {},
   "outputs": [
    {
     "data": {
      "text/html": [
       "<div>\n",
       "<style scoped>\n",
       "    .dataframe tbody tr th:only-of-type {\n",
       "        vertical-align: middle;\n",
       "    }\n",
       "\n",
       "    .dataframe tbody tr th {\n",
       "        vertical-align: top;\n",
       "    }\n",
       "\n",
       "    .dataframe thead th {\n",
       "        text-align: right;\n",
       "    }\n",
       "</style>\n",
       "<table border=\"1\" class=\"dataframe\">\n",
       "  <thead>\n",
       "    <tr style=\"text-align: right;\">\n",
       "      <th></th>\n",
       "      <th>TITLE</th>\n",
       "      <th>RESTAURANT_ID</th>\n",
       "      <th>CUISINES</th>\n",
       "      <th>TIME</th>\n",
       "      <th>CITY</th>\n",
       "      <th>LOCALITY</th>\n",
       "      <th>RATING</th>\n",
       "      <th>VOTES</th>\n",
       "    </tr>\n",
       "  </thead>\n",
       "  <tbody>\n",
       "    <tr>\n",
       "      <th>0</th>\n",
       "      <td>CASUAL DINING</td>\n",
       "      <td>4085</td>\n",
       "      <td>North Indian, Chinese, Mughlai, Kebab</td>\n",
       "      <td>12noon – 12midnight (Mon-Sun)</td>\n",
       "      <td>Noida</td>\n",
       "      <td>Sector 18</td>\n",
       "      <td>4.3</td>\n",
       "      <td>564 votes</td>\n",
       "    </tr>\n",
       "    <tr>\n",
       "      <th>1</th>\n",
       "      <td>QUICK BITES</td>\n",
       "      <td>12680</td>\n",
       "      <td>South Indian, Fast Food, Pizza, North Indian</td>\n",
       "      <td>7am – 12:30AM (Mon-Sun)</td>\n",
       "      <td>Mumbai</td>\n",
       "      <td>Grant Road</td>\n",
       "      <td>4.2</td>\n",
       "      <td>61 votes</td>\n",
       "    </tr>\n",
       "  </tbody>\n",
       "</table>\n",
       "</div>"
      ],
      "text/plain": [
       "           TITLE  RESTAURANT_ID                                      CUISINES  \\\n",
       "0  CASUAL DINING           4085         North Indian, Chinese, Mughlai, Kebab   \n",
       "1    QUICK BITES          12680  South Indian, Fast Food, Pizza, North Indian   \n",
       "\n",
       "                            TIME    CITY    LOCALITY RATING      VOTES  \n",
       "0  12noon – 12midnight (Mon-Sun)   Noida   Sector 18    4.3  564 votes  \n",
       "1        7am – 12:30AM (Mon-Sun)  Mumbai  Grant Road    4.2   61 votes  "
      ]
     },
     "execution_count": 8,
     "metadata": {},
     "output_type": "execute_result"
    }
   ],
   "source": [
    "df.head(2)"
   ]
  },
  {
   "cell_type": "code",
   "execution_count": 9,
   "metadata": {},
   "outputs": [
    {
     "name": "stdout",
     "output_type": "stream",
     "text": [
      "Count of unique values of   TITLE is  86\n",
      "Count of unique values of   RESTAURANT_ID is  4127\n",
      "Count of unique values of   CUISINES is  1727\n",
      "Count of unique values of   TIME is  1183\n",
      "Count of unique values of   CITY is  151\n",
      "Count of unique values of   LOCALITY is  834\n",
      "Count of unique values of   RATING is  31\n",
      "Count of unique values of   VOTES is  1136\n"
     ]
    }
   ],
   "source": [
    "\n",
    "for i in df.columns:\n",
    "    print(\"Count of unique values of  \", i, \"is \" , df[i].nunique())"
   ]
  },
  {
   "cell_type": "code",
   "execution_count": 10,
   "metadata": {},
   "outputs": [
    {
     "data": {
      "text/plain": [
       "QUICK BITES                   1416\n",
       "CASUAL DINING                 1258\n",
       "None                           284\n",
       "CAFÉ                           223\n",
       "DESSERT PARLOR                 126\n",
       "                              ... \n",
       "FINE DINING,CAFÉ                 1\n",
       "SWEET SHOP,DESSERT PARLOR        1\n",
       "PUB,CAFÉ                         1\n",
       "COCKTAIL BAR,CASUAL DINING       1\n",
       "PAAN SHOP                        1\n",
       "Name: TITLE, Length: 86, dtype: int64"
      ]
     },
     "execution_count": 10,
     "metadata": {},
     "output_type": "execute_result"
    }
   ],
   "source": [
    "df.TITLE.value_counts()"
   ]
  },
  {
   "cell_type": "markdown",
   "metadata": {},
   "source": [
    "# TITLE\n",
    "1. we will find how many comma sepearted values i.e 2 \n",
    "2. we will make 2 titles sepeartely \n",
    "3. will replace null values with NONE"
   ]
  },
  {
   "cell_type": "code",
   "execution_count": 11,
   "metadata": {},
   "outputs": [
    {
     "name": "stdout",
     "output_type": "stream",
     "text": [
      "Maximum Titles in a Cell :  2\n"
     ]
    }
   ],
   "source": [
    "# Analysing Titles \n",
    "titles = list(df['TITLE'])\n",
    "\n",
    "# Finding Maximum number of titles mentioned in a single cell\n",
    "maxim = 1\n",
    "for i in titles :\n",
    "    if len(i.split(',')) > maxim:\n",
    "         maxim = len(i.split(','))\n",
    "         \n",
    "\n",
    "        \n",
    "print(\"Maximum Titles in a Cell : \", maxim)    "
   ]
  },
  {
   "cell_type": "code",
   "execution_count": 12,
   "metadata": {},
   "outputs": [],
   "source": [
    "df.TITLE.fillna('NONE,NONE',inplace=True)\n",
    "\n",
    "df['TITLE1'] = df['TITLE'].str.split(\",\").str[0]\n",
    "df['TITLE2'] = df['TITLE'].str.split(\",\").str[1]\n",
    "df.TITLE2.fillna('NONE',inplace=True)\n",
    "\n",
    "#dropping  the TITLE variable after splitting it in TITLE1 and TITLE2\n",
    "df.drop('TITLE',axis=1,inplace=True)"
   ]
  },
  {
   "cell_type": "markdown",
   "metadata": {},
   "source": [
    "# CITY\n",
    "1. we will remove extra spaces in string.\n",
    "2. we will remove any special character in string , if any"
   ]
  },
  {
   "cell_type": "code",
   "execution_count": 13,
   "metadata": {},
   "outputs": [
    {
     "data": {
      "text/plain": [
       "Bangalore                      686\n",
       "Chennai                        681\n",
       "Hyderabad                      639\n",
       "Mumbai                         589\n",
       "Kochi                          472\n",
       "                              ... \n",
       "Balavinayagar Nagar Chennai      1\n",
       "Miumbai                          1\n",
       "Community Centre                 1\n",
       "India Gate New Delhi             1\n",
       "Mira Road Thane Mumbai           1\n",
       "Name: CITY, Length: 151, dtype: int64"
      ]
     },
     "execution_count": 13,
     "metadata": {},
     "output_type": "execute_result"
    }
   ],
   "source": [
    "df[\"CITY\"].value_counts()"
   ]
  },
  {
   "cell_type": "code",
   "execution_count": 14,
   "metadata": {},
   "outputs": [],
   "source": [
    "# remove the extra spaces , save only string to  the city\n",
    "import re\n",
    "df['CITY'] = df['CITY'].apply(lambda x: re.sub(r\"[^a-zA-Z]+\", ' ', str(x)))"
   ]
  },
  {
   "cell_type": "markdown",
   "metadata": {},
   "source": [
    "# LOCALITY\n",
    "1. remove extra spaces from string.\n",
    "2. remove special characters from string.\n",
    "3. Will replace with 'UNKNOWN' if string has numerical value"
   ]
  },
  {
   "cell_type": "code",
   "execution_count": 15,
   "metadata": {},
   "outputs": [
    {
     "data": {
      "text/plain": [
       "Kukatpally               54\n",
       "Kakkanad                 54\n",
       "Whitefield               53\n",
       "Madhapur                 52\n",
       "Gachibowli               50\n",
       "                         ..\n",
       "international Airport     1\n",
       "Infantry Road             1\n",
       "Sector 32                 1\n",
       "Near Kodihalli Masjid     1\n",
       "Sector 45                 1\n",
       "Name: LOCALITY, Length: 834, dtype: int64"
      ]
     },
     "execution_count": 15,
     "metadata": {},
     "output_type": "execute_result"
    }
   ],
   "source": [
    "df[\"LOCALITY\"].value_counts()"
   ]
  },
  {
   "cell_type": "code",
   "execution_count": 16,
   "metadata": {},
   "outputs": [],
   "source": [
    "# remove the extra spaces and special characters from locality\n",
    "import re\n",
    "df['LOCALITY'] = df['LOCALITY'].apply(lambda x: re.sub(r\"\\W+|_\", \" \", str(x)))\n",
    "df['LOCALITY'] = df['LOCALITY'].apply(lambda x: re.sub(' +','',str(x)))"
   ]
  },
  {
   "cell_type": "code",
   "execution_count": 17,
   "metadata": {},
   "outputs": [],
   "source": [
    "for i in df[\"LOCALITY\"]:\n",
    "    for j in i:\n",
    "        if j.isdigit():\n",
    "            j='UNKNOWN'"
   ]
  },
  {
   "cell_type": "code",
   "execution_count": 18,
   "metadata": {},
   "outputs": [],
   "source": [
    "localities = list(df['LOCALITY'])\n",
    "\n",
    "for i in range(len(localities)):\n",
    "    if localities[i].isdigit():\n",
    "        localities[i] = 'UNKNOWN'\n",
    "    else:\n",
    "        localities[i] = localities[i].strip().upper()   "
   ]
  },
  {
   "cell_type": "markdown",
   "metadata": {},
   "source": [
    "# RATING\n",
    "1. It has 3 irrelevant entries. we will explicitly remove them\n",
    "2. will replace null values with 0"
   ]
  },
  {
   "cell_type": "code",
   "execution_count": 19,
   "metadata": {},
   "outputs": [
    {
     "data": {
      "text/plain": [
       "array(['4.3', '4.2', '3.8', '3.6', '3.7', 'NEW', '4.0', '3.4', '3.2',\n",
       "       '4.1', '3.0', '-', '3.5', '4.5', '3.9', '3.3', '2.9', '3.1', '2.5',\n",
       "       '2.8', '4.6', '4.4', '2.7', '4.8', '2.6', '4.9', '2.1', '4.7',\n",
       "       '2.3', '2.4', '2.2', nan], dtype=object)"
      ]
     },
     "execution_count": 19,
     "metadata": {},
     "output_type": "execute_result"
    }
   ],
   "source": [
    "df.RATING.unique()"
   ]
  },
  {
   "cell_type": "code",
   "execution_count": 20,
   "metadata": {},
   "outputs": [],
   "source": [
    "# replacing the improper data\n",
    "df['RATING'] = df['RATING'].str.replace('-','0')\n",
    "df['RATING'] = df['RATING'].str.replace('NEW','0')\n",
    "df['RATING'] = df['RATING'].str.replace('nan','0')"
   ]
  },
  {
   "cell_type": "code",
   "execution_count": 21,
   "metadata": {},
   "outputs": [],
   "source": [
    "df['RATING'].fillna('0',inplace=True) # filling the null values "
   ]
  },
  {
   "cell_type": "code",
   "execution_count": 22,
   "metadata": {},
   "outputs": [
    {
     "data": {
      "text/plain": [
       "RESTAURANT_ID      0\n",
       "CUISINES           0\n",
       "TIME               0\n",
       "CITY               0\n",
       "LOCALITY           0\n",
       "RATING             0\n",
       "VOTES            402\n",
       "TITLE1             0\n",
       "TITLE2             0\n",
       "dtype: int64"
      ]
     },
     "execution_count": 22,
     "metadata": {},
     "output_type": "execute_result"
    }
   ],
   "source": [
    "df.isnull().sum()"
   ]
  },
  {
   "cell_type": "markdown",
   "metadata": {},
   "source": [
    "# VOTES\n",
    "1. We will replace null values with 0\n",
    "2. we will extract votes from VOTES columns"
   ]
  },
  {
   "cell_type": "code",
   "execution_count": 23,
   "metadata": {},
   "outputs": [],
   "source": [
    "#Extracting VOTES  from VOTES column and convert to Numeric.\n",
    "df['VOTES'].fillna('0',inplace=True) # filling the null values \n",
    "\n",
    "df['VOTES'] = df['VOTES'].str.split().str[0]\n",
    "df['VOTES'] = df['VOTES'].astype(int)\n"
   ]
  },
  {
   "cell_type": "code",
   "execution_count": 24,
   "metadata": {},
   "outputs": [
    {
     "data": {
      "text/html": [
       "<div>\n",
       "<style scoped>\n",
       "    .dataframe tbody tr th:only-of-type {\n",
       "        vertical-align: middle;\n",
       "    }\n",
       "\n",
       "    .dataframe tbody tr th {\n",
       "        vertical-align: top;\n",
       "    }\n",
       "\n",
       "    .dataframe thead th {\n",
       "        text-align: right;\n",
       "    }\n",
       "</style>\n",
       "<table border=\"1\" class=\"dataframe\">\n",
       "  <thead>\n",
       "    <tr style=\"text-align: right;\">\n",
       "      <th></th>\n",
       "      <th>RESTAURANT_ID</th>\n",
       "      <th>CUISINES</th>\n",
       "      <th>TIME</th>\n",
       "      <th>CITY</th>\n",
       "      <th>LOCALITY</th>\n",
       "      <th>RATING</th>\n",
       "      <th>VOTES</th>\n",
       "      <th>TITLE1</th>\n",
       "      <th>TITLE2</th>\n",
       "    </tr>\n",
       "  </thead>\n",
       "  <tbody>\n",
       "    <tr>\n",
       "      <th>0</th>\n",
       "      <td>4085</td>\n",
       "      <td>North Indian, Chinese, Mughlai, Kebab</td>\n",
       "      <td>12noon – 12midnight (Mon-Sun)</td>\n",
       "      <td>Noida</td>\n",
       "      <td>Sector18</td>\n",
       "      <td>4.3</td>\n",
       "      <td>564</td>\n",
       "      <td>CASUAL DINING</td>\n",
       "      <td>NONE</td>\n",
       "    </tr>\n",
       "    <tr>\n",
       "      <th>1</th>\n",
       "      <td>12680</td>\n",
       "      <td>South Indian, Fast Food, Pizza, North Indian</td>\n",
       "      <td>7am – 12:30AM (Mon-Sun)</td>\n",
       "      <td>Mumbai</td>\n",
       "      <td>GrantRoad</td>\n",
       "      <td>4.2</td>\n",
       "      <td>61</td>\n",
       "      <td>QUICK BITES</td>\n",
       "      <td>NONE</td>\n",
       "    </tr>\n",
       "  </tbody>\n",
       "</table>\n",
       "</div>"
      ],
      "text/plain": [
       "   RESTAURANT_ID                                      CUISINES  \\\n",
       "0           4085         North Indian, Chinese, Mughlai, Kebab   \n",
       "1          12680  South Indian, Fast Food, Pizza, North Indian   \n",
       "\n",
       "                            TIME    CITY   LOCALITY RATING  VOTES  \\\n",
       "0  12noon – 12midnight (Mon-Sun)   Noida   Sector18    4.3    564   \n",
       "1        7am – 12:30AM (Mon-Sun)  Mumbai  GrantRoad    4.2     61   \n",
       "\n",
       "          TITLE1 TITLE2  \n",
       "0  CASUAL DINING   NONE  \n",
       "1    QUICK BITES   NONE  "
      ]
     },
     "execution_count": 24,
     "metadata": {},
     "output_type": "execute_result"
    }
   ],
   "source": [
    "df.head(2)"
   ]
  },
  {
   "cell_type": "markdown",
   "metadata": {},
   "source": [
    "# CUISINES\n",
    "1. we will find the count of unique CUISINES . they are 8\n",
    "2. we will make 8 sepearte columns for each cuisines by splitting CUISINES\n",
    "3. we will replace null values in all 8 cuisines with NONE\n",
    "4. we will drop old CUISINES column and CUISINES_count column\n"
   ]
  },
  {
   "cell_type": "code",
   "execution_count": 25,
   "metadata": {},
   "outputs": [
    {
     "data": {
      "text/plain": [
       "2    1346\n",
       "1     985\n",
       "3     983\n",
       "4     561\n",
       "5     219\n",
       "6      63\n",
       "7      43\n",
       "8      31\n",
       "Name: CUISINES_count, dtype: int64"
      ]
     },
     "execution_count": 25,
     "metadata": {},
     "output_type": "execute_result"
    }
   ],
   "source": [
    "df['CUISINES_count'] = df['CUISINES'].apply(lambda x: len(x.split(\",\")))\n",
    "\n",
    "df['CUISINES_count'].value_counts()"
   ]
  },
  {
   "cell_type": "code",
   "execution_count": 26,
   "metadata": {},
   "outputs": [
    {
     "data": {
      "text/plain": [
       "array(['North Indian, Chinese, Mughlai, Kebab',\n",
       "       'South Indian, Fast Food, Pizza, North Indian',\n",
       "       'North Indian, Seafood, Biryani, Chinese', ...,\n",
       "       'North Indian, Chinese, Kebab, Juices', 'Sindhi, Street Food',\n",
       "       'Rolls, Beverages'], dtype=object)"
      ]
     },
     "execution_count": 26,
     "metadata": {},
     "output_type": "execute_result"
    }
   ],
   "source": [
    "df['CUISINES'].unique()"
   ]
  },
  {
   "cell_type": "code",
   "execution_count": 27,
   "metadata": {},
   "outputs": [],
   "source": [
    "df['CUISINE1'] = df['CUISINES'].str.split(\",\").str[0]\n",
    "df['CUISINE2'] = df['CUISINES'].str.split(\",\").str[1]\n",
    "df['CUISINE3'] = df['CUISINES'].str.split(\",\").str[2]\n",
    "df['CUISINE4'] = df['CUISINES'].str.split(\",\").str[3]\n",
    "df['CUISINE5'] = df['CUISINES'].str.split(\",\").str[4]\n",
    "df['CUISINE6'] = df['CUISINES'].str.split(\",\").str[5]\n",
    "df['CUISINE7'] = df['CUISINES'].str.split(\",\").str[6]\n",
    "df['CUISINE8'] = df['CUISINES'].str.split(\",\").str[7]\n",
    "#dropping  the CUISINE AND ITS CUISINES_count variable after splitting it in 8 SPLITS OF A CELL\n",
    "df.drop(['CUISINES','CUISINES_count'],axis=1,inplace=True)"
   ]
  },
  {
   "cell_type": "code",
   "execution_count": 28,
   "metadata": {},
   "outputs": [],
   "source": [
    "df.CUISINE1.fillna('None',inplace=True)\n",
    "df.CUISINE2.fillna('None',inplace=True)\n",
    "df.CUISINE3.fillna('None',inplace=True)\n",
    "df.CUISINE4.fillna('None',inplace=True)\n",
    "df.CUISINE5.fillna('None',inplace=True)\n",
    "df.CUISINE6.fillna('None',inplace=True)\n",
    "df.CUISINE7.fillna('None',inplace=True)\n",
    "df.CUISINE8.fillna('None',inplace=True)"
   ]
  },
  {
   "cell_type": "code",
   "execution_count": 29,
   "metadata": {},
   "outputs": [
    {
     "data": {
      "text/plain": [
       "RESTAURANT_ID    0\n",
       "TIME             0\n",
       "CITY             0\n",
       "LOCALITY         0\n",
       "RATING           0\n",
       "VOTES            0\n",
       "TITLE1           0\n",
       "TITLE2           0\n",
       "CUISINE1         0\n",
       "CUISINE2         0\n",
       "CUISINE3         0\n",
       "CUISINE4         0\n",
       "CUISINE5         0\n",
       "CUISINE6         0\n",
       "CUISINE7         0\n",
       "CUISINE8         0\n",
       "dtype: int64"
      ]
     },
     "execution_count": 29,
     "metadata": {},
     "output_type": "execute_result"
    }
   ],
   "source": [
    "df.isnull().sum()"
   ]
  },
  {
   "cell_type": "code",
   "execution_count": 30,
   "metadata": {},
   "outputs": [],
   "source": [
    "#dropping  the time variable \n",
    "df.drop('TIME',axis=1,inplace=True)"
   ]
  },
  {
   "cell_type": "code",
   "execution_count": 31,
   "metadata": {},
   "outputs": [
    {
     "data": {
      "text/html": [
       "<div>\n",
       "<style scoped>\n",
       "    .dataframe tbody tr th:only-of-type {\n",
       "        vertical-align: middle;\n",
       "    }\n",
       "\n",
       "    .dataframe tbody tr th {\n",
       "        vertical-align: top;\n",
       "    }\n",
       "\n",
       "    .dataframe thead th {\n",
       "        text-align: right;\n",
       "    }\n",
       "</style>\n",
       "<table border=\"1\" class=\"dataframe\">\n",
       "  <thead>\n",
       "    <tr style=\"text-align: right;\">\n",
       "      <th></th>\n",
       "      <th>RESTAURANT_ID</th>\n",
       "      <th>CITY</th>\n",
       "      <th>LOCALITY</th>\n",
       "      <th>RATING</th>\n",
       "      <th>VOTES</th>\n",
       "      <th>TITLE1</th>\n",
       "      <th>TITLE2</th>\n",
       "      <th>CUISINE1</th>\n",
       "      <th>CUISINE2</th>\n",
       "      <th>CUISINE3</th>\n",
       "      <th>CUISINE4</th>\n",
       "      <th>CUISINE5</th>\n",
       "      <th>CUISINE6</th>\n",
       "      <th>CUISINE7</th>\n",
       "      <th>CUISINE8</th>\n",
       "    </tr>\n",
       "  </thead>\n",
       "  <tbody>\n",
       "    <tr>\n",
       "      <th>0</th>\n",
       "      <td>4085</td>\n",
       "      <td>Noida</td>\n",
       "      <td>Sector18</td>\n",
       "      <td>4.3</td>\n",
       "      <td>564</td>\n",
       "      <td>CASUAL DINING</td>\n",
       "      <td>NONE</td>\n",
       "      <td>North Indian</td>\n",
       "      <td>Chinese</td>\n",
       "      <td>Mughlai</td>\n",
       "      <td>Kebab</td>\n",
       "      <td>None</td>\n",
       "      <td>None</td>\n",
       "      <td>None</td>\n",
       "      <td>None</td>\n",
       "    </tr>\n",
       "    <tr>\n",
       "      <th>1</th>\n",
       "      <td>12680</td>\n",
       "      <td>Mumbai</td>\n",
       "      <td>GrantRoad</td>\n",
       "      <td>4.2</td>\n",
       "      <td>61</td>\n",
       "      <td>QUICK BITES</td>\n",
       "      <td>NONE</td>\n",
       "      <td>South Indian</td>\n",
       "      <td>Fast Food</td>\n",
       "      <td>Pizza</td>\n",
       "      <td>North Indian</td>\n",
       "      <td>None</td>\n",
       "      <td>None</td>\n",
       "      <td>None</td>\n",
       "      <td>None</td>\n",
       "    </tr>\n",
       "  </tbody>\n",
       "</table>\n",
       "</div>"
      ],
      "text/plain": [
       "   RESTAURANT_ID    CITY   LOCALITY RATING  VOTES         TITLE1 TITLE2  \\\n",
       "0           4085   Noida   Sector18    4.3    564  CASUAL DINING   NONE   \n",
       "1          12680  Mumbai  GrantRoad    4.2     61    QUICK BITES   NONE   \n",
       "\n",
       "       CUISINE1    CUISINE2  CUISINE3       CUISINE4 CUISINE5 CUISINE6  \\\n",
       "0  North Indian     Chinese   Mughlai          Kebab     None     None   \n",
       "1  South Indian   Fast Food     Pizza   North Indian     None     None   \n",
       "\n",
       "  CUISINE7 CUISINE8  \n",
       "0     None     None  \n",
       "1     None     None  "
      ]
     },
     "execution_count": 31,
     "metadata": {},
     "output_type": "execute_result"
    }
   ],
   "source": [
    "df.head(2)"
   ]
  },
  {
   "cell_type": "markdown",
   "metadata": {},
   "source": [
    "# Univariate and Bivariate Analysis"
   ]
  },
  {
   "cell_type": "code",
   "execution_count": 32,
   "metadata": {
    "scrolled": true
   },
   "outputs": [
    {
     "data": {
      "image/png": "[encoded data removed]",
      "text/plain": [
       "<Figure size 720x360 with 1 Axes>"
      ]
     },
     "metadata": {
      "needs_background": "light"
     },
     "output_type": "display_data"
    }
   ],
   "source": [
    "plt.figure(figsize=(10,5))\n",
    "sns.countplot(df[\"RATING\"])\n",
    "plt.title(\"RATING \\n \")\n",
    "plt.show() "
   ]
  },
  {
   "cell_type": "code",
   "execution_count": 33,
   "metadata": {},
   "outputs": [
    {
     "data": {
      "image/png": "[encoded data removed]",
      "text/plain": [
       "<Figure size 432x288 with 1 Axes>"
      ]
     },
     "metadata": {
      "needs_background": "light"
     },
     "output_type": "display_data"
    }
   ],
   "source": [
    "plt.title(\"VOTES\")\n",
    "sns.distplot(df[\"VOTES\"])\n",
    "plt.show() "
   ]
  },
  {
   "cell_type": "code",
   "execution_count": 34,
   "metadata": {},
   "outputs": [
    {
     "data": {
      "image/png": "[encoded data removed]",
      "text/plain": [
       "<Figure size 1800x1080 with 1 Axes>"
      ]
     },
     "metadata": {
      "needs_background": "light"
     },
     "output_type": "display_data"
    }
   ],
   "source": [
    "plt.figure(figsize=(25,15))\n",
    "sns.countplot(df[\"TITLE1\"])\n",
    "plt.title(\"TITLE1\\n\")\n",
    "plt.show() # shows max data concentrated in chick bites and casual dining "
   ]
  },
  {
   "cell_type": "code",
   "execution_count": 35,
   "metadata": {
    "scrolled": true
   },
   "outputs": [
    {
     "data": {
      "image/png": "[encoded data removed]",
      "text/plain": [
       "<Figure size 1800x360 with 1 Axes>"
      ]
     },
     "metadata": {
      "needs_background": "light"
     },
     "output_type": "display_data"
    }
   ],
   "source": [
    "plt.figure(figsize=(25,5))\n",
    "plt.title(\"TITLE2\\n\")\n",
    "sns.countplot(df[\"TITLE2\"])\n",
    "plt.show() # shows max data is not available for TITLE2 and then quick bites and bar has max concentration"
   ]
  },
  {
   "cell_type": "markdown",
   "metadata": {},
   "source": [
    "# Handling the outliers\n",
    "\n",
    "1. Only Votes is numeric types . which can be very high and very low also \n",
    "2. So, NO removal of outliers"
   ]
  },
  {
   "cell_type": "markdown",
   "metadata": {},
   "source": [
    "# Changing the nominal values  to numerical"
   ]
  },
  {
   "cell_type": "code",
   "execution_count": 36,
   "metadata": {},
   "outputs": [],
   "source": [
    "from sklearn.preprocessing import LabelEncoder\n",
    "le=LabelEncoder()"
   ]
  },
  {
   "cell_type": "code",
   "execution_count": 37,
   "metadata": {},
   "outputs": [
    {
     "data": {
      "text/html": [
       "<div>\n",
       "<style scoped>\n",
       "    .dataframe tbody tr th:only-of-type {\n",
       "        vertical-align: middle;\n",
       "    }\n",
       "\n",
       "    .dataframe tbody tr th {\n",
       "        vertical-align: top;\n",
       "    }\n",
       "\n",
       "    .dataframe thead th {\n",
       "        text-align: right;\n",
       "    }\n",
       "</style>\n",
       "<table border=\"1\" class=\"dataframe\">\n",
       "  <thead>\n",
       "    <tr style=\"text-align: right;\">\n",
       "      <th></th>\n",
       "      <th>RESTAURANT_ID</th>\n",
       "      <th>CITY</th>\n",
       "      <th>LOCALITY</th>\n",
       "      <th>RATING</th>\n",
       "      <th>VOTES</th>\n",
       "      <th>TITLE1</th>\n",
       "      <th>TITLE2</th>\n",
       "      <th>CUISINE1</th>\n",
       "      <th>CUISINE2</th>\n",
       "      <th>CUISINE3</th>\n",
       "      <th>CUISINE4</th>\n",
       "      <th>CUISINE5</th>\n",
       "      <th>CUISINE6</th>\n",
       "      <th>CUISINE7</th>\n",
       "      <th>CUISINE8</th>\n",
       "    </tr>\n",
       "  </thead>\n",
       "  <tbody>\n",
       "    <tr>\n",
       "      <th>0</th>\n",
       "      <td>4085</td>\n",
       "      <td>Noida</td>\n",
       "      <td>Sector18</td>\n",
       "      <td>4.3</td>\n",
       "      <td>564</td>\n",
       "      <td>CASUAL DINING</td>\n",
       "      <td>NONE</td>\n",
       "      <td>North Indian</td>\n",
       "      <td>Chinese</td>\n",
       "      <td>Mughlai</td>\n",
       "      <td>Kebab</td>\n",
       "      <td>None</td>\n",
       "      <td>None</td>\n",
       "      <td>None</td>\n",
       "      <td>None</td>\n",
       "    </tr>\n",
       "    <tr>\n",
       "      <th>1</th>\n",
       "      <td>12680</td>\n",
       "      <td>Mumbai</td>\n",
       "      <td>GrantRoad</td>\n",
       "      <td>4.2</td>\n",
       "      <td>61</td>\n",
       "      <td>QUICK BITES</td>\n",
       "      <td>NONE</td>\n",
       "      <td>South Indian</td>\n",
       "      <td>Fast Food</td>\n",
       "      <td>Pizza</td>\n",
       "      <td>North Indian</td>\n",
       "      <td>None</td>\n",
       "      <td>None</td>\n",
       "      <td>None</td>\n",
       "      <td>None</td>\n",
       "    </tr>\n",
       "  </tbody>\n",
       "</table>\n",
       "</div>"
      ],
      "text/plain": [
       "   RESTAURANT_ID    CITY   LOCALITY RATING  VOTES         TITLE1 TITLE2  \\\n",
       "0           4085   Noida   Sector18    4.3    564  CASUAL DINING   NONE   \n",
       "1          12680  Mumbai  GrantRoad    4.2     61    QUICK BITES   NONE   \n",
       "\n",
       "       CUISINE1    CUISINE2  CUISINE3       CUISINE4 CUISINE5 CUISINE6  \\\n",
       "0  North Indian     Chinese   Mughlai          Kebab     None     None   \n",
       "1  South Indian   Fast Food     Pizza   North Indian     None     None   \n",
       "\n",
       "  CUISINE7 CUISINE8  \n",
       "0     None     None  \n",
       "1     None     None  "
      ]
     },
     "execution_count": 37,
     "metadata": {},
     "output_type": "execute_result"
    }
   ],
   "source": [
    "df.head(2)"
   ]
  },
  {
   "cell_type": "code",
   "execution_count": 38,
   "metadata": {},
   "outputs": [
    {
     "data": {
      "text/html": [
       "<div>\n",
       "<style scoped>\n",
       "    .dataframe tbody tr th:only-of-type {\n",
       "        vertical-align: middle;\n",
       "    }\n",
       "\n",
       "    .dataframe tbody tr th {\n",
       "        vertical-align: top;\n",
       "    }\n",
       "\n",
       "    .dataframe thead th {\n",
       "        text-align: right;\n",
       "    }\n",
       "</style>\n",
       "<table border=\"1\" class=\"dataframe\">\n",
       "  <thead>\n",
       "    <tr style=\"text-align: right;\">\n",
       "      <th></th>\n",
       "      <th>RESTAURANT_ID</th>\n",
       "      <th>CITY</th>\n",
       "      <th>LOCALITY</th>\n",
       "      <th>RATING</th>\n",
       "      <th>VOTES</th>\n",
       "      <th>TITLE1</th>\n",
       "      <th>TITLE2</th>\n",
       "      <th>CUISINE1</th>\n",
       "      <th>CUISINE2</th>\n",
       "      <th>CUISINE3</th>\n",
       "      <th>CUISINE4</th>\n",
       "      <th>CUISINE5</th>\n",
       "      <th>CUISINE6</th>\n",
       "      <th>CUISINE7</th>\n",
       "      <th>CUISINE8</th>\n",
       "    </tr>\n",
       "  </thead>\n",
       "  <tbody>\n",
       "    <tr>\n",
       "      <th>0</th>\n",
       "      <td>4085</td>\n",
       "      <td>96</td>\n",
       "      <td>656</td>\n",
       "      <td>4.3</td>\n",
       "      <td>564</td>\n",
       "      <td>5</td>\n",
       "      <td>13</td>\n",
       "      <td>60</td>\n",
       "      <td>19</td>\n",
       "      <td>56</td>\n",
       "      <td>33</td>\n",
       "      <td>57</td>\n",
       "      <td>42</td>\n",
       "      <td>34</td>\n",
       "      <td>7</td>\n",
       "    </tr>\n",
       "    <tr>\n",
       "      <th>1</th>\n",
       "      <td>12680</td>\n",
       "      <td>83</td>\n",
       "      <td>219</td>\n",
       "      <td>4.2</td>\n",
       "      <td>61</td>\n",
       "      <td>22</td>\n",
       "      <td>13</td>\n",
       "      <td>73</td>\n",
       "      <td>24</td>\n",
       "      <td>61</td>\n",
       "      <td>49</td>\n",
       "      <td>57</td>\n",
       "      <td>42</td>\n",
       "      <td>34</td>\n",
       "      <td>7</td>\n",
       "    </tr>\n",
       "    <tr>\n",
       "      <th>2</th>\n",
       "      <td>1411</td>\n",
       "      <td>83</td>\n",
       "      <td>406</td>\n",
       "      <td>3.8</td>\n",
       "      <td>350</td>\n",
       "      <td>5</td>\n",
       "      <td>13</td>\n",
       "      <td>60</td>\n",
       "      <td>69</td>\n",
       "      <td>13</td>\n",
       "      <td>15</td>\n",
       "      <td>57</td>\n",
       "      <td>42</td>\n",
       "      <td>34</td>\n",
       "      <td>7</td>\n",
       "    </tr>\n",
       "    <tr>\n",
       "      <th>3</th>\n",
       "      <td>204</td>\n",
       "      <td>35</td>\n",
       "      <td>450</td>\n",
       "      <td>3.8</td>\n",
       "      <td>1445</td>\n",
       "      <td>19</td>\n",
       "      <td>13</td>\n",
       "      <td>12</td>\n",
       "      <td>81</td>\n",
       "      <td>80</td>\n",
       "      <td>68</td>\n",
       "      <td>57</td>\n",
       "      <td>42</td>\n",
       "      <td>34</td>\n",
       "      <td>7</td>\n",
       "    </tr>\n",
       "    <tr>\n",
       "      <th>4</th>\n",
       "      <td>13453</td>\n",
       "      <td>66</td>\n",
       "      <td>296</td>\n",
       "      <td>3.6</td>\n",
       "      <td>23</td>\n",
       "      <td>22</td>\n",
       "      <td>13</td>\n",
       "      <td>73</td>\n",
       "      <td>42</td>\n",
       "      <td>80</td>\n",
       "      <td>68</td>\n",
       "      <td>57</td>\n",
       "      <td>42</td>\n",
       "      <td>34</td>\n",
       "      <td>7</td>\n",
       "    </tr>\n",
       "  </tbody>\n",
       "</table>\n",
       "</div>"
      ],
      "text/plain": [
       "   RESTAURANT_ID  CITY  LOCALITY RATING  VOTES  TITLE1  TITLE2  CUISINE1  \\\n",
       "0           4085    96       656    4.3    564       5      13        60   \n",
       "1          12680    83       219    4.2     61      22      13        73   \n",
       "2           1411    83       406    3.8    350       5      13        60   \n",
       "3            204    35       450    3.8   1445      19      13        12   \n",
       "4          13453    66       296    3.6     23      22      13        73   \n",
       "\n",
       "   CUISINE2  CUISINE3  CUISINE4  CUISINE5  CUISINE6  CUISINE7  CUISINE8  \n",
       "0        19        56        33        57        42        34         7  \n",
       "1        24        61        49        57        42        34         7  \n",
       "2        69        13        15        57        42        34         7  \n",
       "3        81        80        68        57        42        34         7  \n",
       "4        42        80        68        57        42        34         7  "
      ]
     },
     "execution_count": 38,
     "metadata": {},
     "output_type": "execute_result"
    }
   ],
   "source": [
    "list1=['CITY','LOCALITY','TITLE1','TITLE2','CUISINE1','CUISINE2','CUISINE3','CUISINE4','CUISINE5','CUISINE6','CUISINE7','CUISINE8']\n",
    "for i in list1:\n",
    "    df[i]=le.fit_transform(df[i])\n",
    "df.head(5)"
   ]
  },
  {
   "cell_type": "code",
   "execution_count": 39,
   "metadata": {},
   "outputs": [],
   "source": [
    "# scaling the dataset"
   ]
  },
  {
   "cell_type": "code",
   "execution_count": 40,
   "metadata": {},
   "outputs": [
    {
     "data": {
      "text/plain": [
       "(4231, 15)"
      ]
     },
     "execution_count": 40,
     "metadata": {},
     "output_type": "execute_result"
    }
   ],
   "source": [
    "from sklearn.preprocessing import MinMaxScaler\n",
    "sc=MinMaxScaler()\n",
    "scaled_df=sc.fit_transform(df)\n",
    "scaled_df.shape"
   ]
  },
  {
   "cell_type": "markdown",
   "metadata": {},
   "source": [
    "# All EDA and preprocessing has been done on test dataset. After data modelling done on Train dataset we will use this test dataset for prediction in the end ,at the time of conclusion"
   ]
  },
  {
   "cell_type": "markdown",
   "metadata": {},
   "source": [
    "# EDA for train dataset"
   ]
  },
  {
   "cell_type": "code",
   "execution_count": 41,
   "metadata": {},
   "outputs": [],
   "source": [
    "import pandas as pd \n",
    "import numpy as np \n",
    "import matplotlib.pyplot as plt\n",
    "import seaborn as sns\n",
    "import warnings\n",
    "warnings.filterwarnings('ignore')"
   ]
  },
  {
   "cell_type": "code",
   "execution_count": 42,
   "metadata": {},
   "outputs": [
    {
     "data": {
      "text/html": [
       "<div>\n",
       "<style scoped>\n",
       "    .dataframe tbody tr th:only-of-type {\n",
       "        vertical-align: middle;\n",
       "    }\n",
       "\n",
       "    .dataframe tbody tr th {\n",
       "        vertical-align: top;\n",
       "    }\n",
       "\n",
       "    .dataframe thead th {\n",
       "        text-align: right;\n",
       "    }\n",
       "</style>\n",
       "<table border=\"1\" class=\"dataframe\">\n",
       "  <thead>\n",
       "    <tr style=\"text-align: right;\">\n",
       "      <th></th>\n",
       "      <th>TITLE</th>\n",
       "      <th>RESTAURANT_ID</th>\n",
       "      <th>CUISINES</th>\n",
       "      <th>TIME</th>\n",
       "      <th>CITY</th>\n",
       "      <th>LOCALITY</th>\n",
       "      <th>RATING</th>\n",
       "      <th>VOTES</th>\n",
       "      <th>COST</th>\n",
       "    </tr>\n",
       "  </thead>\n",
       "  <tbody>\n",
       "    <tr>\n",
       "      <th>0</th>\n",
       "      <td>CASUAL DINING</td>\n",
       "      <td>9438</td>\n",
       "      <td>Malwani, Goan, North Indian</td>\n",
       "      <td>11am – 4pm, 7:30pm – 11:30pm (Mon-Sun)</td>\n",
       "      <td>Thane</td>\n",
       "      <td>Dombivali East</td>\n",
       "      <td>3.6</td>\n",
       "      <td>49 votes</td>\n",
       "      <td>1200</td>\n",
       "    </tr>\n",
       "    <tr>\n",
       "      <th>1</th>\n",
       "      <td>CASUAL DINING,BAR</td>\n",
       "      <td>13198</td>\n",
       "      <td>Asian, Modern Indian, Japanese</td>\n",
       "      <td>6pm – 11pm (Mon-Sun)</td>\n",
       "      <td>Chennai</td>\n",
       "      <td>Ramapuram</td>\n",
       "      <td>4.2</td>\n",
       "      <td>30 votes</td>\n",
       "      <td>1500</td>\n",
       "    </tr>\n",
       "    <tr>\n",
       "      <th>2</th>\n",
       "      <td>CASUAL DINING</td>\n",
       "      <td>10915</td>\n",
       "      <td>North Indian, Chinese, Biryani, Hyderabadi</td>\n",
       "      <td>11am – 3:30pm, 7pm – 11pm (Mon-Sun)</td>\n",
       "      <td>Chennai</td>\n",
       "      <td>Saligramam</td>\n",
       "      <td>3.8</td>\n",
       "      <td>221 votes</td>\n",
       "      <td>800</td>\n",
       "    </tr>\n",
       "    <tr>\n",
       "      <th>3</th>\n",
       "      <td>QUICK BITES</td>\n",
       "      <td>6346</td>\n",
       "      <td>Tibetan, Chinese</td>\n",
       "      <td>11:30am – 1am (Mon-Sun)</td>\n",
       "      <td>Mumbai</td>\n",
       "      <td>Bandra West</td>\n",
       "      <td>4.1</td>\n",
       "      <td>24 votes</td>\n",
       "      <td>800</td>\n",
       "    </tr>\n",
       "    <tr>\n",
       "      <th>4</th>\n",
       "      <td>DESSERT PARLOR</td>\n",
       "      <td>15387</td>\n",
       "      <td>Desserts</td>\n",
       "      <td>11am – 1am (Mon-Sun)</td>\n",
       "      <td>Mumbai</td>\n",
       "      <td>Lower Parel</td>\n",
       "      <td>3.8</td>\n",
       "      <td>165 votes</td>\n",
       "      <td>300</td>\n",
       "    </tr>\n",
       "    <tr>\n",
       "      <th>...</th>\n",
       "      <td>...</td>\n",
       "      <td>...</td>\n",
       "      <td>...</td>\n",
       "      <td>...</td>\n",
       "      <td>...</td>\n",
       "      <td>...</td>\n",
       "      <td>...</td>\n",
       "      <td>...</td>\n",
       "      <td>...</td>\n",
       "    </tr>\n",
       "    <tr>\n",
       "      <th>12685</th>\n",
       "      <td>QUICK BITES</td>\n",
       "      <td>13228</td>\n",
       "      <td>North Indian, Burger, Kebab</td>\n",
       "      <td>12noon – 12midnight (Mon, Tue, Wed, Thu, Sun)...</td>\n",
       "      <td>Hyderabad</td>\n",
       "      <td>Gachibowli</td>\n",
       "      <td>3.8</td>\n",
       "      <td>546 votes</td>\n",
       "      <td>500</td>\n",
       "    </tr>\n",
       "    <tr>\n",
       "      <th>12686</th>\n",
       "      <td>CASUAL DINING,BAR</td>\n",
       "      <td>9686</td>\n",
       "      <td>Goan, Continental</td>\n",
       "      <td>12noon – 1am (Mon-Fri),11am – 5pm, 7pm – 1am...</td>\n",
       "      <td>Mumbai</td>\n",
       "      <td>Bandra Kurla Complex</td>\n",
       "      <td>4.3</td>\n",
       "      <td>1214 votes</td>\n",
       "      <td>1800</td>\n",
       "    </tr>\n",
       "    <tr>\n",
       "      <th>12687</th>\n",
       "      <td>LOUNGE</td>\n",
       "      <td>11133</td>\n",
       "      <td>Finger Food, Continental, Asian, Chinese</td>\n",
       "      <td>12noon – 12:30AM (Mon-Sun)</td>\n",
       "      <td>Navi Mumbai</td>\n",
       "      <td>Vashi</td>\n",
       "      <td>4.0</td>\n",
       "      <td>608 votes</td>\n",
       "      <td>1300</td>\n",
       "    </tr>\n",
       "    <tr>\n",
       "      <th>12688</th>\n",
       "      <td>CASUAL DINING</td>\n",
       "      <td>6134</td>\n",
       "      <td>North Indian, South Indian, Chinese, Street Food</td>\n",
       "      <td>6am – 10:45pm (Mon-Sun)</td>\n",
       "      <td>Chennai</td>\n",
       "      <td>Maduravoyal</td>\n",
       "      <td>3.5</td>\n",
       "      <td>32 votes</td>\n",
       "      <td>400</td>\n",
       "    </tr>\n",
       "    <tr>\n",
       "      <th>12689</th>\n",
       "      <td>CASUAL DINING</td>\n",
       "      <td>6430</td>\n",
       "      <td>North Indian, Chinese</td>\n",
       "      <td>12:30pm – 11pm (Mon-Sun)</td>\n",
       "      <td>Hyderabad</td>\n",
       "      <td>Vanasthalipuram</td>\n",
       "      <td>3.4</td>\n",
       "      <td>677 votes</td>\n",
       "      <td>600</td>\n",
       "    </tr>\n",
       "  </tbody>\n",
       "</table>\n",
       "<p>12690 rows × 9 columns</p>\n",
       "</div>"
      ],
      "text/plain": [
       "                   TITLE  RESTAURANT_ID  \\\n",
       "0          CASUAL DINING           9438   \n",
       "1      CASUAL DINING,BAR          13198   \n",
       "2          CASUAL DINING          10915   \n",
       "3            QUICK BITES           6346   \n",
       "4         DESSERT PARLOR          15387   \n",
       "...                  ...            ...   \n",
       "12685        QUICK BITES          13228   \n",
       "12686  CASUAL DINING,BAR           9686   \n",
       "12687             LOUNGE          11133   \n",
       "12688      CASUAL DINING           6134   \n",
       "12689      CASUAL DINING           6430   \n",
       "\n",
       "                                               CUISINES  \\\n",
       "0                           Malwani, Goan, North Indian   \n",
       "1                        Asian, Modern Indian, Japanese   \n",
       "2            North Indian, Chinese, Biryani, Hyderabadi   \n",
       "3                                      Tibetan, Chinese   \n",
       "4                                              Desserts   \n",
       "...                                                 ...   \n",
       "12685                       North Indian, Burger, Kebab   \n",
       "12686                                 Goan, Continental   \n",
       "12687          Finger Food, Continental, Asian, Chinese   \n",
       "12688  North Indian, South Indian, Chinese, Street Food   \n",
       "12689                             North Indian, Chinese   \n",
       "\n",
       "                                                   TIME         CITY  \\\n",
       "0                11am – 4pm, 7:30pm – 11:30pm (Mon-Sun)        Thane   \n",
       "1                                  6pm – 11pm (Mon-Sun)      Chennai   \n",
       "2                   11am – 3:30pm, 7pm – 11pm (Mon-Sun)      Chennai   \n",
       "3                               11:30am – 1am (Mon-Sun)       Mumbai   \n",
       "4                                  11am – 1am (Mon-Sun)       Mumbai   \n",
       "...                                                 ...          ...   \n",
       "12685  12noon – 12midnight (Mon, Tue, Wed, Thu, Sun)...    Hyderabad   \n",
       "12686   12noon – 1am (Mon-Fri),11am – 5pm, 7pm – 1am...       Mumbai   \n",
       "12687                        12noon – 12:30AM (Mon-Sun)  Navi Mumbai   \n",
       "12688                           6am – 10:45pm (Mon-Sun)      Chennai   \n",
       "12689                          12:30pm – 11pm (Mon-Sun)    Hyderabad   \n",
       "\n",
       "                   LOCALITY RATING       VOTES  COST  \n",
       "0            Dombivali East    3.6    49 votes  1200  \n",
       "1                 Ramapuram    4.2    30 votes  1500  \n",
       "2                Saligramam    3.8   221 votes   800  \n",
       "3               Bandra West    4.1    24 votes   800  \n",
       "4               Lower Parel    3.8   165 votes   300  \n",
       "...                     ...    ...         ...   ...  \n",
       "12685            Gachibowli    3.8   546 votes   500  \n",
       "12686  Bandra Kurla Complex    4.3  1214 votes  1800  \n",
       "12687                 Vashi    4.0   608 votes  1300  \n",
       "12688           Maduravoyal    3.5    32 votes   400  \n",
       "12689       Vanasthalipuram    3.4   677 votes   600  \n",
       "\n",
       "[12690 rows x 9 columns]"
      ]
     },
     "execution_count": 42,
     "metadata": {},
     "output_type": "execute_result"
    }
   ],
   "source": [
    "ds=pd.read_csv(\"FoodCost_train.csv\",sep='\\t')\n",
    "ds"
   ]
  },
  {
   "cell_type": "code",
   "execution_count": 43,
   "metadata": {},
   "outputs": [
    {
     "data": {
      "text/plain": [
       "TITLE            object\n",
       "RESTAURANT_ID     int64\n",
       "CUISINES         object\n",
       "TIME             object\n",
       "CITY             object\n",
       "LOCALITY         object\n",
       "RATING           object\n",
       "VOTES            object\n",
       "COST              int64\n",
       "dtype: object"
      ]
     },
     "execution_count": 43,
     "metadata": {},
     "output_type": "execute_result"
    }
   ],
   "source": [
    "ds.dtypes # checking the data types of columns "
   ]
  },
  {
   "cell_type": "code",
   "execution_count": 44,
   "metadata": {},
   "outputs": [
    {
     "data": {
      "text/plain": [
       "Index(['TITLE', 'RESTAURANT_ID', 'CUISINES', 'TIME', 'CITY', 'LOCALITY',\n",
       "       'RATING', 'VOTES', 'COST'],\n",
       "      dtype='object')"
      ]
     },
     "execution_count": 44,
     "metadata": {},
     "output_type": "execute_result"
    }
   ],
   "source": [
    "ds.columns #checking various columns "
   ]
  },
  {
   "cell_type": "code",
   "execution_count": 45,
   "metadata": {},
   "outputs": [
    {
     "data": {
      "text/html": [
       "<div>\n",
       "<style scoped>\n",
       "    .dataframe tbody tr th:only-of-type {\n",
       "        vertical-align: middle;\n",
       "    }\n",
       "\n",
       "    .dataframe tbody tr th {\n",
       "        vertical-align: top;\n",
       "    }\n",
       "\n",
       "    .dataframe thead th {\n",
       "        text-align: right;\n",
       "    }\n",
       "</style>\n",
       "<table border=\"1\" class=\"dataframe\">\n",
       "  <thead>\n",
       "    <tr style=\"text-align: right;\">\n",
       "      <th></th>\n",
       "      <th>RESTAURANT_ID</th>\n",
       "      <th>COST</th>\n",
       "    </tr>\n",
       "  </thead>\n",
       "  <tbody>\n",
       "    <tr>\n",
       "      <th>count</th>\n",
       "      <td>12690.000000</td>\n",
       "      <td>12690.000000</td>\n",
       "    </tr>\n",
       "    <tr>\n",
       "      <th>mean</th>\n",
       "      <td>7759.134121</td>\n",
       "      <td>655.252246</td>\n",
       "    </tr>\n",
       "    <tr>\n",
       "      <th>std</th>\n",
       "      <td>4504.874150</td>\n",
       "      <td>627.003540</td>\n",
       "    </tr>\n",
       "    <tr>\n",
       "      <th>min</th>\n",
       "      <td>0.000000</td>\n",
       "      <td>20.000000</td>\n",
       "    </tr>\n",
       "    <tr>\n",
       "      <th>25%</th>\n",
       "      <td>3863.250000</td>\n",
       "      <td>300.000000</td>\n",
       "    </tr>\n",
       "    <tr>\n",
       "      <th>50%</th>\n",
       "      <td>7740.000000</td>\n",
       "      <td>500.000000</td>\n",
       "    </tr>\n",
       "    <tr>\n",
       "      <th>75%</th>\n",
       "      <td>11688.750000</td>\n",
       "      <td>800.000000</td>\n",
       "    </tr>\n",
       "    <tr>\n",
       "      <th>max</th>\n",
       "      <td>15573.000000</td>\n",
       "      <td>14000.000000</td>\n",
       "    </tr>\n",
       "  </tbody>\n",
       "</table>\n",
       "</div>"
      ],
      "text/plain": [
       "       RESTAURANT_ID          COST\n",
       "count   12690.000000  12690.000000\n",
       "mean     7759.134121    655.252246\n",
       "std      4504.874150    627.003540\n",
       "min         0.000000     20.000000\n",
       "25%      3863.250000    300.000000\n",
       "50%      7740.000000    500.000000\n",
       "75%     11688.750000    800.000000\n",
       "max     15573.000000  14000.000000"
      ]
     },
     "execution_count": 45,
     "metadata": {},
     "output_type": "execute_result"
    }
   ],
   "source": [
    "ds.describe()"
   ]
  },
  {
   "cell_type": "markdown",
   "metadata": {},
   "source": [
    "key observations here\n",
    "\n",
    "1. mean and median is very near .\n",
    "2. There is huge differnece in 75% and max values means few outliers are there\n",
    "3. Count is same as no. of rows.  means no missing values in this column "
   ]
  },
  {
   "cell_type": "code",
   "execution_count": 46,
   "metadata": {},
   "outputs": [
    {
     "data": {
      "text/plain": [
       "(12690, 9)"
      ]
     },
     "execution_count": 46,
     "metadata": {},
     "output_type": "execute_result"
    }
   ],
   "source": [
    "ds.shape  #checking the rows and ccolumns count"
   ]
  },
  {
   "cell_type": "code",
   "execution_count": 47,
   "metadata": {},
   "outputs": [
    {
     "data": {
      "text/plain": [
       "TITLE               0\n",
       "RESTAURANT_ID       0\n",
       "CUISINES            0\n",
       "TIME                0\n",
       "CITY              112\n",
       "LOCALITY           98\n",
       "RATING              2\n",
       "VOTES            1204\n",
       "COST                0\n",
       "dtype: int64"
      ]
     },
     "execution_count": 47,
     "metadata": {},
     "output_type": "execute_result"
    }
   ],
   "source": [
    "ds.isnull().sum()"
   ]
  },
  {
   "cell_type": "code",
   "execution_count": 48,
   "metadata": {},
   "outputs": [
    {
     "data": {
      "text/plain": [
       "<AxesSubplot:>"
      ]
     },
     "execution_count": 48,
     "metadata": {},
     "output_type": "execute_result"
    },
    {
     "data": {
      "image/png": "[encoded data removed]",
      "text/plain": [
       "<Figure size 432x288 with 2 Axes>"
      ]
     },
     "metadata": {
      "needs_background": "light"
     },
     "output_type": "display_data"
    }
   ],
   "source": [
    "sns.heatmap(ds.isnull()) # checking the null values "
   ]
  },
  {
   "cell_type": "markdown",
   "metadata": {},
   "source": [
    "There are null values in column CITY,LOCALITY,RATING,VOTES"
   ]
  },
  {
   "cell_type": "code",
   "execution_count": 49,
   "metadata": {},
   "outputs": [
    {
     "data": {
      "text/html": [
       "<div>\n",
       "<style scoped>\n",
       "    .dataframe tbody tr th:only-of-type {\n",
       "        vertical-align: middle;\n",
       "    }\n",
       "\n",
       "    .dataframe tbody tr th {\n",
       "        vertical-align: top;\n",
       "    }\n",
       "\n",
       "    .dataframe thead th {\n",
       "        text-align: right;\n",
       "    }\n",
       "</style>\n",
       "<table border=\"1\" class=\"dataframe\">\n",
       "  <thead>\n",
       "    <tr style=\"text-align: right;\">\n",
       "      <th></th>\n",
       "      <th>RESTAURANT_ID</th>\n",
       "      <th>COST</th>\n",
       "    </tr>\n",
       "  </thead>\n",
       "  <tbody>\n",
       "    <tr>\n",
       "      <th>RESTAURANT_ID</th>\n",
       "      <td>1.00000</td>\n",
       "      <td>0.04071</td>\n",
       "    </tr>\n",
       "    <tr>\n",
       "      <th>COST</th>\n",
       "      <td>0.04071</td>\n",
       "      <td>1.00000</td>\n",
       "    </tr>\n",
       "  </tbody>\n",
       "</table>\n",
       "</div>"
      ],
      "text/plain": [
       "               RESTAURANT_ID     COST\n",
       "RESTAURANT_ID        1.00000  0.04071\n",
       "COST                 0.04071  1.00000"
      ]
     },
     "execution_count": 49,
     "metadata": {},
     "output_type": "execute_result"
    }
   ],
   "source": [
    "dscor=ds.corr() # checking the correlation\n",
    "dscor # only one numerical column . so no correlation"
   ]
  },
  {
   "cell_type": "markdown",
   "metadata": {},
   "source": [
    "Key Obseravtions till here\n",
    "1. Data is not numerical. \n",
    "2. nominal values are alphanumeric also.\n",
    "So, One by one we will try to extract the relevant values from each variable."
   ]
  },
  {
   "cell_type": "markdown",
   "metadata": {},
   "source": [
    "# TITLE\n",
    "1. we will find how many comma sepearted values i.e 2 \n",
    "2. we will make 2 titles sepeartely \n",
    "3. will replace null values with NONE"
   ]
  },
  {
   "cell_type": "code",
   "execution_count": 50,
   "metadata": {},
   "outputs": [
    {
     "data": {
      "text/plain": [
       "QUICK BITES                    4218\n",
       "CASUAL DINING                  3652\n",
       "None                           1003\n",
       "CAFÉ                            607\n",
       "DESSERT PARLOR                  382\n",
       "                               ... \n",
       "LOUNGE,FINE DINING                1\n",
       "SWEET SHOP,BEVERAGE SHOP          1\n",
       "BEVERAGE SHOP,CASUAL DINING       1\n",
       "DESSERT PARLOR,KIOSK              1\n",
       "BAR,CLUB                          1\n",
       "Name: TITLE, Length: 113, dtype: int64"
      ]
     },
     "execution_count": 50,
     "metadata": {},
     "output_type": "execute_result"
    }
   ],
   "source": [
    "ds.TITLE.value_counts()"
   ]
  },
  {
   "cell_type": "code",
   "execution_count": 51,
   "metadata": {},
   "outputs": [
    {
     "name": "stdout",
     "output_type": "stream",
     "text": [
      "Maximum Titles in a Cell :  2\n"
     ]
    }
   ],
   "source": [
    "titles = list(ds['TITLE'])\n",
    "maxim = 1\n",
    "for i in titles :\n",
    "    if len(i.split(',')) > maxim:\n",
    "         maxim = len(i.split(','))\n",
    "         \n",
    "\n",
    "        \n",
    "print(\"Maximum Titles in a Cell : \", maxim)    "
   ]
  },
  {
   "cell_type": "code",
   "execution_count": 52,
   "metadata": {},
   "outputs": [],
   "source": [
    "ds.TITLE.fillna('NONE,NONE',inplace=True)\n",
    "\n",
    "ds['TITLE1'] = ds['TITLE'].str.split(\",\").str[0]\n",
    "ds['TITLE2'] = ds['TITLE'].str.split(\",\").str[1]\n",
    "ds.TITLE2.fillna('NONE',inplace=True)\n",
    "\n",
    "#dropping  the TITLE variable after splitting it in TITLE1 and TITLE2\n",
    "ds.drop('TITLE',axis=1,inplace=True)"
   ]
  },
  {
   "cell_type": "markdown",
   "metadata": {},
   "source": [
    "# CITY\n",
    "1. we will remove extra spaces in string.\n",
    "2. we will remove any special character in string , if any"
   ]
  },
  {
   "cell_type": "code",
   "execution_count": 53,
   "metadata": {},
   "outputs": [
    {
     "data": {
      "text/plain": [
       "Chennai                                                           2174\n",
       "Bangalore                                                         2149\n",
       "Hyderabad                                                         1819\n",
       "Mumbai                                                            1722\n",
       "New Delhi                                                         1321\n",
       "                                                                  ... \n",
       "Navallur                                                             1\n",
       "SG Palya                                                             1\n",
       "Amrit kaur market opposite new delhi railway station paharganj       1\n",
       "Vasai west                                                           1\n",
       "Dist. Center New Delhi                                               1\n",
       "Name: CITY, Length: 359, dtype: int64"
      ]
     },
     "execution_count": 53,
     "metadata": {},
     "output_type": "execute_result"
    }
   ],
   "source": [
    "ds[\"CITY\"].value_counts()"
   ]
  },
  {
   "cell_type": "code",
   "execution_count": 54,
   "metadata": {},
   "outputs": [],
   "source": [
    "# remove the extra spaces , save only string to  the city\n",
    "import re\n",
    "#for i in ds[\"CITY\"] :\n",
    "#ds['CITY'] = ds['CITY'].apply(lambda x: re.sub(r\"\\W+|_0-9\", \" \", str(x)))\n",
    "ds['CITY'] = ds['CITY'].apply(lambda x: re.sub(r\"[^a-zA-Z]+\", ' ', str(x)))"
   ]
  },
  {
   "cell_type": "code",
   "execution_count": 55,
   "metadata": {},
   "outputs": [
    {
     "data": {
      "text/plain": [
       "Chennai                2174\n",
       "Bangalore              2149\n",
       "Hyderabad              1819\n",
       "Mumbai                 1722\n",
       "New Delhi              1321\n",
       "                       ... \n",
       "Palavakkam                1\n",
       "Sector Noida              1\n",
       "Chennai Padur             1\n",
       "Maharashtra               1\n",
       "Jogeshwari w Mumbai       1\n",
       "Name: CITY, Length: 328, dtype: int64"
      ]
     },
     "execution_count": 55,
     "metadata": {},
     "output_type": "execute_result"
    }
   ],
   "source": [
    "ds[\"CITY\"].value_counts()"
   ]
  },
  {
   "cell_type": "markdown",
   "metadata": {},
   "source": [
    "# LOCALITY\n",
    "1. remove extra spaces from string.\n",
    "2. remove special characters from string.\n",
    "3. Will replace with 'UNKNOWN' if string has numerical value"
   ]
  },
  {
   "cell_type": "code",
   "execution_count": 56,
   "metadata": {},
   "outputs": [
    {
     "data": {
      "text/plain": [
       "Index(['Gachibowli', 'Indiranagar', 'Edappally', 'Kakkanad', 'HSR',\n",
       "       'Kukatpally', 'Madhapur', 'Marathahalli', 'Banjara Hills',\n",
       "       'Jubilee Hills',\n",
       "       ...\n",
       "       'Goregaon', 'Opposite ATC Shoping Mall As Rao Nagar', 'Suraj Kund',\n",
       "       'Mahadevapura', 'H Block', 'Kathrikadavu',\n",
       "       'THE ODYSSEY RESTAURANT AND GRILL / ASHOK T GNANAMUTHU SITE NO-11 SHOP NO-3 GROUND FLOOR KHATA NO-690/60/11 NEW NO-393 BHATTARAHALLI VILLAGE BIDARAHALLI HOBLI BANGALORE- 560049',\n",
       "       'Near Begum Bazaar',\n",
       "       'Near Laxmi Industrial Estate off Andheri Link Road',\n",
       "       'Shop 5 Plot 2 Village Sahberi Crossing Republik'],\n",
       "      dtype='object', length=1416)"
      ]
     },
     "execution_count": 56,
     "metadata": {},
     "output_type": "execute_result"
    }
   ],
   "source": [
    "ds[\"LOCALITY\"].value_counts().index"
   ]
  },
  {
   "cell_type": "code",
   "execution_count": 57,
   "metadata": {},
   "outputs": [],
   "source": [
    "# remove the extra spaces and special characters from locality\n",
    "import re\n",
    "ds['LOCALITY'] = ds['LOCALITY'].apply(lambda x: re.sub(r\"\\W+|_\", \" \", str(x)))\n",
    "ds['LOCALITY'] = ds['LOCALITY'].apply(lambda x: re.sub(' +','',str(x)))"
   ]
  },
  {
   "cell_type": "code",
   "execution_count": 58,
   "metadata": {},
   "outputs": [],
   "source": [
    "for i in ds[\"LOCALITY\"]:\n",
    "    for j in i:\n",
    "        if j.isdigit():\n",
    "            j='UNKNOWN'"
   ]
  },
  {
   "cell_type": "code",
   "execution_count": 59,
   "metadata": {},
   "outputs": [],
   "source": [
    "localities = list(ds['LOCALITY'])\n",
    "\n",
    "for i in range(len(localities)):\n",
    "    if localities[i].isdigit():\n",
    "        localities[i] = 'UNKNOWN'\n",
    "    else:\n",
    "        localities[i] = localities[i].strip().upper()   "
   ]
  },
  {
   "cell_type": "markdown",
   "metadata": {},
   "source": [
    "# RATING\n",
    "1. It has 3 irrelevant entries. we will explicitly remove them\n",
    "2. will replace null values with 0"
   ]
  },
  {
   "cell_type": "code",
   "execution_count": 60,
   "metadata": {},
   "outputs": [
    {
     "data": {
      "text/plain": [
       "array(['3.6', '4.2', '3.8', '4.1', '4.0', '4.3', '3.9', '3.3', '3.4', '-',\n",
       "       '4.5', '3.5', '4.4', '2.7', '3.7', '4.7', 'NEW', '3.1', '2.5',\n",
       "       '4.6', '2.8', nan, '3.0', '3.2', '2.6', '2.9', '4.9', '4.8', '2.4',\n",
       "       '2.3', '2.0', '2.1', '2.2'], dtype=object)"
      ]
     },
     "execution_count": 60,
     "metadata": {},
     "output_type": "execute_result"
    }
   ],
   "source": [
    "ds.RATING.unique()"
   ]
  },
  {
   "cell_type": "code",
   "execution_count": 61,
   "metadata": {},
   "outputs": [],
   "source": [
    "# replacing the improper data\n",
    "ds['RATING'] = ds['RATING'].str.replace('-','0')\n",
    "ds['RATING'] = ds['RATING'].str.replace('NEW','0')"
   ]
  },
  {
   "cell_type": "code",
   "execution_count": 62,
   "metadata": {},
   "outputs": [],
   "source": [
    "ds['RATING'].fillna('0',inplace=True) # filling the null values "
   ]
  },
  {
   "cell_type": "code",
   "execution_count": 63,
   "metadata": {},
   "outputs": [
    {
     "data": {
      "text/plain": [
       "RESTAURANT_ID       0\n",
       "CUISINES            0\n",
       "TIME                0\n",
       "CITY                0\n",
       "LOCALITY            0\n",
       "RATING              0\n",
       "VOTES            1204\n",
       "COST                0\n",
       "TITLE1              0\n",
       "TITLE2              0\n",
       "dtype: int64"
      ]
     },
     "execution_count": 63,
     "metadata": {},
     "output_type": "execute_result"
    }
   ],
   "source": [
    "ds.isnull().sum()"
   ]
  },
  {
   "cell_type": "markdown",
   "metadata": {},
   "source": [
    "# VOTES\n",
    "1. We will replace null values with 0\n",
    "2. we will extract votes from VOTES columns"
   ]
  },
  {
   "cell_type": "code",
   "execution_count": 64,
   "metadata": {},
   "outputs": [],
   "source": [
    "#Extracting VOTES  from VOTES column and convert to Numeric.\n",
    "ds['VOTES'].fillna('0',inplace=True) # filling the null values \n",
    "# Experience\n",
    "ds['VOTES'] = ds['VOTES'].str.split().str[0]\n",
    "ds['VOTES'] = ds['VOTES'].astype(int)\n"
   ]
  },
  {
   "cell_type": "code",
   "execution_count": 65,
   "metadata": {},
   "outputs": [
    {
     "data": {
      "text/html": [
       "<div>\n",
       "<style scoped>\n",
       "    .dataframe tbody tr th:only-of-type {\n",
       "        vertical-align: middle;\n",
       "    }\n",
       "\n",
       "    .dataframe tbody tr th {\n",
       "        vertical-align: top;\n",
       "    }\n",
       "\n",
       "    .dataframe thead th {\n",
       "        text-align: right;\n",
       "    }\n",
       "</style>\n",
       "<table border=\"1\" class=\"dataframe\">\n",
       "  <thead>\n",
       "    <tr style=\"text-align: right;\">\n",
       "      <th></th>\n",
       "      <th>RESTAURANT_ID</th>\n",
       "      <th>CUISINES</th>\n",
       "      <th>TIME</th>\n",
       "      <th>CITY</th>\n",
       "      <th>LOCALITY</th>\n",
       "      <th>RATING</th>\n",
       "      <th>VOTES</th>\n",
       "      <th>COST</th>\n",
       "      <th>TITLE1</th>\n",
       "      <th>TITLE2</th>\n",
       "    </tr>\n",
       "  </thead>\n",
       "  <tbody>\n",
       "    <tr>\n",
       "      <th>0</th>\n",
       "      <td>9438</td>\n",
       "      <td>Malwani, Goan, North Indian</td>\n",
       "      <td>11am – 4pm, 7:30pm – 11:30pm (Mon-Sun)</td>\n",
       "      <td>Thane</td>\n",
       "      <td>DombivaliEast</td>\n",
       "      <td>3.6</td>\n",
       "      <td>49</td>\n",
       "      <td>1200</td>\n",
       "      <td>CASUAL DINING</td>\n",
       "      <td>NONE</td>\n",
       "    </tr>\n",
       "    <tr>\n",
       "      <th>1</th>\n",
       "      <td>13198</td>\n",
       "      <td>Asian, Modern Indian, Japanese</td>\n",
       "      <td>6pm – 11pm (Mon-Sun)</td>\n",
       "      <td>Chennai</td>\n",
       "      <td>Ramapuram</td>\n",
       "      <td>4.2</td>\n",
       "      <td>30</td>\n",
       "      <td>1500</td>\n",
       "      <td>CASUAL DINING</td>\n",
       "      <td>BAR</td>\n",
       "    </tr>\n",
       "  </tbody>\n",
       "</table>\n",
       "</div>"
      ],
      "text/plain": [
       "   RESTAURANT_ID                        CUISINES  \\\n",
       "0           9438     Malwani, Goan, North Indian   \n",
       "1          13198  Asian, Modern Indian, Japanese   \n",
       "\n",
       "                                     TIME     CITY       LOCALITY RATING  \\\n",
       "0  11am – 4pm, 7:30pm – 11:30pm (Mon-Sun)    Thane  DombivaliEast    3.6   \n",
       "1                    6pm – 11pm (Mon-Sun)  Chennai      Ramapuram    4.2   \n",
       "\n",
       "   VOTES  COST         TITLE1 TITLE2  \n",
       "0     49  1200  CASUAL DINING   NONE  \n",
       "1     30  1500  CASUAL DINING    BAR  "
      ]
     },
     "execution_count": 65,
     "metadata": {},
     "output_type": "execute_result"
    }
   ],
   "source": [
    "ds.head(2)"
   ]
  },
  {
   "cell_type": "markdown",
   "metadata": {},
   "source": [
    "# CUISINES\n",
    "1. we will find the count of unique CUISINES . they are 8\n",
    "2. we will make 8 sepearte columns for each cuisines by splitting CUISINES\n",
    "3. we will replace null values in all 8 cuisines with NONE\n",
    "4. we will drop old CUISINES column and CUISINES_count column\n"
   ]
  },
  {
   "cell_type": "code",
   "execution_count": 66,
   "metadata": {},
   "outputs": [
    {
     "data": {
      "text/plain": [
       "2    3937\n",
       "1    3062\n",
       "3    2996\n",
       "4    1680\n",
       "5     601\n",
       "6     238\n",
       "7      99\n",
       "8      77\n",
       "Name: CUISINES_count, dtype: int64"
      ]
     },
     "execution_count": 66,
     "metadata": {},
     "output_type": "execute_result"
    }
   ],
   "source": [
    "ds['CUISINES_count'] = ds['CUISINES'].apply(lambda x: len(x.split(\",\")))\n",
    "\n",
    "ds['CUISINES_count'].value_counts()"
   ]
  },
  {
   "cell_type": "code",
   "execution_count": 67,
   "metadata": {},
   "outputs": [
    {
     "data": {
      "text/plain": [
       "array(['Malwani, Goan, North Indian', 'Asian, Modern Indian, Japanese',\n",
       "       'North Indian, Chinese, Biryani, Hyderabadi', ...,\n",
       "       'North Indian, Burger, Kebab', 'Goan, Continental',\n",
       "       'Finger Food, Continental, Asian, Chinese'], dtype=object)"
      ]
     },
     "execution_count": 67,
     "metadata": {},
     "output_type": "execute_result"
    }
   ],
   "source": [
    "ds['CUISINES'].unique()"
   ]
  },
  {
   "cell_type": "code",
   "execution_count": 68,
   "metadata": {},
   "outputs": [],
   "source": [
    "\n",
    "ds['CUISINE1'] = ds['CUISINES'].str.split(\",\").str[0]\n",
    "ds['CUISINE2'] = ds['CUISINES'].str.split(\",\").str[1]\n",
    "ds['CUISINE3'] = ds['CUISINES'].str.split(\",\").str[2]\n",
    "ds['CUISINE4'] = ds['CUISINES'].str.split(\",\").str[3]\n",
    "ds['CUISINE5'] = ds['CUISINES'].str.split(\",\").str[4]\n",
    "ds['CUISINE6'] = ds['CUISINES'].str.split(\",\").str[5]\n",
    "ds['CUISINE7'] = ds['CUISINES'].str.split(\",\").str[6]\n",
    "ds['CUISINE8'] = ds['CUISINES'].str.split(\",\").str[7]\n",
    "#dropping  the CUISINE AND ITS CUISINES_count variable after splitting it in 8 SPLITS OF A CELL\n",
    "ds.drop(['CUISINES','CUISINES_count'],axis=1,inplace=True)"
   ]
  },
  {
   "cell_type": "code",
   "execution_count": 69,
   "metadata": {},
   "outputs": [],
   "source": [
    "ds.CUISINE1.fillna('None',inplace=True)\n",
    "ds.CUISINE2.fillna('None',inplace=True)\n",
    "ds.CUISINE3.fillna('None',inplace=True)\n",
    "ds.CUISINE4.fillna('None',inplace=True)\n",
    "ds.CUISINE5.fillna('None',inplace=True)\n",
    "ds.CUISINE6.fillna('None',inplace=True)\n",
    "ds.CUISINE7.fillna('None',inplace=True)\n",
    "ds.CUISINE8.fillna('None',inplace=True)"
   ]
  },
  {
   "cell_type": "code",
   "execution_count": 70,
   "metadata": {},
   "outputs": [
    {
     "data": {
      "text/plain": [
       "RESTAURANT_ID    0\n",
       "TIME             0\n",
       "CITY             0\n",
       "LOCALITY         0\n",
       "RATING           0\n",
       "VOTES            0\n",
       "COST             0\n",
       "TITLE1           0\n",
       "TITLE2           0\n",
       "CUISINE1         0\n",
       "CUISINE2         0\n",
       "CUISINE3         0\n",
       "CUISINE4         0\n",
       "CUISINE5         0\n",
       "CUISINE6         0\n",
       "CUISINE7         0\n",
       "CUISINE8         0\n",
       "dtype: int64"
      ]
     },
     "execution_count": 70,
     "metadata": {},
     "output_type": "execute_result"
    }
   ],
   "source": [
    "ds.isnull().sum()"
   ]
  },
  {
   "cell_type": "code",
   "execution_count": 71,
   "metadata": {},
   "outputs": [],
   "source": [
    "#dropping  the time variable \n",
    "ds.drop('TIME',axis=1,inplace=True)"
   ]
  },
  {
   "cell_type": "code",
   "execution_count": 72,
   "metadata": {},
   "outputs": [
    {
     "data": {
      "text/html": [
       "<div>\n",
       "<style scoped>\n",
       "    .dataframe tbody tr th:only-of-type {\n",
       "        vertical-align: middle;\n",
       "    }\n",
       "\n",
       "    .dataframe tbody tr th {\n",
       "        vertical-align: top;\n",
       "    }\n",
       "\n",
       "    .dataframe thead th {\n",
       "        text-align: right;\n",
       "    }\n",
       "</style>\n",
       "<table border=\"1\" class=\"dataframe\">\n",
       "  <thead>\n",
       "    <tr style=\"text-align: right;\">\n",
       "      <th></th>\n",
       "      <th>RESTAURANT_ID</th>\n",
       "      <th>CITY</th>\n",
       "      <th>LOCALITY</th>\n",
       "      <th>RATING</th>\n",
       "      <th>VOTES</th>\n",
       "      <th>COST</th>\n",
       "      <th>TITLE1</th>\n",
       "      <th>TITLE2</th>\n",
       "      <th>CUISINE1</th>\n",
       "      <th>CUISINE2</th>\n",
       "      <th>CUISINE3</th>\n",
       "      <th>CUISINE4</th>\n",
       "      <th>CUISINE5</th>\n",
       "      <th>CUISINE6</th>\n",
       "      <th>CUISINE7</th>\n",
       "      <th>CUISINE8</th>\n",
       "    </tr>\n",
       "  </thead>\n",
       "  <tbody>\n",
       "    <tr>\n",
       "      <th>0</th>\n",
       "      <td>9438</td>\n",
       "      <td>Thane</td>\n",
       "      <td>DombivaliEast</td>\n",
       "      <td>3.6</td>\n",
       "      <td>49</td>\n",
       "      <td>1200</td>\n",
       "      <td>CASUAL DINING</td>\n",
       "      <td>NONE</td>\n",
       "      <td>Malwani</td>\n",
       "      <td>Goan</td>\n",
       "      <td>North Indian</td>\n",
       "      <td>None</td>\n",
       "      <td>None</td>\n",
       "      <td>None</td>\n",
       "      <td>None</td>\n",
       "      <td>None</td>\n",
       "    </tr>\n",
       "    <tr>\n",
       "      <th>1</th>\n",
       "      <td>13198</td>\n",
       "      <td>Chennai</td>\n",
       "      <td>Ramapuram</td>\n",
       "      <td>4.2</td>\n",
       "      <td>30</td>\n",
       "      <td>1500</td>\n",
       "      <td>CASUAL DINING</td>\n",
       "      <td>BAR</td>\n",
       "      <td>Asian</td>\n",
       "      <td>Modern Indian</td>\n",
       "      <td>Japanese</td>\n",
       "      <td>None</td>\n",
       "      <td>None</td>\n",
       "      <td>None</td>\n",
       "      <td>None</td>\n",
       "      <td>None</td>\n",
       "    </tr>\n",
       "    <tr>\n",
       "      <th>2</th>\n",
       "      <td>10915</td>\n",
       "      <td>Chennai</td>\n",
       "      <td>Saligramam</td>\n",
       "      <td>3.8</td>\n",
       "      <td>221</td>\n",
       "      <td>800</td>\n",
       "      <td>CASUAL DINING</td>\n",
       "      <td>NONE</td>\n",
       "      <td>North Indian</td>\n",
       "      <td>Chinese</td>\n",
       "      <td>Biryani</td>\n",
       "      <td>Hyderabadi</td>\n",
       "      <td>None</td>\n",
       "      <td>None</td>\n",
       "      <td>None</td>\n",
       "      <td>None</td>\n",
       "    </tr>\n",
       "    <tr>\n",
       "      <th>3</th>\n",
       "      <td>6346</td>\n",
       "      <td>Mumbai</td>\n",
       "      <td>BandraWest</td>\n",
       "      <td>4.1</td>\n",
       "      <td>24</td>\n",
       "      <td>800</td>\n",
       "      <td>QUICK BITES</td>\n",
       "      <td>NONE</td>\n",
       "      <td>Tibetan</td>\n",
       "      <td>Chinese</td>\n",
       "      <td>None</td>\n",
       "      <td>None</td>\n",
       "      <td>None</td>\n",
       "      <td>None</td>\n",
       "      <td>None</td>\n",
       "      <td>None</td>\n",
       "    </tr>\n",
       "    <tr>\n",
       "      <th>4</th>\n",
       "      <td>15387</td>\n",
       "      <td>Mumbai</td>\n",
       "      <td>LowerParel</td>\n",
       "      <td>3.8</td>\n",
       "      <td>165</td>\n",
       "      <td>300</td>\n",
       "      <td>DESSERT PARLOR</td>\n",
       "      <td>NONE</td>\n",
       "      <td>Desserts</td>\n",
       "      <td>None</td>\n",
       "      <td>None</td>\n",
       "      <td>None</td>\n",
       "      <td>None</td>\n",
       "      <td>None</td>\n",
       "      <td>None</td>\n",
       "      <td>None</td>\n",
       "    </tr>\n",
       "  </tbody>\n",
       "</table>\n",
       "</div>"
      ],
      "text/plain": [
       "   RESTAURANT_ID     CITY       LOCALITY RATING  VOTES  COST          TITLE1  \\\n",
       "0           9438    Thane  DombivaliEast    3.6     49  1200   CASUAL DINING   \n",
       "1          13198  Chennai      Ramapuram    4.2     30  1500   CASUAL DINING   \n",
       "2          10915  Chennai     Saligramam    3.8    221   800   CASUAL DINING   \n",
       "3           6346   Mumbai     BandraWest    4.1     24   800     QUICK BITES   \n",
       "4          15387   Mumbai     LowerParel    3.8    165   300  DESSERT PARLOR   \n",
       "\n",
       "  TITLE2      CUISINE1        CUISINE2       CUISINE3     CUISINE4 CUISINE5  \\\n",
       "0   NONE       Malwani            Goan   North Indian         None     None   \n",
       "1    BAR         Asian   Modern Indian       Japanese         None     None   \n",
       "2   NONE  North Indian         Chinese        Biryani   Hyderabadi     None   \n",
       "3   NONE       Tibetan         Chinese           None         None     None   \n",
       "4   NONE      Desserts            None           None         None     None   \n",
       "\n",
       "  CUISINE6 CUISINE7 CUISINE8  \n",
       "0     None     None     None  \n",
       "1     None     None     None  \n",
       "2     None     None     None  \n",
       "3     None     None     None  \n",
       "4     None     None     None  "
      ]
     },
     "execution_count": 72,
     "metadata": {},
     "output_type": "execute_result"
    }
   ],
   "source": [
    "ds.head(5)"
   ]
  },
  {
   "cell_type": "markdown",
   "metadata": {},
   "source": [
    "# Univariate and Bivariate Analysis"
   ]
  },
  {
   "cell_type": "code",
   "execution_count": 73,
   "metadata": {},
   "outputs": [],
   "source": [
    "#univariate analysis"
   ]
  },
  {
   "cell_type": "code",
   "execution_count": 74,
   "metadata": {},
   "outputs": [
    {
     "data": {
      "image/png": "[encoded data removed]",
      "text/plain": [
       "<Figure size 720x720 with 1 Axes>"
      ]
     },
     "metadata": {
      "needs_background": "light"
     },
     "output_type": "display_data"
    }
   ],
   "source": [
    "plt.figure(figsize=(10,10))\n",
    "sns.countplot(ds[\"RATING\"])\n",
    "plt.title(\"RATING\\n \")\n",
    "plt.show() "
   ]
  },
  {
   "cell_type": "code",
   "execution_count": 75,
   "metadata": {},
   "outputs": [
    {
     "data": {
      "image/png": "[encoded data removed]",
      "text/plain": [
       "<Figure size 432x288 with 1 Axes>"
      ]
     },
     "metadata": {
      "needs_background": "light"
     },
     "output_type": "display_data"
    }
   ],
   "source": [
    "plt.title(\"VOTES\")\n",
    "sns.distplot(ds[\"VOTES\"])\n",
    "plt.show() # shows very less are BDS Qualified"
   ]
  },
  {
   "cell_type": "code",
   "execution_count": 76,
   "metadata": {},
   "outputs": [
    {
     "data": {
      "image/png": "[encoded data removed]",
      "text/plain": [
       "<Figure size 1800x1080 with 1 Axes>"
      ]
     },
     "metadata": {
      "needs_background": "light"
     },
     "output_type": "display_data"
    }
   ],
   "source": [
    "plt.figure(figsize=(25,15))\n",
    "plt.title(\"TITLE1\")\n",
    "sns.countplot(ds[\"TITLE1\"])\n",
    "plt.show() # shows max data concentrated in chick bites and casual dining "
   ]
  },
  {
   "cell_type": "code",
   "execution_count": 77,
   "metadata": {},
   "outputs": [
    {
     "data": {
      "text/html": [
       "<div>\n",
       "<style scoped>\n",
       "    .dataframe tbody tr th:only-of-type {\n",
       "        vertical-align: middle;\n",
       "    }\n",
       "\n",
       "    .dataframe tbody tr th {\n",
       "        vertical-align: top;\n",
       "    }\n",
       "\n",
       "    .dataframe thead th {\n",
       "        text-align: right;\n",
       "    }\n",
       "</style>\n",
       "<table border=\"1\" class=\"dataframe\">\n",
       "  <thead>\n",
       "    <tr style=\"text-align: right;\">\n",
       "      <th></th>\n",
       "      <th>RESTAURANT_ID</th>\n",
       "      <th>CITY</th>\n",
       "      <th>LOCALITY</th>\n",
       "      <th>RATING</th>\n",
       "      <th>VOTES</th>\n",
       "      <th>COST</th>\n",
       "      <th>TITLE1</th>\n",
       "      <th>TITLE2</th>\n",
       "      <th>CUISINE1</th>\n",
       "      <th>CUISINE2</th>\n",
       "      <th>CUISINE3</th>\n",
       "      <th>CUISINE4</th>\n",
       "      <th>CUISINE5</th>\n",
       "      <th>CUISINE6</th>\n",
       "      <th>CUISINE7</th>\n",
       "      <th>CUISINE8</th>\n",
       "    </tr>\n",
       "  </thead>\n",
       "  <tbody>\n",
       "    <tr>\n",
       "      <th>0</th>\n",
       "      <td>9438</td>\n",
       "      <td>Thane</td>\n",
       "      <td>DombivaliEast</td>\n",
       "      <td>3.6</td>\n",
       "      <td>49</td>\n",
       "      <td>1200</td>\n",
       "      <td>CASUAL DINING</td>\n",
       "      <td>NONE</td>\n",
       "      <td>Malwani</td>\n",
       "      <td>Goan</td>\n",
       "      <td>North Indian</td>\n",
       "      <td>None</td>\n",
       "      <td>None</td>\n",
       "      <td>None</td>\n",
       "      <td>None</td>\n",
       "      <td>None</td>\n",
       "    </tr>\n",
       "  </tbody>\n",
       "</table>\n",
       "</div>"
      ],
      "text/plain": [
       "   RESTAURANT_ID   CITY       LOCALITY RATING  VOTES  COST         TITLE1  \\\n",
       "0           9438  Thane  DombivaliEast    3.6     49  1200  CASUAL DINING   \n",
       "\n",
       "  TITLE2 CUISINE1 CUISINE2       CUISINE3 CUISINE4 CUISINE5 CUISINE6 CUISINE7  \\\n",
       "0   NONE  Malwani     Goan   North Indian     None     None     None     None   \n",
       "\n",
       "  CUISINE8  \n",
       "0     None  "
      ]
     },
     "execution_count": 77,
     "metadata": {},
     "output_type": "execute_result"
    }
   ],
   "source": [
    "ds.head(1)"
   ]
  },
  {
   "cell_type": "code",
   "execution_count": 78,
   "metadata": {},
   "outputs": [
    {
     "data": {
      "image/png": "[encoded data removed]",
      "text/plain": [
       "<Figure size 1080x720 with 1 Axes>"
      ]
     },
     "metadata": {
      "needs_background": "light"
     },
     "output_type": "display_data"
    }
   ],
   "source": [
    "plt.figure(figsize=(15,10))\n",
    "ax = sns.lineplot(x='CUISINE1',y='COST',data=ds)\n",
    "ax.set_title(\"Fees as per Experience\")\n",
    "plt.show()"
   ]
  },
  {
   "cell_type": "code",
   "execution_count": 79,
   "metadata": {
    "scrolled": true
   },
   "outputs": [
    {
     "data": {
      "image/png": "[encoded data removed]",
      "text/plain": [
       "<Figure size 432x288 with 1 Axes>"
      ]
     },
     "metadata": {
      "needs_background": "light"
     },
     "output_type": "display_data"
    }
   ],
   "source": [
    "#plt.figure(figsize=(10,5))\n",
    "plt.title('Votes wise Cost Distribution')\n",
    "plt.scatter(ds['VOTES'],ds['COST'])\n",
    "plt.show()"
   ]
  },
  {
   "cell_type": "code",
   "execution_count": 80,
   "metadata": {},
   "outputs": [
    {
     "data": {
      "image/png": "[encoded data removed]",
      "text/plain": [
       "<Figure size 1440x720 with 1 Axes>"
      ]
     },
     "metadata": {
      "needs_background": "light"
     },
     "output_type": "display_data"
    }
   ],
   "source": [
    "plt.figure(figsize=(20,10))\n",
    "plt.title('Rating wise Cost Distribution\\n')\n",
    "sns.barplot(ds['RATING'],ds['COST'])\n",
    "plt.show() # shows the fees is max when the rating is near 48%"
   ]
  },
  {
   "cell_type": "markdown",
   "metadata": {},
   "source": [
    "# Changing the nominal values  to numerical"
   ]
  },
  {
   "cell_type": "code",
   "execution_count": 81,
   "metadata": {},
   "outputs": [],
   "source": [
    "from sklearn.preprocessing import LabelEncoder\n",
    "le=LabelEncoder()"
   ]
  },
  {
   "cell_type": "code",
   "execution_count": 82,
   "metadata": {},
   "outputs": [
    {
     "data": {
      "text/html": [
       "<div>\n",
       "<style scoped>\n",
       "    .dataframe tbody tr th:only-of-type {\n",
       "        vertical-align: middle;\n",
       "    }\n",
       "\n",
       "    .dataframe tbody tr th {\n",
       "        vertical-align: top;\n",
       "    }\n",
       "\n",
       "    .dataframe thead th {\n",
       "        text-align: right;\n",
       "    }\n",
       "</style>\n",
       "<table border=\"1\" class=\"dataframe\">\n",
       "  <thead>\n",
       "    <tr style=\"text-align: right;\">\n",
       "      <th></th>\n",
       "      <th>RESTAURANT_ID</th>\n",
       "      <th>CITY</th>\n",
       "      <th>LOCALITY</th>\n",
       "      <th>RATING</th>\n",
       "      <th>VOTES</th>\n",
       "      <th>COST</th>\n",
       "      <th>TITLE1</th>\n",
       "      <th>TITLE2</th>\n",
       "      <th>CUISINE1</th>\n",
       "      <th>CUISINE2</th>\n",
       "      <th>CUISINE3</th>\n",
       "      <th>CUISINE4</th>\n",
       "      <th>CUISINE5</th>\n",
       "      <th>CUISINE6</th>\n",
       "      <th>CUISINE7</th>\n",
       "      <th>CUISINE8</th>\n",
       "    </tr>\n",
       "  </thead>\n",
       "  <tbody>\n",
       "    <tr>\n",
       "      <th>0</th>\n",
       "      <td>9438</td>\n",
       "      <td>288</td>\n",
       "      <td>282</td>\n",
       "      <td>3.6</td>\n",
       "      <td>49</td>\n",
       "      <td>1200</td>\n",
       "      <td>4</td>\n",
       "      <td>15</td>\n",
       "      <td>59</td>\n",
       "      <td>32</td>\n",
       "      <td>66</td>\n",
       "      <td>85</td>\n",
       "      <td>78</td>\n",
       "      <td>69</td>\n",
       "      <td>47</td>\n",
       "      <td>19</td>\n",
       "    </tr>\n",
       "    <tr>\n",
       "      <th>1</th>\n",
       "      <td>13198</td>\n",
       "      <td>62</td>\n",
       "      <td>1037</td>\n",
       "      <td>4.2</td>\n",
       "      <td>30</td>\n",
       "      <td>1500</td>\n",
       "      <td>4</td>\n",
       "      <td>1</td>\n",
       "      <td>6</td>\n",
       "      <td>60</td>\n",
       "      <td>41</td>\n",
       "      <td>85</td>\n",
       "      <td>78</td>\n",
       "      <td>69</td>\n",
       "      <td>47</td>\n",
       "      <td>19</td>\n",
       "    </tr>\n",
       "    <tr>\n",
       "      <th>2</th>\n",
       "      <td>10915</td>\n",
       "      <td>62</td>\n",
       "      <td>1092</td>\n",
       "      <td>3.8</td>\n",
       "      <td>221</td>\n",
       "      <td>800</td>\n",
       "      <td>4</td>\n",
       "      <td>15</td>\n",
       "      <td>72</td>\n",
       "      <td>23</td>\n",
       "      <td>12</td>\n",
       "      <td>32</td>\n",
       "      <td>78</td>\n",
       "      <td>69</td>\n",
       "      <td>47</td>\n",
       "      <td>19</td>\n",
       "    </tr>\n",
       "    <tr>\n",
       "      <th>3</th>\n",
       "      <td>6346</td>\n",
       "      <td>201</td>\n",
       "      <td>134</td>\n",
       "      <td>4.1</td>\n",
       "      <td>24</td>\n",
       "      <td>800</td>\n",
       "      <td>21</td>\n",
       "      <td>15</td>\n",
       "      <td>100</td>\n",
       "      <td>23</td>\n",
       "      <td>93</td>\n",
       "      <td>85</td>\n",
       "      <td>78</td>\n",
       "      <td>69</td>\n",
       "      <td>47</td>\n",
       "      <td>19</td>\n",
       "    </tr>\n",
       "    <tr>\n",
       "      <th>4</th>\n",
       "      <td>15387</td>\n",
       "      <td>201</td>\n",
       "      <td>611</td>\n",
       "      <td>3.8</td>\n",
       "      <td>165</td>\n",
       "      <td>300</td>\n",
       "      <td>8</td>\n",
       "      <td>15</td>\n",
       "      <td>28</td>\n",
       "      <td>98</td>\n",
       "      <td>93</td>\n",
       "      <td>85</td>\n",
       "      <td>78</td>\n",
       "      <td>69</td>\n",
       "      <td>47</td>\n",
       "      <td>19</td>\n",
       "    </tr>\n",
       "  </tbody>\n",
       "</table>\n",
       "</div>"
      ],
      "text/plain": [
       "   RESTAURANT_ID  CITY  LOCALITY RATING  VOTES  COST  TITLE1  TITLE2  \\\n",
       "0           9438   288       282    3.6     49  1200       4      15   \n",
       "1          13198    62      1037    4.2     30  1500       4       1   \n",
       "2          10915    62      1092    3.8    221   800       4      15   \n",
       "3           6346   201       134    4.1     24   800      21      15   \n",
       "4          15387   201       611    3.8    165   300       8      15   \n",
       "\n",
       "   CUISINE1  CUISINE2  CUISINE3  CUISINE4  CUISINE5  CUISINE6  CUISINE7  \\\n",
       "0        59        32        66        85        78        69        47   \n",
       "1         6        60        41        85        78        69        47   \n",
       "2        72        23        12        32        78        69        47   \n",
       "3       100        23        93        85        78        69        47   \n",
       "4        28        98        93        85        78        69        47   \n",
       "\n",
       "   CUISINE8  \n",
       "0        19  \n",
       "1        19  \n",
       "2        19  \n",
       "3        19  \n",
       "4        19  "
      ]
     },
     "execution_count": 82,
     "metadata": {},
     "output_type": "execute_result"
    }
   ],
   "source": [
    "list1=['CITY','LOCALITY','TITLE1','TITLE2','CUISINE1','CUISINE2','CUISINE3','CUISINE4','CUISINE5','CUISINE6','CUISINE7','CUISINE8']\n",
    "for i in list1:\n",
    "    ds[i]=le.fit_transform(ds[i])\n",
    "ds.head(5)"
   ]
  },
  {
   "cell_type": "markdown",
   "metadata": {},
   "source": [
    "# Handling the outliers¶\n",
    "\n",
    "1. VOTES and COST may vary as per RESTAURANT services . So deciding  not to remove outliers"
   ]
  },
  {
   "cell_type": "code",
   "execution_count": 83,
   "metadata": {},
   "outputs": [
    {
     "data": {
      "text/plain": [
       "<AxesSubplot:>"
      ]
     },
     "execution_count": 83,
     "metadata": {},
     "output_type": "execute_result"
    },
    {
     "data": {
      "image/png": "[encoded data removed]",
      "text/plain": [
       "<Figure size 432x288 with 1 Axes>"
      ]
     },
     "metadata": {
      "needs_background": "light"
     },
     "output_type": "display_data"
    }
   ],
   "source": [
    "ds[\"COST\"].plot.box()"
   ]
  },
  {
   "cell_type": "code",
   "execution_count": 84,
   "metadata": {},
   "outputs": [
    {
     "data": {
      "text/plain": [
       "<AxesSubplot:>"
      ]
     },
     "execution_count": 84,
     "metadata": {},
     "output_type": "execute_result"
    },
    {
     "data": {
      "image/png": "[encoded data removed]",
      "text/plain": [
       "<Figure size 432x288 with 1 Axes>"
      ]
     },
     "metadata": {
      "needs_background": "light"
     },
     "output_type": "display_data"
    }
   ],
   "source": [
    "ds[\"VOTES\"].plot.box()"
   ]
  },
  {
   "cell_type": "code",
   "execution_count": 85,
   "metadata": {},
   "outputs": [],
   "source": [
    "x=ds.drop(columns=['COST'])"
   ]
  },
  {
   "cell_type": "code",
   "execution_count": 86,
   "metadata": {},
   "outputs": [],
   "source": [
    "y=pd.DataFrame(ds['COST'])"
   ]
  },
  {
   "cell_type": "code",
   "execution_count": 87,
   "metadata": {},
   "outputs": [
    {
     "data": {
      "text/plain": [
       "((12690, 15), (12690, 1))"
      ]
     },
     "execution_count": 87,
     "metadata": {},
     "output_type": "execute_result"
    }
   ],
   "source": [
    "x.shape,  y.shape"
   ]
  },
  {
   "cell_type": "code",
   "execution_count": 88,
   "metadata": {},
   "outputs": [
    {
     "data": {
      "text/plain": [
       "RESTAURANT_ID     0.006947\n",
       "CITY              0.299941\n",
       "LOCALITY          0.340318\n",
       "RATING           -2.214271\n",
       "VOTES            14.522617\n",
       "COST              3.978801\n",
       "TITLE1            0.087325\n",
       "TITLE2           -3.057865\n",
       "CUISINE1          0.026008\n",
       "CUISINE2          0.055174\n",
       "CUISINE3         -0.823537\n",
       "CUISINE4         -2.108741\n",
       "CUISINE5         -4.094366\n",
       "CUISINE6         -6.854150\n",
       "CUISINE7        -10.250522\n",
       "CUISINE8        -13.749110\n",
       "dtype: float64"
      ]
     },
     "execution_count": 88,
     "metadata": {},
     "output_type": "execute_result"
    }
   ],
   "source": [
    "ds.skew()"
   ]
  },
  {
   "cell_type": "markdown",
   "metadata": {},
   "source": [
    " skewness is there so we will remove it"
   ]
  },
  {
   "cell_type": "code",
   "execution_count": 89,
   "metadata": {},
   "outputs": [],
   "source": [
    "from sklearn.preprocessing import power_transform"
   ]
  },
  {
   "cell_type": "code",
   "execution_count": 90,
   "metadata": {},
   "outputs": [],
   "source": [
    "x=power_transform(x,method='yeo-johnson')"
   ]
  },
  {
   "cell_type": "markdown",
   "metadata": {},
   "source": [
    "#scaling the dataset"
   ]
  },
  {
   "cell_type": "code",
   "execution_count": 91,
   "metadata": {},
   "outputs": [
    {
     "data": {
      "text/plain": [
       "(12690, 15)"
      ]
     },
     "execution_count": 91,
     "metadata": {},
     "output_type": "execute_result"
    }
   ],
   "source": [
    "#scaling the dataset\n",
    "from sklearn.preprocessing import MinMaxScaler\n",
    "sc=MinMaxScaler()\n",
    "x_t=sc.fit_transform(x)\n",
    "x_t.shape"
   ]
  },
  {
   "cell_type": "code",
   "execution_count": 92,
   "metadata": {},
   "outputs": [],
   "source": [
    "# importing our model libraries\n",
    "from sklearn.model_selection import train_test_split,GridSearchCV\n",
    "from sklearn.ensemble import RandomForestRegressor,BaggingRegressor,GradientBoostingRegressor\n",
    "from sklearn.tree import DecisionTreeRegressor"
   ]
  },
  {
   "cell_type": "code",
   "execution_count": 93,
   "metadata": {},
   "outputs": [],
   "source": [
    "from sklearn.metrics import r2_score, mean_absolute_error,mean_squared_error"
   ]
  },
  {
   "cell_type": "code",
   "execution_count": 94,
   "metadata": {},
   "outputs": [],
   "source": [
    "x_train,x_test,y_train,y_test=train_test_split(x_t,y,test_size=.22,random_state=42)"
   ]
  },
  {
   "cell_type": "code",
   "execution_count": 95,
   "metadata": {},
   "outputs": [
    {
     "data": {
      "text/plain": [
       "(9898, 15)"
      ]
     },
     "execution_count": 95,
     "metadata": {},
     "output_type": "execute_result"
    }
   ],
   "source": [
    "x_train.shape"
   ]
  },
  {
   "cell_type": "code",
   "execution_count": 96,
   "metadata": {},
   "outputs": [
    {
     "data": {
      "text/plain": [
       "(2792, 15)"
      ]
     },
     "execution_count": 96,
     "metadata": {},
     "output_type": "execute_result"
    }
   ],
   "source": [
    "x_test.shape"
   ]
  },
  {
   "cell_type": "code",
   "execution_count": 97,
   "metadata": {},
   "outputs": [
    {
     "data": {
      "text/plain": [
       "(9898, 1)"
      ]
     },
     "execution_count": 97,
     "metadata": {},
     "output_type": "execute_result"
    }
   ],
   "source": [
    "y_train.shape"
   ]
  },
  {
   "cell_type": "code",
   "execution_count": 98,
   "metadata": {},
   "outputs": [
    {
     "data": {
      "text/plain": [
       "(2792, 1)"
      ]
     },
     "execution_count": 98,
     "metadata": {},
     "output_type": "execute_result"
    }
   ],
   "source": [
    "y_test.shape"
   ]
  },
  {
   "cell_type": "markdown",
   "metadata": {},
   "source": [
    "# Finding the best model\n"
   ]
  },
  {
   "cell_type": "code",
   "execution_count": 99,
   "metadata": {
    "scrolled": true
   },
   "outputs": [
    {
     "name": "stdout",
     "output_type": "stream",
     "text": [
      "Score of  DecisionTreeRegressor() is 1.0\n",
      "Mean Absolute error   256.31590257879657\n",
      "Mean Squared error \n",
      " 203118.25573065903\n",
      "Root mean Squared error is \n",
      " 450.6864272758378\n",
      "r2 score  0.4323336790360276\n",
      "**********************************************************************\n",
      "\n",
      "Score of  GradientBoostingRegressor() is 0.718523591136182\n",
      "Mean Absolute error   193.16375917194313\n",
      "Mean Squared error \n",
      " 100060.64635119478\n",
      "Root mean Squared error is \n",
      " 316.32364178352964\n",
      "r2 score  0.7203547323546349\n",
      "**********************************************************************\n",
      "\n",
      "Score of  RandomForestRegressor() is 0.9579788855799336\n",
      "Mean Absolute error   186.00037607449858\n",
      "Mean Squared error \n",
      " 101083.93058313036\n",
      "Root mean Squared error is \n",
      " 317.9369915299734\n",
      "r2 score  0.7174949008089486\n",
      "**********************************************************************\n",
      "\n",
      "Score of  BaggingRegressor() is 0.9404739458438907\n",
      "Mean Absolute error   194.1651504297994\n",
      "Mean Squared error \n",
      " 111331.87501074497\n",
      "Root mean Squared error is \n",
      " 333.664314859628\n",
      "r2 score  0.6888543786178694\n",
      "**********************************************************************\n",
      "\n"
     ]
    }
   ],
   "source": [
    "#using algorithms in for loops\n",
    "model=[DecisionTreeRegressor(),GradientBoostingRegressor(),RandomForestRegressor(),BaggingRegressor()]\n",
    "for m in model:\n",
    "    m.fit(x_train,y_train)\n",
    "    print(\"Score of \" , m , \"is\" , m.score(x_train,y_train))\n",
    "    y_pred=m.predict(x_test)\n",
    "    print(\"Mean Absolute error  \" , mean_absolute_error(y_test,y_pred))\n",
    "    print(\"Mean Squared error \\n\",mean_squared_error(y_test,y_pred))\n",
    "    print(\"Root mean Squared error is \\n\",np.sqrt(mean_squared_error(y_test,y_pred)))\n",
    "    print(\"r2 score \" , r2_score(y_test,y_pred))\n",
    "    print(\"**********************************************************************\\n\")"
   ]
  },
  {
   "cell_type": "markdown",
   "metadata": {},
   "source": [
    "As DecisionTreeRegressor is giving 100% score. But very low  r2score. I will continue with RandomForestRegressor with .99 score"
   ]
  },
  {
   "cell_type": "markdown",
   "metadata": {},
   "source": [
    "# hyperparameter tuning"
   ]
  },
  {
   "cell_type": "code",
   "execution_count": 100,
   "metadata": {},
   "outputs": [],
   "source": [
    "# randomForestRegressor is best performing model so finding its best parameter\n",
    "from sklearn.model_selection import GridSearchCV"
   ]
  },
  {
   "cell_type": "code",
   "execution_count": 101,
   "metadata": {},
   "outputs": [],
   "source": [
    "# Create the parameter grid based on the results of random search \n",
    "param_grid = {'bootstrap':[True],'criterion':['mse'] , \n",
    "              'max_features':['auto'],  'bootstrap': [True], 'max_depth': [58, 60, None], 'n_estimators': [10, 11, 12, 13, 15,20,25,29,30],'random_state':[42,0]}"
   ]
  },
  {
   "cell_type": "code",
   "execution_count": 102,
   "metadata": {},
   "outputs": [],
   "source": [
    "rfr = RandomForestRegressor()\n",
    "g_search = GridSearchCV(estimator = rfr, param_grid = param_grid, \n",
    "                          cv = 5, n_jobs = -1)"
   ]
  },
  {
   "cell_type": "code",
   "execution_count": 103,
   "metadata": {},
   "outputs": [
    {
     "name": "stdout",
     "output_type": "stream",
     "text": [
      "{'bootstrap': True, 'criterion': 'mse', 'max_depth': 58, 'max_features': 'auto', 'n_estimators': 29, 'random_state': 0}\n"
     ]
    }
   ],
   "source": [
    "g_search.fit(x_train, y_train);\n",
    "print(g_search.best_params_)"
   ]
  },
  {
   "cell_type": "code",
   "execution_count": 104,
   "metadata": {},
   "outputs": [
    {
     "name": "stdout",
     "output_type": "stream",
     "text": [
      " Score is  0.954607657325165\n",
      "Mean Absolute error   187.57903122221126\n",
      "Mean Squared error \n",
      " 102854.45421307352\n",
      "Root mean Squared error is \n",
      " 320.70929860712414\n",
      "r2 score  0.7125467161587102\n",
      "**********************************************************************\n",
      "\n"
     ]
    }
   ],
   "source": [
    "rf = RandomForestRegressor(bootstrap=True, criterion='mse', max_depth=58,\n",
    "                           max_features='auto', n_estimators= 29, random_state=42)\n",
    "rf = rf.fit(x_train, y_train)\n",
    "print(\" Score is \",rf.score(x_train,y_train))\n",
    "predrf = rf.predict(x_test)\n",
    "print(\"Mean Absolute error  \" , mean_absolute_error(y_test,predrf))\n",
    "print(\"Mean Squared error \\n\",mean_squared_error(y_test,predrf))\n",
    "print(\"Root mean Squared error is \\n\",np.sqrt(mean_squared_error(y_test,predrf)))\n",
    "print(\"r2 score \" , r2_score(y_test,predrf))\n",
    "print(\"**********************************************************************\\n\")"
   ]
  },
  {
   "cell_type": "markdown",
   "metadata": {},
   "source": [
    "# Saving the model- Serialization"
   ]
  },
  {
   "cell_type": "code",
   "execution_count": 105,
   "metadata": {},
   "outputs": [],
   "source": [
    "# saving the prediction model\n",
    "\n",
    "import pickle\n",
    "filename=\"FoodCost.pkl\"\n",
    "pickle.dump(rf,open(filename,'wb'))"
   ]
  },
  {
   "cell_type": "code",
   "execution_count": 106,
   "metadata": {},
   "outputs": [],
   "source": [
    "# load the model\n",
    "fitted_model=pickle.load(open(\"FoodCost.pkl\",'rb'))"
   ]
  },
  {
   "cell_type": "code",
   "execution_count": 107,
   "metadata": {},
   "outputs": [
    {
     "data": {
      "text/plain": [
       "RandomForestRegressor(max_depth=58, n_estimators=29, random_state=42)"
      ]
     },
     "execution_count": 107,
     "metadata": {},
     "output_type": "execute_result"
    }
   ],
   "source": [
    "fitted_model"
   ]
  },
  {
   "cell_type": "code",
   "execution_count": 108,
   "metadata": {},
   "outputs": [],
   "source": [
    "# predictions over test data (foodcost_test.csv)\n",
    "predictions=fitted_model.predict(scaled_df)"
   ]
  },
  {
   "cell_type": "code",
   "execution_count": 109,
   "metadata": {},
   "outputs": [],
   "source": [
    "predictions=predictions.astype(int)"
   ]
  },
  {
   "cell_type": "code",
   "execution_count": 112,
   "metadata": {},
   "outputs": [],
   "source": [
    "ds_pred=pd.DataFrame(data=predictions,columns=['COST'])\n",
    "writer = pd.ExcelWriter('DoctorFee.xlsx', engine='xlsxwriter')\n",
    "ds_pred.to_excel(writer,sheet_name='Sheet1', index=False)\n",
    "writer.save()"
   ]
  },
  {
   "cell_type": "code",
   "execution_count": 113,
   "metadata": {},
   "outputs": [
    {
     "data": {
      "text/html": [
       "<div>\n",
       "<style scoped>\n",
       "    .dataframe tbody tr th:only-of-type {\n",
       "        vertical-align: middle;\n",
       "    }\n",
       "\n",
       "    .dataframe tbody tr th {\n",
       "        vertical-align: top;\n",
       "    }\n",
       "\n",
       "    .dataframe thead th {\n",
       "        text-align: right;\n",
       "    }\n",
       "</style>\n",
       "<table border=\"1\" class=\"dataframe\">\n",
       "  <thead>\n",
       "    <tr style=\"text-align: right;\">\n",
       "      <th></th>\n",
       "      <th>COST</th>\n",
       "    </tr>\n",
       "  </thead>\n",
       "  <tbody>\n",
       "    <tr>\n",
       "      <th>0</th>\n",
       "      <td>284</td>\n",
       "    </tr>\n",
       "    <tr>\n",
       "      <th>1</th>\n",
       "      <td>1198</td>\n",
       "    </tr>\n",
       "    <tr>\n",
       "      <th>2</th>\n",
       "      <td>248</td>\n",
       "    </tr>\n",
       "    <tr>\n",
       "      <th>3</th>\n",
       "      <td>718</td>\n",
       "    </tr>\n",
       "    <tr>\n",
       "      <th>4</th>\n",
       "      <td>1112</td>\n",
       "    </tr>\n",
       "    <tr>\n",
       "      <th>...</th>\n",
       "      <td>...</td>\n",
       "    </tr>\n",
       "    <tr>\n",
       "      <th>4226</th>\n",
       "      <td>343</td>\n",
       "    </tr>\n",
       "    <tr>\n",
       "      <th>4227</th>\n",
       "      <td>665</td>\n",
       "    </tr>\n",
       "    <tr>\n",
       "      <th>4228</th>\n",
       "      <td>1120</td>\n",
       "    </tr>\n",
       "    <tr>\n",
       "      <th>4229</th>\n",
       "      <td>901</td>\n",
       "    </tr>\n",
       "    <tr>\n",
       "      <th>4230</th>\n",
       "      <td>1246</td>\n",
       "    </tr>\n",
       "  </tbody>\n",
       "</table>\n",
       "<p>4231 rows × 1 columns</p>\n",
       "</div>"
      ],
      "text/plain": [
       "      COST\n",
       "0      284\n",
       "1     1198\n",
       "2      248\n",
       "3      718\n",
       "4     1112\n",
       "...    ...\n",
       "4226   343\n",
       "4227   665\n",
       "4228  1120\n",
       "4229   901\n",
       "4230  1246\n",
       "\n",
       "[4231 rows x 1 columns]"
      ]
     },
     "execution_count": 113,
     "metadata": {},
     "output_type": "execute_result"
    }
   ],
   "source": [
    "ds_pred"
   ]
  },
  {
   "cell_type": "code",
   "execution_count": null,
   "metadata": {},
   "outputs": [],
   "source": []
  }
 ],
 "metadata": {
  "kernelspec": {
   "display_name": "Python 3",
   "language": "python",
   "name": "python3"
  },
  "language_info": {
   "codemirror_mode": {
    "name": "ipython",
    "version": 3
   },
   "file_extension": ".py",
   "mimetype": "text/x-python",
   "name": "python",
   "nbconvert_exporter": "python",
   "pygments_lexer": "ipython3",
   "version": "3.8.5"
  }
 },
 "nbformat": 4,
 "nbformat_minor": 4
}
