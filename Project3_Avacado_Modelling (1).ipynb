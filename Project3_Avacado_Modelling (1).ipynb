{
 "cells": [
  {
   "cell_type": "code",
   "execution_count": 1,
   "metadata": {},
   "outputs": [],
   "source": [
    "import pandas as pd\n",
    "import numpy as np\n",
    "import seaborn as sns\n",
    "import matplotlib.pyplot as plt\n",
    "import warnings\n",
    "warnings.simplefilter(\"ignore\")"
   ]
  },
  {
   "cell_type": "code",
   "execution_count": 2,
   "metadata": {},
   "outputs": [
    {
     "data": {
      "text/html": [
       "<div>\n",
       "<style scoped>\n",
       "    .dataframe tbody tr th:only-of-type {\n",
       "        vertical-align: middle;\n",
       "    }\n",
       "\n",
       "    .dataframe tbody tr th {\n",
       "        vertical-align: top;\n",
       "    }\n",
       "\n",
       "    .dataframe thead th {\n",
       "        text-align: right;\n",
       "    }\n",
       "</style>\n",
       "<table border=\"1\" class=\"dataframe\">\n",
       "  <thead>\n",
       "    <tr style=\"text-align: right;\">\n",
       "      <th></th>\n",
       "      <th>Date</th>\n",
       "      <th>AveragePrice</th>\n",
       "      <th>Total Volume</th>\n",
       "      <th>4046</th>\n",
       "      <th>4225</th>\n",
       "      <th>4770</th>\n",
       "      <th>Total Bags</th>\n",
       "      <th>Small Bags</th>\n",
       "      <th>Large Bags</th>\n",
       "      <th>XLarge Bags</th>\n",
       "      <th>type</th>\n",
       "      <th>year</th>\n",
       "      <th>region</th>\n",
       "    </tr>\n",
       "  </thead>\n",
       "  <tbody>\n",
       "    <tr>\n",
       "      <th>0</th>\n",
       "      <td>2015-12-27</td>\n",
       "      <td>1.33</td>\n",
       "      <td>64236.62</td>\n",
       "      <td>1036.74</td>\n",
       "      <td>54454.85</td>\n",
       "      <td>48.16</td>\n",
       "      <td>8696.87</td>\n",
       "      <td>8603.62</td>\n",
       "      <td>93.25</td>\n",
       "      <td>0.0</td>\n",
       "      <td>conventional</td>\n",
       "      <td>2015</td>\n",
       "      <td>Albany</td>\n",
       "    </tr>\n",
       "    <tr>\n",
       "      <th>1</th>\n",
       "      <td>2015-12-20</td>\n",
       "      <td>1.35</td>\n",
       "      <td>54876.98</td>\n",
       "      <td>674.28</td>\n",
       "      <td>44638.81</td>\n",
       "      <td>58.33</td>\n",
       "      <td>9505.56</td>\n",
       "      <td>9408.07</td>\n",
       "      <td>97.49</td>\n",
       "      <td>0.0</td>\n",
       "      <td>conventional</td>\n",
       "      <td>2015</td>\n",
       "      <td>Albany</td>\n",
       "    </tr>\n",
       "    <tr>\n",
       "      <th>2</th>\n",
       "      <td>2015-12-13</td>\n",
       "      <td>0.93</td>\n",
       "      <td>118220.22</td>\n",
       "      <td>794.70</td>\n",
       "      <td>109149.67</td>\n",
       "      <td>130.50</td>\n",
       "      <td>8145.35</td>\n",
       "      <td>8042.21</td>\n",
       "      <td>103.14</td>\n",
       "      <td>0.0</td>\n",
       "      <td>conventional</td>\n",
       "      <td>2015</td>\n",
       "      <td>Albany</td>\n",
       "    </tr>\n",
       "    <tr>\n",
       "      <th>3</th>\n",
       "      <td>2015-12-06</td>\n",
       "      <td>1.08</td>\n",
       "      <td>78992.15</td>\n",
       "      <td>1132.00</td>\n",
       "      <td>71976.41</td>\n",
       "      <td>72.58</td>\n",
       "      <td>5811.16</td>\n",
       "      <td>5677.40</td>\n",
       "      <td>133.76</td>\n",
       "      <td>0.0</td>\n",
       "      <td>conventional</td>\n",
       "      <td>2015</td>\n",
       "      <td>Albany</td>\n",
       "    </tr>\n",
       "    <tr>\n",
       "      <th>4</th>\n",
       "      <td>2015-11-29</td>\n",
       "      <td>1.28</td>\n",
       "      <td>51039.60</td>\n",
       "      <td>941.48</td>\n",
       "      <td>43838.39</td>\n",
       "      <td>75.78</td>\n",
       "      <td>6183.95</td>\n",
       "      <td>5986.26</td>\n",
       "      <td>197.69</td>\n",
       "      <td>0.0</td>\n",
       "      <td>conventional</td>\n",
       "      <td>2015</td>\n",
       "      <td>Albany</td>\n",
       "    </tr>\n",
       "  </tbody>\n",
       "</table>\n",
       "</div>"
      ],
      "text/plain": [
       "         Date  AveragePrice  Total Volume     4046       4225    4770  \\\n",
       "0  2015-12-27          1.33      64236.62  1036.74   54454.85   48.16   \n",
       "1  2015-12-20          1.35      54876.98   674.28   44638.81   58.33   \n",
       "2  2015-12-13          0.93     118220.22   794.70  109149.67  130.50   \n",
       "3  2015-12-06          1.08      78992.15  1132.00   71976.41   72.58   \n",
       "4  2015-11-29          1.28      51039.60   941.48   43838.39   75.78   \n",
       "\n",
       "   Total Bags  Small Bags  Large Bags  XLarge Bags          type  year  region  \n",
       "0     8696.87     8603.62       93.25          0.0  conventional  2015  Albany  \n",
       "1     9505.56     9408.07       97.49          0.0  conventional  2015  Albany  \n",
       "2     8145.35     8042.21      103.14          0.0  conventional  2015  Albany  \n",
       "3     5811.16     5677.40      133.76          0.0  conventional  2015  Albany  \n",
       "4     6183.95     5986.26      197.69          0.0  conventional  2015  Albany  "
      ]
     },
     "execution_count": 2,
     "metadata": {},
     "output_type": "execute_result"
    }
   ],
   "source": [
    "df=pd.read_csv(\"avocado.csv\",sep=',',index_col=0)\n",
    "df.head(5)"
   ]
  },
  {
   "cell_type": "raw",
   "metadata": {},
   "source": [
    "Some relevant columns in the dataset with their names:\n",
    "\n",
    "1. Date - The date of the observation\n",
    "2. AveragePrice - the average price of a single avocado\n",
    "3. type - conventional or organic\n",
    "4. year - the year\n",
    "5. Region - the city or region of the observation\n",
    "6. Total Volume - Total number of avocados sold\n",
    "7. 4046 - Total number of avocados with PLU 4046 sold\n",
    "8. 4225 - Total number of avocados with PLU 4225 sold\n",
    "9. 4770 - Total number of avocados with PLU 4770 sold"
   ]
  },
  {
   "cell_type": "markdown",
   "metadata": {},
   "source": [
    "# EDA"
   ]
  },
  {
   "cell_type": "code",
   "execution_count": 3,
   "metadata": {},
   "outputs": [
    {
     "data": {
      "text/plain": [
       "(18249, 13)"
      ]
     },
     "execution_count": 3,
     "metadata": {},
     "output_type": "execute_result"
    }
   ],
   "source": [
    "df.shape  # checking the rows and cols count"
   ]
  },
  {
   "cell_type": "code",
   "execution_count": 4,
   "metadata": {},
   "outputs": [
    {
     "data": {
      "text/plain": [
       "Index(['Date', 'AveragePrice', 'Total Volume', '4046', '4225', '4770',\n",
       "       'Total Bags', 'Small Bags', 'Large Bags', 'XLarge Bags', 'type', 'year',\n",
       "       'region'],\n",
       "      dtype='object')"
      ]
     },
     "execution_count": 4,
     "metadata": {},
     "output_type": "execute_result"
    }
   ],
   "source": [
    "df.columns # checking the various cols"
   ]
  },
  {
   "cell_type": "code",
   "execution_count": 5,
   "metadata": {},
   "outputs": [
    {
     "data": {
      "text/plain": [
       "Date             object\n",
       "AveragePrice    float64\n",
       "Total Volume    float64\n",
       "4046            float64\n",
       "4225            float64\n",
       "4770            float64\n",
       "Total Bags      float64\n",
       "Small Bags      float64\n",
       "Large Bags      float64\n",
       "XLarge Bags     float64\n",
       "type             object\n",
       "year              int64\n",
       "region           object\n",
       "dtype: object"
      ]
     },
     "execution_count": 5,
     "metadata": {},
     "output_type": "execute_result"
    }
   ],
   "source": [
    "df.dtypes # checking the datatypes of cols"
   ]
  },
  {
   "cell_type": "code",
   "execution_count": 6,
   "metadata": {},
   "outputs": [
    {
     "data": {
      "text/html": [
       "<div>\n",
       "<style scoped>\n",
       "    .dataframe tbody tr th:only-of-type {\n",
       "        vertical-align: middle;\n",
       "    }\n",
       "\n",
       "    .dataframe tbody tr th {\n",
       "        vertical-align: top;\n",
       "    }\n",
       "\n",
       "    .dataframe thead th {\n",
       "        text-align: right;\n",
       "    }\n",
       "</style>\n",
       "<table border=\"1\" class=\"dataframe\">\n",
       "  <thead>\n",
       "    <tr style=\"text-align: right;\">\n",
       "      <th></th>\n",
       "      <th>AveragePrice</th>\n",
       "      <th>Total Volume</th>\n",
       "      <th>4046</th>\n",
       "      <th>4225</th>\n",
       "      <th>4770</th>\n",
       "      <th>Total Bags</th>\n",
       "      <th>Small Bags</th>\n",
       "      <th>Large Bags</th>\n",
       "      <th>XLarge Bags</th>\n",
       "      <th>year</th>\n",
       "    </tr>\n",
       "  </thead>\n",
       "  <tbody>\n",
       "    <tr>\n",
       "      <th>count</th>\n",
       "      <td>18249.000000</td>\n",
       "      <td>1.824900e+04</td>\n",
       "      <td>1.824900e+04</td>\n",
       "      <td>1.824900e+04</td>\n",
       "      <td>1.824900e+04</td>\n",
       "      <td>1.824900e+04</td>\n",
       "      <td>1.824900e+04</td>\n",
       "      <td>1.824900e+04</td>\n",
       "      <td>18249.000000</td>\n",
       "      <td>18249.000000</td>\n",
       "    </tr>\n",
       "    <tr>\n",
       "      <th>mean</th>\n",
       "      <td>1.405978</td>\n",
       "      <td>8.506440e+05</td>\n",
       "      <td>2.930084e+05</td>\n",
       "      <td>2.951546e+05</td>\n",
       "      <td>2.283974e+04</td>\n",
       "      <td>2.396392e+05</td>\n",
       "      <td>1.821947e+05</td>\n",
       "      <td>5.433809e+04</td>\n",
       "      <td>3106.426507</td>\n",
       "      <td>2016.147899</td>\n",
       "    </tr>\n",
       "    <tr>\n",
       "      <th>std</th>\n",
       "      <td>0.402677</td>\n",
       "      <td>3.453545e+06</td>\n",
       "      <td>1.264989e+06</td>\n",
       "      <td>1.204120e+06</td>\n",
       "      <td>1.074641e+05</td>\n",
       "      <td>9.862424e+05</td>\n",
       "      <td>7.461785e+05</td>\n",
       "      <td>2.439660e+05</td>\n",
       "      <td>17692.894652</td>\n",
       "      <td>0.939938</td>\n",
       "    </tr>\n",
       "    <tr>\n",
       "      <th>min</th>\n",
       "      <td>0.440000</td>\n",
       "      <td>8.456000e+01</td>\n",
       "      <td>0.000000e+00</td>\n",
       "      <td>0.000000e+00</td>\n",
       "      <td>0.000000e+00</td>\n",
       "      <td>0.000000e+00</td>\n",
       "      <td>0.000000e+00</td>\n",
       "      <td>0.000000e+00</td>\n",
       "      <td>0.000000</td>\n",
       "      <td>2015.000000</td>\n",
       "    </tr>\n",
       "    <tr>\n",
       "      <th>25%</th>\n",
       "      <td>1.100000</td>\n",
       "      <td>1.083858e+04</td>\n",
       "      <td>8.540700e+02</td>\n",
       "      <td>3.008780e+03</td>\n",
       "      <td>0.000000e+00</td>\n",
       "      <td>5.088640e+03</td>\n",
       "      <td>2.849420e+03</td>\n",
       "      <td>1.274700e+02</td>\n",
       "      <td>0.000000</td>\n",
       "      <td>2015.000000</td>\n",
       "    </tr>\n",
       "    <tr>\n",
       "      <th>50%</th>\n",
       "      <td>1.370000</td>\n",
       "      <td>1.073768e+05</td>\n",
       "      <td>8.645300e+03</td>\n",
       "      <td>2.906102e+04</td>\n",
       "      <td>1.849900e+02</td>\n",
       "      <td>3.974383e+04</td>\n",
       "      <td>2.636282e+04</td>\n",
       "      <td>2.647710e+03</td>\n",
       "      <td>0.000000</td>\n",
       "      <td>2016.000000</td>\n",
       "    </tr>\n",
       "    <tr>\n",
       "      <th>75%</th>\n",
       "      <td>1.660000</td>\n",
       "      <td>4.329623e+05</td>\n",
       "      <td>1.110202e+05</td>\n",
       "      <td>1.502069e+05</td>\n",
       "      <td>6.243420e+03</td>\n",
       "      <td>1.107834e+05</td>\n",
       "      <td>8.333767e+04</td>\n",
       "      <td>2.202925e+04</td>\n",
       "      <td>132.500000</td>\n",
       "      <td>2017.000000</td>\n",
       "    </tr>\n",
       "    <tr>\n",
       "      <th>max</th>\n",
       "      <td>3.250000</td>\n",
       "      <td>6.250565e+07</td>\n",
       "      <td>2.274362e+07</td>\n",
       "      <td>2.047057e+07</td>\n",
       "      <td>2.546439e+06</td>\n",
       "      <td>1.937313e+07</td>\n",
       "      <td>1.338459e+07</td>\n",
       "      <td>5.719097e+06</td>\n",
       "      <td>551693.650000</td>\n",
       "      <td>2018.000000</td>\n",
       "    </tr>\n",
       "  </tbody>\n",
       "</table>\n",
       "</div>"
      ],
      "text/plain": [
       "       AveragePrice  Total Volume          4046          4225          4770  \\\n",
       "count  18249.000000  1.824900e+04  1.824900e+04  1.824900e+04  1.824900e+04   \n",
       "mean       1.405978  8.506440e+05  2.930084e+05  2.951546e+05  2.283974e+04   \n",
       "std        0.402677  3.453545e+06  1.264989e+06  1.204120e+06  1.074641e+05   \n",
       "min        0.440000  8.456000e+01  0.000000e+00  0.000000e+00  0.000000e+00   \n",
       "25%        1.100000  1.083858e+04  8.540700e+02  3.008780e+03  0.000000e+00   \n",
       "50%        1.370000  1.073768e+05  8.645300e+03  2.906102e+04  1.849900e+02   \n",
       "75%        1.660000  4.329623e+05  1.110202e+05  1.502069e+05  6.243420e+03   \n",
       "max        3.250000  6.250565e+07  2.274362e+07  2.047057e+07  2.546439e+06   \n",
       "\n",
       "         Total Bags    Small Bags    Large Bags    XLarge Bags          year  \n",
       "count  1.824900e+04  1.824900e+04  1.824900e+04   18249.000000  18249.000000  \n",
       "mean   2.396392e+05  1.821947e+05  5.433809e+04    3106.426507   2016.147899  \n",
       "std    9.862424e+05  7.461785e+05  2.439660e+05   17692.894652      0.939938  \n",
       "min    0.000000e+00  0.000000e+00  0.000000e+00       0.000000   2015.000000  \n",
       "25%    5.088640e+03  2.849420e+03  1.274700e+02       0.000000   2015.000000  \n",
       "50%    3.974383e+04  2.636282e+04  2.647710e+03       0.000000   2016.000000  \n",
       "75%    1.107834e+05  8.333767e+04  2.202925e+04     132.500000   2017.000000  \n",
       "max    1.937313e+07  1.338459e+07  5.719097e+06  551693.650000   2018.000000  "
      ]
     },
     "execution_count": 6,
     "metadata": {},
     "output_type": "execute_result"
    }
   ],
   "source": [
    "df.describe()"
   ]
  },
  {
   "cell_type": "markdown",
   "metadata": {},
   "source": [
    "Key Observations here\n",
    "\n",
    "1. Mean and median in columns totalvolume, 4046,large bags,Xlarge bags are very far.\n",
    "2.  also , there is huge difference in 75% and max values. \n",
    "Outliers are present"
   ]
  },
  {
   "cell_type": "code",
   "execution_count": 7,
   "metadata": {},
   "outputs": [
    {
     "name": "stdout",
     "output_type": "stream",
     "text": [
      "<class 'pandas.core.frame.DataFrame'>\n",
      "Int64Index: 18249 entries, 0 to 11\n",
      "Data columns (total 13 columns):\n",
      " #   Column        Non-Null Count  Dtype  \n",
      "---  ------        --------------  -----  \n",
      " 0   Date          18249 non-null  object \n",
      " 1   AveragePrice  18249 non-null  float64\n",
      " 2   Total Volume  18249 non-null  float64\n",
      " 3   4046          18249 non-null  float64\n",
      " 4   4225          18249 non-null  float64\n",
      " 5   4770          18249 non-null  float64\n",
      " 6   Total Bags    18249 non-null  float64\n",
      " 7   Small Bags    18249 non-null  float64\n",
      " 8   Large Bags    18249 non-null  float64\n",
      " 9   XLarge Bags   18249 non-null  float64\n",
      " 10  type          18249 non-null  object \n",
      " 11  year          18249 non-null  int64  \n",
      " 12  region        18249 non-null  object \n",
      "dtypes: float64(9), int64(1), object(3)\n",
      "memory usage: 1.9+ MB\n"
     ]
    }
   ],
   "source": [
    "# checking the information about the not-null, datatypes, rows and cols count of the dataset\n",
    "df.info()"
   ]
  },
  {
   "cell_type": "code",
   "execution_count": 8,
   "metadata": {},
   "outputs": [
    {
     "data": {
      "text/html": [
       "<div>\n",
       "<style scoped>\n",
       "    .dataframe tbody tr th:only-of-type {\n",
       "        vertical-align: middle;\n",
       "    }\n",
       "\n",
       "    .dataframe tbody tr th {\n",
       "        vertical-align: top;\n",
       "    }\n",
       "\n",
       "    .dataframe thead th {\n",
       "        text-align: right;\n",
       "    }\n",
       "</style>\n",
       "<table border=\"1\" class=\"dataframe\">\n",
       "  <thead>\n",
       "    <tr style=\"text-align: right;\">\n",
       "      <th></th>\n",
       "      <th>Date</th>\n",
       "      <th>AveragePrice</th>\n",
       "      <th>Total Volume</th>\n",
       "      <th>4046</th>\n",
       "      <th>4225</th>\n",
       "      <th>4770</th>\n",
       "      <th>Total Bags</th>\n",
       "      <th>Small Bags</th>\n",
       "      <th>Large Bags</th>\n",
       "      <th>XLarge Bags</th>\n",
       "      <th>type</th>\n",
       "      <th>year</th>\n",
       "      <th>region</th>\n",
       "    </tr>\n",
       "  </thead>\n",
       "  <tbody>\n",
       "    <tr>\n",
       "      <th>0</th>\n",
       "      <td>False</td>\n",
       "      <td>False</td>\n",
       "      <td>False</td>\n",
       "      <td>False</td>\n",
       "      <td>False</td>\n",
       "      <td>False</td>\n",
       "      <td>False</td>\n",
       "      <td>False</td>\n",
       "      <td>False</td>\n",
       "      <td>False</td>\n",
       "      <td>False</td>\n",
       "      <td>False</td>\n",
       "      <td>False</td>\n",
       "    </tr>\n",
       "    <tr>\n",
       "      <th>1</th>\n",
       "      <td>False</td>\n",
       "      <td>False</td>\n",
       "      <td>False</td>\n",
       "      <td>False</td>\n",
       "      <td>False</td>\n",
       "      <td>False</td>\n",
       "      <td>False</td>\n",
       "      <td>False</td>\n",
       "      <td>False</td>\n",
       "      <td>False</td>\n",
       "      <td>False</td>\n",
       "      <td>False</td>\n",
       "      <td>False</td>\n",
       "    </tr>\n",
       "    <tr>\n",
       "      <th>2</th>\n",
       "      <td>False</td>\n",
       "      <td>False</td>\n",
       "      <td>False</td>\n",
       "      <td>False</td>\n",
       "      <td>False</td>\n",
       "      <td>False</td>\n",
       "      <td>False</td>\n",
       "      <td>False</td>\n",
       "      <td>False</td>\n",
       "      <td>False</td>\n",
       "      <td>False</td>\n",
       "      <td>False</td>\n",
       "      <td>False</td>\n",
       "    </tr>\n",
       "    <tr>\n",
       "      <th>3</th>\n",
       "      <td>False</td>\n",
       "      <td>False</td>\n",
       "      <td>False</td>\n",
       "      <td>False</td>\n",
       "      <td>False</td>\n",
       "      <td>False</td>\n",
       "      <td>False</td>\n",
       "      <td>False</td>\n",
       "      <td>False</td>\n",
       "      <td>False</td>\n",
       "      <td>False</td>\n",
       "      <td>False</td>\n",
       "      <td>False</td>\n",
       "    </tr>\n",
       "    <tr>\n",
       "      <th>4</th>\n",
       "      <td>False</td>\n",
       "      <td>False</td>\n",
       "      <td>False</td>\n",
       "      <td>False</td>\n",
       "      <td>False</td>\n",
       "      <td>False</td>\n",
       "      <td>False</td>\n",
       "      <td>False</td>\n",
       "      <td>False</td>\n",
       "      <td>False</td>\n",
       "      <td>False</td>\n",
       "      <td>False</td>\n",
       "      <td>False</td>\n",
       "    </tr>\n",
       "    <tr>\n",
       "      <th>...</th>\n",
       "      <td>...</td>\n",
       "      <td>...</td>\n",
       "      <td>...</td>\n",
       "      <td>...</td>\n",
       "      <td>...</td>\n",
       "      <td>...</td>\n",
       "      <td>...</td>\n",
       "      <td>...</td>\n",
       "      <td>...</td>\n",
       "      <td>...</td>\n",
       "      <td>...</td>\n",
       "      <td>...</td>\n",
       "      <td>...</td>\n",
       "    </tr>\n",
       "    <tr>\n",
       "      <th>7</th>\n",
       "      <td>False</td>\n",
       "      <td>False</td>\n",
       "      <td>False</td>\n",
       "      <td>False</td>\n",
       "      <td>False</td>\n",
       "      <td>False</td>\n",
       "      <td>False</td>\n",
       "      <td>False</td>\n",
       "      <td>False</td>\n",
       "      <td>False</td>\n",
       "      <td>False</td>\n",
       "      <td>False</td>\n",
       "      <td>False</td>\n",
       "    </tr>\n",
       "    <tr>\n",
       "      <th>8</th>\n",
       "      <td>False</td>\n",
       "      <td>False</td>\n",
       "      <td>False</td>\n",
       "      <td>False</td>\n",
       "      <td>False</td>\n",
       "      <td>False</td>\n",
       "      <td>False</td>\n",
       "      <td>False</td>\n",
       "      <td>False</td>\n",
       "      <td>False</td>\n",
       "      <td>False</td>\n",
       "      <td>False</td>\n",
       "      <td>False</td>\n",
       "    </tr>\n",
       "    <tr>\n",
       "      <th>9</th>\n",
       "      <td>False</td>\n",
       "      <td>False</td>\n",
       "      <td>False</td>\n",
       "      <td>False</td>\n",
       "      <td>False</td>\n",
       "      <td>False</td>\n",
       "      <td>False</td>\n",
       "      <td>False</td>\n",
       "      <td>False</td>\n",
       "      <td>False</td>\n",
       "      <td>False</td>\n",
       "      <td>False</td>\n",
       "      <td>False</td>\n",
       "    </tr>\n",
       "    <tr>\n",
       "      <th>10</th>\n",
       "      <td>False</td>\n",
       "      <td>False</td>\n",
       "      <td>False</td>\n",
       "      <td>False</td>\n",
       "      <td>False</td>\n",
       "      <td>False</td>\n",
       "      <td>False</td>\n",
       "      <td>False</td>\n",
       "      <td>False</td>\n",
       "      <td>False</td>\n",
       "      <td>False</td>\n",
       "      <td>False</td>\n",
       "      <td>False</td>\n",
       "    </tr>\n",
       "    <tr>\n",
       "      <th>11</th>\n",
       "      <td>False</td>\n",
       "      <td>False</td>\n",
       "      <td>False</td>\n",
       "      <td>False</td>\n",
       "      <td>False</td>\n",
       "      <td>False</td>\n",
       "      <td>False</td>\n",
       "      <td>False</td>\n",
       "      <td>False</td>\n",
       "      <td>False</td>\n",
       "      <td>False</td>\n",
       "      <td>False</td>\n",
       "      <td>False</td>\n",
       "    </tr>\n",
       "  </tbody>\n",
       "</table>\n",
       "<p>18249 rows × 13 columns</p>\n",
       "</div>"
      ],
      "text/plain": [
       "     Date  AveragePrice  Total Volume   4046   4225   4770  Total Bags  \\\n",
       "0   False         False         False  False  False  False       False   \n",
       "1   False         False         False  False  False  False       False   \n",
       "2   False         False         False  False  False  False       False   \n",
       "3   False         False         False  False  False  False       False   \n",
       "4   False         False         False  False  False  False       False   \n",
       "..    ...           ...           ...    ...    ...    ...         ...   \n",
       "7   False         False         False  False  False  False       False   \n",
       "8   False         False         False  False  False  False       False   \n",
       "9   False         False         False  False  False  False       False   \n",
       "10  False         False         False  False  False  False       False   \n",
       "11  False         False         False  False  False  False       False   \n",
       "\n",
       "    Small Bags  Large Bags  XLarge Bags   type   year  region  \n",
       "0        False       False        False  False  False   False  \n",
       "1        False       False        False  False  False   False  \n",
       "2        False       False        False  False  False   False  \n",
       "3        False       False        False  False  False   False  \n",
       "4        False       False        False  False  False   False  \n",
       "..         ...         ...          ...    ...    ...     ...  \n",
       "7        False       False        False  False  False   False  \n",
       "8        False       False        False  False  False   False  \n",
       "9        False       False        False  False  False   False  \n",
       "10       False       False        False  False  False   False  \n",
       "11       False       False        False  False  False   False  \n",
       "\n",
       "[18249 rows x 13 columns]"
      ]
     },
     "execution_count": 8,
     "metadata": {},
     "output_type": "execute_result"
    }
   ],
   "source": [
    "df.isnull() # checking for any null values"
   ]
  },
  {
   "cell_type": "code",
   "execution_count": 9,
   "metadata": {},
   "outputs": [
    {
     "data": {
      "text/plain": [
       "Date            0\n",
       "AveragePrice    0\n",
       "Total Volume    0\n",
       "4046            0\n",
       "4225            0\n",
       "4770            0\n",
       "Total Bags      0\n",
       "Small Bags      0\n",
       "Large Bags      0\n",
       "XLarge Bags     0\n",
       "type            0\n",
       "year            0\n",
       "region          0\n",
       "dtype: int64"
      ]
     },
     "execution_count": 9,
     "metadata": {},
     "output_type": "execute_result"
    }
   ],
   "source": [
    "df.isnull().sum() # null  values column wise counts"
   ]
  },
  {
   "cell_type": "code",
   "execution_count": 10,
   "metadata": {
    "scrolled": true
   },
   "outputs": [
    {
     "data": {
      "text/plain": [
       "<AxesSubplot:>"
      ]
     },
     "execution_count": 10,
     "metadata": {},
     "output_type": "execute_result"
    },
    {
     "data": {
      "image/png": "[encoded data removed]",
      "text/plain": [
       "<Figure size 432x288 with 2 Axes>"
      ]
     },
     "metadata": {
      "needs_background": "light"
     },
     "output_type": "display_data"
    }
   ],
   "source": [
    "sns.heatmap(df.isnull())"
   ]
  },
  {
   "cell_type": "markdown",
   "metadata": {},
   "source": [
    "heatmap shows there are no null values in the data"
   ]
  },
  {
   "cell_type": "code",
   "execution_count": 11,
   "metadata": {},
   "outputs": [
    {
     "data": {
      "text/html": [
       "<div>\n",
       "<style scoped>\n",
       "    .dataframe tbody tr th:only-of-type {\n",
       "        vertical-align: middle;\n",
       "    }\n",
       "\n",
       "    .dataframe tbody tr th {\n",
       "        vertical-align: top;\n",
       "    }\n",
       "\n",
       "    .dataframe thead th {\n",
       "        text-align: right;\n",
       "    }\n",
       "</style>\n",
       "<table border=\"1\" class=\"dataframe\">\n",
       "  <thead>\n",
       "    <tr style=\"text-align: right;\">\n",
       "      <th></th>\n",
       "      <th>Date</th>\n",
       "      <th>AveragePrice</th>\n",
       "      <th>Total Volume</th>\n",
       "      <th>4046</th>\n",
       "      <th>4225</th>\n",
       "      <th>4770</th>\n",
       "      <th>Total Bags</th>\n",
       "      <th>Small Bags</th>\n",
       "      <th>Large Bags</th>\n",
       "      <th>XLarge Bags</th>\n",
       "      <th>type</th>\n",
       "      <th>year</th>\n",
       "      <th>region</th>\n",
       "    </tr>\n",
       "  </thead>\n",
       "  <tbody>\n",
       "    <tr>\n",
       "      <th>0</th>\n",
       "      <td>2015-12-27</td>\n",
       "      <td>1.33</td>\n",
       "      <td>64236.62</td>\n",
       "      <td>1036.74</td>\n",
       "      <td>54454.85</td>\n",
       "      <td>48.16</td>\n",
       "      <td>8696.87</td>\n",
       "      <td>8603.62</td>\n",
       "      <td>93.25</td>\n",
       "      <td>0.0</td>\n",
       "      <td>conventional</td>\n",
       "      <td>2015</td>\n",
       "      <td>Albany</td>\n",
       "    </tr>\n",
       "    <tr>\n",
       "      <th>1</th>\n",
       "      <td>2015-12-20</td>\n",
       "      <td>1.35</td>\n",
       "      <td>54876.98</td>\n",
       "      <td>674.28</td>\n",
       "      <td>44638.81</td>\n",
       "      <td>58.33</td>\n",
       "      <td>9505.56</td>\n",
       "      <td>9408.07</td>\n",
       "      <td>97.49</td>\n",
       "      <td>0.0</td>\n",
       "      <td>conventional</td>\n",
       "      <td>2015</td>\n",
       "      <td>Albany</td>\n",
       "    </tr>\n",
       "    <tr>\n",
       "      <th>2</th>\n",
       "      <td>2015-12-13</td>\n",
       "      <td>0.93</td>\n",
       "      <td>118220.22</td>\n",
       "      <td>794.70</td>\n",
       "      <td>109149.67</td>\n",
       "      <td>130.50</td>\n",
       "      <td>8145.35</td>\n",
       "      <td>8042.21</td>\n",
       "      <td>103.14</td>\n",
       "      <td>0.0</td>\n",
       "      <td>conventional</td>\n",
       "      <td>2015</td>\n",
       "      <td>Albany</td>\n",
       "    </tr>\n",
       "    <tr>\n",
       "      <th>3</th>\n",
       "      <td>2015-12-06</td>\n",
       "      <td>1.08</td>\n",
       "      <td>78992.15</td>\n",
       "      <td>1132.00</td>\n",
       "      <td>71976.41</td>\n",
       "      <td>72.58</td>\n",
       "      <td>5811.16</td>\n",
       "      <td>5677.40</td>\n",
       "      <td>133.76</td>\n",
       "      <td>0.0</td>\n",
       "      <td>conventional</td>\n",
       "      <td>2015</td>\n",
       "      <td>Albany</td>\n",
       "    </tr>\n",
       "    <tr>\n",
       "      <th>4</th>\n",
       "      <td>2015-11-29</td>\n",
       "      <td>1.28</td>\n",
       "      <td>51039.60</td>\n",
       "      <td>941.48</td>\n",
       "      <td>43838.39</td>\n",
       "      <td>75.78</td>\n",
       "      <td>6183.95</td>\n",
       "      <td>5986.26</td>\n",
       "      <td>197.69</td>\n",
       "      <td>0.0</td>\n",
       "      <td>conventional</td>\n",
       "      <td>2015</td>\n",
       "      <td>Albany</td>\n",
       "    </tr>\n",
       "  </tbody>\n",
       "</table>\n",
       "</div>"
      ],
      "text/plain": [
       "         Date  AveragePrice  Total Volume     4046       4225    4770  \\\n",
       "0  2015-12-27          1.33      64236.62  1036.74   54454.85   48.16   \n",
       "1  2015-12-20          1.35      54876.98   674.28   44638.81   58.33   \n",
       "2  2015-12-13          0.93     118220.22   794.70  109149.67  130.50   \n",
       "3  2015-12-06          1.08      78992.15  1132.00   71976.41   72.58   \n",
       "4  2015-11-29          1.28      51039.60   941.48   43838.39   75.78   \n",
       "\n",
       "   Total Bags  Small Bags  Large Bags  XLarge Bags          type  year  region  \n",
       "0     8696.87     8603.62       93.25          0.0  conventional  2015  Albany  \n",
       "1     9505.56     9408.07       97.49          0.0  conventional  2015  Albany  \n",
       "2     8145.35     8042.21      103.14          0.0  conventional  2015  Albany  \n",
       "3     5811.16     5677.40      133.76          0.0  conventional  2015  Albany  \n",
       "4     6183.95     5986.26      197.69          0.0  conventional  2015  Albany  "
      ]
     },
     "execution_count": 11,
     "metadata": {},
     "output_type": "execute_result"
    }
   ],
   "source": [
    "df.head(5)"
   ]
  },
  {
   "cell_type": "code",
   "execution_count": 12,
   "metadata": {},
   "outputs": [
    {
     "data": {
      "text/plain": [
       "array(['Albany', 'Atlanta', 'BaltimoreWashington', 'Boise', 'Boston',\n",
       "       'BuffaloRochester', 'California', 'Charlotte', 'Chicago',\n",
       "       'CincinnatiDayton', 'Columbus', 'DallasFtWorth', 'Denver',\n",
       "       'Detroit', 'GrandRapids', 'GreatLakes', 'HarrisburgScranton',\n",
       "       'HartfordSpringfield', 'Houston', 'Indianapolis', 'Jacksonville',\n",
       "       'LasVegas', 'LosAngeles', 'Louisville', 'MiamiFtLauderdale',\n",
       "       'Midsouth', 'Nashville', 'NewOrleansMobile', 'NewYork',\n",
       "       'Northeast', 'NorthernNewEngland', 'Orlando', 'Philadelphia',\n",
       "       'PhoenixTucson', 'Pittsburgh', 'Plains', 'Portland',\n",
       "       'RaleighGreensboro', 'RichmondNorfolk', 'Roanoke', 'Sacramento',\n",
       "       'SanDiego', 'SanFrancisco', 'Seattle', 'SouthCarolina',\n",
       "       'SouthCentral', 'Southeast', 'Spokane', 'StLouis', 'Syracuse',\n",
       "       'Tampa', 'TotalUS', 'West', 'WestTexNewMexico'], dtype=object)"
      ]
     },
     "execution_count": 12,
     "metadata": {},
     "output_type": "execute_result"
    }
   ],
   "source": [
    "df[\"region\"].unique()"
   ]
  },
  {
   "cell_type": "code",
   "execution_count": 13,
   "metadata": {},
   "outputs": [
    {
     "data": {
      "text/plain": [
       "BuffaloRochester       338\n",
       "GrandRapids            338\n",
       "BaltimoreWashington    338\n",
       "Atlanta                338\n",
       "Southeast              338\n",
       "Boston                 338\n",
       "Tampa                  338\n",
       "Albany                 338\n",
       "Portland               338\n",
       "Seattle                338\n",
       "HarrisburgScranton     338\n",
       "StLouis                338\n",
       "Columbus               338\n",
       "SouthCarolina          338\n",
       "NorthernNewEngland     338\n",
       "NewOrleansMobile       338\n",
       "Spokane                338\n",
       "Pittsburgh             338\n",
       "Syracuse               338\n",
       "Denver                 338\n",
       "California             338\n",
       "GreatLakes             338\n",
       "DallasFtWorth          338\n",
       "NewYork                338\n",
       "Indianapolis           338\n",
       "Charlotte              338\n",
       "LasVegas               338\n",
       "Plains                 338\n",
       "RichmondNorfolk        338\n",
       "Roanoke                338\n",
       "Sacramento             338\n",
       "Orlando                338\n",
       "Houston                338\n",
       "SouthCentral           338\n",
       "SanDiego               338\n",
       "LosAngeles             338\n",
       "PhoenixTucson          338\n",
       "Midsouth               338\n",
       "Chicago                338\n",
       "TotalUS                338\n",
       "SanFrancisco           338\n",
       "West                   338\n",
       "Nashville              338\n",
       "Louisville             338\n",
       "Jacksonville           338\n",
       "Northeast              338\n",
       "CincinnatiDayton       338\n",
       "Detroit                338\n",
       "Philadelphia           338\n",
       "RaleighGreensboro      338\n",
       "HartfordSpringfield    338\n",
       "Boise                  338\n",
       "MiamiFtLauderdale      338\n",
       "WestTexNewMexico       335\n",
       "Name: region, dtype: int64"
      ]
     },
     "execution_count": 13,
     "metadata": {},
     "output_type": "execute_result"
    }
   ],
   "source": [
    "df[\"region\"].value_counts()"
   ]
  },
  {
   "cell_type": "markdown",
   "metadata": {},
   "source": [
    "# REMOVING some irrelevant variables in respect to target variable REGION for CLASSIFICATION and target variable AVERAGE PRICE for REGRESSION\n",
    "\n",
    "1. date , 4 variables of bag size i.e totalbags,largebags,xlargebags,smallbags\n",
    "2.  because these values will not affect the region and Av. price. as total no. of avacados sold with their PLU are stored in diff variables. so dropping them"
   ]
  },
  {
   "cell_type": "code",
   "execution_count": 14,
   "metadata": {},
   "outputs": [
    {
     "data": {
      "text/html": [
       "<div>\n",
       "<style scoped>\n",
       "    .dataframe tbody tr th:only-of-type {\n",
       "        vertical-align: middle;\n",
       "    }\n",
       "\n",
       "    .dataframe tbody tr th {\n",
       "        vertical-align: top;\n",
       "    }\n",
       "\n",
       "    .dataframe thead th {\n",
       "        text-align: right;\n",
       "    }\n",
       "</style>\n",
       "<table border=\"1\" class=\"dataframe\">\n",
       "  <thead>\n",
       "    <tr style=\"text-align: right;\">\n",
       "      <th></th>\n",
       "      <th>AveragePrice</th>\n",
       "      <th>Total Volume</th>\n",
       "      <th>4046</th>\n",
       "      <th>4225</th>\n",
       "      <th>4770</th>\n",
       "      <th>type</th>\n",
       "      <th>year</th>\n",
       "      <th>region</th>\n",
       "    </tr>\n",
       "  </thead>\n",
       "  <tbody>\n",
       "    <tr>\n",
       "      <th>0</th>\n",
       "      <td>1.33</td>\n",
       "      <td>64236.62</td>\n",
       "      <td>1036.74</td>\n",
       "      <td>54454.85</td>\n",
       "      <td>48.16</td>\n",
       "      <td>conventional</td>\n",
       "      <td>2015</td>\n",
       "      <td>Albany</td>\n",
       "    </tr>\n",
       "    <tr>\n",
       "      <th>1</th>\n",
       "      <td>1.35</td>\n",
       "      <td>54876.98</td>\n",
       "      <td>674.28</td>\n",
       "      <td>44638.81</td>\n",
       "      <td>58.33</td>\n",
       "      <td>conventional</td>\n",
       "      <td>2015</td>\n",
       "      <td>Albany</td>\n",
       "    </tr>\n",
       "    <tr>\n",
       "      <th>2</th>\n",
       "      <td>0.93</td>\n",
       "      <td>118220.22</td>\n",
       "      <td>794.70</td>\n",
       "      <td>109149.67</td>\n",
       "      <td>130.50</td>\n",
       "      <td>conventional</td>\n",
       "      <td>2015</td>\n",
       "      <td>Albany</td>\n",
       "    </tr>\n",
       "    <tr>\n",
       "      <th>3</th>\n",
       "      <td>1.08</td>\n",
       "      <td>78992.15</td>\n",
       "      <td>1132.00</td>\n",
       "      <td>71976.41</td>\n",
       "      <td>72.58</td>\n",
       "      <td>conventional</td>\n",
       "      <td>2015</td>\n",
       "      <td>Albany</td>\n",
       "    </tr>\n",
       "    <tr>\n",
       "      <th>4</th>\n",
       "      <td>1.28</td>\n",
       "      <td>51039.60</td>\n",
       "      <td>941.48</td>\n",
       "      <td>43838.39</td>\n",
       "      <td>75.78</td>\n",
       "      <td>conventional</td>\n",
       "      <td>2015</td>\n",
       "      <td>Albany</td>\n",
       "    </tr>\n",
       "    <tr>\n",
       "      <th>...</th>\n",
       "      <td>...</td>\n",
       "      <td>...</td>\n",
       "      <td>...</td>\n",
       "      <td>...</td>\n",
       "      <td>...</td>\n",
       "      <td>...</td>\n",
       "      <td>...</td>\n",
       "      <td>...</td>\n",
       "    </tr>\n",
       "    <tr>\n",
       "      <th>7</th>\n",
       "      <td>1.63</td>\n",
       "      <td>17074.83</td>\n",
       "      <td>2046.96</td>\n",
       "      <td>1529.20</td>\n",
       "      <td>0.00</td>\n",
       "      <td>organic</td>\n",
       "      <td>2018</td>\n",
       "      <td>WestTexNewMexico</td>\n",
       "    </tr>\n",
       "    <tr>\n",
       "      <th>8</th>\n",
       "      <td>1.71</td>\n",
       "      <td>13888.04</td>\n",
       "      <td>1191.70</td>\n",
       "      <td>3431.50</td>\n",
       "      <td>0.00</td>\n",
       "      <td>organic</td>\n",
       "      <td>2018</td>\n",
       "      <td>WestTexNewMexico</td>\n",
       "    </tr>\n",
       "    <tr>\n",
       "      <th>9</th>\n",
       "      <td>1.87</td>\n",
       "      <td>13766.76</td>\n",
       "      <td>1191.92</td>\n",
       "      <td>2452.79</td>\n",
       "      <td>727.94</td>\n",
       "      <td>organic</td>\n",
       "      <td>2018</td>\n",
       "      <td>WestTexNewMexico</td>\n",
       "    </tr>\n",
       "    <tr>\n",
       "      <th>10</th>\n",
       "      <td>1.93</td>\n",
       "      <td>16205.22</td>\n",
       "      <td>1527.63</td>\n",
       "      <td>2981.04</td>\n",
       "      <td>727.01</td>\n",
       "      <td>organic</td>\n",
       "      <td>2018</td>\n",
       "      <td>WestTexNewMexico</td>\n",
       "    </tr>\n",
       "    <tr>\n",
       "      <th>11</th>\n",
       "      <td>1.62</td>\n",
       "      <td>17489.58</td>\n",
       "      <td>2894.77</td>\n",
       "      <td>2356.13</td>\n",
       "      <td>224.53</td>\n",
       "      <td>organic</td>\n",
       "      <td>2018</td>\n",
       "      <td>WestTexNewMexico</td>\n",
       "    </tr>\n",
       "  </tbody>\n",
       "</table>\n",
       "<p>18249 rows × 8 columns</p>\n",
       "</div>"
      ],
      "text/plain": [
       "    AveragePrice  Total Volume     4046       4225    4770          type  \\\n",
       "0           1.33      64236.62  1036.74   54454.85   48.16  conventional   \n",
       "1           1.35      54876.98   674.28   44638.81   58.33  conventional   \n",
       "2           0.93     118220.22   794.70  109149.67  130.50  conventional   \n",
       "3           1.08      78992.15  1132.00   71976.41   72.58  conventional   \n",
       "4           1.28      51039.60   941.48   43838.39   75.78  conventional   \n",
       "..           ...           ...      ...        ...     ...           ...   \n",
       "7           1.63      17074.83  2046.96    1529.20    0.00       organic   \n",
       "8           1.71      13888.04  1191.70    3431.50    0.00       organic   \n",
       "9           1.87      13766.76  1191.92    2452.79  727.94       organic   \n",
       "10          1.93      16205.22  1527.63    2981.04  727.01       organic   \n",
       "11          1.62      17489.58  2894.77    2356.13  224.53       organic   \n",
       "\n",
       "    year            region  \n",
       "0   2015            Albany  \n",
       "1   2015            Albany  \n",
       "2   2015            Albany  \n",
       "3   2015            Albany  \n",
       "4   2015            Albany  \n",
       "..   ...               ...  \n",
       "7   2018  WestTexNewMexico  \n",
       "8   2018  WestTexNewMexico  \n",
       "9   2018  WestTexNewMexico  \n",
       "10  2018  WestTexNewMexico  \n",
       "11  2018  WestTexNewMexico  \n",
       "\n",
       "[18249 rows x 8 columns]"
      ]
     },
     "execution_count": 14,
     "metadata": {},
     "output_type": "execute_result"
    }
   ],
   "source": [
    "df.drop([\"Date\",\"Total Bags\",\"Small Bags\",\"Large Bags\",\"XLarge Bags\"],axis=1,inplace=True)\n",
    "df"
   ]
  },
  {
   "cell_type": "markdown",
   "metadata": {},
   "source": [
    "# transforming nominal values to numerical so as to get the better bivariate analysis and correlation between variables.\n",
    "\n",
    "#transforming the categorical variables to numerical for data modelling using LabelEncoder\n",
    "\n"
   ]
  },
  {
   "cell_type": "code",
   "execution_count": 15,
   "metadata": {},
   "outputs": [],
   "source": [
    "from sklearn.preprocessing import LabelEncoder"
   ]
  },
  {
   "cell_type": "code",
   "execution_count": 16,
   "metadata": {},
   "outputs": [
    {
     "data": {
      "text/html": [
       "<div>\n",
       "<style scoped>\n",
       "    .dataframe tbody tr th:only-of-type {\n",
       "        vertical-align: middle;\n",
       "    }\n",
       "\n",
       "    .dataframe tbody tr th {\n",
       "        vertical-align: top;\n",
       "    }\n",
       "\n",
       "    .dataframe thead th {\n",
       "        text-align: right;\n",
       "    }\n",
       "</style>\n",
       "<table border=\"1\" class=\"dataframe\">\n",
       "  <thead>\n",
       "    <tr style=\"text-align: right;\">\n",
       "      <th></th>\n",
       "      <th>AveragePrice</th>\n",
       "      <th>Total Volume</th>\n",
       "      <th>4046</th>\n",
       "      <th>4225</th>\n",
       "      <th>4770</th>\n",
       "      <th>type</th>\n",
       "      <th>year</th>\n",
       "      <th>region</th>\n",
       "    </tr>\n",
       "  </thead>\n",
       "  <tbody>\n",
       "    <tr>\n",
       "      <th>0</th>\n",
       "      <td>1.33</td>\n",
       "      <td>64236.62</td>\n",
       "      <td>1036.74</td>\n",
       "      <td>54454.85</td>\n",
       "      <td>48.16</td>\n",
       "      <td>0</td>\n",
       "      <td>0</td>\n",
       "      <td>0</td>\n",
       "    </tr>\n",
       "    <tr>\n",
       "      <th>1</th>\n",
       "      <td>1.35</td>\n",
       "      <td>54876.98</td>\n",
       "      <td>674.28</td>\n",
       "      <td>44638.81</td>\n",
       "      <td>58.33</td>\n",
       "      <td>0</td>\n",
       "      <td>0</td>\n",
       "      <td>0</td>\n",
       "    </tr>\n",
       "    <tr>\n",
       "      <th>2</th>\n",
       "      <td>0.93</td>\n",
       "      <td>118220.22</td>\n",
       "      <td>794.70</td>\n",
       "      <td>109149.67</td>\n",
       "      <td>130.50</td>\n",
       "      <td>0</td>\n",
       "      <td>0</td>\n",
       "      <td>0</td>\n",
       "    </tr>\n",
       "    <tr>\n",
       "      <th>3</th>\n",
       "      <td>1.08</td>\n",
       "      <td>78992.15</td>\n",
       "      <td>1132.00</td>\n",
       "      <td>71976.41</td>\n",
       "      <td>72.58</td>\n",
       "      <td>0</td>\n",
       "      <td>0</td>\n",
       "      <td>0</td>\n",
       "    </tr>\n",
       "    <tr>\n",
       "      <th>4</th>\n",
       "      <td>1.28</td>\n",
       "      <td>51039.60</td>\n",
       "      <td>941.48</td>\n",
       "      <td>43838.39</td>\n",
       "      <td>75.78</td>\n",
       "      <td>0</td>\n",
       "      <td>0</td>\n",
       "      <td>0</td>\n",
       "    </tr>\n",
       "    <tr>\n",
       "      <th>5</th>\n",
       "      <td>1.26</td>\n",
       "      <td>55979.78</td>\n",
       "      <td>1184.27</td>\n",
       "      <td>48067.99</td>\n",
       "      <td>43.61</td>\n",
       "      <td>0</td>\n",
       "      <td>0</td>\n",
       "      <td>0</td>\n",
       "    </tr>\n",
       "    <tr>\n",
       "      <th>6</th>\n",
       "      <td>0.99</td>\n",
       "      <td>83453.76</td>\n",
       "      <td>1368.92</td>\n",
       "      <td>73672.72</td>\n",
       "      <td>93.26</td>\n",
       "      <td>0</td>\n",
       "      <td>0</td>\n",
       "      <td>0</td>\n",
       "    </tr>\n",
       "    <tr>\n",
       "      <th>7</th>\n",
       "      <td>0.98</td>\n",
       "      <td>109428.33</td>\n",
       "      <td>703.75</td>\n",
       "      <td>101815.36</td>\n",
       "      <td>80.00</td>\n",
       "      <td>0</td>\n",
       "      <td>0</td>\n",
       "      <td>0</td>\n",
       "    </tr>\n",
       "    <tr>\n",
       "      <th>8</th>\n",
       "      <td>1.02</td>\n",
       "      <td>99811.42</td>\n",
       "      <td>1022.15</td>\n",
       "      <td>87315.57</td>\n",
       "      <td>85.34</td>\n",
       "      <td>0</td>\n",
       "      <td>0</td>\n",
       "      <td>0</td>\n",
       "    </tr>\n",
       "    <tr>\n",
       "      <th>9</th>\n",
       "      <td>1.07</td>\n",
       "      <td>74338.76</td>\n",
       "      <td>842.40</td>\n",
       "      <td>64757.44</td>\n",
       "      <td>113.00</td>\n",
       "      <td>0</td>\n",
       "      <td>0</td>\n",
       "      <td>0</td>\n",
       "    </tr>\n",
       "    <tr>\n",
       "      <th>10</th>\n",
       "      <td>1.12</td>\n",
       "      <td>84843.44</td>\n",
       "      <td>924.86</td>\n",
       "      <td>75595.85</td>\n",
       "      <td>117.07</td>\n",
       "      <td>0</td>\n",
       "      <td>0</td>\n",
       "      <td>0</td>\n",
       "    </tr>\n",
       "    <tr>\n",
       "      <th>11</th>\n",
       "      <td>1.28</td>\n",
       "      <td>64489.17</td>\n",
       "      <td>1582.03</td>\n",
       "      <td>52677.92</td>\n",
       "      <td>105.32</td>\n",
       "      <td>0</td>\n",
       "      <td>0</td>\n",
       "      <td>0</td>\n",
       "    </tr>\n",
       "    <tr>\n",
       "      <th>12</th>\n",
       "      <td>1.31</td>\n",
       "      <td>61007.10</td>\n",
       "      <td>2268.32</td>\n",
       "      <td>49880.67</td>\n",
       "      <td>101.36</td>\n",
       "      <td>0</td>\n",
       "      <td>0</td>\n",
       "      <td>0</td>\n",
       "    </tr>\n",
       "    <tr>\n",
       "      <th>13</th>\n",
       "      <td>0.99</td>\n",
       "      <td>106803.39</td>\n",
       "      <td>1204.88</td>\n",
       "      <td>99409.21</td>\n",
       "      <td>154.84</td>\n",
       "      <td>0</td>\n",
       "      <td>0</td>\n",
       "      <td>0</td>\n",
       "    </tr>\n",
       "    <tr>\n",
       "      <th>14</th>\n",
       "      <td>1.33</td>\n",
       "      <td>69759.01</td>\n",
       "      <td>1028.03</td>\n",
       "      <td>59313.12</td>\n",
       "      <td>150.50</td>\n",
       "      <td>0</td>\n",
       "      <td>0</td>\n",
       "      <td>0</td>\n",
       "    </tr>\n",
       "    <tr>\n",
       "      <th>15</th>\n",
       "      <td>1.28</td>\n",
       "      <td>76111.27</td>\n",
       "      <td>985.73</td>\n",
       "      <td>65696.86</td>\n",
       "      <td>142.00</td>\n",
       "      <td>0</td>\n",
       "      <td>0</td>\n",
       "      <td>0</td>\n",
       "    </tr>\n",
       "    <tr>\n",
       "      <th>16</th>\n",
       "      <td>1.11</td>\n",
       "      <td>99172.96</td>\n",
       "      <td>879.45</td>\n",
       "      <td>90062.62</td>\n",
       "      <td>240.79</td>\n",
       "      <td>0</td>\n",
       "      <td>0</td>\n",
       "      <td>0</td>\n",
       "    </tr>\n",
       "    <tr>\n",
       "      <th>17</th>\n",
       "      <td>1.07</td>\n",
       "      <td>105693.84</td>\n",
       "      <td>689.01</td>\n",
       "      <td>94362.67</td>\n",
       "      <td>335.43</td>\n",
       "      <td>0</td>\n",
       "      <td>0</td>\n",
       "      <td>0</td>\n",
       "    </tr>\n",
       "    <tr>\n",
       "      <th>18</th>\n",
       "      <td>1.34</td>\n",
       "      <td>79992.09</td>\n",
       "      <td>733.16</td>\n",
       "      <td>67933.79</td>\n",
       "      <td>444.78</td>\n",
       "      <td>0</td>\n",
       "      <td>0</td>\n",
       "      <td>0</td>\n",
       "    </tr>\n",
       "    <tr>\n",
       "      <th>19</th>\n",
       "      <td>1.33</td>\n",
       "      <td>80043.78</td>\n",
       "      <td>539.65</td>\n",
       "      <td>68666.01</td>\n",
       "      <td>394.90</td>\n",
       "      <td>0</td>\n",
       "      <td>0</td>\n",
       "      <td>0</td>\n",
       "    </tr>\n",
       "  </tbody>\n",
       "</table>\n",
       "</div>"
      ],
      "text/plain": [
       "    AveragePrice  Total Volume     4046       4225    4770  type  year  region\n",
       "0           1.33      64236.62  1036.74   54454.85   48.16     0     0       0\n",
       "1           1.35      54876.98   674.28   44638.81   58.33     0     0       0\n",
       "2           0.93     118220.22   794.70  109149.67  130.50     0     0       0\n",
       "3           1.08      78992.15  1132.00   71976.41   72.58     0     0       0\n",
       "4           1.28      51039.60   941.48   43838.39   75.78     0     0       0\n",
       "5           1.26      55979.78  1184.27   48067.99   43.61     0     0       0\n",
       "6           0.99      83453.76  1368.92   73672.72   93.26     0     0       0\n",
       "7           0.98     109428.33   703.75  101815.36   80.00     0     0       0\n",
       "8           1.02      99811.42  1022.15   87315.57   85.34     0     0       0\n",
       "9           1.07      74338.76   842.40   64757.44  113.00     0     0       0\n",
       "10          1.12      84843.44   924.86   75595.85  117.07     0     0       0\n",
       "11          1.28      64489.17  1582.03   52677.92  105.32     0     0       0\n",
       "12          1.31      61007.10  2268.32   49880.67  101.36     0     0       0\n",
       "13          0.99     106803.39  1204.88   99409.21  154.84     0     0       0\n",
       "14          1.33      69759.01  1028.03   59313.12  150.50     0     0       0\n",
       "15          1.28      76111.27   985.73   65696.86  142.00     0     0       0\n",
       "16          1.11      99172.96   879.45   90062.62  240.79     0     0       0\n",
       "17          1.07     105693.84   689.01   94362.67  335.43     0     0       0\n",
       "18          1.34      79992.09   733.16   67933.79  444.78     0     0       0\n",
       "19          1.33      80043.78   539.65   68666.01  394.90     0     0       0"
      ]
     },
     "execution_count": 16,
     "metadata": {},
     "output_type": "execute_result"
    }
   ],
   "source": [
    "le=LabelEncoder()\n",
    "df[\"region\"]=le.fit_transform(df[\"region\"])\n",
    "df[\"type\"]=le.fit_transform(df[\"type\"])\n",
    "df[\"year\"]=le.fit_transform(df[\"year\"])\n",
    "\n",
    "df.head(20)"
   ]
  },
  {
   "cell_type": "code",
   "execution_count": 17,
   "metadata": {},
   "outputs": [
    {
     "data": {
      "text/plain": [
       "0    9126\n",
       "1    9123\n",
       "Name: type, dtype: int64"
      ]
     },
     "execution_count": 17,
     "metadata": {},
     "output_type": "execute_result"
    }
   ],
   "source": [
    "df[\"type\"].value_counts()"
   ]
  },
  {
   "cell_type": "code",
   "execution_count": 18,
   "metadata": {},
   "outputs": [
    {
     "data": {
      "text/plain": [
       "47    338\n",
       "31    338\n",
       "6     338\n",
       "37    338\n",
       "21    338\n",
       "5     338\n",
       "52    338\n",
       "36    338\n",
       "20    338\n",
       "4     338\n",
       "51    338\n",
       "35    338\n",
       "19    338\n",
       "3     338\n",
       "50    338\n",
       "34    338\n",
       "18    338\n",
       "2     338\n",
       "49    338\n",
       "33    338\n",
       "17    338\n",
       "1     338\n",
       "48    338\n",
       "32    338\n",
       "16    338\n",
       "22    338\n",
       "38    338\n",
       "7     338\n",
       "27    338\n",
       "15    338\n",
       "46    338\n",
       "30    338\n",
       "14    338\n",
       "45    338\n",
       "29    338\n",
       "13    338\n",
       "44    338\n",
       "28    338\n",
       "12    338\n",
       "43    338\n",
       "11    338\n",
       "23    338\n",
       "42    338\n",
       "26    338\n",
       "10    338\n",
       "41    338\n",
       "25    338\n",
       "9     338\n",
       "40    338\n",
       "24    338\n",
       "8     338\n",
       "39    338\n",
       "0     338\n",
       "53    335\n",
       "Name: region, dtype: int64"
      ]
     },
     "execution_count": 18,
     "metadata": {},
     "output_type": "execute_result"
    }
   ],
   "source": [
    "df[\"region\"].value_counts()"
   ]
  },
  {
   "cell_type": "code",
   "execution_count": 19,
   "metadata": {},
   "outputs": [
    {
     "data": {
      "text/plain": [
       "2    5722\n",
       "1    5616\n",
       "0    5615\n",
       "3    1296\n",
       "Name: year, dtype: int64"
      ]
     },
     "execution_count": 19,
     "metadata": {},
     "output_type": "execute_result"
    }
   ],
   "source": [
    "df[\"year\"].value_counts()"
   ]
  },
  {
   "cell_type": "markdown",
   "metadata": {},
   "source": [
    "# check the correlation"
   ]
  },
  {
   "cell_type": "code",
   "execution_count": 20,
   "metadata": {},
   "outputs": [
    {
     "data": {
      "text/html": [
       "<div>\n",
       "<style scoped>\n",
       "    .dataframe tbody tr th:only-of-type {\n",
       "        vertical-align: middle;\n",
       "    }\n",
       "\n",
       "    .dataframe tbody tr th {\n",
       "        vertical-align: top;\n",
       "    }\n",
       "\n",
       "    .dataframe thead th {\n",
       "        text-align: right;\n",
       "    }\n",
       "</style>\n",
       "<table border=\"1\" class=\"dataframe\">\n",
       "  <thead>\n",
       "    <tr style=\"text-align: right;\">\n",
       "      <th></th>\n",
       "      <th>AveragePrice</th>\n",
       "      <th>Total Volume</th>\n",
       "      <th>4046</th>\n",
       "      <th>4225</th>\n",
       "      <th>4770</th>\n",
       "      <th>type</th>\n",
       "      <th>year</th>\n",
       "      <th>region</th>\n",
       "    </tr>\n",
       "  </thead>\n",
       "  <tbody>\n",
       "    <tr>\n",
       "      <th>AveragePrice</th>\n",
       "      <td>1.000000</td>\n",
       "      <td>-0.192752</td>\n",
       "      <td>-0.208317</td>\n",
       "      <td>-0.172928</td>\n",
       "      <td>-0.179446</td>\n",
       "      <td>0.615845</td>\n",
       "      <td>0.093197</td>\n",
       "      <td>-0.011716</td>\n",
       "    </tr>\n",
       "    <tr>\n",
       "      <th>Total Volume</th>\n",
       "      <td>-0.192752</td>\n",
       "      <td>1.000000</td>\n",
       "      <td>0.977863</td>\n",
       "      <td>0.974181</td>\n",
       "      <td>0.872202</td>\n",
       "      <td>-0.232434</td>\n",
       "      <td>0.017193</td>\n",
       "      <td>0.174176</td>\n",
       "    </tr>\n",
       "    <tr>\n",
       "      <th>4046</th>\n",
       "      <td>-0.208317</td>\n",
       "      <td>0.977863</td>\n",
       "      <td>1.000000</td>\n",
       "      <td>0.926110</td>\n",
       "      <td>0.833389</td>\n",
       "      <td>-0.225819</td>\n",
       "      <td>0.003353</td>\n",
       "      <td>0.192073</td>\n",
       "    </tr>\n",
       "    <tr>\n",
       "      <th>4225</th>\n",
       "      <td>-0.172928</td>\n",
       "      <td>0.974181</td>\n",
       "      <td>0.926110</td>\n",
       "      <td>1.000000</td>\n",
       "      <td>0.887855</td>\n",
       "      <td>-0.232289</td>\n",
       "      <td>-0.009559</td>\n",
       "      <td>0.145726</td>\n",
       "    </tr>\n",
       "    <tr>\n",
       "      <th>4770</th>\n",
       "      <td>-0.179446</td>\n",
       "      <td>0.872202</td>\n",
       "      <td>0.833389</td>\n",
       "      <td>0.887855</td>\n",
       "      <td>1.000000</td>\n",
       "      <td>-0.210027</td>\n",
       "      <td>-0.036531</td>\n",
       "      <td>0.095252</td>\n",
       "    </tr>\n",
       "    <tr>\n",
       "      <th>type</th>\n",
       "      <td>0.615845</td>\n",
       "      <td>-0.232434</td>\n",
       "      <td>-0.225819</td>\n",
       "      <td>-0.232289</td>\n",
       "      <td>-0.210027</td>\n",
       "      <td>1.000000</td>\n",
       "      <td>-0.000032</td>\n",
       "      <td>-0.000280</td>\n",
       "    </tr>\n",
       "    <tr>\n",
       "      <th>year</th>\n",
       "      <td>0.093197</td>\n",
       "      <td>0.017193</td>\n",
       "      <td>0.003353</td>\n",
       "      <td>-0.009559</td>\n",
       "      <td>-0.036531</td>\n",
       "      <td>-0.000032</td>\n",
       "      <td>1.000000</td>\n",
       "      <td>-0.000055</td>\n",
       "    </tr>\n",
       "    <tr>\n",
       "      <th>region</th>\n",
       "      <td>-0.011716</td>\n",
       "      <td>0.174176</td>\n",
       "      <td>0.192073</td>\n",
       "      <td>0.145726</td>\n",
       "      <td>0.095252</td>\n",
       "      <td>-0.000280</td>\n",
       "      <td>-0.000055</td>\n",
       "      <td>1.000000</td>\n",
       "    </tr>\n",
       "  </tbody>\n",
       "</table>\n",
       "</div>"
      ],
      "text/plain": [
       "              AveragePrice  Total Volume      4046      4225      4770  \\\n",
       "AveragePrice      1.000000     -0.192752 -0.208317 -0.172928 -0.179446   \n",
       "Total Volume     -0.192752      1.000000  0.977863  0.974181  0.872202   \n",
       "4046             -0.208317      0.977863  1.000000  0.926110  0.833389   \n",
       "4225             -0.172928      0.974181  0.926110  1.000000  0.887855   \n",
       "4770             -0.179446      0.872202  0.833389  0.887855  1.000000   \n",
       "type              0.615845     -0.232434 -0.225819 -0.232289 -0.210027   \n",
       "year              0.093197      0.017193  0.003353 -0.009559 -0.036531   \n",
       "region           -0.011716      0.174176  0.192073  0.145726  0.095252   \n",
       "\n",
       "                  type      year    region  \n",
       "AveragePrice  0.615845  0.093197 -0.011716  \n",
       "Total Volume -0.232434  0.017193  0.174176  \n",
       "4046         -0.225819  0.003353  0.192073  \n",
       "4225         -0.232289 -0.009559  0.145726  \n",
       "4770         -0.210027 -0.036531  0.095252  \n",
       "type          1.000000 -0.000032 -0.000280  \n",
       "year         -0.000032  1.000000 -0.000055  \n",
       "region       -0.000280 -0.000055  1.000000  "
      ]
     },
     "execution_count": 20,
     "metadata": {},
     "output_type": "execute_result"
    }
   ],
   "source": [
    "df_cor=df.corr()\n",
    "df_cor"
   ]
  },
  {
   "cell_type": "code",
   "execution_count": 21,
   "metadata": {},
   "outputs": [
    {
     "data": {
      "text/plain": [
       "<AxesSubplot:>"
      ]
     },
     "execution_count": 21,
     "metadata": {},
     "output_type": "execute_result"
    },
    {
     "data": {
      "image/png": "[encoded data removed]",
      "text/plain": [
       "<Figure size 864x720 with 2 Axes>"
      ]
     },
     "metadata": {
      "needs_background": "light"
     },
     "output_type": "display_data"
    }
   ],
   "source": [
    "plt.figure(figsize=(12,10))\n",
    "sns.heatmap(df.corr(),annot=True,cmap=\"magma\",fmt='.2f')"
   ]
  },
  {
   "cell_type": "markdown",
   "metadata": {},
   "source": [
    "1. Variables Total Volume and Product units are positively correlated\n",
    "2. Average price is negatively correlated with target variable region in Classification\n",
    "3. Total Volume and all product units are negatively correlated with target variable Average Price in regression"
   ]
  },
  {
   "cell_type": "markdown",
   "metadata": {},
   "source": [
    "# Data Visualization\n",
    "\n",
    "Univariate Analysis\n"
   ]
  },
  {
   "cell_type": "code",
   "execution_count": 22,
   "metadata": {},
   "outputs": [
    {
     "data": {
      "image/png": "[encoded data removed]",
      "text/plain": [
       "<Figure size 432x288 with 1 Axes>"
      ]
     },
     "metadata": {
      "needs_background": "light"
     },
     "output_type": "display_data"
    }
   ],
   "source": [
    "sns.distplot(df[\"Total Volume\"])\n",
    "plt.title(\"Total Volume\")\n",
    "plt.show()"
   ]
  },
  {
   "cell_type": "code",
   "execution_count": 23,
   "metadata": {},
   "outputs": [
    {
     "data": {
      "image/png": "[encoded data removed]",
      "text/plain": [
       "<Figure size 432x288 with 1 Axes>"
      ]
     },
     "metadata": {
      "needs_background": "light"
     },
     "output_type": "display_data"
    }
   ],
   "source": [
    "sns.distplot(df[\"4225\"])\n",
    "plt.title(\"4225\")\n",
    "plt.show()"
   ]
  },
  {
   "cell_type": "code",
   "execution_count": 24,
   "metadata": {},
   "outputs": [
    {
     "data": {
      "image/png": "[encoded data removed]",
      "text/plain": [
       "<Figure size 432x288 with 1 Axes>"
      ]
     },
     "metadata": {
      "needs_background": "light"
     },
     "output_type": "display_data"
    }
   ],
   "source": [
    "sns.distplot(df[\"4770\"])\n",
    "plt.title(\"4770\")\n",
    "plt.show()"
   ]
  },
  {
   "cell_type": "code",
   "execution_count": 25,
   "metadata": {},
   "outputs": [
    {
     "data": {
      "image/png": "[encoded data removed]",
      "text/plain": [
       "<Figure size 432x288 with 1 Axes>"
      ]
     },
     "metadata": {
      "needs_background": "light"
     },
     "output_type": "display_data"
    }
   ],
   "source": [
    "sns.distplot(df[\"4046\"])\n",
    "plt.title(\"4046\")\n",
    "plt.show()"
   ]
  },
  {
   "cell_type": "code",
   "execution_count": 26,
   "metadata": {},
   "outputs": [
    {
     "data": {
      "image/png": "[encoded data removed]",
      "text/plain": [
       "<Figure size 432x288 with 1 Axes>"
      ]
     },
     "metadata": {
      "needs_background": "light"
     },
     "output_type": "display_data"
    }
   ],
   "source": [
    "sns.distplot(df[\"AveragePrice\"])\n",
    "plt.title(\"Average Price\")\n",
    "plt.show()"
   ]
  },
  {
   "cell_type": "code",
   "execution_count": 27,
   "metadata": {},
   "outputs": [],
   "source": [
    "#univariate analysis suggests the variables are positively skewed and not normalised"
   ]
  },
  {
   "cell_type": "code",
   "execution_count": 28,
   "metadata": {},
   "outputs": [],
   "source": [
    "# bivariate analysis to check relationship of features with target variable"
   ]
  },
  {
   "cell_type": "code",
   "execution_count": 29,
   "metadata": {},
   "outputs": [
    {
     "data": {
      "text/plain": [
       "<matplotlib.collections.PathCollection at 0x7f92ab02b670>"
      ]
     },
     "execution_count": 29,
     "metadata": {},
     "output_type": "execute_result"
    },
    {
     "data": {
      "image/png": "[encoded data removed]",
      "text/plain": [
       "<Figure size 432x288 with 1 Axes>"
      ]
     },
     "metadata": {
      "needs_background": "light"
     },
     "output_type": "display_data"
    }
   ],
   "source": [
    "plt.scatter(df[\"region\"],df[\"Total Volume\"]) # correlation when target variable is region"
   ]
  },
  {
   "cell_type": "code",
   "execution_count": 30,
   "metadata": {},
   "outputs": [
    {
     "data": {
      "text/plain": [
       "<matplotlib.collections.PathCollection at 0x7f92aa5fdfd0>"
      ]
     },
     "execution_count": 30,
     "metadata": {},
     "output_type": "execute_result"
    },
    {
     "data": {
      "image/png": "[encoded data removed]",
      "text/plain": [
       "<Figure size 432x288 with 1 Axes>"
      ]
     },
     "metadata": {
      "needs_background": "light"
     },
     "output_type": "display_data"
    }
   ],
   "source": [
    "plt.scatter(df[\"region\"],df[\"4046\"])# correlation when target variable is region"
   ]
  },
  {
   "cell_type": "code",
   "execution_count": 31,
   "metadata": {},
   "outputs": [
    {
     "data": {
      "text/plain": [
       "<matplotlib.collections.PathCollection at 0x7f92abcde4c0>"
      ]
     },
     "execution_count": 31,
     "metadata": {},
     "output_type": "execute_result"
    },
    {
     "data": {
      "image/png": "[encoded data removed]",
      "text/plain": [
       "<Figure size 432x288 with 1 Axes>"
      ]
     },
     "metadata": {
      "needs_background": "light"
     },
     "output_type": "display_data"
    }
   ],
   "source": [
    "plt.scatter(df[\"region\"],df[\"4225\"])# correlation when target variable is region"
   ]
  },
  {
   "cell_type": "code",
   "execution_count": 32,
   "metadata": {},
   "outputs": [
    {
     "data": {
      "text/plain": [
       "<matplotlib.collections.PathCollection at 0x7f92abc10790>"
      ]
     },
     "execution_count": 32,
     "metadata": {},
     "output_type": "execute_result"
    },
    {
     "data": {
      "image/png": "[encoded data removed]",
      "text/plain": [
       "<Figure size 432x288 with 1 Axes>"
      ]
     },
     "metadata": {
      "needs_background": "light"
     },
     "output_type": "display_data"
    }
   ],
   "source": [
    "plt.scatter(df[\"region\"],df[\"4770\"])# correlation when target variable is region"
   ]
  },
  {
   "cell_type": "code",
   "execution_count": 33,
   "metadata": {},
   "outputs": [
    {
     "data": {
      "text/plain": [
       "<matplotlib.collections.PathCollection at 0x7f92abb5bfd0>"
      ]
     },
     "execution_count": 33,
     "metadata": {},
     "output_type": "execute_result"
    },
    {
     "data": {
      "image/png": "[encoded data removed]",
      "text/plain": [
       "<Figure size 432x288 with 1 Axes>"
      ]
     },
     "metadata": {
      "needs_background": "light"
     },
     "output_type": "display_data"
    }
   ],
   "source": [
    "plt.scatter(df[\"AveragePrice\"],df[\"Total Volume\"])# correlation when target variable is AveragePrice"
   ]
  },
  {
   "cell_type": "code",
   "execution_count": 34,
   "metadata": {},
   "outputs": [
    {
     "data": {
      "text/plain": [
       "<matplotlib.collections.PathCollection at 0x7f92ac11cd90>"
      ]
     },
     "execution_count": 34,
     "metadata": {},
     "output_type": "execute_result"
    },
    {
     "data": {
      "image/png": "[encoded data removed]",
      "text/plain": [
       "<Figure size 432x288 with 1 Axes>"
      ]
     },
     "metadata": {
      "needs_background": "light"
     },
     "output_type": "display_data"
    }
   ],
   "source": [
    "plt.scatter(df[\"AveragePrice\"],df[\"4046\"])# correlation when target variable is AveragePrice"
   ]
  },
  {
   "cell_type": "code",
   "execution_count": 35,
   "metadata": {},
   "outputs": [
    {
     "data": {
      "text/plain": [
       "<matplotlib.collections.PathCollection at 0x7f92ac1b8100>"
      ]
     },
     "execution_count": 35,
     "metadata": {},
     "output_type": "execute_result"
    },
    {
     "data": {
      "image/png": "[encoded data removed]",
      "text/plain": [
       "<Figure size 432x288 with 1 Axes>"
      ]
     },
     "metadata": {
      "needs_background": "light"
     },
     "output_type": "display_data"
    }
   ],
   "source": [
    "plt.scatter(df[\"AveragePrice\"],df[\"4225\"])# correlation when target variable is AveragePrice"
   ]
  },
  {
   "cell_type": "code",
   "execution_count": 36,
   "metadata": {},
   "outputs": [
    {
     "data": {
      "text/plain": [
       "<matplotlib.collections.PathCollection at 0x7f92ac3693d0>"
      ]
     },
     "execution_count": 36,
     "metadata": {},
     "output_type": "execute_result"
    },
    {
     "data": {
      "image/png": "[encoded data removed]",
      "text/plain": [
       "<Figure size 432x288 with 1 Axes>"
      ]
     },
     "metadata": {
      "needs_background": "light"
     },
     "output_type": "display_data"
    }
   ],
   "source": [
    "plt.scatter(df[\"AveragePrice\"],df[\"4770\"])# correlation when target variable is AveragePrice"
   ]
  },
  {
   "cell_type": "markdown",
   "metadata": {},
   "source": [
    "# plotting the outliers"
   ]
  },
  {
   "cell_type": "code",
   "execution_count": 37,
   "metadata": {},
   "outputs": [
    {
     "data": {
      "text/plain": [
       "<AxesSubplot:>"
      ]
     },
     "execution_count": 37,
     "metadata": {},
     "output_type": "execute_result"
    },
    {
     "data": {
      "image/png": "[encoded data removed]",
      "text/plain": [
       "<Figure size 432x288 with 1 Axes>"
      ]
     },
     "metadata": {
      "needs_background": "light"
     },
     "output_type": "display_data"
    }
   ],
   "source": [
    "df[\"AveragePrice\"].plot.box()"
   ]
  },
  {
   "cell_type": "code",
   "execution_count": 38,
   "metadata": {},
   "outputs": [
    {
     "data": {
      "text/plain": [
       "<AxesSubplot:>"
      ]
     },
     "execution_count": 38,
     "metadata": {},
     "output_type": "execute_result"
    },
    {
     "data": {
      "image/png": "[encoded data removed]",
      "text/plain": [
       "<Figure size 432x288 with 1 Axes>"
      ]
     },
     "metadata": {
      "needs_background": "light"
     },
     "output_type": "display_data"
    }
   ],
   "source": [
    "df[\"Total Volume\"].plot.box()"
   ]
  },
  {
   "cell_type": "code",
   "execution_count": 39,
   "metadata": {},
   "outputs": [
    {
     "data": {
      "text/plain": [
       "<AxesSubplot:>"
      ]
     },
     "execution_count": 39,
     "metadata": {},
     "output_type": "execute_result"
    },
    {
     "data": {
      "image/png": "[encoded data removed]",
      "text/plain": [
       "<Figure size 432x288 with 1 Axes>"
      ]
     },
     "metadata": {
      "needs_background": "light"
     },
     "output_type": "display_data"
    }
   ],
   "source": [
    "df[\"4046\"].plot.box()"
   ]
  },
  {
   "cell_type": "code",
   "execution_count": 40,
   "metadata": {},
   "outputs": [
    {
     "data": {
      "text/plain": [
       "<AxesSubplot:>"
      ]
     },
     "execution_count": 40,
     "metadata": {},
     "output_type": "execute_result"
    },
    {
     "data": {
      "image/png": "[encoded data removed]",
      "text/plain": [
       "<Figure size 432x288 with 1 Axes>"
      ]
     },
     "metadata": {
      "needs_background": "light"
     },
     "output_type": "display_data"
    }
   ],
   "source": [
    "df[\"4770\"].plot.box()"
   ]
  },
  {
   "cell_type": "code",
   "execution_count": 41,
   "metadata": {},
   "outputs": [
    {
     "data": {
      "text/plain": [
       "<AxesSubplot:>"
      ]
     },
     "execution_count": 41,
     "metadata": {},
     "output_type": "execute_result"
    },
    {
     "data": {
      "image/png": "[encoded data removed]",
      "text/plain": [
       "<Figure size 432x288 with 1 Axes>"
      ]
     },
     "metadata": {
      "needs_background": "light"
     },
     "output_type": "display_data"
    }
   ],
   "source": [
    "df[\"4225\"].plot.box()"
   ]
  },
  {
   "cell_type": "markdown",
   "metadata": {},
   "source": [
    "All the above boxplot shows the outliers are present "
   ]
  },
  {
   "cell_type": "code",
   "execution_count": 42,
   "metadata": {},
   "outputs": [],
   "source": [
    "from scipy.stats import zscore"
   ]
  },
  {
   "cell_type": "code",
   "execution_count": 43,
   "metadata": {},
   "outputs": [
    {
     "name": "stdout",
     "output_type": "stream",
     "text": [
      "(array([  346,   359,   783,   787,   788,   790,   791,   792,   794,\n",
      "         795,   796,   797,   799,   803,   805,   807,   808,   809,\n",
      "         812,   816,   820,   823,   827,  1334,  1347,  1516,  1518,\n",
      "        1541,  2340,  2341,  2348,  2351,  2368,  2370,  2652,  2652,\n",
      "        2652,  2652,  2653,  2653,  2653,  2653,  2654,  2654,  2654,\n",
      "        2654,  2655,  2655,  2655,  2655,  2656,  2656,  2656,  2656,\n",
      "        2657,  2657,  2657,  2657,  2658,  2658,  2658,  2658,  2659,\n",
      "        2659,  2659,  2659,  2660,  2660,  2660,  2660,  2661,  2661,\n",
      "        2661,  2661,  2662,  2662,  2662,  2662,  2663,  2663,  2663,\n",
      "        2663,  2664,  2664,  2664,  2664,  2665,  2665,  2665,  2665,\n",
      "        2666,  2666,  2666,  2666,  2667,  2667,  2667,  2667,  2668,\n",
      "        2668,  2668,  2668,  2669,  2669,  2669,  2669,  2670,  2670,\n",
      "        2670,  2670,  2671,  2671,  2671,  2671,  2672,  2672,  2672,\n",
      "        2672,  2673,  2673,  2673,  2673,  2674,  2674,  2674,  2674,\n",
      "        2675,  2675,  2675,  2675,  2676,  2676,  2676,  2676,  2677,\n",
      "        2677,  2677,  2677,  2678,  2678,  2678,  2678,  2679,  2679,\n",
      "        2679,  2679,  2680,  2680,  2680,  2680,  2681,  2681,  2681,\n",
      "        2681,  2682,  2682,  2682,  2682,  2683,  2683,  2683,  2683,\n",
      "        2684,  2684,  2684,  2684,  2685,  2685,  2685,  2685,  2686,\n",
      "        2686,  2686,  2686,  2687,  2687,  2687,  2687,  2688,  2688,\n",
      "        2688,  2688,  2689,  2689,  2689,  2689,  2690,  2690,  2690,\n",
      "        2690,  2691,  2691,  2691,  2691,  2692,  2692,  2692,  2692,\n",
      "        2693,  2693,  2693,  2693,  2694,  2694,  2694,  2694,  2695,\n",
      "        2695,  2695,  2695,  2696,  2696,  2696,  2696,  2697,  2697,\n",
      "        2697,  2697,  2698,  2698,  2698,  2698,  2699,  2699,  2699,\n",
      "        2699,  2700,  2700,  2700,  2700,  2701,  2701,  2701,  2701,\n",
      "        2702,  2702,  2702,  2702,  2703,  2703,  2703,  2703,  3145,\n",
      "        3149,  3152,  3156,  3157,  3166,  3166,  3613,  3614,  3615,\n",
      "        3617,  3620,  3621,  3624,  3626,  3627,  3628,  3630,  3631,\n",
      "        3633,  3634,  3635,  3636,  3637,  3638,  3639,  4349,  4362,\n",
      "        5173,  5174,  5175,  5176,  5177,  5178,  5179,  5180,  5181,\n",
      "        5182,  5183,  5184,  5185,  5186,  5187,  5188,  5189,  5190,\n",
      "        5192,  5193,  5194,  5195,  5197,  5199,  5460,  5460,  5460,\n",
      "        5460,  5461,  5461,  5461,  5461,  5462,  5462,  5462,  5462,\n",
      "        5463,  5463,  5463,  5463,  5464,  5464,  5464,  5465,  5465,\n",
      "        5465,  5465,  5466,  5466,  5466,  5466,  5467,  5467,  5467,\n",
      "        5467,  5468,  5468,  5468,  5468,  5469,  5469,  5469,  5469,\n",
      "        5470,  5470,  5470,  5470,  5471,  5471,  5471,  5471,  5472,\n",
      "        5472,  5472,  5472,  5473,  5473,  5473,  5473,  5474,  5474,\n",
      "        5474,  5474,  5475,  5475,  5475,  5475,  5476,  5476,  5476,\n",
      "        5476,  5477,  5477,  5477,  5477,  5478,  5478,  5478,  5478,\n",
      "        5479,  5479,  5479,  5479,  5480,  5480,  5480,  5480,  5481,\n",
      "        5481,  5481,  5481,  5482,  5482,  5482,  5482,  5483,  5483,\n",
      "        5483,  5483,  5484,  5484,  5484,  5484,  5485,  5485,  5485,\n",
      "        5485,  5486,  5486,  5486,  5486,  5487,  5487,  5487,  5487,\n",
      "        5488,  5488,  5488,  5488,  5489,  5489,  5489,  5489,  5490,\n",
      "        5490,  5490,  5490,  5491,  5491,  5491,  5491,  5492,  5492,\n",
      "        5492,  5492,  5493,  5493,  5493,  5493,  5494,  5494,  5494,\n",
      "        5494,  5495,  5495,  5495,  5495,  5496,  5496,  5496,  5496,\n",
      "        5497,  5497,  5497,  5497,  5498,  5498,  5498,  5498,  5499,\n",
      "        5499,  5499,  5499,  5500,  5500,  5500,  5500,  5501,  5501,\n",
      "        5501,  5501,  5502,  5502,  5502,  5502,  5503,  5503,  5503,\n",
      "        5503,  5504,  5504,  5504,  5504,  5505,  5505,  5505,  5505,\n",
      "        5506,  5506,  5506,  5506,  5507,  5507,  5507,  5507,  5508,\n",
      "        5508,  5508,  5508,  5509,  5509,  5509,  5509,  5510,  5510,\n",
      "        5510,  5510,  5511,  5511,  5511,  5511,  5981,  6411,  6436,\n",
      "        6437,  6439,  6445,  6455,  7156,  7200,  7200,  8035,  8045,\n",
      "        8048,  8048,  8051,  8319,  8319,  8319,  8319,  8320,  8320,\n",
      "        8320,  8320,  8321,  8321,  8321,  8321,  8322,  8322,  8322,\n",
      "        8322,  8323,  8323,  8323,  8323,  8324,  8324,  8324,  8324,\n",
      "        8325,  8325,  8325,  8325,  8326,  8326,  8326,  8326,  8327,\n",
      "        8327,  8327,  8327,  8328,  8328,  8328,  8328,  8329,  8329,\n",
      "        8329,  8329,  8330,  8330,  8330,  8330,  8331,  8331,  8331,\n",
      "        8331,  8332,  8332,  8332,  8332,  8333,  8333,  8333,  8333,\n",
      "        8334,  8334,  8334,  8334,  8335,  8335,  8335,  8335,  8336,\n",
      "        8336,  8336,  8336,  8337,  8337,  8337,  8337,  8338,  8338,\n",
      "        8338,  8338,  8339,  8339,  8339,  8339,  8340,  8340,  8340,\n",
      "        8340,  8341,  8341,  8341,  8341,  8342,  8342,  8342,  8342,\n",
      "        8343,  8343,  8343,  8343,  8344,  8344,  8344,  8344,  8345,\n",
      "        8345,  8345,  8345,  8346,  8346,  8346,  8346,  8347,  8347,\n",
      "        8347,  8347,  8348,  8348,  8348,  8348,  8349,  8349,  8349,\n",
      "        8349,  8350,  8350,  8350,  8350,  8351,  8351,  8351,  8351,\n",
      "        8352,  8352,  8352,  8352,  8353,  8353,  8353,  8353,  8354,\n",
      "        8354,  8354,  8354,  8355,  8355,  8355,  8355,  8356,  8356,\n",
      "        8356,  8356,  8357,  8357,  8357,  8357,  8358,  8358,  8358,\n",
      "        8358,  8359,  8359,  8359,  8359,  8360,  8360,  8360,  8360,\n",
      "        8361,  8361,  8361,  8361,  8362,  8362,  8362,  8362,  8363,\n",
      "        8363,  8363,  8363,  8364,  8364,  8364,  8364,  8365,  8365,\n",
      "        8365,  8365,  8366,  8366,  8366,  8366,  8367,  8367,  8367,\n",
      "        8367,  8368,  8368,  8368,  8368,  8369,  8369,  8369,  8369,\n",
      "        8370,  8370,  8370,  8370,  8371,  8371,  8371,  8371,  8419,\n",
      "        8419,  8557,  8557,  8658,  8659,  8660,  8662,  8665,  8667,\n",
      "        8669,  8833,  8835,  9025,  9037,  9090,  9090,  9090,  9090,\n",
      "        9091,  9091,  9091,  9091,  9092,  9092,  9092,  9092,  9093,\n",
      "        9093,  9093,  9093,  9094,  9094,  9094,  9094,  9095,  9095,\n",
      "        9095,  9095,  9096,  9096,  9096,  9096,  9097,  9097,  9097,\n",
      "        9097,  9098,  9098,  9098,  9098,  9099,  9099,  9099,  9099,\n",
      "        9100,  9100,  9100,  9100,  9101,  9101,  9101,  9101, 11320,\n",
      "       11321, 11323, 11324, 11325, 11326, 11327, 11328, 11329, 11330,\n",
      "       11331, 11332, 12821, 12823, 13033, 13035, 13037, 13038, 13395,\n",
      "       13657, 13661, 14019, 14020, 14073, 14074, 14119, 14120, 14121,\n",
      "       14122, 14123, 14124, 14125, 14126, 14128, 14129, 14177, 14385,\n",
      "       14699, 14701, 14702, 14807, 14911, 14912, 14913, 14914, 14915,\n",
      "       14916, 14917, 14918, 14919, 15124, 15125, 15127, 15128, 15129,\n",
      "       15130, 15510, 15511, 15667, 15668, 15671, 15673, 15674, 15814,\n",
      "       15871, 16024, 16050, 16055, 16395, 16399, 16421, 16660, 16661,\n",
      "       16662, 16663, 16664, 16665, 16666, 16667, 16714, 16715, 16717,\n",
      "       16718, 16719, 16720, 16721, 16734, 16737, 16738, 16985, 16986,\n",
      "       16994, 16995, 16996, 16997, 16998, 16999, 17000, 17007, 17008,\n",
      "       17009, 17010, 17015, 17017, 17031, 17032, 17033, 17034, 17035,\n",
      "       17036, 17037, 17038, 17039, 17040, 17047, 17244, 17245, 17246,\n",
      "       17247, 17248, 17249, 17250, 17251, 17255, 17300, 17301, 17302,\n",
      "       17303, 17304, 17402, 17428]), array([2, 2, 4, 4, 4, 4, 4, 4, 4, 4, 4, 4, 4, 4, 4, 4, 4, 4, 4, 4, 4, 4,\n",
      "       4, 4, 4, 3, 3, 3, 4, 4, 4, 4, 2, 2, 1, 2, 3, 4, 1, 2, 3, 4, 1, 2,\n",
      "       3, 4, 1, 2, 3, 4, 1, 2, 3, 4, 1, 2, 3, 4, 1, 2, 3, 4, 1, 2, 3, 4,\n",
      "       1, 2, 3, 4, 1, 2, 3, 4, 1, 2, 3, 4, 1, 2, 3, 4, 1, 2, 3, 4, 1, 2,\n",
      "       3, 4, 1, 2, 3, 4, 1, 2, 3, 4, 1, 2, 3, 4, 1, 2, 3, 4, 1, 2, 3, 4,\n",
      "       1, 2, 3, 4, 1, 2, 3, 4, 1, 2, 3, 4, 1, 2, 3, 4, 1, 2, 3, 4, 1, 2,\n",
      "       3, 4, 1, 2, 3, 4, 1, 2, 3, 4, 1, 2, 3, 4, 1, 2, 3, 4, 1, 2, 3, 4,\n",
      "       1, 2, 3, 4, 1, 2, 3, 4, 1, 2, 3, 4, 1, 2, 3, 4, 1, 2, 3, 4, 1, 2,\n",
      "       3, 4, 1, 2, 3, 4, 1, 2, 3, 4, 1, 2, 3, 4, 1, 2, 3, 4, 1, 2, 3, 4,\n",
      "       1, 2, 3, 4, 1, 2, 3, 4, 1, 2, 3, 4, 1, 2, 3, 4, 1, 2, 3, 4, 1, 2,\n",
      "       3, 4, 1, 2, 3, 4, 1, 2, 3, 4, 1, 2, 3, 4, 1, 2, 3, 4, 1, 2, 3, 4,\n",
      "       4, 4, 4, 4, 4, 3, 4, 4, 4, 4, 4, 4, 4, 4, 4, 4, 4, 4, 4, 4, 4, 4,\n",
      "       4, 4, 4, 4, 3, 3, 4, 4, 4, 4, 4, 4, 4, 4, 4, 4, 4, 4, 4, 4, 4, 4,\n",
      "       4, 4, 4, 4, 4, 4, 4, 4, 1, 2, 3, 4, 1, 2, 3, 4, 1, 2, 3, 4, 1, 2,\n",
      "       3, 4, 1, 2, 3, 1, 2, 3, 4, 1, 2, 3, 4, 1, 2, 3, 4, 1, 2, 3, 4, 1,\n",
      "       2, 3, 4, 1, 2, 3, 4, 1, 2, 3, 4, 1, 2, 3, 4, 1, 2, 3, 4, 1, 2, 3,\n",
      "       4, 1, 2, 3, 4, 1, 2, 3, 4, 1, 2, 3, 4, 1, 2, 3, 4, 1, 2, 3, 4, 1,\n",
      "       2, 3, 4, 1, 2, 3, 4, 1, 2, 3, 4, 1, 2, 3, 4, 1, 2, 3, 4, 1, 2, 3,\n",
      "       4, 1, 2, 3, 4, 1, 2, 3, 4, 1, 2, 3, 4, 1, 2, 3, 4, 1, 2, 3, 4, 1,\n",
      "       2, 3, 4, 1, 2, 3, 4, 1, 2, 3, 4, 1, 2, 3, 4, 1, 2, 3, 4, 1, 2, 3,\n",
      "       4, 1, 2, 3, 4, 1, 2, 3, 4, 1, 2, 3, 4, 1, 2, 3, 4, 1, 2, 3, 4, 1,\n",
      "       2, 3, 4, 1, 2, 3, 4, 1, 2, 3, 4, 1, 2, 3, 4, 1, 2, 3, 4, 1, 2, 3,\n",
      "       4, 1, 2, 3, 4, 1, 2, 3, 4, 1, 2, 3, 4, 1, 2, 3, 4, 1, 4, 4, 4, 4,\n",
      "       4, 4, 3, 3, 4, 2, 2, 2, 4, 2, 1, 2, 3, 4, 1, 2, 3, 4, 1, 2, 3, 4,\n",
      "       1, 2, 3, 4, 1, 2, 3, 4, 1, 2, 3, 4, 1, 2, 3, 4, 1, 2, 3, 4, 1, 2,\n",
      "       3, 4, 1, 2, 3, 4, 1, 2, 3, 4, 1, 2, 3, 4, 1, 2, 3, 4, 1, 2, 3, 4,\n",
      "       1, 2, 3, 4, 1, 2, 3, 4, 1, 2, 3, 4, 1, 2, 3, 4, 1, 2, 3, 4, 1, 2,\n",
      "       3, 4, 1, 2, 3, 4, 1, 2, 3, 4, 1, 2, 3, 4, 1, 2, 3, 4, 1, 2, 3, 4,\n",
      "       1, 2, 3, 4, 1, 2, 3, 4, 1, 2, 3, 4, 1, 2, 3, 4, 1, 2, 3, 4, 1, 2,\n",
      "       3, 4, 1, 2, 3, 4, 1, 2, 3, 4, 1, 2, 3, 4, 1, 2, 3, 4, 1, 2, 3, 4,\n",
      "       1, 2, 3, 4, 1, 2, 3, 4, 1, 2, 3, 4, 1, 2, 3, 4, 1, 2, 3, 4, 1, 2,\n",
      "       3, 4, 1, 2, 3, 4, 1, 2, 3, 4, 1, 2, 3, 4, 1, 2, 3, 4, 1, 2, 3, 4,\n",
      "       1, 2, 3, 4, 1, 2, 3, 4, 1, 2, 3, 4, 1, 2, 3, 4, 1, 2, 3, 4, 1, 2,\n",
      "       3, 4, 1, 2, 2, 3, 4, 4, 4, 4, 4, 4, 4, 3, 3, 2, 2, 1, 2, 3, 4, 1,\n",
      "       2, 3, 4, 1, 2, 3, 4, 1, 2, 3, 4, 1, 2, 3, 4, 1, 2, 3, 4, 1, 2, 3,\n",
      "       4, 1, 2, 3, 4, 1, 2, 3, 4, 1, 2, 3, 4, 1, 2, 3, 4, 1, 2, 3, 4, 0,\n",
      "       0, 0, 0, 0, 0, 0, 0, 0, 0, 0, 0, 0, 0, 0, 0, 0, 0, 0, 0, 0, 0, 0,\n",
      "       0, 0, 0, 0, 0, 0, 0, 0, 0, 0, 0, 0, 0, 0, 0, 0, 0, 0, 0, 0, 0, 0,\n",
      "       0, 0, 0, 0, 0, 0, 0, 0, 0, 0, 0, 0, 0, 0, 0, 0, 0, 0, 0, 0, 0, 0,\n",
      "       0, 0, 0, 0, 0, 0, 0, 0, 0, 0, 0, 0, 0, 0, 0, 0, 0, 0, 0, 0, 0, 0,\n",
      "       0, 0, 0, 0, 0, 0, 0, 0, 0, 0, 0, 0, 0, 0, 0, 0, 0, 0, 0, 0, 0, 0,\n",
      "       0, 0, 0, 0, 0, 0, 0, 0, 0, 0, 0, 0, 0, 0, 0, 0, 0, 0, 0, 0]))\n"
     ]
    }
   ],
   "source": [
    "z=np.abs(zscore(df))\n",
    "z\n",
    "threshold=3\n",
    "print(np.where(z>3))"
   ]
  },
  {
   "cell_type": "code",
   "execution_count": 44,
   "metadata": {},
   "outputs": [],
   "source": [
    "df_new=df[(z<3).all(axis=1)]"
   ]
  },
  {
   "cell_type": "code",
   "execution_count": 45,
   "metadata": {},
   "outputs": [
    {
     "data": {
      "text/html": [
       "<div>\n",
       "<style scoped>\n",
       "    .dataframe tbody tr th:only-of-type {\n",
       "        vertical-align: middle;\n",
       "    }\n",
       "\n",
       "    .dataframe tbody tr th {\n",
       "        vertical-align: top;\n",
       "    }\n",
       "\n",
       "    .dataframe thead th {\n",
       "        text-align: right;\n",
       "    }\n",
       "</style>\n",
       "<table border=\"1\" class=\"dataframe\">\n",
       "  <thead>\n",
       "    <tr style=\"text-align: right;\">\n",
       "      <th></th>\n",
       "      <th>AveragePrice</th>\n",
       "      <th>Total Volume</th>\n",
       "      <th>4046</th>\n",
       "      <th>4225</th>\n",
       "      <th>4770</th>\n",
       "      <th>type</th>\n",
       "      <th>year</th>\n",
       "      <th>region</th>\n",
       "    </tr>\n",
       "  </thead>\n",
       "  <tbody>\n",
       "    <tr>\n",
       "      <th>0</th>\n",
       "      <td>1.33</td>\n",
       "      <td>64236.62</td>\n",
       "      <td>1036.74</td>\n",
       "      <td>54454.85</td>\n",
       "      <td>48.16</td>\n",
       "      <td>0</td>\n",
       "      <td>0</td>\n",
       "      <td>0</td>\n",
       "    </tr>\n",
       "    <tr>\n",
       "      <th>1</th>\n",
       "      <td>1.35</td>\n",
       "      <td>54876.98</td>\n",
       "      <td>674.28</td>\n",
       "      <td>44638.81</td>\n",
       "      <td>58.33</td>\n",
       "      <td>0</td>\n",
       "      <td>0</td>\n",
       "      <td>0</td>\n",
       "    </tr>\n",
       "    <tr>\n",
       "      <th>2</th>\n",
       "      <td>0.93</td>\n",
       "      <td>118220.22</td>\n",
       "      <td>794.70</td>\n",
       "      <td>109149.67</td>\n",
       "      <td>130.50</td>\n",
       "      <td>0</td>\n",
       "      <td>0</td>\n",
       "      <td>0</td>\n",
       "    </tr>\n",
       "    <tr>\n",
       "      <th>3</th>\n",
       "      <td>1.08</td>\n",
       "      <td>78992.15</td>\n",
       "      <td>1132.00</td>\n",
       "      <td>71976.41</td>\n",
       "      <td>72.58</td>\n",
       "      <td>0</td>\n",
       "      <td>0</td>\n",
       "      <td>0</td>\n",
       "    </tr>\n",
       "    <tr>\n",
       "      <th>4</th>\n",
       "      <td>1.28</td>\n",
       "      <td>51039.60</td>\n",
       "      <td>941.48</td>\n",
       "      <td>43838.39</td>\n",
       "      <td>75.78</td>\n",
       "      <td>0</td>\n",
       "      <td>0</td>\n",
       "      <td>0</td>\n",
       "    </tr>\n",
       "    <tr>\n",
       "      <th>...</th>\n",
       "      <td>...</td>\n",
       "      <td>...</td>\n",
       "      <td>...</td>\n",
       "      <td>...</td>\n",
       "      <td>...</td>\n",
       "      <td>...</td>\n",
       "      <td>...</td>\n",
       "      <td>...</td>\n",
       "    </tr>\n",
       "    <tr>\n",
       "      <th>7</th>\n",
       "      <td>1.63</td>\n",
       "      <td>17074.83</td>\n",
       "      <td>2046.96</td>\n",
       "      <td>1529.20</td>\n",
       "      <td>0.00</td>\n",
       "      <td>1</td>\n",
       "      <td>3</td>\n",
       "      <td>53</td>\n",
       "    </tr>\n",
       "    <tr>\n",
       "      <th>8</th>\n",
       "      <td>1.71</td>\n",
       "      <td>13888.04</td>\n",
       "      <td>1191.70</td>\n",
       "      <td>3431.50</td>\n",
       "      <td>0.00</td>\n",
       "      <td>1</td>\n",
       "      <td>3</td>\n",
       "      <td>53</td>\n",
       "    </tr>\n",
       "    <tr>\n",
       "      <th>9</th>\n",
       "      <td>1.87</td>\n",
       "      <td>13766.76</td>\n",
       "      <td>1191.92</td>\n",
       "      <td>2452.79</td>\n",
       "      <td>727.94</td>\n",
       "      <td>1</td>\n",
       "      <td>3</td>\n",
       "      <td>53</td>\n",
       "    </tr>\n",
       "    <tr>\n",
       "      <th>10</th>\n",
       "      <td>1.93</td>\n",
       "      <td>16205.22</td>\n",
       "      <td>1527.63</td>\n",
       "      <td>2981.04</td>\n",
       "      <td>727.01</td>\n",
       "      <td>1</td>\n",
       "      <td>3</td>\n",
       "      <td>53</td>\n",
       "    </tr>\n",
       "    <tr>\n",
       "      <th>11</th>\n",
       "      <td>1.62</td>\n",
       "      <td>17489.58</td>\n",
       "      <td>2894.77</td>\n",
       "      <td>2356.13</td>\n",
       "      <td>224.53</td>\n",
       "      <td>1</td>\n",
       "      <td>3</td>\n",
       "      <td>53</td>\n",
       "    </tr>\n",
       "  </tbody>\n",
       "</table>\n",
       "<p>17838 rows × 8 columns</p>\n",
       "</div>"
      ],
      "text/plain": [
       "    AveragePrice  Total Volume     4046       4225    4770  type  year  region\n",
       "0           1.33      64236.62  1036.74   54454.85   48.16     0     0       0\n",
       "1           1.35      54876.98   674.28   44638.81   58.33     0     0       0\n",
       "2           0.93     118220.22   794.70  109149.67  130.50     0     0       0\n",
       "3           1.08      78992.15  1132.00   71976.41   72.58     0     0       0\n",
       "4           1.28      51039.60   941.48   43838.39   75.78     0     0       0\n",
       "..           ...           ...      ...        ...     ...   ...   ...     ...\n",
       "7           1.63      17074.83  2046.96    1529.20    0.00     1     3      53\n",
       "8           1.71      13888.04  1191.70    3431.50    0.00     1     3      53\n",
       "9           1.87      13766.76  1191.92    2452.79  727.94     1     3      53\n",
       "10          1.93      16205.22  1527.63    2981.04  727.01     1     3      53\n",
       "11          1.62      17489.58  2894.77    2356.13  224.53     1     3      53\n",
       "\n",
       "[17838 rows x 8 columns]"
      ]
     },
     "execution_count": 45,
     "metadata": {},
     "output_type": "execute_result"
    }
   ],
   "source": [
    "df_new"
   ]
  },
  {
   "cell_type": "code",
   "execution_count": 46,
   "metadata": {},
   "outputs": [],
   "source": [
    "# extracting our input  Variables  and output variable(region) to train the model"
   ]
  },
  {
   "cell_type": "code",
   "execution_count": 47,
   "metadata": {},
   "outputs": [
    {
     "data": {
      "text/plain": [
       "(17838, 7)"
      ]
     },
     "execution_count": 47,
     "metadata": {},
     "output_type": "execute_result"
    }
   ],
   "source": [
    "x=df_new.iloc[:,0:-1]\n",
    "x.shape"
   ]
  },
  {
   "cell_type": "code",
   "execution_count": 48,
   "metadata": {},
   "outputs": [
    {
     "data": {
      "text/plain": [
       "(17838,)"
      ]
     },
     "execution_count": 48,
     "metadata": {},
     "output_type": "execute_result"
    }
   ],
   "source": [
    "y=df_new.iloc[:,-1]\n",
    "y.shape"
   ]
  },
  {
   "cell_type": "markdown",
   "metadata": {},
   "source": [
    "# To check the distribution of skewness"
   ]
  },
  {
   "cell_type": "code",
   "execution_count": 49,
   "metadata": {},
   "outputs": [
    {
     "data": {
      "text/plain": [
       "AveragePrice    0.385429\n",
       "Total Volume    3.661159\n",
       "4046            4.422120\n",
       "4225            4.104196\n",
       "4770            4.759495\n",
       "type           -0.016371\n",
       "year            0.221195\n",
       "region          0.012062\n",
       "dtype: float64"
      ]
     },
     "execution_count": 49,
     "metadata": {},
     "output_type": "execute_result"
    }
   ],
   "source": [
    "df_new.skew()  # shows values sold have highly skewed data"
   ]
  },
  {
   "cell_type": "code",
   "execution_count": 50,
   "metadata": {},
   "outputs": [],
   "source": [
    "# removing skewness by transforming data\n",
    "from sklearn.preprocessing import power_transform"
   ]
  },
  {
   "cell_type": "code",
   "execution_count": 51,
   "metadata": {},
   "outputs": [],
   "source": [
    "x=power_transform(x,method='yeo-johnson')"
   ]
  },
  {
   "cell_type": "markdown",
   "metadata": {},
   "source": [
    "# Model Training\n",
    "\n",
    "Logistic REgression"
   ]
  },
  {
   "cell_type": "code",
   "execution_count": 52,
   "metadata": {},
   "outputs": [],
   "source": [
    "# scaling the input variable\n",
    "from sklearn.preprocessing import StandardScaler\n",
    "sc=StandardScaler()\n",
    "scaledX=sc.fit_transform(x)"
   ]
  },
  {
   "cell_type": "code",
   "execution_count": 53,
   "metadata": {},
   "outputs": [],
   "source": [
    "# importing our model libraries\n",
    "from sklearn.model_selection import train_test_split\n",
    "from sklearn.linear_model import LogisticRegression\n",
    "from sklearn.svm import SVC\n",
    "from sklearn.tree import DecisionTreeClassifier\n",
    "from sklearn.ensemble import RandomForestClassifier\n",
    "from sklearn.neighbors import KNeighborsClassifier"
   ]
  },
  {
   "cell_type": "code",
   "execution_count": 54,
   "metadata": {},
   "outputs": [],
   "source": [
    "from sklearn.metrics import accuracy_score,confusion_matrix,classification_report\n",
    "import warnings\n",
    "warnings.filterwarnings('ignore')"
   ]
  },
  {
   "cell_type": "code",
   "execution_count": 55,
   "metadata": {},
   "outputs": [],
   "source": [
    "# breaking out input and output variable into train and test data\n",
    "x_train,x_test,y_train,y_test=train_test_split(scaledX,y,test_size=.22,random_state=43)"
   ]
  },
  {
   "cell_type": "code",
   "execution_count": 56,
   "metadata": {},
   "outputs": [
    {
     "name": "stdout",
     "output_type": "stream",
     "text": [
      "Accuracy score of  LogisticRegression() is  0.3997452229299363\n",
      "confusion matrix of  LogisticRegression() is \n",
      " [[35  0  0 ...  0  0  0]\n",
      " [ 0 26  0 ...  0  0  0]\n",
      " [ 0  0 32 ...  0  0  1]\n",
      " ...\n",
      " [ 0  0  0 ... 41  0  0]\n",
      " [ 0  0  0 ...  1 60  0]\n",
      " [ 0 10  0 ...  0  0  5]]\n",
      "classification report of  LogisticRegression() is \n",
      "               precision    recall  f1-score   support\n",
      "\n",
      "           0       0.42      0.51      0.46        69\n",
      "           1       0.23      0.33      0.27        78\n",
      "           2       0.35      0.53      0.42        60\n",
      "           3       0.32      0.39      0.35        71\n",
      "           4       0.32      0.33      0.33        75\n",
      "           5       0.64      0.60      0.62        78\n",
      "           6       0.47      0.69      0.56        61\n",
      "           7       0.53      0.69      0.60        88\n",
      "           8       0.41      0.50      0.45        66\n",
      "           9       0.32      0.58      0.42        65\n",
      "          10       0.38      0.27      0.32        70\n",
      "          11       0.33      0.33      0.33        66\n",
      "          12       0.11      0.11      0.11        73\n",
      "          13       0.23      0.07      0.10        76\n",
      "          14       0.28      0.32      0.30        59\n",
      "          15       0.62      0.49      0.55        57\n",
      "          16       0.48      0.32      0.38        75\n",
      "          17       0.41      0.60      0.49        65\n",
      "          18       0.32      0.37      0.34        83\n",
      "          19       0.62      0.19      0.29        85\n",
      "          20       0.31      0.41      0.35        70\n",
      "          21       0.28      0.20      0.23        79\n",
      "          22       0.53      0.52      0.53        75\n",
      "          23       0.51      0.79      0.62        70\n",
      "          24       0.06      0.04      0.05        75\n",
      "          25       0.55      0.63      0.59        78\n",
      "          26       0.15      0.06      0.09        77\n",
      "          27       0.29      0.43      0.34        72\n",
      "          28       0.52      0.37      0.43        73\n",
      "          29       0.78      0.74      0.76        87\n",
      "          30       0.43      0.23      0.30        82\n",
      "          31       0.33      0.37      0.35        76\n",
      "          32       0.34      0.30      0.32        79\n",
      "          33       0.36      0.49      0.42        83\n",
      "          34       0.08      0.03      0.04        79\n",
      "          35       0.58      0.30      0.40        70\n",
      "          36       0.24      0.16      0.19        68\n",
      "          37       0.47      0.36      0.41        83\n",
      "          38       0.41      0.56      0.47        75\n",
      "          39       0.37      0.47      0.41        81\n",
      "          40       0.38      0.82      0.52        66\n",
      "          41       0.54      0.18      0.27        82\n",
      "          42       0.51      0.65      0.57        57\n",
      "          43       0.28      0.18      0.22        73\n",
      "          44       0.18      0.28      0.22        72\n",
      "          45       0.64      0.70      0.67        60\n",
      "          46       0.35      0.46      0.40        65\n",
      "          47       0.26      0.42      0.32        60\n",
      "          48       0.23      0.13      0.17        69\n",
      "          49       0.74      0.73      0.74        88\n",
      "          50       0.12      0.03      0.04        80\n",
      "          51       0.98      1.00      0.99        41\n",
      "          52       0.68      0.70      0.69        86\n",
      "          53       0.13      0.07      0.09        74\n",
      "\n",
      "    accuracy                           0.40      3925\n",
      "   macro avg       0.40      0.41      0.39      3925\n",
      "weighted avg       0.39      0.40      0.38      3925\n",
      "\n",
      "**********************************************************************\n",
      "\n",
      "Accuracy score of  DecisionTreeClassifier() is  0.7429299363057325\n",
      "confusion matrix of  DecisionTreeClassifier() is \n",
      " [[53  0  0 ...  0  0  0]\n",
      " [ 0 42  0 ...  0  0  5]\n",
      " [ 0  0 54 ...  0  0  0]\n",
      " ...\n",
      " [ 0  0  0 ... 40  0  0]\n",
      " [ 0  0  0 ...  0 75  0]\n",
      " [ 0  0  2 ...  0  0 53]]\n",
      "classification report of  DecisionTreeClassifier() is \n",
      "               precision    recall  f1-score   support\n",
      "\n",
      "           0       0.67      0.77      0.72        69\n",
      "           1       0.62      0.54      0.58        78\n",
      "           2       0.73      0.90      0.81        60\n",
      "           3       0.81      0.77      0.79        71\n",
      "           4       0.90      0.75      0.82        75\n",
      "           5       0.71      0.72      0.71        78\n",
      "           6       0.86      0.80      0.83        61\n",
      "           7       0.88      0.90      0.89        88\n",
      "           8       0.89      0.95      0.92        66\n",
      "           9       0.73      0.80      0.76        65\n",
      "          10       0.76      0.73      0.74        70\n",
      "          11       0.68      0.79      0.73        66\n",
      "          12       0.74      0.68      0.71        73\n",
      "          13       0.80      0.70      0.75        76\n",
      "          14       0.62      0.71      0.66        59\n",
      "          15       0.87      0.84      0.86        57\n",
      "          16       0.82      0.84      0.83        75\n",
      "          17       0.82      0.71      0.76        65\n",
      "          18       0.71      0.71      0.71        83\n",
      "          19       0.80      0.72      0.76        85\n",
      "          20       0.70      0.73      0.71        70\n",
      "          21       0.53      0.61      0.57        79\n",
      "          22       0.93      0.88      0.90        75\n",
      "          23       0.78      0.81      0.80        70\n",
      "          24       0.60      0.49      0.54        75\n",
      "          25       0.92      0.91      0.92        78\n",
      "          26       0.62      0.62      0.62        77\n",
      "          27       0.68      0.74      0.71        72\n",
      "          28       0.74      0.75      0.75        73\n",
      "          29       0.85      0.84      0.84        87\n",
      "          30       0.74      0.84      0.79        82\n",
      "          31       0.52      0.55      0.54        76\n",
      "          32       0.76      0.73      0.75        79\n",
      "          33       0.86      0.80      0.82        83\n",
      "          34       0.78      0.65      0.71        79\n",
      "          35       0.84      0.83      0.83        70\n",
      "          36       0.52      0.54      0.53        68\n",
      "          37       0.80      0.67      0.73        83\n",
      "          38       0.75      0.80      0.77        75\n",
      "          39       0.79      0.67      0.72        81\n",
      "          40       0.65      0.77      0.71        66\n",
      "          41       0.76      0.63      0.69        82\n",
      "          42       0.81      0.81      0.81        57\n",
      "          43       0.66      0.70      0.68        73\n",
      "          44       0.76      0.75      0.76        72\n",
      "          45       0.90      0.93      0.92        60\n",
      "          46       0.90      0.88      0.89        65\n",
      "          47       0.62      0.67      0.65        60\n",
      "          48       0.65      0.62      0.64        69\n",
      "          49       0.79      0.74      0.76        88\n",
      "          50       0.40      0.49      0.44        80\n",
      "          51       1.00      0.98      0.99        41\n",
      "          52       0.79      0.87      0.83        86\n",
      "          53       0.65      0.72      0.68        74\n",
      "\n",
      "    accuracy                           0.74      3925\n",
      "   macro avg       0.75      0.75      0.75      3925\n",
      "weighted avg       0.75      0.74      0.74      3925\n",
      "\n",
      "**********************************************************************\n",
      "\n",
      "Accuracy score of  RandomForestClassifier() is  0.8486624203821655\n",
      "confusion matrix of  RandomForestClassifier() is \n",
      " [[63  0  0 ...  0  0  0]\n",
      " [ 0 53  0 ...  0  0  1]\n",
      " [ 0  0 59 ...  0  0  0]\n",
      " ...\n",
      " [ 0  0  0 ... 41  0  0]\n",
      " [ 0  0  0 ...  1 81  0]\n",
      " [ 0  1  1 ...  0  0 60]]\n",
      "classification report of  RandomForestClassifier() is \n",
      "               precision    recall  f1-score   support\n",
      "\n",
      "           0       0.79      0.91      0.85        69\n",
      "           1       0.74      0.68      0.71        78\n",
      "           2       0.89      0.98      0.94        60\n",
      "           3       0.82      0.92      0.87        71\n",
      "           4       0.91      0.91      0.91        75\n",
      "           5       0.86      0.81      0.83        78\n",
      "           6       0.93      0.87      0.90        61\n",
      "           7       0.89      0.92      0.91        88\n",
      "           8       0.99      1.00      0.99        66\n",
      "           9       0.89      0.86      0.88        65\n",
      "          10       0.77      0.79      0.78        70\n",
      "          11       0.69      0.85      0.76        66\n",
      "          12       0.92      0.89      0.90        73\n",
      "          13       0.85      0.82      0.83        76\n",
      "          14       0.77      0.85      0.81        59\n",
      "          15       0.97      1.00      0.98        57\n",
      "          16       0.93      0.89      0.91        75\n",
      "          17       0.88      0.82      0.85        65\n",
      "          18       0.83      0.76      0.79        83\n",
      "          19       0.91      0.84      0.87        85\n",
      "          20       0.84      0.76      0.80        70\n",
      "          21       0.61      0.75      0.67        79\n",
      "          22       0.93      0.95      0.94        75\n",
      "          23       0.87      0.83      0.85        70\n",
      "          24       0.82      0.60      0.69        75\n",
      "          25       0.99      0.97      0.98        78\n",
      "          26       0.78      0.69      0.73        77\n",
      "          27       0.79      0.94      0.86        72\n",
      "          28       0.95      0.86      0.91        73\n",
      "          29       0.97      0.97      0.97        87\n",
      "          30       0.93      0.90      0.91        82\n",
      "          31       0.58      0.67      0.62        76\n",
      "          32       0.85      0.87      0.86        79\n",
      "          33       0.91      0.84      0.88        83\n",
      "          34       0.96      0.87      0.91        79\n",
      "          35       0.94      0.93      0.94        70\n",
      "          36       0.71      0.68      0.69        68\n",
      "          37       0.87      0.80      0.83        83\n",
      "          38       0.78      0.92      0.85        75\n",
      "          39       0.90      0.89      0.89        81\n",
      "          40       0.74      0.92      0.82        66\n",
      "          41       0.89      0.80      0.85        82\n",
      "          42       0.96      0.96      0.96        57\n",
      "          43       0.84      0.78      0.81        73\n",
      "          44       0.94      0.85      0.89        72\n",
      "          45       0.97      0.93      0.95        60\n",
      "          46       0.94      0.95      0.95        65\n",
      "          47       0.78      0.77      0.77        60\n",
      "          48       0.83      0.84      0.83        69\n",
      "          49       0.88      0.88      0.88        88\n",
      "          50       0.55      0.54      0.54        80\n",
      "          51       0.98      1.00      0.99        41\n",
      "          52       0.84      0.94      0.89        86\n",
      "          53       0.80      0.81      0.81        74\n",
      "\n",
      "    accuracy                           0.85      3925\n",
      "   macro avg       0.85      0.85      0.85      3925\n",
      "weighted avg       0.85      0.85      0.85      3925\n",
      "\n",
      "**********************************************************************\n",
      "\n",
      "Accuracy score of  KNeighborsClassifier() is  0.7959235668789809\n",
      "confusion matrix of  KNeighborsClassifier() is \n",
      " [[57  0  0 ...  0  0  0]\n",
      " [ 0 47  0 ...  0  0  1]\n",
      " [ 0  0 57 ...  0  0  0]\n",
      " ...\n",
      " [ 0  0  0 ... 41  0  0]\n",
      " [ 0  0  0 ...  0 78  0]\n",
      " [ 0  0  1 ...  0  0 53]]\n",
      "classification report of  KNeighborsClassifier() is \n",
      "               precision    recall  f1-score   support\n",
      "\n",
      "           0       0.72      0.83      0.77        69\n",
      "           1       0.61      0.60      0.61        78\n",
      "           2       0.90      0.95      0.93        60\n",
      "           3       0.73      0.77      0.75        71\n",
      "           4       0.86      0.97      0.91        75\n",
      "           5       0.81      0.82      0.82        78\n",
      "           6       0.96      0.82      0.88        61\n",
      "           7       0.84      0.86      0.85        88\n",
      "           8       0.97      0.97      0.97        66\n",
      "           9       0.68      0.77      0.72        65\n",
      "          10       0.66      0.63      0.64        70\n",
      "          11       0.61      0.82      0.70        66\n",
      "          12       0.76      0.96      0.85        73\n",
      "          13       0.72      0.67      0.69        76\n",
      "          14       0.67      0.76      0.71        59\n",
      "          15       0.91      0.91      0.91        57\n",
      "          16       0.97      0.92      0.95        75\n",
      "          17       0.84      0.83      0.84        65\n",
      "          18       0.83      0.71      0.77        83\n",
      "          19       0.82      0.79      0.80        85\n",
      "          20       0.77      0.77      0.77        70\n",
      "          21       0.57      0.66      0.61        79\n",
      "          22       0.93      0.92      0.93        75\n",
      "          23       0.80      0.76      0.78        70\n",
      "          24       0.77      0.61      0.68        75\n",
      "          25       0.91      0.99      0.94        78\n",
      "          26       0.64      0.61      0.63        77\n",
      "          27       0.85      0.83      0.84        72\n",
      "          28       0.96      0.89      0.92        73\n",
      "          29       0.93      0.92      0.92        87\n",
      "          30       0.87      0.79      0.83        82\n",
      "          31       0.54      0.68      0.60        76\n",
      "          32       0.78      0.81      0.80        79\n",
      "          33       0.78      0.81      0.79        83\n",
      "          34       0.86      0.84      0.85        79\n",
      "          35       0.90      0.91      0.91        70\n",
      "          36       0.60      0.51      0.56        68\n",
      "          37       0.84      0.82      0.83        83\n",
      "          38       0.82      0.87      0.84        75\n",
      "          39       0.82      0.81      0.82        81\n",
      "          40       0.73      0.83      0.78        66\n",
      "          41       0.72      0.67      0.70        82\n",
      "          42       0.88      0.81      0.84        57\n",
      "          43       0.85      0.60      0.70        73\n",
      "          44       0.88      0.85      0.87        72\n",
      "          45       0.93      0.88      0.91        60\n",
      "          46       0.91      0.92      0.92        65\n",
      "          47       0.80      0.65      0.72        60\n",
      "          48       0.75      0.71      0.73        69\n",
      "          49       0.90      0.88      0.89        88\n",
      "          50       0.54      0.50      0.52        80\n",
      "          51       1.00      1.00      1.00        41\n",
      "          52       0.80      0.91      0.85        86\n",
      "          53       0.83      0.72      0.77        74\n",
      "\n",
      "    accuracy                           0.80      3925\n",
      "   macro avg       0.80      0.80      0.80      3925\n",
      "weighted avg       0.80      0.80      0.80      3925\n",
      "\n",
      "**********************************************************************\n",
      "\n",
      "Accuracy score of  SVC() is  0.7220382165605096\n",
      "confusion matrix of  SVC() is \n",
      " [[53  0  0 ...  0  0  0]\n",
      " [ 0 33  0 ...  0  0  1]\n",
      " [ 0  0 58 ...  0  0  0]\n",
      " ...\n",
      " [ 0  0  0 ... 41  0  0]\n",
      " [ 0  0  0 ...  0 83  0]\n",
      " [ 0  1  1 ...  0  0 41]]\n",
      "classification report of  SVC() is \n",
      "               precision    recall  f1-score   support\n",
      "\n",
      "           0       0.64      0.77      0.70        69\n",
      "           1       0.54      0.42      0.47        78\n",
      "           2       0.89      0.97      0.93        60\n",
      "           3       0.81      0.79      0.80        71\n",
      "           4       0.84      0.84      0.84        75\n",
      "           5       0.73      0.77      0.75        78\n",
      "           6       0.96      0.75      0.84        61\n",
      "           7       0.76      0.86      0.81        88\n",
      "           8       0.94      0.98      0.96        66\n",
      "           9       0.54      0.66      0.60        65\n",
      "          10       0.60      0.69      0.64        70\n",
      "          11       0.53      0.97      0.68        66\n",
      "          12       0.77      0.86      0.81        73\n",
      "          13       0.60      0.55      0.58        76\n",
      "          14       0.56      0.68      0.61        59\n",
      "          15       0.95      0.74      0.83        57\n",
      "          16       0.97      0.91      0.94        75\n",
      "          17       0.80      0.85      0.82        65\n",
      "          18       0.86      0.46      0.60        83\n",
      "          19       0.75      0.66      0.70        85\n",
      "          20       0.73      0.66      0.69        70\n",
      "          21       0.47      0.44      0.46        79\n",
      "          22       0.88      0.95      0.91        75\n",
      "          23       0.75      0.77      0.76        70\n",
      "          24       0.71      0.47      0.56        75\n",
      "          25       0.81      0.97      0.88        78\n",
      "          26       0.66      0.43      0.52        77\n",
      "          27       0.69      0.57      0.63        72\n",
      "          28       0.89      0.89      0.89        73\n",
      "          29       0.93      0.92      0.92        87\n",
      "          30       0.74      0.62      0.68        82\n",
      "          31       0.48      0.66      0.55        76\n",
      "          32       0.71      0.78      0.75        79\n",
      "          33       0.61      0.66      0.64        83\n",
      "          34       0.57      0.68      0.62        79\n",
      "          35       0.92      0.80      0.85        70\n",
      "          36       0.45      0.41      0.43        68\n",
      "          37       0.73      0.65      0.69        83\n",
      "          38       0.72      0.77      0.75        75\n",
      "          39       0.73      0.86      0.79        81\n",
      "          40       0.44      0.77      0.56        66\n",
      "          41       0.71      0.59      0.64        82\n",
      "          42       0.92      0.82      0.87        57\n",
      "          43       0.81      0.48      0.60        73\n",
      "          44       0.68      0.79      0.73        72\n",
      "          45       0.93      0.83      0.88        60\n",
      "          46       0.81      0.86      0.84        65\n",
      "          47       0.74      0.75      0.74        60\n",
      "          48       0.74      0.67      0.70        69\n",
      "          49       0.89      0.76      0.82        88\n",
      "          50       0.38      0.30      0.34        80\n",
      "          51       1.00      1.00      1.00        41\n",
      "          52       0.79      0.97      0.87        86\n",
      "          53       0.73      0.55      0.63        74\n",
      "\n",
      "    accuracy                           0.72      3925\n",
      "   macro avg       0.74      0.73      0.72      3925\n",
      "weighted avg       0.73      0.72      0.72      3925\n",
      "\n",
      "**********************************************************************\n",
      "\n"
     ]
    }
   ],
   "source": [
    "#using algorithms in for loops\n",
    "model=[LogisticRegression(),DecisionTreeClassifier(),RandomForestClassifier(),KNeighborsClassifier(),SVC()]\n",
    "for m in model:\n",
    "    m.fit(x_train,y_train)\n",
    "    y_pred=m.predict(x_test)\n",
    "    print(\"Accuracy score of \" , m , \"is \" , accuracy_score(y_test,y_pred))\n",
    "    print(\"confusion matrix of \" , m , \"is \\n\",confusion_matrix(y_test,y_pred))\n",
    "    print(\"classification report of \" , m, \"is \\n\",classification_report(y_test,y_pred))\n",
    "    print(\"**********************************************************************\\n\")"
   ]
  },
  {
   "cell_type": "markdown",
   "metadata": {},
   "source": [
    "# Conclusion\n",
    "\n",
    "RandomForestClassifer is performing best among all above with accuaracy score .85. "
   ]
  },
  {
   "cell_type": "markdown",
   "metadata": {},
   "source": [
    "# Saving the model- Serialization"
   ]
  },
  {
   "cell_type": "code",
   "execution_count": 57,
   "metadata": {},
   "outputs": [],
   "source": [
    "# saving the prediction model\n",
    "\n",
    "import pickle\n",
    "filename=\"AvacadoData.pkl\"\n",
    "pickle.dump(y_pred,open(filename,'wb'))"
   ]
  },
  {
   "cell_type": "code",
   "execution_count": null,
   "metadata": {},
   "outputs": [],
   "source": []
  },
  {
   "cell_type": "markdown",
   "metadata": {},
   "source": [
    "# Classification done with target variable - REGION\n",
    "\n",
    "# Now , we will do model training and validation for target variable Average price through Regression "
   ]
  },
  {
   "cell_type": "code",
   "execution_count": 58,
   "metadata": {},
   "outputs": [],
   "source": [
    "# extracting our input  Variables  and output variable(region) to train the model"
   ]
  },
  {
   "cell_type": "code",
   "execution_count": 59,
   "metadata": {},
   "outputs": [],
   "source": [
    "df_x=df_new.drop(columns=['AveragePrice'])"
   ]
  },
  {
   "cell_type": "code",
   "execution_count": 60,
   "metadata": {},
   "outputs": [],
   "source": [
    "y_t=pd.DataFrame(df_new['AveragePrice'])"
   ]
  },
  {
   "cell_type": "code",
   "execution_count": 61,
   "metadata": {},
   "outputs": [],
   "source": [
    "# scaling the dataset\n",
    "from sklearn.preprocessing import StandardScaler\n",
    "sc=StandardScaler()\n",
    "x_t=sc.fit_transform(df_x)\n",
    "x_t=pd.DataFrame(x_t,columns=df_x.columns)"
   ]
  },
  {
   "cell_type": "markdown",
   "metadata": {},
   "source": [
    "finding best random state"
   ]
  },
  {
   "cell_type": "code",
   "execution_count": 64,
   "metadata": {},
   "outputs": [],
   "source": [
    "from sklearn.metrics import r2_score, mean_absolute_error,mean_squared_error"
   ]
  },
  {
   "cell_type": "code",
   "execution_count": 65,
   "metadata": {},
   "outputs": [
    {
     "name": "stdout",
     "output_type": "stream",
     "text": [
      "Best Accuracy 43.18499306104998 Random state 159\n"
     ]
    }
   ],
   "source": [
    "from sklearn.linear_model import LinearRegression\n",
    "best_rstate=0\n",
    "accuracy=0\n",
    "for i in range(30,200):\n",
    "    x_train,x_test,y_train,y_test=train_test_split(x_t,y_t,test_size=.25,random_state=i)\n",
    "    mod=LinearRegression()\n",
    "    mod.fit(x_train,y_train)\n",
    "    predlr=mod.predict(x_test)\n",
    "    tempaccu=r2_score(y_test,predlr)\n",
    "    if(tempaccu>accuracy):\n",
    "        accuracy=tempaccu\n",
    "        best_rstate=i\n",
    "        \n",
    "print(\"Best Accuracy\",accuracy*100, \"Random state\",best_rstate)        "
   ]
  },
  {
   "cell_type": "code",
   "execution_count": 66,
   "metadata": {},
   "outputs": [],
   "source": [
    "# breaking out input and output variable into train and test data\n",
    "x_train,x_test,y_train,y_test=train_test_split(x_t,y_t,test_size=.22,random_state=159)"
   ]
  },
  {
   "cell_type": "code",
   "execution_count": 67,
   "metadata": {},
   "outputs": [
    {
     "name": "stdout",
     "output_type": "stream",
     "text": [
      "(13913, 7) \t (13913, 1)\n"
     ]
    }
   ],
   "source": [
    "print(x_train.shape , '\\t'  , y_train.shape)"
   ]
  },
  {
   "cell_type": "code",
   "execution_count": 68,
   "metadata": {},
   "outputs": [
    {
     "name": "stdout",
     "output_type": "stream",
     "text": [
      "(3925, 7) \t (3925, 1)\n"
     ]
    }
   ],
   "source": [
    "print(x_test.shape , '\\t'  , y_test.shape)"
   ]
  },
  {
   "cell_type": "code",
   "execution_count": 69,
   "metadata": {},
   "outputs": [],
   "source": [
    "# importing our model libraries\n",
    "from sklearn.model_selection import train_test_split\n",
    "from sklearn.linear_model import LinearRegression,Lasso,Ridge,ElasticNet\n",
    "from sklearn.ensemble import RandomForestRegressor,GradientBoostingRegressor\n",
    "from sklearn.neighbors import KNeighborsRegressor"
   ]
  },
  {
   "cell_type": "code",
   "execution_count": null,
   "metadata": {},
   "outputs": [],
   "source": []
  },
  {
   "cell_type": "code",
   "execution_count": 70,
   "metadata": {},
   "outputs": [
    {
     "name": "stdout",
     "output_type": "stream",
     "text": [
      "Score of  LinearRegression() is 0.40517209984220404\n",
      "Mean Absolute error   0.2328497040383857\n",
      "Mean Squared error \n",
      " 0.08819405972959035\n",
      "Root mean Squared error is \n",
      " 0.29697484696450366\n",
      "r2 score  0.42960376814656986\n",
      "**********************************************************************\n",
      "\n",
      "Score of  RandomForestRegressor() is 0.9758999446987099\n",
      "Mean Absolute error   0.11105057324840766\n",
      "Mean Squared error \n",
      " 0.02407196371210191\n",
      "Root mean Squared error is \n",
      " 0.15515142188230796\n",
      "r2 score  0.8443142606566206\n",
      "**********************************************************************\n",
      "\n",
      "Score of  KNeighborsRegressor() is 0.8926268911365013\n",
      "Mean Absolute error   0.10950165605095541\n",
      "Mean Squared error \n",
      " 0.023871827770700637\n",
      "Root mean Squared error is \n",
      " 0.15450510596967543\n",
      "r2 score  0.8456086424685447\n",
      "**********************************************************************\n",
      "\n",
      "Score of  GradientBoostingRegressor() is 0.6588361904447797\n",
      "Mean Absolute error   0.17223634723019715\n",
      "Mean Squared error \n",
      " 0.051794819495027955\n",
      "Root mean Squared error is \n",
      " 0.22758475233421935\n",
      "r2 score  0.6650163292167823\n",
      "**********************************************************************\n",
      "\n"
     ]
    }
   ],
   "source": [
    "#using algorithms in for loops\n",
    "model=[LinearRegression(),RandomForestRegressor(),KNeighborsRegressor(),GradientBoostingRegressor()]\n",
    "for m in model:\n",
    "    m.fit(x_train,y_train)\n",
    "    print(\"Score of \" , m , \"is\" , m.score(x_train,y_train))\n",
    "    y_pred=m.predict(x_test)\n",
    "    print(\"Mean Absolute error  \" , mean_absolute_error(y_test,y_pred))\n",
    "    print(\"Mean Squared error \\n\",mean_squared_error(y_test,y_pred))\n",
    "    print(\"Root mean Squared error is \\n\",np.sqrt(mean_squared_error(y_test,y_pred)))\n",
    "    print(\"r2 score \" , r2_score(y_test,y_pred))\n",
    "    print(\"**********************************************************************\\n\")"
   ]
  },
  {
   "cell_type": "markdown",
   "metadata": {},
   "source": [
    "# Hyperparameter tuning"
   ]
  },
  {
   "cell_type": "code",
   "execution_count": 72,
   "metadata": {},
   "outputs": [],
   "source": [
    "# randomForestRegressor is best performing model so finding its best parameter\n",
    "from sklearn.model_selection import GridSearchCV"
   ]
  },
  {
   "cell_type": "code",
   "execution_count": 73,
   "metadata": {},
   "outputs": [],
   "source": [
    "# Create the parameter grid based on the results of random search \n",
    "param_grid = {  'bootstrap': [True], 'max_depth': [5, 10, None], 'n_estimators': [5, 6, 7, 8, 9, 10, 11, 12, 13, 15]}"
   ]
  },
  {
   "cell_type": "code",
   "execution_count": 74,
   "metadata": {},
   "outputs": [],
   "source": [
    "rfr = RandomForestRegressor(random_state = 159)\n",
    "\n",
    "g_search = GridSearchCV(estimator = rfr, param_grid = param_grid, \n",
    "\n",
    "                          cv = 3, n_jobs = 1, verbose = 0, return_train_score=True)"
   ]
  },
  {
   "cell_type": "code",
   "execution_count": 75,
   "metadata": {},
   "outputs": [
    {
     "name": "stdout",
     "output_type": "stream",
     "text": [
      "{'bootstrap': True, 'max_depth': None, 'n_estimators': 15}\n"
     ]
    }
   ],
   "source": [
    "g_search.fit(x_train, y_train);\n",
    "\n",
    "print(g_search.best_params_)"
   ]
  },
  {
   "cell_type": "code",
   "execution_count": 76,
   "metadata": {},
   "outputs": [
    {
     "name": "stdout",
     "output_type": "stream",
     "text": [
      " Score is  0.9688420818401776\n",
      "Mean Absolute error   0.11617596602972399\n",
      "Mean Squared error \n",
      " 0.026818761104033965\n",
      "Root mean Squared error is \n",
      " 0.1637643462541037\n",
      "r2 score  0.8265493126904346\n",
      "**********************************************************************\n",
      "\n"
     ]
    }
   ],
   "source": [
    "# using RandomForestRegressor with best parameters\n",
    "rf=RandomForestRegressor(max_depth=None,bootstrap=True,n_estimators=15)\n",
    "rf.fit(x_train,y_train)\n",
    "print(\" Score is \",rf.score(x_train,y_train))\n",
    "predrf=rf.predict(x_test)\n",
    "print(\"Mean Absolute error  \" , mean_absolute_error(y_test,predrf))\n",
    "print(\"Mean Squared error \\n\",mean_squared_error(y_test,predrf))\n",
    "print(\"Root mean Squared error is \\n\",np.sqrt(mean_squared_error(y_test,predrf)))\n",
    "print(\"r2 score \" , r2_score(y_test,predrf))\n",
    "print(\"**********************************************************************\\n\")"
   ]
  },
  {
   "cell_type": "code",
   "execution_count": 77,
   "metadata": {},
   "outputs": [
    {
     "data": {
      "image/png": "[encoded data removed]",
      "text/plain": [
       "<Figure size 432x288 with 1 Axes>"
      ]
     },
     "metadata": {
      "needs_background": "light"
     },
     "output_type": "display_data"
    }
   ],
   "source": [
    "#plotting scatter between test data and predict data\n",
    "plt.scatter(y_test,predrf)\n",
    "plt.xlabel(\"y_test\")\n",
    "plt.ylabel(\"predicted y\")\n",
    "plt.title(\"Scatter plot between test and predict data \")\n",
    "plt.show()"
   ]
  },
  {
   "cell_type": "markdown",
   "metadata": {},
   "source": [
    "# Conclusion\n",
    "RandomForestRegressor is performing best among all above with  score .97"
   ]
  },
  {
   "cell_type": "code",
   "execution_count": 78,
   "metadata": {},
   "outputs": [],
   "source": [
    "# saving the prediction model\n",
    "\n",
    "import pickle\n",
    "filename=\"Avacado_AvPrice.pkl\"\n",
    "pickle.dump(predrf,open(filename,'wb'))"
   ]
  },
  {
   "cell_type": "code",
   "execution_count": null,
   "metadata": {},
   "outputs": [],
   "source": []
  },
  {
   "cell_type": "code",
   "execution_count": null,
   "metadata": {},
   "outputs": [],
   "source": []
  }
 ],
 "metadata": {
  "kernelspec": {
   "display_name": "Python 3",
   "language": "python",
   "name": "python3"
  }
 },
 "nbformat": 4,
 "nbformat_minor": 4
}
