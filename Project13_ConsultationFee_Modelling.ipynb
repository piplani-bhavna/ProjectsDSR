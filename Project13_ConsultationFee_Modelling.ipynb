{
 "cells": [
  {
   "cell_type": "code",
   "execution_count": 1,
   "metadata": {},
   "outputs": [],
   "source": [
    "import pandas as pd \n",
    "import numpy as np \n",
    "import matplotlib.pyplot as plt\n",
    "import seaborn as sns\n",
    "import warnings\n",
    "warnings.filterwarnings('ignore')"
   ]
  },
  {
   "cell_type": "markdown",
   "metadata": {},
   "source": [
    "# Problem Definition\n",
    "We are predicting doctor's consultation fee onn the basis of various attributes .\n",
    "\n",
    "FEATURES:\n",
    "\n",
    "1. Qualification: Qualification and degrees held by the doctor\n",
    "\n",
    "2. Experience: Experience of the doctor in number of years\n",
    "\n",
    "3. Rating: Rating given by patients\n",
    "\n",
    "4. Profile: Type of the doctor\n",
    "\n",
    "5. Miscellaeous_Info: Extra information about the doctor\n",
    "\n",
    "6. Fees: Fees charged by the doctor\n",
    "\n",
    "7. Place: Area and the city where the doctor is located."
   ]
  },
  {
   "cell_type": "code",
   "execution_count": 2,
   "metadata": {},
   "outputs": [
    {
     "data": {
      "text/html": [
       "<div>\n",
       "<style scoped>\n",
       "    .dataframe tbody tr th:only-of-type {\n",
       "        vertical-align: middle;\n",
       "    }\n",
       "\n",
       "    .dataframe tbody tr th {\n",
       "        vertical-align: top;\n",
       "    }\n",
       "\n",
       "    .dataframe thead th {\n",
       "        text-align: right;\n",
       "    }\n",
       "</style>\n",
       "<table border=\"1\" class=\"dataframe\">\n",
       "  <thead>\n",
       "    <tr style=\"text-align: right;\">\n",
       "      <th></th>\n",
       "      <th>Qualification</th>\n",
       "      <th>Experience</th>\n",
       "      <th>Rating</th>\n",
       "      <th>Place</th>\n",
       "      <th>Profile</th>\n",
       "      <th>Miscellaneous_Info</th>\n",
       "    </tr>\n",
       "  </thead>\n",
       "  <tbody>\n",
       "    <tr>\n",
       "      <th>0</th>\n",
       "      <td>MBBS</td>\n",
       "      <td>35 years experience</td>\n",
       "      <td>NaN</td>\n",
       "      <td>Ghatkopar East, Mumbai</td>\n",
       "      <td>General Medicine</td>\n",
       "      <td>NaN</td>\n",
       "    </tr>\n",
       "    <tr>\n",
       "      <th>1</th>\n",
       "      <td>MBBS, Diploma in Otorhinolaryngology (DLO)</td>\n",
       "      <td>31 years experience</td>\n",
       "      <td>NaN</td>\n",
       "      <td>West Marredpally, Hyderabad</td>\n",
       "      <td>ENT Specialist</td>\n",
       "      <td>NaN</td>\n",
       "    </tr>\n",
       "    <tr>\n",
       "      <th>2</th>\n",
       "      <td>MBBS, DDVL</td>\n",
       "      <td>40 years experience</td>\n",
       "      <td>70%</td>\n",
       "      <td>KK Nagar, Chennai</td>\n",
       "      <td>Dermatologists</td>\n",
       "      <td>70% 4 Feedback KK Nagar, Chennai</td>\n",
       "    </tr>\n",
       "    <tr>\n",
       "      <th>3</th>\n",
       "      <td>BAMS</td>\n",
       "      <td>0 years experience</td>\n",
       "      <td>NaN</td>\n",
       "      <td>New Ashok Nagar, Delhi</td>\n",
       "      <td>Ayurveda</td>\n",
       "      <td>NaN</td>\n",
       "    </tr>\n",
       "    <tr>\n",
       "      <th>4</th>\n",
       "      <td>BDS, MDS - Conservative Dentistry &amp; Endodontics</td>\n",
       "      <td>16 years experience</td>\n",
       "      <td>100%</td>\n",
       "      <td>Kanakpura Road, Bangalore</td>\n",
       "      <td>Dentist</td>\n",
       "      <td>General Dentistry Conservative Dentistry Cosme...</td>\n",
       "    </tr>\n",
       "    <tr>\n",
       "      <th>...</th>\n",
       "      <td>...</td>\n",
       "      <td>...</td>\n",
       "      <td>...</td>\n",
       "      <td>...</td>\n",
       "      <td>...</td>\n",
       "      <td>...</td>\n",
       "    </tr>\n",
       "    <tr>\n",
       "      <th>1982</th>\n",
       "      <td>BAMS, Doctor of Medicine</td>\n",
       "      <td>10 years experience</td>\n",
       "      <td>NaN</td>\n",
       "      <td>Basavanagudi, Bangalore</td>\n",
       "      <td>Ayurveda</td>\n",
       "      <td>NaN</td>\n",
       "    </tr>\n",
       "    <tr>\n",
       "      <th>1983</th>\n",
       "      <td>MD - Dermatology , Venereology &amp; Leprosy, MBBS</td>\n",
       "      <td>4 years experience</td>\n",
       "      <td>NaN</td>\n",
       "      <td>Choolai, Chennai</td>\n",
       "      <td>Dermatologists</td>\n",
       "      <td>NaN</td>\n",
       "    </tr>\n",
       "    <tr>\n",
       "      <th>1984</th>\n",
       "      <td>MBBS, MD / MS - Obstetrics &amp; Gynaecology</td>\n",
       "      <td>9 years experience</td>\n",
       "      <td>NaN</td>\n",
       "      <td>Porur, Chennai</td>\n",
       "      <td>General Medicine</td>\n",
       "      <td>NaN</td>\n",
       "    </tr>\n",
       "    <tr>\n",
       "      <th>1985</th>\n",
       "      <td>BDS</td>\n",
       "      <td>12 years experience</td>\n",
       "      <td>98%</td>\n",
       "      <td>Arekere, Bangalore</td>\n",
       "      <td>Dentist</td>\n",
       "      <td>RCT - Root Canal Treatment Root Canal Treatmen...</td>\n",
       "    </tr>\n",
       "    <tr>\n",
       "      <th>1986</th>\n",
       "      <td>MBBS, MD - Dermatology , Venereology &amp; Leprosy</td>\n",
       "      <td>8 years experience</td>\n",
       "      <td>NaN</td>\n",
       "      <td>Pallikaranai, Chennai</td>\n",
       "      <td>Dermatologists</td>\n",
       "      <td>1 Feedback Pallikaranai, Chennai ₹500</td>\n",
       "    </tr>\n",
       "  </tbody>\n",
       "</table>\n",
       "<p>1987 rows × 6 columns</p>\n",
       "</div>"
      ],
      "text/plain": [
       "                                        Qualification           Experience  \\\n",
       "0                                                MBBS  35 years experience   \n",
       "1          MBBS, Diploma in Otorhinolaryngology (DLO)  31 years experience   \n",
       "2                                          MBBS, DDVL  40 years experience   \n",
       "3                                                BAMS   0 years experience   \n",
       "4     BDS, MDS - Conservative Dentistry & Endodontics  16 years experience   \n",
       "...                                               ...                  ...   \n",
       "1982                         BAMS, Doctor of Medicine  10 years experience   \n",
       "1983   MD - Dermatology , Venereology & Leprosy, MBBS   4 years experience   \n",
       "1984         MBBS, MD / MS - Obstetrics & Gynaecology   9 years experience   \n",
       "1985                                              BDS  12 years experience   \n",
       "1986   MBBS, MD - Dermatology , Venereology & Leprosy   8 years experience   \n",
       "\n",
       "     Rating                        Place           Profile  \\\n",
       "0       NaN       Ghatkopar East, Mumbai  General Medicine   \n",
       "1       NaN  West Marredpally, Hyderabad    ENT Specialist   \n",
       "2       70%            KK Nagar, Chennai    Dermatologists   \n",
       "3       NaN       New Ashok Nagar, Delhi          Ayurveda   \n",
       "4      100%    Kanakpura Road, Bangalore           Dentist   \n",
       "...     ...                          ...               ...   \n",
       "1982    NaN      Basavanagudi, Bangalore          Ayurveda   \n",
       "1983    NaN             Choolai, Chennai    Dermatologists   \n",
       "1984    NaN               Porur, Chennai  General Medicine   \n",
       "1985    98%           Arekere, Bangalore           Dentist   \n",
       "1986    NaN        Pallikaranai, Chennai    Dermatologists   \n",
       "\n",
       "                                     Miscellaneous_Info  \n",
       "0                                                   NaN  \n",
       "1                                                   NaN  \n",
       "2                      70% 4 Feedback KK Nagar, Chennai  \n",
       "3                                                   NaN  \n",
       "4     General Dentistry Conservative Dentistry Cosme...  \n",
       "...                                                 ...  \n",
       "1982                                                NaN  \n",
       "1983                                                NaN  \n",
       "1984                                                NaN  \n",
       "1985  RCT - Root Canal Treatment Root Canal Treatmen...  \n",
       "1986              1 Feedback Pallikaranai, Chennai ₹500  \n",
       "\n",
       "[1987 rows x 6 columns]"
      ]
     },
     "execution_count": 2,
     "metadata": {},
     "output_type": "execute_result"
    }
   ],
   "source": [
    "df=pd.read_csv('Final_test.csv',sep='\\t' )\n",
    "df\n"
   ]
  },
  {
   "cell_type": "markdown",
   "metadata": {},
   "source": [
    "# EDA for Test Data"
   ]
  },
  {
   "cell_type": "code",
   "execution_count": 3,
   "metadata": {},
   "outputs": [
    {
     "data": {
      "text/plain": [
       "(1987, 6)"
      ]
     },
     "execution_count": 3,
     "metadata": {},
     "output_type": "execute_result"
    }
   ],
   "source": [
    "df.shape #checking the rows and ccolumns count"
   ]
  },
  {
   "cell_type": "code",
   "execution_count": 4,
   "metadata": {},
   "outputs": [
    {
     "data": {
      "text/plain": [
       "Index(['Qualification', 'Experience', 'Rating', 'Place', 'Profile',\n",
       "       'Miscellaneous_Info'],\n",
       "      dtype='object')"
      ]
     },
     "execution_count": 4,
     "metadata": {},
     "output_type": "execute_result"
    }
   ],
   "source": [
    "df.columns #checking various columns "
   ]
  },
  {
   "cell_type": "code",
   "execution_count": 5,
   "metadata": {},
   "outputs": [
    {
     "data": {
      "text/html": [
       "<div>\n",
       "<style scoped>\n",
       "    .dataframe tbody tr th:only-of-type {\n",
       "        vertical-align: middle;\n",
       "    }\n",
       "\n",
       "    .dataframe tbody tr th {\n",
       "        vertical-align: top;\n",
       "    }\n",
       "\n",
       "    .dataframe thead th {\n",
       "        text-align: right;\n",
       "    }\n",
       "</style>\n",
       "<table border=\"1\" class=\"dataframe\">\n",
       "  <thead>\n",
       "    <tr style=\"text-align: right;\">\n",
       "      <th></th>\n",
       "      <th>Qualification</th>\n",
       "      <th>Experience</th>\n",
       "      <th>Rating</th>\n",
       "      <th>Place</th>\n",
       "      <th>Profile</th>\n",
       "      <th>Miscellaneous_Info</th>\n",
       "    </tr>\n",
       "  </thead>\n",
       "  <tbody>\n",
       "    <tr>\n",
       "      <th>count</th>\n",
       "      <td>1987</td>\n",
       "      <td>1987</td>\n",
       "      <td>897</td>\n",
       "      <td>1981</td>\n",
       "      <td>1987</td>\n",
       "      <td>1153</td>\n",
       "    </tr>\n",
       "    <tr>\n",
       "      <th>unique</th>\n",
       "      <td>630</td>\n",
       "      <td>57</td>\n",
       "      <td>36</td>\n",
       "      <td>592</td>\n",
       "      <td>6</td>\n",
       "      <td>1084</td>\n",
       "    </tr>\n",
       "    <tr>\n",
       "      <th>top</th>\n",
       "      <td>BAMS</td>\n",
       "      <td>10 years experience</td>\n",
       "      <td>100%</td>\n",
       "      <td>Mulund West, Mumbai</td>\n",
       "      <td>General Medicine</td>\n",
       "      <td>Acrylic Partial Denture Crowns and Bridges Fix...</td>\n",
       "    </tr>\n",
       "    <tr>\n",
       "      <th>freq</th>\n",
       "      <td>153</td>\n",
       "      <td>110</td>\n",
       "      <td>223</td>\n",
       "      <td>27</td>\n",
       "      <td>444</td>\n",
       "      <td>10</td>\n",
       "    </tr>\n",
       "  </tbody>\n",
       "</table>\n",
       "</div>"
      ],
      "text/plain": [
       "       Qualification           Experience Rating                Place  \\\n",
       "count           1987                 1987    897                 1981   \n",
       "unique           630                   57     36                  592   \n",
       "top             BAMS  10 years experience   100%  Mulund West, Mumbai   \n",
       "freq             153                  110    223                   27   \n",
       "\n",
       "                 Profile                                 Miscellaneous_Info  \n",
       "count               1987                                               1153  \n",
       "unique                 6                                               1084  \n",
       "top     General Medicine  Acrylic Partial Denture Crowns and Bridges Fix...  \n",
       "freq                 444                                                 10  "
      ]
     },
     "execution_count": 5,
     "metadata": {},
     "output_type": "execute_result"
    }
   ],
   "source": [
    "df.describe()"
   ]
  },
  {
   "cell_type": "markdown",
   "metadata": {},
   "source": [
    "key observations here\n",
    "\n",
    "1. Count is not same in all columns .Means data is having missing values ."
   ]
  },
  {
   "cell_type": "code",
   "execution_count": 6,
   "metadata": {},
   "outputs": [
    {
     "data": {
      "text/plain": [
       "Qualification         object\n",
       "Experience            object\n",
       "Rating                object\n",
       "Place                 object\n",
       "Profile               object\n",
       "Miscellaneous_Info    object\n",
       "dtype: object"
      ]
     },
     "execution_count": 6,
     "metadata": {},
     "output_type": "execute_result"
    }
   ],
   "source": [
    "df.dtypes  # checking the data types of columns "
   ]
  },
  {
   "cell_type": "code",
   "execution_count": 7,
   "metadata": {},
   "outputs": [
    {
     "data": {
      "text/plain": [
       "Qualification            0\n",
       "Experience               0\n",
       "Rating                1090\n",
       "Place                    6\n",
       "Profile                  0\n",
       "Miscellaneous_Info     834\n",
       "dtype: int64"
      ]
     },
     "execution_count": 7,
     "metadata": {},
     "output_type": "execute_result"
    }
   ],
   "source": [
    "df.isnull().sum() # checking for null values "
   ]
  },
  {
   "cell_type": "code",
   "execution_count": 8,
   "metadata": {},
   "outputs": [
    {
     "data": {
      "text/plain": [
       "<AxesSubplot:>"
      ]
     },
     "execution_count": 8,
     "metadata": {},
     "output_type": "execute_result"
    },
    {
     "data": {
      "image/png": "[encoded data removed]",
      "text/plain": [
       "<Figure size 432x288 with 2 Axes>"
      ]
     },
     "metadata": {
      "needs_background": "light"
     },
     "output_type": "display_data"
    }
   ],
   "source": [
    "sns.heatmap(df.isnull())"
   ]
  },
  {
   "cell_type": "markdown",
   "metadata": {},
   "source": [
    "There are null values in column  Rating, Place, Misc_Info  "
   ]
  },
  {
   "cell_type": "markdown",
   "metadata": {},
   "source": [
    "Key Obseravtions here\n",
    "1. Data is not numerical. \n",
    "2. nominal values are alphanumeric also.\n",
    "So, One by one we will try to extract the relevant values from each variable."
   ]
  },
  {
   "cell_type": "code",
   "execution_count": 9,
   "metadata": {},
   "outputs": [],
   "source": [
    " #Extracting Experience Year from Experience column and convert to Numeric.\n",
    "# Experience\n",
    "df['Experience'] = df['Experience'].str.split().str[0]\n",
    "df['Experience'] = df['Experience'].astype(int)"
   ]
  },
  {
   "cell_type": "markdown",
   "metadata": {},
   "source": [
    "Now, Rating column has % symbols. and having null values too.\n",
    "1. Remove % symbols.\n",
    "2. Changing the null values to -99. Putting values 0 will not serve the purpose and give a negative view having 0 ratings"
   ]
  },
  {
   "cell_type": "code",
   "execution_count": 10,
   "metadata": {},
   "outputs": [],
   "source": [
    "df['Rating'].fillna('-99%',inplace=True) # filling the null values "
   ]
  },
  {
   "cell_type": "code",
   "execution_count": 11,
   "metadata": {},
   "outputs": [],
   "source": [
    "for i in df['Rating'].value_counts().index:\n",
    "    df['Rating'].replace(i,int(i[:-1]),inplace=True)"
   ]
  },
  {
   "cell_type": "markdown",
   "metadata": {},
   "source": [
    "Steps to be followed for extracting Qualification info\n",
    "1. Repeated values in all entries. like MBBS.So making a qualification count\n",
    "2. comma and space sepeartd values to be handled . And Extracting top 10 qualifications\n",
    "3. we will make specific columns for all top degrees which most of the rows carry.\n",
    "4. will drop old Qualification and count column"
   ]
  },
  {
   "cell_type": "code",
   "execution_count": 12,
   "metadata": {},
   "outputs": [
    {
     "data": {
      "text/plain": [
       "2     889\n",
       "1     609\n",
       "3     366\n",
       "4      87\n",
       "5      28\n",
       "6       5\n",
       "17      1\n",
       "9       1\n",
       "7       1\n",
       "Name: Qualification_count, dtype: int64"
      ]
     },
     "execution_count": 12,
     "metadata": {},
     "output_type": "execute_result"
    }
   ],
   "source": [
    "df['Qualification_count'] = df['Qualification'].apply(lambda x: len(x.split(\",\")))\n",
    "\n",
    "df['Qualification_count'].value_counts()"
   ]
  },
  {
   "cell_type": "code",
   "execution_count": 13,
   "metadata": {},
   "outputs": [
    {
     "data": {
      "text/plain": [
       "array(['MBBS', 'MBBS, Diploma in Otorhinolaryngology (DLO)', 'MBBS, DDVL',\n",
       "       'BAMS', 'BDS, MDS - Conservative Dentistry & Endodontics',\n",
       "       'BDS, MDS', 'BDS, MDS - Pedodontics',\n",
       "       'MD - Ayurveda Medicine, BAMS, Yoga Teachers Training Course, M. D. IN KAYACHIKISTA',\n",
       "       'BHMS', 'BDS', 'MBBS, FCD - Diabetology', 'MBBS, DDV',\n",
       "       'MBBS, MD - Dermatology', 'MS - ENT',\n",
       "       'MBBS, Diploma in Otorhinolaryngology (DLO), MS - ENT, DNB - ENT, MNAMS (Membership of the National Academy)',\n",
       "       'BHMS, Diploma in Naturopathy & Yogic Science (DNYS), Diploma in Diet and Nutrition, Diploma in Cosmetology',\n",
       "       'MBBS, PG Diploma In Clinical Cosmetology (PGDCC)',\n",
       "       'BDS, MDS - Periodontics', 'BDS, MDS- Oral Pathology',\n",
       "       'MBBS, MD - General Medicine', 'MS - ENT, MBBS',\n",
       "       'MBBS, Diploma in Otorhinolaryngology (DLO), DNB - ENT',\n",
       "       'MBBS, MS - ENT, DNB - Otorhinolaryngology',\n",
       "       'BDS, PhD - Endodontics, MDS - Conservative Dentistry & Endodontics',\n",
       "       'BSc, LCEH', 'BAMS, MD - Ayurveda Medicine',\n",
       "       'MBBS, DGO, MD - Obstetrics & Gynaecology',\n",
       "       'BHMS, MD - Homeopathy', 'BHMS, DM - Oncology',\n",
       "       'MBBS, DNB - Dermatology, Venereology & Leprosy, DVD',\n",
       "       'MBBS, MS - Otorhinolaryngology',\n",
       "       'Fellowship in Aesthetic Medicine, MD - Dermatology',\n",
       "       'BDS, Fellowship in Oral implantlogy',\n",
       "       'MBBS, MD - Dermatology, Fellowship in Aesthetic Medicine',\n",
       "       'MBBS, MS - Ophthalmology',\n",
       "       'MDS - Conservative Dentistry & Endodontics, BDS',\n",
       "       'MBBS, MS - Otorhinolaryngology, Diploma in Otorhinolaryngology (DLO)',\n",
       "       'BAMS, PGCR',\n",
       "       'BHMS, MS - Counselling and Psychotherapy, Certificate Course in Advanced Homoeopathy (C.C.A.H)',\n",
       "       'MBBS, MS - ENT, Diploma in Otorhinolaryngology (DLO)',\n",
       "       'MBBS, FRCS - Otolaryngology, Diploma in Otorhinolaryngology (DLO), Diploma in Acupuncture',\n",
       "       'MBBS, MD - Medicine, DM - Cardiology',\n",
       "       'BDS, Post-Graduate Certificate in Oral Implantology (PGCOI), MDS - Periodontology and Oral Implantology',\n",
       "       'LCEH', 'MBBS, MS - ENT', 'MBBS, MD - Medicine',\n",
       "       'DM - Nephrology, MD - Internal Medicine, MBBS',\n",
       "       'MBBS, DDVL, FRGUHS',\n",
       "       'MBBS, Diploma in Otorhinolaryngology (DLO), FRCS - General Surgery',\n",
       "       'BDS, MDS - Oral & Maxillofacial Surgery, Fellowship in Cleft Lip & Palate, Fellowship in TMJ Surgery',\n",
       "       'MBBS, DNB - Otorhinolaryngology',\n",
       "       'Post Graduate Diploma in Diabetology (PGDD)(Madras Medical College), MBBS',\n",
       "       'Certificate in Dental Implants, MDS - Oral Medicine and Radiology, Certification in Aesthetic Dentistry, Certification in Full Mouth Rehabilitation, BDS',\n",
       "       'BDS, MDS - Orthodontics and Dentofacial Orthopaedics',\n",
       "       'MBBS, MD - Internal Medicine',\n",
       "       'MBBS, MD - General Medicine, DNB - General Medicine, Fellowship in Diabetology, DAA - Diploma in Allergy Asthma and Immunology, Certificate in Pulmonology',\n",
       "       'MD - Tuberculosis & Respiratory Diseases/Medicine, MBBS',\n",
       "       'MBBS, DDV, MD - Dermatology, Fellowship In Cosmetic Dermatology',\n",
       "       'B.Sc, MBBS, FCCP - Pulmonary Medicine',\n",
       "       'MBBS, MS - General Surgery',\n",
       "       'MBBS, MRCOG(UK), Diploma of the Faculty of Family Planning (DFFP), DRCOG, Member of the Royal College of General Practitioners UK (MRCGP), Fellowship in Diabetes (UK)',\n",
       "       'BDS, MDS - Paedodontics And Preventive Dentistry',\n",
       "       'BHMS, MS - Psychology', 'MD - General Medicine',\n",
       "       'BDS, Fellow of Academy of General Education (FAGE)',\n",
       "       'MD - Skin & VD', 'MBBS, MD - Dermatology , Venereology & Leprosy',\n",
       "       'BDS, MDS - Periodontology and Oral Implantology', 'MBBS, DNB',\n",
       "       'MDS - Orthodontics, BDS', 'BHMS, Diploma in Dermatology',\n",
       "       'MBBS, MD - Pulmonary Medicine, MD - Tuberculosis & Respiratory Diseases / Pulmonary Medicine',\n",
       "       'MDS - Prosthodontist And Crown Bridge, BDS',\n",
       "       'MBBS, Diploma in Orthopaedics',\n",
       "       'MBBS, DNB - ENT, Diploma in Otorhinolaryngology (DLO)',\n",
       "       'BDS, MDS - Prosthodontics',\n",
       "       'MD - Dermatology, MBBS, DNB - Dermatology, Venereology & Leprosy, FRGUHS',\n",
       "       'MDS - Oral & Maxillofacial Surgery, BDS',\n",
       "       'MBBS, MD - Dermatology, DDV',\n",
       "       'MBBS, Diploma in Aesthetic Medicine, DDV',\n",
       "       'MBBS, Diploma in Tuberculosis and Chest Diseases (DTCD), DNB -Chest, Post Graduate Diploma in Diabetes',\n",
       "       'BDS, MDS - Orthodontics', 'BDS, Diploma in Laser Dentistry, MDS',\n",
       "       'BDS, MDS - Oral Medicine and Radiology',\n",
       "       'MBBS, Diploma in Anesthesiology, Certificate in Acupuncture',\n",
       "       \"BAMS, Yoga Instructor's Course, Diploma in Nutrition and Health Education\",\n",
       "       'MD - Dermatology, DDV, MBBS',\n",
       "       'MBBS, DNB - Family Medicine, Fellowship in Diabetology',\n",
       "       'MBBS, MS - ENT, MRCS (UK), Diploma in Otorhinolaryngology (DLO)',\n",
       "       'DVD, MBBS', 'DDVL, MBBS', 'MBBS, MD - Obstetrics & Gynaecology',\n",
       "       'MBBS, Diploma in Dermatology',\n",
       "       'BHMS, PGDPC (Post Graduation Diploma In Psychological Counselling)',\n",
       "       'BAMS, PGD Yoga', 'MDS - Prosthodontics, BDS',\n",
       "       'BAMS, MBA - Healthcare Services', 'DNB - ENT, MD - Physician',\n",
       "       'MDS - Paedodontics And Preventive Dentistry, Membership of the Faculty of Dental Surgeons(MFDS)',\n",
       "       'MBBS, PGDHHM, PGDMLS', 'MBBS, DNB - Dermatology & Venereology',\n",
       "       'MBBS, MD - Obstetrics & Gynaecology, MRCOG(UK)',\n",
       "       'DNB - Otorhinolaryngology, MNAMS - General Surgery, MS - Otorhinolaryngology, MBBS',\n",
       "       'BDS, PhD - Orthodontics & Dentofacial Orthopaedics',\n",
       "       'MBBS, MD - Pediatrics', 'MD - Dermatology, MBBS',\n",
       "       'MBBS, MD - Internal Medicine, Post Graduate Diploma in Diabetology (PGDD)',\n",
       "       'BDS, Certificate of Oral Implantology',\n",
       "       'BDS, Doctor of Dental Surgery (DDS)',\n",
       "       'MBBS, Diploma in Dermatology, DDVL, DDV',\n",
       "       'MBBS, MD - Skin & VD, DDVL',\n",
       "       'MDS - Orthodontics and Dentofacial Orthopaedics',\n",
       "       'BHMS, Diploma in Cosmetology',\n",
       "       'MBBS, DDVL, DNB - Dermatology & Venereology, Fellowship In Dermatosurgery',\n",
       "       'BAMS, MBA - Hospital Management', 'MBBS, DDVL, MD - Dermatology',\n",
       "       'MBBS, Diploma in Otorhinolaryngology (DLO), MS - ENT',\n",
       "       'MBBS, MD - Dermatology, Fellowship In Dermatosurgery',\n",
       "       'MD - Dermatology , Venereology & Leprosy, MBBS',\n",
       "       'MDS - Oral & Maxillofacial Surgery',\n",
       "       'MBBS, MD - Dermatology, FRGUHS, Fellowship in Cosmetology',\n",
       "       'MBBS, MS - ENT, FRCS, MRCS (UK), Dip Otolaryngology and Head and neck Surgery',\n",
       "       'MBBS, DNB - General Medicine, MF- Homeopathy, MSc - Psychotherapy And Counselling, Post Graduate Diploma in Diabetology (PGDD)',\n",
       "       'MBBS, DNB - Family Medicine, CCEBDM',\n",
       "       'MBBS, Diploma in Laparoscopy, FRCS - General Surgery (Upper GI)',\n",
       "       'MBBS, DNB - General Medicine, Post Graduate Diploma in Diabetology (PGDD)',\n",
       "       'Doctor of Homeopathic Medicine (HMD)',\n",
       "       'DHMS (Diploma in Homeopathic Medicine and Surgery), Diploma in Clinical Cosmetology, Diploma in Trichology - Cosmetology',\n",
       "       'BHMS, Post Graduate Diploma in Clinical Research (PGDCR)',\n",
       "       'BHMS, Certificate in Child Health (CCH)',\n",
       "       'MDS, Advanced Certificate Course in Dental Implants, BDS',\n",
       "       'BDS, MDS - Prosthodontist And Crown Bridge',\n",
       "       'DNB - General Medicine, MBBS', 'MBBS, MNAMS- Family Medicine',\n",
       "       'MBBS, MD - Internal Medicine, FACP (USA)',\n",
       "       'MBBS, Diploma in Otorhinolaryngology (DLO), MD - Anatomy',\n",
       "       'BDS, FICD',\n",
       "       'FRCP, MRCPS, MBBS, MD - General Medicine, Diploma in Medical Law and Ethics (PGDMLE)',\n",
       "       'MBBS, MD - (Dermatology & STD)', 'MBBS, DVD, MD - Dermatology',\n",
       "       'MBBS, Diploma in Emergency Medicine',\n",
       "       'BDS, MBA, Certification in Aesthetic Dentistry',\n",
       "       'MBBS, Fellow of Academy of General Education (FAGE), MS - ENT, Fellowship in Advanced Endoscopic Sinus Surgery',\n",
       "       'BSc, DHMS (Diploma in Homeopathic Medicine and Surgery)',\n",
       "       'BHMS, Doctor of Homeopathic Medicine (HMD), MBA',\n",
       "       'MDS - Oral & Maxillofacial Surgery, Fellowship Program in Oral Implantology and LASER Dentistry, BDS',\n",
       "       'MBBS, MS - ENT, Fellowship in Head & Neck Surgery',\n",
       "       'BDS, MDS - Prosthodontist & Oral Implantologist',\n",
       "       'MD - Internal Medicine, MBBS, Diplomate from the American Board of Internal Medicine',\n",
       "       'BAMS, MD - Ayurveda Medicine, PhD- Ayurveda',\n",
       "       \"BAMS, PGD ND, Yoga Instructor's Course\",\n",
       "       'BDS, Fellowship Program in Aesthetic Dentistry and Occlusion',\n",
       "       'MBBS, Diploma in Public Health, MD - Community Medicine, Fellowship in Lifestyle Medicine',\n",
       "       'BAMS, MS - Ayurveda',\n",
       "       'Diploma in Otorhinolaryngology (DLO), Ph. D - ENT, MBBS, DNB - ENT',\n",
       "       'MDS - Orthodontics and Dentofacial Orthopaedics, BDS',\n",
       "       'MBBS, Diploma in Otorhinolaryngology (DLO), MS - Otorhinolaryngology',\n",
       "       'BSAM, BAMS, Fellow of Academy of General Education (FAGE)',\n",
       "       'MD - Homeopathy, BHMS', 'MBBS, DNB - Otorhinolaryngology, DLO',\n",
       "       'Get inspired by remarkable stories of people like you',\n",
       "       'MBBS, MD - General Medicine, Diploma in Diabetology',\n",
       "       'MD - Ayurveda Medicine',\n",
       "       'MD - Homeopathy, PG Diploma In Clinical Cosmetology (PGDCC), BHMS',\n",
       "       'DHMS (Diploma in Homeopathic Medicine and Surgery)',\n",
       "       'MD - Dermatology', 'MBBS, DDV, DNB',\n",
       "       'BDS, Post graduate diploma in Hospital Management',\n",
       "       'MBBS, Diploma in Anesthesiology',\n",
       "       'BDS, MDS - Oral & Maxillofacial Surgery, FDSRCS - Fellowship in Dental Surgery',\n",
       "       'MBBS, MD - Internal Medicine, Post Graduate Diploma in Diabetology (PGDD), DNB - General Medicine',\n",
       "       'BHMS, PG - Homeo, Integrated therapy in Cancer, Basic Course in Palliative Care',\n",
       "       'BHMS, Fellowship Course in Homoeopathic Dermatology, Masters in Counselling and Psychotherapy',\n",
       "       'MBBS, MD - Medicine, FCPS - General Surgery', 'BHMS, CSD',\n",
       "       'BHMS, MD (HOM) - Paeditrics, Fellowship Course in Homoeopathic Dermatology',\n",
       "       'M.S. (Ayurved) Stri Roga & Prasuti Tantra, BAMS',\n",
       "       'MBBS, MD - General Medicine, DNB - General Medicine',\n",
       "       'MBBS, MS - Otorhinolaryngology, Fellowship in laryngology',\n",
       "       'BDS, MDS - Prosthodontist And Crown Bridge, Certificate Course in Orthodontics',\n",
       "       'B.Sc, BAMS, MD - Ayurveda Medicine',\n",
       "       'DO, MS - Ophthalmology, MBBS', 'FRCS - General Surgery',\n",
       "       'BDS, MDS- Periodontist & Implantalogist',\n",
       "       'MBBS, MCh - Surgical Gastroenterology/G.I. Surgery',\n",
       "       'BDS, Certificate in Dental Implants',\n",
       "       'MBBS, DNB - General Medicine',\n",
       "       'MDS - Paedodontics And Preventive Dentistry, BDS',\n",
       "       'MBBS, Diploma in Tuberculosis and Chest Diseases (DTCD)',\n",
       "       'BAMS, MS - Ayurvedic General Surgery',\n",
       "       'MBBS, MD - Physician, DNB - General Medicine, Fellowship in Diabetology',\n",
       "       'MBBS, DNB - Internal Medicine',\n",
       "       'MBBS, FICA, MD - General Medicine',\n",
       "       'BDS, MDS - Periodontology and Oral Implantology, Current Concepts in American Dentistry Advances in Implantology and Oral Rehabilitation, Comprehensive Course in Modern Endodontics',\n",
       "       'MBBS, FACC, FCCP - Pulmonary Medicine', 'FWFO, FPFA',\n",
       "       'MBBS, MD - Internal Medicine, DM - Gastroenterology',\n",
       "       'MBBS, MD - General Medicine, DM - Cardiology',\n",
       "       'MBBS, DLO, MS - ENT',\n",
       "       'MS - ENT, Diploma in Otorhinolaryngology (DLO)',\n",
       "       'MBBS, Diploma in Family Medicine (DFM), Fellowship in Diabetology',\n",
       "       'BHMS, Diploma in Medical Cosmetology',\n",
       "       'MBBS, Diploma in Otorhinolaryngology (DLO), DNB - Otorhinolaryngology',\n",
       "       'MBBS, DDVL, Fellowship in Dermatological Laser Surgery, Fellowship In Cosmetic Dermatology',\n",
       "       'MBBS, MD - Family Medicine, Post Graduate Diploma in Diabetology (PGDD)',\n",
       "       'MBBS, MSc',\n",
       "       'Diploma in Otorhinolaryngology (DLO), MS - ENT, MBBS',\n",
       "       'MBBS, Diploma in Family Medicine (DFM)',\n",
       "       'MD - General Medicine, MBBS',\n",
       "       'DNB - ENT, Diploma in Otorhinolaryngology (DLO), MBBS',\n",
       "       'MBBS, MD - Dermatology, MD - Dermatology , Venereology & Leprosy',\n",
       "       'MBBS, Diploma in Child Health (DCH), DNB - Paediatrics',\n",
       "       'BSc, BHMS', 'BAMS, MD- Ayurveda Rasashastra',\n",
       "       'BAMS, PG Dip (Medical Education), Fellow of Academy of General Education (FAGE), MBA (Health Care)',\n",
       "       'MS - Otorhinolaryngology, MBBS',\n",
       "       'BAMS, MD - Alternate Medicine, Fellow of Academy of General Education (FAGE), Diploma in Preventive & Promotive Healthcare',\n",
       "       'BHMS, MD - General Medicine',\n",
       "       'MDS - Oral & Maxillofacial Surgery, Implant Training Course- Nobel Biocare, BDS',\n",
       "       'MBBS, Diploma in Dermatology, MD - Dermatology',\n",
       "       'MBBS, Certificate Course in Evidence Based Diabetes Management (CCEBDM)',\n",
       "       'DDVL', 'BHMS, DNHE', 'BAMS, Diploma in Clinical Nutrition',\n",
       "       'BHMS, MD - Alternate Medicine, Masters in Counselling and Psychotherapy',\n",
       "       'MBBS, MD - Internal Medicine, Post Graduate Diploma in Diabetology (PGDD), Fellowship in Diabetology',\n",
       "       'Diploma in Otorhinolaryngology (DLO), MBBS',\n",
       "       'MBBS, DNB - ENT, MS - ENT, FCPS - Oto-Rhino-Laryngology, Diploma in Otorhinolaryngology (DLO)',\n",
       "       'BDS, MDS - Paedodontics And Preventive Dentistry, Certification for Professional Chemical Peel Workshop',\n",
       "       'BHMS, Diploma in Cosmetology, MD - Dermatology',\n",
       "       'BAMS, M. D. IN KAYACHIKISTA', 'MBBS, MD - Pharmacology',\n",
       "       'MBBS, Fellowship of College of General Practice (FCGP)',\n",
       "       'MDS - Periodontology and Oral Implantology, BDS',\n",
       "       'MD - Homeopathy, PGDPC (Post Graduation Diploma In Psychological Counselling)',\n",
       "       'MBBS, DNB - Family Medicine',\n",
       "       'MBBS, MS - ENT, Diploma in Aesthetic Medicine',\n",
       "       'BDS, Post-Graduate Certificate in Oral Implantology (PGCOI)',\n",
       "       'BDS, MDS - Oral & Maxillofacial Surgery',\n",
       "       'MDS - Prosthodontist And Crown Bridge',\n",
       "       'MD - Homeopathy, BHMS, DNHE',\n",
       "       'MBBS, MD - Dermatology, Fellow of the American Academy of Dermatology (FAAD)',\n",
       "       'BAMS, MBA (HCS)', 'MBBS, DVD',\n",
       "       'MBBS, Diploma in Anesthesiology, Postgraduate Diploma Clinical Cardiology (PGDCC)',\n",
       "       'BHMS, MD - Ayurveda Medicine',\n",
       "       'MBBS, MASTERS IN MEDICAL SCIENCE AND TECHNOLOGY',\n",
       "       'DNB - Dermatology & Venereology, MBBS',\n",
       "       'BDS, MDS-Oral Pathology and Oral Microbiology',\n",
       "       'MBBS, MS - ENT, DNB',\n",
       "       'MBBS, Post Graduate Diploma in Diabetes, Fellowship in Diabetology',\n",
       "       'MD - Homeopathy, DHMS (Diploma in Homeopathic Medicine and Surgery)',\n",
       "       'MBBS, MS - ENT, DNB - ENT',\n",
       "       'MBBS, DDV, Diploma in Health Administration',\n",
       "       'BDS, Advanced Certificate Course in Dental Implants',\n",
       "       'MBBS, Diploma in Otorhinolaryngology (DLO), Fellow of Academy of General Education (FAGE), FRCS - General Surgery',\n",
       "       'BDS, MDS - Periodontics, Fellowship and Diplomate in Implantology from ICOI (USA), DICOI',\n",
       "       'MD - Dermatology , Venereology & Leprosy', 'BHMS, PGDHA',\n",
       "       'MBBS, MD - General Medicine, MRCP - General Medicine',\n",
       "       'BDS, MDS - Periodontics, MSc',\n",
       "       'BDS, Certification in Aesthetic Dentistry',\n",
       "       'MBBS, MD - Homeopathy, MD - General Medicine',\n",
       "       'MDS - Pedodontics, BDS',\n",
       "       'MBBS, MD - Dermatology, DNB - Dermatology & Venereology, F.C.P.S (Dermatology)',\n",
       "       'MD - Homeopathy',\n",
       "       'BDS, MDS - Oral & Maxillofacial Surgery, Training in Surgical Oncology',\n",
       "       'MBBS, MD - General Medicine, FCD - Diabetology',\n",
       "       'MBBS, Post Graduate Course in Diabetology, DipFM',\n",
       "       'Diploma in Child Health (DCH), MBBS',\n",
       "       'MD - General Medicine, DNB, Diploma in Geriatric Medicine',\n",
       "       'BAMS, Certificate Course in Kshar Sutra Surgery',\n",
       "       'MBBS, DORL (ENT), MS - ENT', 'MBBS, MD - Dermatology, DNB',\n",
       "       'MBBS, MD - General Medicine, Diploma in Cardiology',\n",
       "       'MBBS, MD - Oncology',\n",
       "       'BHMS, MD - Homeopathy, MA - Clinical Psychology',\n",
       "       'Diploma in Dermatology, MD - Dermatology',\n",
       "       'MBBS, PG in Diabetology, FCCP',\n",
       "       'MBBS, Diploma in Child Health (DCH), Diploma of The Australian Institute of Dermatology, PG Diploma in Endocrinology',\n",
       "       'MBBS, MD - Medicine, DM - Cardiology, FACC, FESC',\n",
       "       'BSc - Dietitics / Nutrition, MBBS, Diploma in Child Health (DCH)',\n",
       "       'MBBS, Diploma in Tuberculosis and Chest Diseases (DTCD), DNB - General Medicine',\n",
       "       'BHMS, MSc', 'MBBS, MD - General Medicine, CCEDM',\n",
       "       'BDS, MDS, Fellowship in Oral implantlogy',\n",
       "       'MBBS, MD - General Medicine, DM - Cardiology, FIAMS',\n",
       "       'BAMS, Certificate in Food and Nutrition, Diploma in Dietatics & Clinical Nutrition',\n",
       "       'MBBS, DNB - General Medicine, Fellowship in Diabetology(Johns Hopkins University School of Medicine, USA)',\n",
       "       'DDVL, Diploma in Dermatology',\n",
       "       'Diploma in Hospital Administration, BAMS',\n",
       "       'BAMS, MS - Ayurveda, Certificate in Child Health (CCH)',\n",
       "       'MBBS, MD - Internal Medicine, DNB - General Medicine, Post Graduate Diploma in Diabetology (PGDD)',\n",
       "       'MBBS, DDVL, Fellowship in Cosmetology and Dermatosurgery, Fellowship in Aesthetic Medicine',\n",
       "       'MBBS, MS - General Surgery, MS - Paediatrics Surgery',\n",
       "       'MBBS, MD - Dermatology, DVL - Dermatology & Venereology',\n",
       "       'MBBS, Post Graduate Course in Diabetology, FCPS - General Surgery',\n",
       "       'DMS, MD - Homeopathy', 'MDS, BDS', 'MDS - Pedodontics',\n",
       "       'BAMS, BSAM, MS - Counselling & Psychotherapy',\n",
       "       'MBBS, Advanced Certificate Course In Diabetes, PG in Diabetology, Post Graduate Diploma in Diabetology (PGDD)(University of Leicester, UK)',\n",
       "       'B.Sc, MBBS, MD - General Medicine, Master of Clinical Embryology, Diploma of Clinical Hypnotherapy',\n",
       "       'BDS, B.Sc - Zoology (Hons.)',\n",
       "       'MBBS, Fellowship in Diabetology, Diploma in Emergency Medicine',\n",
       "       'MBBS, PGD ND',\n",
       "       'DHMS (Diploma in Homeopathic Medicine and Surgery), MD - Homeopathy',\n",
       "       'MBBS, MD - Skin & VD',\n",
       "       'BHMS, Certificate Course in Advanced Homoeopathy (C.C.A.H), Post Graduate Diploma in Emergency Medical Services',\n",
       "       'BHMS, PG - Homeo',\n",
       "       'MBBS, DDV, FCPS - Dermatology, Venereology & Leprosy',\n",
       "       'B.Sc, BHMS, Certificate in Food and Nutrition, Certificate Course in Advanced Homoeopathy (C.C.A.H)',\n",
       "       'MBBS, MD - General Medicine, DNB - Nephrology',\n",
       "       'MBBS, MD - Dermatology, MNAMS - DERMATOLOGY, Diploma in Dermatology',\n",
       "       'MBBS, MD - Family Medicine',\n",
       "       'BAMS, Post Graduate Diploma in Emergency Services (PGDEMS), MS - Psychology',\n",
       "       'BHMS, CGO', 'MBBS, Post Graduate Diploma in Diabetology (PGDD)',\n",
       "       'MBBS, MD - General Medicine, DDV',\n",
       "       'MBBS, Fellowship in Emergency Medicine, Post Graduate Diploma in Diabetology (PGDD)(Madras Medical College), PG Diploma in Endocrinology',\n",
       "       'BDS, Professional Implantology Training Course (PITC), Advanced Surgical Training In Implants, Certification in Full Mouth Rehabilitation',\n",
       "       'MS - ENT, DNB - ENT',\n",
       "       'MBBS, MS - General Surgery, MCh - Neuro Surgery',\n",
       "       'MS - Otorhinolaryngology, DNB - Otorhinolaryngology, FCPS - Mid. & Gynae, MBBS',\n",
       "       'MBBS, Post Graduate Diploma in Diabetology (PGDD), MD - General Medicine',\n",
       "       'DNB - Family Medicine, MBBS, DHM',\n",
       "       'MBBS, Diploma in Child Health (DCH)',\n",
       "       'MDS - Operative Dentistry, BDS',\n",
       "       'BDS, Post Graduate Diploma In Aesthetic & Restorative Dentistry',\n",
       "       'MBBS, DDV, MD - Skin & VD',\n",
       "       'MBBS, DNB - ENT, DNB - Otorhinolaryngology',\n",
       "       'MBBS, MS - ENT, MCh - Oncology',\n",
       "       'MD - General Medicine, FRCP, FIAMS, MBBS',\n",
       "       'BDS, Diploma in Hospital Administration', 'MBBS, DM - Neurology',\n",
       "       'MS - ENT, DNB - ENT, MBBS',\n",
       "       'MBBS, MS - Otorhinolaryngology, MS - ENT, Fellowship in Rhinology and Endoscopic Skull Base Surgery, Fellowship in Head & Neck Surgery',\n",
       "       'MBBS, DDV, MD - Skin,VD & Leprosy',\n",
       "       'Post Graduate Certificate in Endodontics (PGCE), BDS',\n",
       "       'MBBS, D.D, MD - Dermatology',\n",
       "       'MBBS, MD - Dermatology, PhD - Dermatology & Venereology', 'BSAM',\n",
       "       'MBBS, MD - Dermatology, Fellowship in Dermatological Laser Surgery',\n",
       "       'MBBS, MD - Microbiology',\n",
       "       'BAMS, PG in Clinical Nutrition and Dietetics',\n",
       "       'MD-DVL, MBBS, DNB - Dermatology & Venereology',\n",
       "       'MBBS, MS - General Surgery, Diploma in Otorhinolaryngology (DLO)',\n",
       "       'MBBS, DNB - Obstetrics & Gynecology',\n",
       "       'MBBS, Diploma of the Faculty of Family Planning (DFFP), Diploma in Practical Dermatology, MRCGP',\n",
       "       'MBBS, DDV, Fellow of Academy of General Education (FAGE)',\n",
       "       'MBBS, Diploma in Cosmetology',\n",
       "       'MS - ENT, MBBS, DNB - Otorhinolaryngology', 'MS - Ayurveda, BAMS',\n",
       "       'MBBS, DDVL, Certificate of Completion of Specialist Training- Transplant Surgery (CCST-TS)',\n",
       "       'MBBS, MD - General Medicine, DM - Cardiology, Fellowship In Interventional Cardiology',\n",
       "       'MBBS, DNB - Dermatology & Venereology, Fellow of the American Academy of Dermatology (FAAD), DVD',\n",
       "       'MBBS, Fellowship in Diabetology', 'BAMS, MS - Psychology',\n",
       "       'MBBS, MS - MS.Medicine',\n",
       "       'MBBS, MD - Dermatology, Diploma in Medical Law and Ethics (PGDMLE), Diploma in Medical Cosmetology',\n",
       "       'MBBS, MD - Dermatology , Venereology & Leprosy, FRGUHS',\n",
       "       'MBBS, Diploma in Otorhinolaryngology (DLO), FAMS - Fellowship of the Academy Medicine',\n",
       "       'BDS, MDS - Prosthodontist & Oral Implantologist, Fellowship in Oral implantlogy',\n",
       "       'Diploma in Otorhinolaryngology (DLO), MBBS, DNB',\n",
       "       'BHMS, Post Graduate Diploma in Emergency Services (PGDEMS), PGDPC (Post Graduation Diploma In Psychological Counselling)',\n",
       "       'MBBS, DDV, DDVL', 'MBBS, MS - Orthopaedics',\n",
       "       'BDS, MDS - Endodontics',\n",
       "       'MBBS, Post Graduate Diploma in Maternity and Child Health (PGDMCH)',\n",
       "       'B.Sc, MSc, MBBS', 'BDS, Master of Public Health (MPH)',\n",
       "       'BHMS, Diploma in Nutrition and Health Education', 'MBBS, DGO',\n",
       "       'MBBS, Fellowship in Nephrology', 'MBBS, Diploma in Diabetology',\n",
       "       'BAMS, Post Graduate Diploma in Clinical Research (PGDCR)',\n",
       "       'BDS, Certificate Course in Implantology',\n",
       "       'BDS, Diploma in Health Administration', 'BDS, MBA (Health Care)',\n",
       "       'Diploma in Aesthetic Medicine, Certificate in Aesthetic Medicine, Diploma in Practical Dermatology, MBBS',\n",
       "       'MDS - Paedodontics And Preventive Dentistry, BDS, Certified in Inhalational Sedation',\n",
       "       'BHMS, PG Diploma in Preventive and Promotive Health Care (PGD PPHC), MSc. - Food Service Management & Dietetics, Certificate in Yoga & Meditation',\n",
       "       'MBBS, MD - Physiology, AFIH, Diploma in Diabetes Management Certificate Program',\n",
       "       'MBBS, MD - General Medicine, Post Graduate Diploma in Diabetology (PGDD), Post Graduate Diploma in Diabetology (PGDD)',\n",
       "       'MD - Ayurveda Medicine, BAMS',\n",
       "       'MBBS, DVD, DNB - Dermatology & Venereology',\n",
       "       'BDS, Certificate in Dental Implants, Certificate in Cosmetic Dentistry',\n",
       "       'MBBS, DDVL, DNB - Dermatology & Venereology, MNAMS (Membership of the National Academy)',\n",
       "       'BAMS, Post Graduate Diploma in Psychological Counseling',\n",
       "       'Diploma in Dermatology', 'BDS, MDS - Public Health Dentistry',\n",
       "       'MD - Dermatology , Venereology & Leprosy, DNB - Dermatology & Venereology',\n",
       "       'MBBS, DDVL, Certificate in Cosmetology',\n",
       "       'BHMS, PG - Homeo, Diploma in Diet and Nutrition', 'MBBS, DOMS',\n",
       "       'MS - Otorhinolaryngology, DNB - ENT, MBBS',\n",
       "       'BSc - Zoology, MBBS, Diploma in ENT, MS - ENT',\n",
       "       'MBBS, Diploma in Clinical Dermatology (UK)',\n",
       "       'Diploma in Ayurvedic Medicine (DAM)',\n",
       "       'MBBS, M.Med in Family Medicine, post graduate diploma in health Sciences in diabetology',\n",
       "       'MBBS, MS - ENT, Diploma in ENT',\n",
       "       'MBBS, Post Graduate Diploma in Dermotology (PGDD)',\n",
       "       'BAMS, MD - Alternate Medicine, Post Graduate Diploma in Clinical Research (PGDCR), Certificate in Aesthetic Medicine, Yoga Teachers Training Course, Certified in Ayurveda Approach to Diabetes mellitus, Certified in Ayurveda Beauty care',\n",
       "       'MBBS, DNB, DDVL', 'BAMS, PG Diploma in Panchakarma',\n",
       "       'MBBS, DNB, Master of Hospital Administration',\n",
       "       'BHMS, MD - Medicine',\n",
       "       'MBBS, DNB - Respiratory Diseases, FCCP - Pulmonary Medicine, DAA - Diploma in Allergy Asthma and Immunology, P.G Diploma in Diabetes Management, Fellowship in Clinical Cardiology',\n",
       "       'MBBS, MD - Dermatology, Diploma in Aesthetic Medicine, Diploma in International Academy of Aesthestic Medicine',\n",
       "       'MBBS, MD - Dermatology , Venereology & Leprosy, DNB - Dermatology & Venereology',\n",
       "       'MBBS, MS - General Surgery, DNB, FRCS - General Surgery, MCh - Surgical Gastroenterology/G.I. Surgery',\n",
       "       'BPTh/BPT, Masters Of Physiotheraphy, BAMS',\n",
       "       'MBBS, MD - Dermatology, Diploma in Dermatology',\n",
       "       'MBBS, MRCGP, Diploma in Child Health (DCH), DRCOG, Diploma of the Faculty of Family Planning (DFFP)',\n",
       "       'BDS, MDS - Operative Dentistry',\n",
       "       'MBBS, MD - Dermatology, Fellow of Academy of General Education (FAGE)',\n",
       "       'MBBS, MD - Dermatology, FRGUHS',\n",
       "       'BAMS, Diploma in Hospital Management',\n",
       "       'DDVL, MD - Dermatology , Venereology & Leprosy',\n",
       "       'BDS, Certificate in Orthodontics',\n",
       "       'MD - General Medicine, DNB - General Medicine, MBBS, European Diploma in Intensive Care Medicine (EDIC), Fellowship in Diabetology',\n",
       "       'MBBS, MD - TB & Chest',\n",
       "       'MBBS, DDVL, DNB - Dermatology & Venereology',\n",
       "       'MBBS, FRCS - Otolaryngology', 'BDS, MDS - Oral Medicine',\n",
       "       'MBBS, Diploma in Orthopaedics, MS - Orthopaedics',\n",
       "       'MD - Homeopathy, Diploma in Acupuncture',\n",
       "       'BDS, Fellowship in Aesthetic Medicine', 'MBBS, MD - Physician',\n",
       "       'MBBS, MD - General Medicine, Post Graduate Diploma in Diabetology (PGDD), Fellowship In Critical Care, Fellowship in Rheumatology',\n",
       "       'BDS, Fellowship in Oral implantlogy, Diploma in Laser Dentistry, Fellowship and Diplomate in Implantology from ICOI (USA)',\n",
       "       'MBBS, MD - Skin,VD & Leprosy',\n",
       "       'BAMS, Diploma in Emergency Medicine',\n",
       "       'BDS, PG Diploma in Conservative, Endodontics and Aesthetic Dentistry, Fellowship In Clinical Cosmetology, PG Diploma In Clinical Cosmetology (PGDCC), MBA - Hospital Management, Diploma in Cosmetic Dentistry, Fellow of Academy of General Education (FAGE), Advanced Retreatment Course in RCT, Advanced Endotontic Course On Root Canal, Certified Course in Oral Surgery, MIDA, Certification in Prosthodontics & Periodontology, Certified Advanced Course in Wisdom Tooth Extraction, Certificate in Cosmetic Dentistry, Fellowship in Aesthetic Dentistry (FAD), Post Graduate Certificate in Endodontics (PGCE)',\n",
       "       'FAMS - Fellowship of the Academy Medicine, MBBS, MS - ENT, Diploma in ENT, Specialized Training in Otology, Fellowship in Head & Neck Oncology Surgery, Advanced Endoscopy Training, Cochlear Implant Surgery, Advance Course on Diagnosis of Allergy and Immunotherapy',\n",
       "       'BDS, MDS - Conservative Dentistry & Endodontics, MD - Dental Laser',\n",
       "       'BHMS, MD - Homeopathy, MS - Counselling and Psychotherapy',\n",
       "       'BAMS, Fellowship in Medical Cosmetology',\n",
       "       'MDS - Periodontics, BDS, MDS',\n",
       "       'MBBS, MD - General Medicine, DM - Gastroenterology',\n",
       "       'MBBS, MS - Otorhinolaryngology, DNB',\n",
       "       'Diploma in Dermatology, MD - Skin,VD & Leprosy, MBBS',\n",
       "       'MBBS, MD - Alternate Medicine',\n",
       "       'BHMS, BHMS, Certificate in Child Health (CCH)',\n",
       "       'MBBS, MD - Aerospace Medicine, DIH, Diploma in Hospital Administration, Fellowship of College of General Practice (FCGP)',\n",
       "       'BDS, MDS - Orthodontics and Dentofacial Orthopaedics, Certificate of Oral Implantology',\n",
       "       'BHMS, MD - Alternate Medicine', 'MD - Skin & VD, MBBS',\n",
       "       'BAMS, Fellow of Academy of General Education (FAGE), Post Graduate Diploma In Yoga',\n",
       "       'MBBS, MSc - Clinical Dermatology',\n",
       "       'MBBS, Post Graduate Diploma in Medical Law and Ethics, Msc Clinical Research & Regulatory Affairs, Diploma in Family Medicine (DFM)',\n",
       "       'BDS, PGCAD',\n",
       "       'MBBS, MD - Cardiology, DM - Cardiology, FCCP - Pulmonary Medicine',\n",
       "       'DHMS (Diploma in Homeopathic Medicine and Surgery), Diploma in Trichology - Cosmetology, Diploma in Obesity & Pain management',\n",
       "       'BHMS, Diploma in Diet and Nutrition',\n",
       "       'MBBS, FCPS - Dermatology, Venereology & Leprosy',\n",
       "       'BDS, Certification in Clear Aligners, MDS - Orthodontics',\n",
       "       'MBBS, MD - General Medicine, Fellowship in Diabetes (UK), CCEBDM, CCT - Endocrinology and Diabetes Mellitus',\n",
       "       'MBBS, DNB - Dermatology & Venereology, DDV, DVD',\n",
       "       'MBBS, Fellowship in Diabetology, Certificate Course in Gestational Diabetes Mellitus',\n",
       "       'BHMS, MD - Homeopathy, MBA - Hospital Management',\n",
       "       'MBBS, DNB - Internal Medicine, M.H.Sc-Diabetology',\n",
       "       'DNB - Dermatology, Venereology & Leprosy, MBBS, DDVL',\n",
       "       'DNB - Pediatrics, MBBS',\n",
       "       'M.D. (Ayu.), Panchkarma, Consultant Rheumatologist (Ayu.), DYSc., BAMS',\n",
       "       'MBBS, Diploma in Clinical Dermatology (UK), Diploma In Skin Aesthetics',\n",
       "       'MBBS, MD - Medicine, DM - Nephrology',\n",
       "       'MBBS, MS - General Surgery, MD - Medicine',\n",
       "       'MD - Dermatology , Venereology & Leprosy, DNB, MRCP (UK)',\n",
       "       'MBBS, DDV, DNB, MD - Dermatology',\n",
       "       'MBBS, MS - ENT, Fellowship In Phonosurgery',\n",
       "       'Diploma in ENT, MBBS', 'BHMS, MD - Medicine, PhD - Medicine',\n",
       "       'BHMS, Certificate in Food and Nutrition',\n",
       "       'BAMS, DNHE, Certification In Yoga', 'MBBS, DLO, DNB - ENT',\n",
       "       'MBBS, MD - General Medicine, DM - Medical Oncology',\n",
       "       'MBBS, MD - Dermatology , Venereology & Leprosy, Fellowship In Dermatosurgery, Certificate Course In Cosmetic Dermatology & Lasers',\n",
       "       'MD - Practice Of Medicine, BHMS, Diploma in Trichology - Cosmetology, Certificate in Child Health (CCH), CGO, MBBS',\n",
       "       'MBBS, DPM (Psychiatry)',\n",
       "       'MBBS, Diploma in Otorhinolaryngology (DLO), MS - ENT, FRCS - General Surgery',\n",
       "       'MBBS, MD - Community Medicine',\n",
       "       'MBBS, MD - General Medicine, Post Graduate Diploma in Diabetology (PGDD)(Madras Medical College)',\n",
       "       'MD - Dermatology, DNB - Dermatology & Venereology, MBBS',\n",
       "       'MS - Otorhinolaryngology, DNB - ENT, DHM, MBBS',\n",
       "       'B.Sc, BAMS, MD - Yoga and Rehab', 'MBBS, MD - Skin & VD, MAMS',\n",
       "       'MBBS, PG Diploma In Emergency Trauma Care, ACLS',\n",
       "       'MBBS, DDVL, Fellowship in Pediatric Dermatology',\n",
       "       'MBBS, DNB - Dermatology, Venereology & Leprosy',\n",
       "       'MBBS, DDVL, Fellowship IN FUE Hair Transplant Technique',\n",
       "       'MBBS, Postgraduate Diploma Clinical Cardiology (PGDCC), PG Diploma in Human Rights',\n",
       "       'MBBS, DNB - Paediatrics, Diploma in Child Health (DCH)',\n",
       "       'MBBS, Diploma in Dermatology, Diploma in Medical Cosmetology',\n",
       "       'MBBS, DDVL, AFIH', 'MBBS, MS - Otorhinolaryngology, MS - ENT',\n",
       "       'MD - Panchakarma, BAMS', 'DNB - General Medicine, MD - Physician',\n",
       "       'MBBS, MD - Family Medicine, Post Graduate Diploma in Diabetes, Certification Course In Diabetes',\n",
       "       'MD - Dermatology , Venereology & Leprosy, Fellow of the American Academy of Dermatology (FAAD), MBBS',\n",
       "       'MD - Homeopathy, PGCR',\n",
       "       'BDS, MDS - Endodontics, Certification in Laser Dentistry',\n",
       "       'MBBS, Diploma in Otorhinolaryngology (DLO), DNB - Ophthalmology',\n",
       "       'BAMS, MD - Ayurveda Medicine, Fellowship in Sexual Medicine, Fellowship in Rheumatology',\n",
       "       'MBBS, MD - Dermatology, DNB - Dermatology & Venereology, Fellowship in Cosmetology',\n",
       "       'MDS - Community Dentistry, BDS', 'MBBS, DNB - Nephrology',\n",
       "       'MBBS, MD - General Medicine, Post Graduate Diploma in Diabetology (PGDD)',\n",
       "       'MBBS, MD - General Medicine, Post Graduate Diploma in Diabetology (PGDD), Certificate Course in Evidence Based Diabetes Management (CCEBDM), FRCP',\n",
       "       'BAMS, MD-Ayurvedic Vachaspati',\n",
       "       'BAMS, MD - Ayurveda Medicine, MBA - Hospital Management',\n",
       "       'MBBS, DNB - ENT, Fellowship in Neuro-Otology and Skull Base Surgery (USA)',\n",
       "       'BDS, MDS - Orthodontics and Dentofacial Orthopaedics, Certificate of Oral Implantology, Fellowship in Aesthetic Medicine, Invisalign Training Course',\n",
       "       'MBBS, MS - General Surgery, FRCS - General Surgery, MCh - Urology, DNB - Urology/Genito - Urinary Surgery',\n",
       "       'MBBS, AFIH, Fellowship in Diabetology',\n",
       "       'BDS, MDS - Prosthodontist And Crown Bridge, Fellowship in Oral implantlogy',\n",
       "       'MBBS, DVL, MD - Dermatology , Venereology & Leprosy',\n",
       "       'BHMS, Fellowship in Medical Cosmetology (FMC)',\n",
       "       'MBBS, MD - Dermatology, DNB - Dermatology & Venereology',\n",
       "       'MBBS, DDVL, Fellowship In Dermatosurgery',\n",
       "       \"BAMS, Master of Arts - Yoga, Yoga Instructor's Course\",\n",
       "       'MBBS, MS - Otorhinolaryngology, Fellowship in Head & Neck Oncology Surgery, Fellowship in Skull Base Surgery, Fellowship in Head & Neck Oncology Surgery',\n",
       "       'PhD - Orthodontics & Dentofacial Orthopaedics, BDS', 'FICD',\n",
       "       'MBBS, BDS, FDSRCS - Fellowship in Dental Surgery',\n",
       "       'MDS - Endodontics, BDS',\n",
       "       'MS - ENT, Diploma in Otorhinolaryngology (DLO), Diploma in Opthalmology, MBBS',\n",
       "       'BHMS, M.Phil - Psychology, MSc - Applied Psychology',\n",
       "       'MS - Otorhinolaryngology, Diploma in Otorhinolaryngology (DLO)',\n",
       "       'MBBS, DNB - ENT',\n",
       "       'MBBS, MS - Otrohinolaryngology, DNB - Otorhinolaryngology',\n",
       "       'MD - Internal Medicine, MBBS', 'DNB - ENT, MS - ENT, MBBS',\n",
       "       'BDS, MDS - Prosthodontist And Crown Bridge, FICOI',\n",
       "       'MBBS, MS - Otorhinolaryngology, Diploma in Otorhinolaryngology (DLO), Diploma in Health Administration',\n",
       "       'DEHM, BEMS',\n",
       "       'BDS, MDS - Conservative Dentistry & Endodontics, DNB',\n",
       "       'MBBS, MD - Dermatology , Venereology & Leprosy, DDV',\n",
       "       'BAMS, MSc - Yoga', 'MBBS, DPH & H',\n",
       "       'BHMS, Certificate Course in Advanced Homoeopathy (C.C.A.H)',\n",
       "       'MD - Medicine, MBBS',\n",
       "       'MBBS, DDV, Fellowship in Dermatological Laser Surgery',\n",
       "       'MBBS, DNB - Pediatrics, Fellowship in Paediatric gastroenterology & Hepatology, Fellowship In Transplant Hepatology',\n",
       "       'DNB - Dermatology & Venereology, MNAMS - DERMATOLOGY, F.C.P.S (Dermatology), DDV, MBBS',\n",
       "       'MS - Otorhinolaryngology, DNB - Otorhinolaryngology, MBBS',\n",
       "       'MBBS, MD - General Medicine, DNB', 'DDVL, MBBS, F.A.M',\n",
       "       'BAMS, MD - Internal Medicine, Diploma in Emergency Medicine, Post Graduate Diploma In Yoga',\n",
       "       'MBBS, Post Graduate Diploma in Diabetology (PGDD), PG in Diabetology(Johns Hopkins University School of Medicine, USA)',\n",
       "       'BHMS, Post Graduate Diploma In Yoga',\n",
       "       'MBBS, MD - General Medicine, DNB - Neurology',\n",
       "       'LCEH, MD - Homeopathy',\n",
       "       'MRCGP, Post Graduate Diploma in Diabetology (PGDD)(University of Leicester, UK), MBBS',\n",
       "       'MBBS, MD - Dermatology , Venereology & Leprosy, MRCPS', 'MDS',\n",
       "       'MBBS, Post Graduate Diploma in Diabetology (PGDD), Certificate Course in Evidence Based Diabetes Management (CCEBDM)',\n",
       "       'MBBS, MS - ENT, Diploma in Otorhinolaryngology (DLO), FRCS - General Surgery',\n",
       "       'MBBS, MD - General Medicine, DM - Nephrology',\n",
       "       'MBBS, MD - Dermatology, DVL',\n",
       "       'BHMS, MD - Homeopathy Psychiatry, Post Graduate Diploma in Clinical Research (PGDCR), MS - Psychology',\n",
       "       'BAMS, MS - Counselling and Psychotherapy',\n",
       "       'FPFA, BDS, FPFA, MDS - Conservative Dentistry & Endodontics',\n",
       "       'MBBS, MD - Internal Medicine, DNB - General Medicine',\n",
       "       'DHMS (Diploma in Homeopathic Medicine and Surgery), PhD - Homoeopathy',\n",
       "       'MBBS, Fellow of Academy of General Education (FAGE), BSc - Dietitics / Nutrition',\n",
       "       'MBBS, MS - Otorhinolaryngology, DNB - Otorhinolaryngology',\n",
       "       'MBBS, Post Graduate Diploma in Diabetology (PGDD), MD - Diabetology',\n",
       "       'MBBS, M.D. (Psychiatry)',\n",
       "       'MBBS, MBBS, MD - General Medicine, MD - Community Medicine, MD - Medicine',\n",
       "       'BDS, Certificate in Dental Implants, Certificate in Dental Implants',\n",
       "       'Diploma in Cardiology, MBBS, MD - General Medicine, PG in Diabetology',\n",
       "       'MBBS, MRCGP, Diploma in Diabetes',\n",
       "       'DHMS, DHMS (Diploma in Homeopathic Medicine and Surgery)',\n",
       "       'MBBS, MS - ENT, Specialized Training in Otology',\n",
       "       'MBBS, MD - Dermatology , Venereology & Leprosy, DLO',\n",
       "       'MBBS, MS - General Surgery, MCh - Plastic Surgery',\n",
       "       'MBBS, MD - Dermatology, DDV, DNB', 'MBBS, Diploma in Acupuncture',\n",
       "       'MBBS, Post Graduate Diploma in Diabetology (PGDD), Diploma in Family Medicine (DFM)',\n",
       "       'MRCS (UK), MBBS, MS - Otorhinolaryngology',\n",
       "       'MS - Otorhinolaryngology, DNB - ENT',\n",
       "       'MBBS, Graduate Diploma in Family Medicine, Singapore',\n",
       "       'BDS, Certification in Full Mouth Rehabilitation',\n",
       "       'MRCP (UK), Diploma in Dermatology, MBBS',\n",
       "       'MBBS, DDVL, MD - Skin & VD', 'BDS, Diploma in Laser Dentistry',\n",
       "       'DM - Pulmonary Medicine, MBBS, DM - Critical Care Medicine',\n",
       "       'BHMS, Diploma in Dermatology (Alt)',\n",
       "       'BDS, Certificate in Dental Implantology',\n",
       "       'MBBS, MS - General Surgery, Fellow of Academy of General Education (FAGE), Diploma in Laparoscopy',\n",
       "       'MBBS, MD - Skin,VD & Leprosy, Fellow of the American Academy of Dermatology (FAAD), DNB - Dermatology & Venereology',\n",
       "       'BHMS, PGDPC (Post Graduation Diploma In Psychological Counselling), Post Graduate Diploma in Emergency Services (PGDEMS)',\n",
       "       'BDS, MDS - Oral Pathology & Bacteriology',\n",
       "       'MDS - Orthodontics, BDS, MOrth', 'BAMS, DNHE',\n",
       "       'MBBS, MD - Tuberculosis & Respiratory Diseases / Pulmonary Medicine',\n",
       "       'MBBS, Post Graduate Diploma in Family Medicine (PGDFM)',\n",
       "       'MD - Physician, FDIAB, Post Graduate Diploma in Diabetology (PGDD)',\n",
       "       'MBBS, FCCP, CCEBDM', 'MS - Otorhinolaryngology, MBBS, DNB - ENT',\n",
       "       'MBBS, DM - Cardiology, MD - Medicine',\n",
       "       'MD - General Medicine, MBBS, DM - Cardiology',\n",
       "       'MDS - Prosthodontist And Crown Bridge, Certificate of Oral Implantology, BDS',\n",
       "       'MBBS, MD - Rheumatology',\n",
       "       'MD - Physician, PGDHSc, Diploma in Diabetology, Postgraduate Diploma Clinical Cardiology (PGDCC), Fellowship in Diabetology(Johns Hopkins University School of Medicine, USA)',\n",
       "       'MS - ENT, DNB - ENT, MBBS, MRCS (UK), MNAMS (Membership of the National Academy)',\n",
       "       'BDS, Fellowship in Oral implantlogy, Certificate of Oral Implantology',\n",
       "       'BAMS, D-Pharm',\n",
       "       'MBBS, MD - Medicine, Fellowship in Diabetes Management',\n",
       "       'BAMS, Diploma in Cosmetology, Diploma in Health Administration',\n",
       "       'MS - General Surgery, MBBS',\n",
       "       'BAMS, M.S. (Ayurved) Stri Roga & Prasuti Tantra',\n",
       "       'MBBS, DNB - Neurology, DNB - General Medicine', 'MBBS, DDVL, DDV',\n",
       "       'BHMS, Post Graduate Diploma in Emergency Medical Services, DHMS (Diploma in Homeopathic Medicine and Surgery)',\n",
       "       'Certification in Aesthetic Dentistry, MDS - Orthodontics, BDS',\n",
       "       'DPM (Psychiatry), MBBS', 'MBBS, MD - Dermatology, DDVL',\n",
       "       'BDS, MDS - Orthodontics, Certificate of Oral Implantology',\n",
       "       'MD - Acupuncture, PG Diploma In Clinical Cosmetology (PGDCC), BDS',\n",
       "       'MBBS, PGDHA',\n",
       "       'BDS, MDS - Prosthodontist And Crown Bridge, Certificate of Oral Implantology',\n",
       "       'MBBS, MRCOG(UK)',\n",
       "       'MD - Medicine, Post Graduate Diploma in Diabetology (PGDD), MBBS, FRCP - Internal Medicine',\n",
       "       'MDS - Periodontics', 'MBBS, MS - General Surgery, FAIS, FIAGES',\n",
       "       'MBBS, MD - Dermatology , Venereology & Leprosy, DNB - Dermatology, Venereology & Leprosy',\n",
       "       'BAMS, Doctor of Medicine',\n",
       "       'MBBS, MD / MS - Obstetrics & Gynaecology'], dtype=object)"
      ]
     },
     "execution_count": 13,
     "metadata": {},
     "output_type": "execute_result"
    }
   ],
   "source": [
    "df['Qualification'].unique()"
   ]
  },
  {
   "cell_type": "code",
   "execution_count": 14,
   "metadata": {},
   "outputs": [],
   "source": [
    "# Extracting all the  qualification with there counts\n",
    "df[\"Qualification\"]=df[\"Qualification\"].str.split(\",\")\n",
    "Qual ={}\n",
    "for i in df[\"Qualification\"].values:\n",
    "    for j in i:\n",
    "        j = j.strip()\n",
    "        if j in Qual:\n",
    "            Qual[j]+=1\n",
    "        else:\n",
    "            Qual[j]=1\n",
    "            "
   ]
  },
  {
   "cell_type": "code",
   "execution_count": 15,
   "metadata": {},
   "outputs": [
    {
     "name": "stdout",
     "output_type": "stream",
     "text": [
      "['MBBS', 'BDS', 'BHMS', 'BAMS', 'MD - Dermatology', 'MS - ENT', 'MD - General Medicine', 'Venereology & Leprosy', 'Diploma in Otorhinolaryngology (DLO)', 'DDVL']\n"
     ]
    }
   ],
   "source": [
    "#Extracting  top 10 qualification\n",
    "top_qual = sorted(Qual.items(),key=lambda x:x[1],reverse=True)[:10]\n",
    "final_qual = []\n",
    "for qual in top_qual:\n",
    "    final_qual.append(qual[0])\n",
    "    \n",
    "print(final_qual)"
   ]
  },
  {
   "cell_type": "code",
   "execution_count": 16,
   "metadata": {},
   "outputs": [],
   "source": [
    "for qual in final_qual:\n",
    "    df[qual] = 0\n",
    "\n",
    "for x,y in zip(df['Qualification'].values, np.array([i for i in range(len(df))])):\n",
    "    for c in x:\n",
    "        c = c.strip()\n",
    "        if c in final_qual:\n",
    "            df[c][y] = 1"
   ]
  },
  {
   "cell_type": "code",
   "execution_count": 17,
   "metadata": {},
   "outputs": [],
   "source": [
    "# Now we can drop the original qualificaton column and count column which we added \n",
    "df.drop(['Qualification','Qualification_count'],axis=1,inplace=True)"
   ]
  },
  {
   "cell_type": "code",
   "execution_count": 18,
   "metadata": {},
   "outputs": [
    {
     "data": {
      "text/html": [
       "<div>\n",
       "<style scoped>\n",
       "    .dataframe tbody tr th:only-of-type {\n",
       "        vertical-align: middle;\n",
       "    }\n",
       "\n",
       "    .dataframe tbody tr th {\n",
       "        vertical-align: top;\n",
       "    }\n",
       "\n",
       "    .dataframe thead th {\n",
       "        text-align: right;\n",
       "    }\n",
       "</style>\n",
       "<table border=\"1\" class=\"dataframe\">\n",
       "  <thead>\n",
       "    <tr style=\"text-align: right;\">\n",
       "      <th></th>\n",
       "      <th>Experience</th>\n",
       "      <th>Rating</th>\n",
       "      <th>Place</th>\n",
       "      <th>Profile</th>\n",
       "      <th>Miscellaneous_Info</th>\n",
       "      <th>MBBS</th>\n",
       "      <th>BDS</th>\n",
       "      <th>BHMS</th>\n",
       "      <th>BAMS</th>\n",
       "      <th>MD - Dermatology</th>\n",
       "      <th>MS - ENT</th>\n",
       "      <th>MD - General Medicine</th>\n",
       "      <th>Venereology &amp; Leprosy</th>\n",
       "      <th>Diploma in Otorhinolaryngology (DLO)</th>\n",
       "      <th>DDVL</th>\n",
       "    </tr>\n",
       "  </thead>\n",
       "  <tbody>\n",
       "    <tr>\n",
       "      <th>0</th>\n",
       "      <td>35</td>\n",
       "      <td>-99</td>\n",
       "      <td>Ghatkopar East, Mumbai</td>\n",
       "      <td>General Medicine</td>\n",
       "      <td>NaN</td>\n",
       "      <td>1</td>\n",
       "      <td>0</td>\n",
       "      <td>0</td>\n",
       "      <td>0</td>\n",
       "      <td>0</td>\n",
       "      <td>0</td>\n",
       "      <td>0</td>\n",
       "      <td>0</td>\n",
       "      <td>0</td>\n",
       "      <td>0</td>\n",
       "    </tr>\n",
       "    <tr>\n",
       "      <th>1</th>\n",
       "      <td>31</td>\n",
       "      <td>-99</td>\n",
       "      <td>West Marredpally, Hyderabad</td>\n",
       "      <td>ENT Specialist</td>\n",
       "      <td>NaN</td>\n",
       "      <td>1</td>\n",
       "      <td>0</td>\n",
       "      <td>0</td>\n",
       "      <td>0</td>\n",
       "      <td>0</td>\n",
       "      <td>0</td>\n",
       "      <td>0</td>\n",
       "      <td>0</td>\n",
       "      <td>1</td>\n",
       "      <td>0</td>\n",
       "    </tr>\n",
       "    <tr>\n",
       "      <th>2</th>\n",
       "      <td>40</td>\n",
       "      <td>70</td>\n",
       "      <td>KK Nagar, Chennai</td>\n",
       "      <td>Dermatologists</td>\n",
       "      <td>70% 4 Feedback KK Nagar, Chennai</td>\n",
       "      <td>1</td>\n",
       "      <td>0</td>\n",
       "      <td>0</td>\n",
       "      <td>0</td>\n",
       "      <td>0</td>\n",
       "      <td>0</td>\n",
       "      <td>0</td>\n",
       "      <td>0</td>\n",
       "      <td>0</td>\n",
       "      <td>1</td>\n",
       "    </tr>\n",
       "    <tr>\n",
       "      <th>3</th>\n",
       "      <td>0</td>\n",
       "      <td>-99</td>\n",
       "      <td>New Ashok Nagar, Delhi</td>\n",
       "      <td>Ayurveda</td>\n",
       "      <td>NaN</td>\n",
       "      <td>0</td>\n",
       "      <td>0</td>\n",
       "      <td>0</td>\n",
       "      <td>1</td>\n",
       "      <td>0</td>\n",
       "      <td>0</td>\n",
       "      <td>0</td>\n",
       "      <td>0</td>\n",
       "      <td>0</td>\n",
       "      <td>0</td>\n",
       "    </tr>\n",
       "    <tr>\n",
       "      <th>4</th>\n",
       "      <td>16</td>\n",
       "      <td>100</td>\n",
       "      <td>Kanakpura Road, Bangalore</td>\n",
       "      <td>Dentist</td>\n",
       "      <td>General Dentistry Conservative Dentistry Cosme...</td>\n",
       "      <td>0</td>\n",
       "      <td>1</td>\n",
       "      <td>0</td>\n",
       "      <td>0</td>\n",
       "      <td>0</td>\n",
       "      <td>0</td>\n",
       "      <td>0</td>\n",
       "      <td>0</td>\n",
       "      <td>0</td>\n",
       "      <td>0</td>\n",
       "    </tr>\n",
       "  </tbody>\n",
       "</table>\n",
       "</div>"
      ],
      "text/plain": [
       "   Experience  Rating                        Place           Profile  \\\n",
       "0          35     -99       Ghatkopar East, Mumbai  General Medicine   \n",
       "1          31     -99  West Marredpally, Hyderabad    ENT Specialist   \n",
       "2          40      70            KK Nagar, Chennai    Dermatologists   \n",
       "3           0     -99       New Ashok Nagar, Delhi          Ayurveda   \n",
       "4          16     100    Kanakpura Road, Bangalore           Dentist   \n",
       "\n",
       "                                  Miscellaneous_Info  MBBS  BDS  BHMS  BAMS  \\\n",
       "0                                                NaN     1    0     0     0   \n",
       "1                                                NaN     1    0     0     0   \n",
       "2                   70% 4 Feedback KK Nagar, Chennai     1    0     0     0   \n",
       "3                                                NaN     0    0     0     1   \n",
       "4  General Dentistry Conservative Dentistry Cosme...     0    1     0     0   \n",
       "\n",
       "   MD - Dermatology  MS - ENT  MD - General Medicine  Venereology & Leprosy  \\\n",
       "0                 0         0                      0                      0   \n",
       "1                 0         0                      0                      0   \n",
       "2                 0         0                      0                      0   \n",
       "3                 0         0                      0                      0   \n",
       "4                 0         0                      0                      0   \n",
       "\n",
       "   Diploma in Otorhinolaryngology (DLO)  DDVL  \n",
       "0                                     0     0  \n",
       "1                                     1     0  \n",
       "2                                     0     1  \n",
       "3                                     0     0  \n",
       "4                                     0     0  "
      ]
     },
     "execution_count": 18,
     "metadata": {},
     "output_type": "execute_result"
    }
   ],
   "source": [
    "df.head(5)"
   ]
  },
  {
   "cell_type": "markdown",
   "metadata": {},
   "source": [
    "Now , Place column.\n",
    "1. It has comma seperated city and area names. which we can seperate and make 2 columns \n",
    "2. It has null values . we will assign unknown to them."
   ]
  },
  {
   "cell_type": "code",
   "execution_count": 19,
   "metadata": {},
   "outputs": [],
   "source": [
    "df.Place.fillna('Unknown,Unknown',inplace=True)\n",
    "\n",
    "df['Area'] = df['Place'].str.split(\",\").str[0]\n",
    "df['City'] = df['Place'].str.split(\",\").str[1]\n",
    "\n",
    "#dropping  the place variable after splitting it in City and Area\n",
    "df.drop('Place',axis=1,inplace=True)"
   ]
  },
  {
   "cell_type": "code",
   "execution_count": 20,
   "metadata": {},
   "outputs": [
    {
     "data": {
      "text/plain": [
       "Andheri West      27\n",
       "Mulund West       27\n",
       "Dwarka            26\n",
       "Whitefield        23\n",
       "HSR Layout        22\n",
       "                  ..\n",
       "Abhiramapuram      1\n",
       "Mira Bhayandar     1\n",
       "Palarivattom       1\n",
       "Nedumbassery       1\n",
       "Mulund             1\n",
       "Name: Area, Length: 590, dtype: int64"
      ]
     },
     "execution_count": 20,
     "metadata": {},
     "output_type": "execute_result"
    }
   ],
   "source": [
    "df[\"Area\"].value_counts()"
   ]
  },
  {
   "cell_type": "code",
   "execution_count": 21,
   "metadata": {},
   "outputs": [
    {
     "data": {
      "text/plain": [
       " Bangalore             420\n",
       " Delhi                 417\n",
       " Mumbai                389\n",
       " Hyderabad             333\n",
       " Chennai               287\n",
       " Coimbatore             70\n",
       " Ernakulam              48\n",
       " Thiruvananthapuram     17\n",
       "Unknown                  6\n",
       "Name: City, dtype: int64"
      ]
     },
     "execution_count": 21,
     "metadata": {},
     "output_type": "execute_result"
    }
   ],
   "source": [
    "df[\"City\"].value_counts()"
   ]
  },
  {
   "cell_type": "code",
   "execution_count": 22,
   "metadata": {},
   "outputs": [
    {
     "data": {
      "text/plain": [
       "General Medicine    444\n",
       "Dentist             441\n",
       "Dermatologists      339\n",
       "Homeopath           277\n",
       "Ayurveda            251\n",
       "ENT Specialist      235\n",
       "Name: Profile, dtype: int64"
      ]
     },
     "execution_count": 22,
     "metadata": {},
     "output_type": "execute_result"
    }
   ],
   "source": [
    "df.Profile.value_counts() # "
   ]
  },
  {
   "cell_type": "markdown",
   "metadata": {},
   "source": [
    "Last comes is Misc_Info column. \n",
    "1. this column contains lots of information but very messy and having null values also\n",
    "2. Information in this column is somehow can be seen in some of rows \n",
    "Dropping this column."
   ]
  },
  {
   "cell_type": "code",
   "execution_count": 23,
   "metadata": {},
   "outputs": [],
   "source": [
    "df.drop([\"Miscellaneous_Info\"],axis=1,inplace=True)"
   ]
  },
  {
   "cell_type": "code",
   "execution_count": 24,
   "metadata": {},
   "outputs": [
    {
     "data": {
      "image/png": "[encoded data removed]",
      "text/plain": [
       "<Figure size 432x288 with 1 Axes>"
      ]
     },
     "metadata": {
      "needs_background": "light"
     },
     "output_type": "display_data"
    }
   ],
   "source": [
    "sns.countplot(df[\"MBBS\"])\n",
    "plt.title(\"Doctors having Qualification MBBS\\n \")\n",
    "plt.show() "
   ]
  },
  {
   "cell_type": "code",
   "execution_count": 25,
   "metadata": {},
   "outputs": [
    {
     "data": {
      "image/png": "[encoded data removed]",
      "text/plain": [
       "<Figure size 432x288 with 1 Axes>"
      ]
     },
     "metadata": {
      "needs_background": "light"
     },
     "output_type": "display_data"
    }
   ],
   "source": [
    "plt.title(\"BDS qualified\")\n",
    "sns.distplot(df[\"BDS\"])\n",
    "plt.show() # shows very less are BDS Qualified"
   ]
  },
  {
   "cell_type": "code",
   "execution_count": 26,
   "metadata": {},
   "outputs": [
    {
     "data": {
      "image/png": "[encoded data removed]",
      "text/plain": [
       "<Figure size 1440x720 with 1 Axes>"
      ]
     },
     "metadata": {
      "needs_background": "light"
     },
     "output_type": "display_data"
    }
   ],
   "source": [
    "plt.figure(figsize=(20,10))\n",
    "sns.countplot(df[\"City\"])\n",
    "plt.title(\" Doctors available  in different Cities\\n\")\n",
    "plt.show() # shows list has max no of doctors from Delhi and banglore. \n",
    "#then Mumbai,Hyderabad,Chennai and so on"
   ]
  },
  {
   "cell_type": "code",
   "execution_count": 27,
   "metadata": {},
   "outputs": [
    {
     "data": {
      "image/png": "[encoded data removed]",
      "text/plain": [
       "<Figure size 1080x720 with 1 Axes>"
      ]
     },
     "metadata": {
      "needs_background": "light"
     },
     "output_type": "display_data"
    }
   ],
   "source": [
    "plt.figure(figsize=(15,10))\n",
    "plt.title(\"Doctors ratings\\n\")\n",
    "sns.countplot(df[\"Rating\"])\n",
    "plt.show()"
   ]
  },
  {
   "cell_type": "markdown",
   "metadata": {},
   "source": [
    "# Handling the outliers\n"
   ]
  },
  {
   "cell_type": "code",
   "execution_count": 28,
   "metadata": {},
   "outputs": [
    {
     "data": {
      "text/plain": [
       "<AxesSubplot:>"
      ]
     },
     "execution_count": 28,
     "metadata": {},
     "output_type": "execute_result"
    },
    {
     "data": {
      "image/png": "[encoded data removed]",
      "text/plain": [
       "<Figure size 432x288 with 1 Axes>"
      ]
     },
     "metadata": {
      "needs_background": "light"
     },
     "output_type": "display_data"
    }
   ],
   "source": [
    "df[\"Rating\"].plot.box()"
   ]
  },
  {
   "cell_type": "code",
   "execution_count": 29,
   "metadata": {},
   "outputs": [
    {
     "data": {
      "text/plain": [
       "<AxesSubplot:>"
      ]
     },
     "execution_count": 29,
     "metadata": {},
     "output_type": "execute_result"
    },
    {
     "data": {
      "image/png": "[encoded data removed]",
      "text/plain": [
       "<Figure size 432x288 with 1 Axes>"
      ]
     },
     "metadata": {
      "needs_background": "light"
     },
     "output_type": "display_data"
    }
   ],
   "source": [
    "df[\"Experience\"].plot.box()"
   ]
  },
  {
   "cell_type": "markdown",
   "metadata": {},
   "source": [
    "# Changing the nominal values  to numerical"
   ]
  },
  {
   "cell_type": "markdown",
   "metadata": {},
   "source": [
    "Profile column has 6 values which can later be label encoded "
   ]
  },
  {
   "cell_type": "code",
   "execution_count": 30,
   "metadata": {},
   "outputs": [
    {
     "data": {
      "text/plain": [
       "General Medicine    444\n",
       "Dentist             441\n",
       "Dermatologists      339\n",
       "Homeopath           277\n",
       "Ayurveda            251\n",
       "ENT Specialist      235\n",
       "Name: Profile, dtype: int64"
      ]
     },
     "execution_count": 30,
     "metadata": {},
     "output_type": "execute_result"
    }
   ],
   "source": [
    "df.Profile.value_counts()"
   ]
  },
  {
   "cell_type": "code",
   "execution_count": 31,
   "metadata": {},
   "outputs": [],
   "source": [
    "from sklearn.preprocessing import LabelEncoder\n",
    "le=LabelEncoder()"
   ]
  },
  {
   "cell_type": "code",
   "execution_count": 32,
   "metadata": {},
   "outputs": [
    {
     "data": {
      "text/html": [
       "<div>\n",
       "<style scoped>\n",
       "    .dataframe tbody tr th:only-of-type {\n",
       "        vertical-align: middle;\n",
       "    }\n",
       "\n",
       "    .dataframe tbody tr th {\n",
       "        vertical-align: top;\n",
       "    }\n",
       "\n",
       "    .dataframe thead th {\n",
       "        text-align: right;\n",
       "    }\n",
       "</style>\n",
       "<table border=\"1\" class=\"dataframe\">\n",
       "  <thead>\n",
       "    <tr style=\"text-align: right;\">\n",
       "      <th></th>\n",
       "      <th>Experience</th>\n",
       "      <th>Rating</th>\n",
       "      <th>Profile</th>\n",
       "      <th>MBBS</th>\n",
       "      <th>BDS</th>\n",
       "      <th>BHMS</th>\n",
       "      <th>BAMS</th>\n",
       "      <th>MD - Dermatology</th>\n",
       "      <th>MS - ENT</th>\n",
       "      <th>MD - General Medicine</th>\n",
       "      <th>Venereology &amp; Leprosy</th>\n",
       "      <th>Diploma in Otorhinolaryngology (DLO)</th>\n",
       "      <th>DDVL</th>\n",
       "      <th>Area</th>\n",
       "      <th>City</th>\n",
       "    </tr>\n",
       "  </thead>\n",
       "  <tbody>\n",
       "    <tr>\n",
       "      <th>0</th>\n",
       "      <td>35</td>\n",
       "      <td>-99</td>\n",
       "      <td>4</td>\n",
       "      <td>1</td>\n",
       "      <td>0</td>\n",
       "      <td>0</td>\n",
       "      <td>0</td>\n",
       "      <td>0</td>\n",
       "      <td>0</td>\n",
       "      <td>0</td>\n",
       "      <td>0</td>\n",
       "      <td>0</td>\n",
       "      <td>0</td>\n",
       "      <td>142</td>\n",
       "      <td>6</td>\n",
       "    </tr>\n",
       "    <tr>\n",
       "      <th>1</th>\n",
       "      <td>31</td>\n",
       "      <td>-99</td>\n",
       "      <td>3</td>\n",
       "      <td>1</td>\n",
       "      <td>0</td>\n",
       "      <td>0</td>\n",
       "      <td>0</td>\n",
       "      <td>0</td>\n",
       "      <td>0</td>\n",
       "      <td>0</td>\n",
       "      <td>0</td>\n",
       "      <td>1</td>\n",
       "      <td>0</td>\n",
       "      <td>578</td>\n",
       "      <td>5</td>\n",
       "    </tr>\n",
       "    <tr>\n",
       "      <th>2</th>\n",
       "      <td>40</td>\n",
       "      <td>70</td>\n",
       "      <td>2</td>\n",
       "      <td>1</td>\n",
       "      <td>0</td>\n",
       "      <td>0</td>\n",
       "      <td>0</td>\n",
       "      <td>0</td>\n",
       "      <td>0</td>\n",
       "      <td>0</td>\n",
       "      <td>0</td>\n",
       "      <td>0</td>\n",
       "      <td>1</td>\n",
       "      <td>212</td>\n",
       "      <td>1</td>\n",
       "    </tr>\n",
       "    <tr>\n",
       "      <th>3</th>\n",
       "      <td>0</td>\n",
       "      <td>-99</td>\n",
       "      <td>0</td>\n",
       "      <td>0</td>\n",
       "      <td>0</td>\n",
       "      <td>0</td>\n",
       "      <td>1</td>\n",
       "      <td>0</td>\n",
       "      <td>0</td>\n",
       "      <td>0</td>\n",
       "      <td>0</td>\n",
       "      <td>0</td>\n",
       "      <td>0</td>\n",
       "      <td>373</td>\n",
       "      <td>3</td>\n",
       "    </tr>\n",
       "    <tr>\n",
       "      <th>4</th>\n",
       "      <td>16</td>\n",
       "      <td>100</td>\n",
       "      <td>1</td>\n",
       "      <td>0</td>\n",
       "      <td>1</td>\n",
       "      <td>0</td>\n",
       "      <td>0</td>\n",
       "      <td>0</td>\n",
       "      <td>0</td>\n",
       "      <td>0</td>\n",
       "      <td>0</td>\n",
       "      <td>0</td>\n",
       "      <td>0</td>\n",
       "      <td>231</td>\n",
       "      <td>0</td>\n",
       "    </tr>\n",
       "  </tbody>\n",
       "</table>\n",
       "</div>"
      ],
      "text/plain": [
       "   Experience  Rating  Profile  MBBS  BDS  BHMS  BAMS  MD - Dermatology  \\\n",
       "0          35     -99        4     1    0     0     0                 0   \n",
       "1          31     -99        3     1    0     0     0                 0   \n",
       "2          40      70        2     1    0     0     0                 0   \n",
       "3           0     -99        0     0    0     0     1                 0   \n",
       "4          16     100        1     0    1     0     0                 0   \n",
       "\n",
       "   MS - ENT  MD - General Medicine  Venereology & Leprosy  \\\n",
       "0         0                      0                      0   \n",
       "1         0                      0                      0   \n",
       "2         0                      0                      0   \n",
       "3         0                      0                      0   \n",
       "4         0                      0                      0   \n",
       "\n",
       "   Diploma in Otorhinolaryngology (DLO)  DDVL  Area  City  \n",
       "0                                     0     0   142     6  \n",
       "1                                     1     0   578     5  \n",
       "2                                     0     1   212     1  \n",
       "3                                     0     0   373     3  \n",
       "4                                     0     0   231     0  "
      ]
     },
     "execution_count": 32,
     "metadata": {},
     "output_type": "execute_result"
    }
   ],
   "source": [
    "list1=['Profile','Area','City']\n",
    "for i in list1:\n",
    "    df[i]=le.fit_transform(df[i])\n",
    "df.head(5)"
   ]
  },
  {
   "cell_type": "code",
   "execution_count": 33,
   "metadata": {},
   "outputs": [
    {
     "data": {
      "text/plain": [
       "array([[1.50699229, 0.90589339, 0.90167305, ..., 0.18680426, 0.85257303,\n",
       "        1.30119179],\n",
       "       [1.15500055, 0.90589339, 0.29700739, ..., 0.18680426, 1.66117238,\n",
       "        0.86193456],\n",
       "       [1.94698195, 0.84725885, 0.30765827, ..., 5.35319684, 0.44899005,\n",
       "        0.89509439],\n",
       "       ...,\n",
       "       [0.78095398, 0.90589339, 0.90167305, ..., 0.18680426, 0.76752436,\n",
       "        0.89509439],\n",
       "       [0.51696018, 1.13772194, 0.91232393, ..., 0.18680426, 1.52136769,\n",
       "        1.33435162],\n",
       "       [0.86895191, 0.90589339, 0.30765827, ..., 0.18680426, 0.59456022,\n",
       "        0.89509439]])"
      ]
     },
     "execution_count": 33,
     "metadata": {},
     "output_type": "execute_result"
    }
   ],
   "source": [
    "from scipy.stats import zscore\n",
    "z=np.abs(zscore(df))\n",
    "z"
   ]
  },
  {
   "cell_type": "code",
   "execution_count": 34,
   "metadata": {},
   "outputs": [
    {
     "name": "stdout",
     "output_type": "stream",
     "text": [
      "(array([   1,    2,    6,   13,   14,   16,   17,   17,   19,   22,   25,\n",
      "         28,   29,   32,   33,   34,   46,   48,   51,   57,   59,   65,\n",
      "         65,   66,   71,   73,   76,   79,   81,   82,   91,   96,   99,\n",
      "        102,  104,  106,  114,  119,  119,  124,  129,  133,  135,  135,\n",
      "        138,  141,  141,  143,  152,  166,  168,  168,  171,  174,  174,\n",
      "        179,  179,  181,  187,  195,  201,  207,  211,  221,  221,  224,\n",
      "        225,  227,  229,  229,  231,  232,  237,  239,  240,  244,  251,\n",
      "        251,  253,  253,  254,  256,  258,  258,  260,  261,  261,  262,\n",
      "        262,  264,  269,  269,  271,  273,  276,  279,  280,  292,  309,\n",
      "        313,  315,  317,  319,  321,  322,  323,  323,  327,  330,  337,\n",
      "        338,  341,  347,  349,  352,  362,  363,  367,  367,  371,  372,\n",
      "        374,  377,  382,  388,  388,  391,  396,  398,  399,  401,  404,\n",
      "        408,  408,  417,  420,  423,  423,  427,  430,  434,  435,  436,\n",
      "        437,  438,  450,  450,  454,  460,  462,  467,  470,  473,  477,\n",
      "        478,  479,  480,  480,  487,  492,  494,  496,  501,  501,  506,\n",
      "        511,  512,  516,  516,  525,  530,  532,  533,  536,  538,  540,\n",
      "        545,  546,  547,  549,  559,  560,  562,  562,  566,  566,  569,\n",
      "        572,  573,  583,  585,  587,  587,  594,  597,  605,  606,  612,\n",
      "        614,  617,  617,  621,  622,  629,  630,  632,  641,  642,  642,\n",
      "        644,  644,  646,  646,  647,  652,  653,  656,  660,  667,  671,\n",
      "        675,  681,  681,  683,  686,  689,  691,  691,  696,  701,  706,\n",
      "        711,  712,  714,  727,  729,  735,  735,  736,  741,  742,  743,\n",
      "        744,  746,  748,  749,  751,  752,  753,  762,  782,  784,  787,\n",
      "        788,  788,  789,  791,  798,  807,  809,  809,  812,  817,  818,\n",
      "        821,  821,  823,  826,  841,  845,  848,  853,  854,  855,  855,\n",
      "        859,  860,  863,  871,  872,  872,  875,  878,  878,  882,  882,\n",
      "        883,  886,  894,  899,  900,  901,  902,  906,  914,  915,  916,\n",
      "        920,  921,  926,  927,  935,  943,  946,  947,  947,  951,  958,\n",
      "        959,  961,  961,  964,  972,  976,  979,  979,  983,  983,  984,\n",
      "        985,  986,  987,  987,  988,  992,  992,  994,  996,  999, 1007,\n",
      "       1013, 1017, 1018, 1023, 1024, 1030, 1032, 1036, 1038, 1040, 1046,\n",
      "       1046, 1048, 1051, 1053, 1053, 1056, 1059, 1061, 1061, 1062, 1066,\n",
      "       1068, 1071, 1073, 1075, 1081, 1081, 1092, 1092, 1093, 1094, 1099,\n",
      "       1105, 1105, 1115, 1118, 1120, 1121, 1125, 1125, 1127, 1130, 1135,\n",
      "       1140, 1143, 1145, 1145, 1146, 1148, 1153, 1158, 1160, 1160, 1163,\n",
      "       1168, 1171, 1176, 1179, 1183, 1185, 1189, 1193, 1193, 1201, 1203,\n",
      "       1205, 1205, 1206, 1209, 1211, 1214, 1215, 1216, 1218, 1219, 1219,\n",
      "       1223, 1224, 1224, 1224, 1228, 1229, 1230, 1230, 1231, 1232, 1232,\n",
      "       1233, 1238, 1239, 1241, 1242, 1245, 1246, 1249, 1251, 1251, 1257,\n",
      "       1258, 1258, 1261, 1264, 1271, 1273, 1276, 1276, 1279, 1282, 1283,\n",
      "       1283, 1284, 1284, 1288, 1297, 1297, 1303, 1303, 1311, 1320, 1326,\n",
      "       1335, 1335, 1337, 1338, 1338, 1342, 1343, 1344, 1344, 1347, 1349,\n",
      "       1356, 1356, 1363, 1363, 1366, 1369, 1369, 1371, 1376, 1376, 1383,\n",
      "       1388, 1388, 1395, 1400, 1400, 1401, 1402, 1405, 1406, 1407, 1418,\n",
      "       1420, 1421, 1422, 1423, 1424, 1425, 1427, 1431, 1434, 1436, 1438,\n",
      "       1440, 1440, 1451, 1452, 1452, 1456, 1457, 1458, 1460, 1461, 1463,\n",
      "       1469, 1469, 1475, 1475, 1476, 1476, 1477, 1478, 1479, 1479, 1487,\n",
      "       1489, 1489, 1491, 1492, 1493, 1501, 1507, 1508, 1512, 1519, 1519,\n",
      "       1522, 1525, 1531, 1535, 1536, 1540, 1545, 1553, 1555, 1555, 1559,\n",
      "       1560, 1561, 1566, 1569, 1579, 1579, 1583, 1585, 1587, 1589, 1591,\n",
      "       1591, 1594, 1607, 1610, 1613, 1616, 1617, 1621, 1625, 1627, 1631,\n",
      "       1631, 1638, 1642, 1642, 1657, 1658, 1670, 1671, 1674, 1677, 1678,\n",
      "       1679, 1679, 1683, 1683, 1690, 1690, 1695, 1695, 1697, 1697, 1698,\n",
      "       1702, 1706, 1706, 1707, 1708, 1709, 1709, 1712, 1712, 1714, 1715,\n",
      "       1716, 1719, 1724, 1733, 1736, 1737, 1740, 1746, 1753, 1755, 1758,\n",
      "       1760, 1761, 1761, 1765, 1770, 1770, 1771, 1772, 1773, 1773, 1774,\n",
      "       1776, 1776, 1779, 1780, 1784, 1787, 1788, 1791, 1793, 1793, 1798,\n",
      "       1801, 1825, 1828, 1842, 1847, 1848, 1848, 1852, 1861, 1863, 1865,\n",
      "       1870, 1870, 1872, 1875, 1884, 1886, 1889, 1890, 1890, 1895, 1897,\n",
      "       1897, 1903, 1906, 1915, 1917, 1918, 1918, 1928, 1929, 1934, 1946,\n",
      "       1946, 1947, 1949, 1953, 1953, 1958, 1958, 1971, 1974, 1981, 1981,\n",
      "       1983, 1983, 1986, 1986]), array([11, 12, 11,  7,  8,  7,  8, 11,  7,  7, 11,  9,  8, 11,  8, 12, 10,\n",
      "        7,  7, 11, 11,  8, 11, 11,  8,  8, 12,  8, 11,  9,  8,  9,  7,  8,\n",
      "        0,  8,  9,  7, 10,  8,  9, 11,  7, 10,  7,  7, 10,  9,  9,  7,  8,\n",
      "       11, 12,  8, 11,  7, 10,  8, 12,  7, 12, 12,  8,  8, 11, 12, 12,  7,\n",
      "        8, 11,  7,  8, 11, 12, 12, 12,  7, 12,  8, 11,  7,  7,  0,  7, 11,\n",
      "        7, 10,  7, 10,  0,  7, 10,  9,  7,  8,  8, 12,  9,  8, 11, 11,  9,\n",
      "        9,  7, 11,  7, 10,  8,  8, 12,  9,  8,  8,  7,  9, 11, 11,  7, 10,\n",
      "       11,  9,  7, 12,  9,  7, 10, 11,  7,  0,  8,  7,  7,  7, 10,  9,  8,\n",
      "        7, 10,  7,  7,  8, 11,  8,  9,  9,  8, 11, 12,  9,  7,  9,  8,  9,\n",
      "       11,  9,  8,  8, 11,  8,  9, 11, 12,  8, 11,  8,  9, 11,  7, 10, 12,\n",
      "        9,  7,  7,  7, 11,  9,  7, 12,  8, 12, 11,  8,  8, 11,  7, 10,  7,\n",
      "        7,  9, 11,  9,  7, 10,  8,  8,  8, 11,  7, 12,  0,  8,  9,  7,  8,\n",
      "        7, 12,  0,  7, 10,  7, 10,  7, 10, 12,  8, 12,  8,  8,  8,  9,  9,\n",
      "        7, 10, 11, 11, 11,  7, 10,  9,  7,  9,  9,  8,  7,  9, 12,  7, 10,\n",
      "        9, 12,  8,  7,  9,  7, 11,  7,  8,  9,  8,  7,  9,  9,  7,  8, 11,\n",
      "        8, 12,  8,  7,  7, 10,  8, 12,  7,  7, 10,  7,  8,  9,  8,  9, 11,\n",
      "       11,  7, 10, 12,  8,  8, 12,  7, 10,  9,  8, 11,  7, 12, 12,  7, 10,\n",
      "        7,  9,  7,  7, 12,  9,  8,  7, 11,  8,  8,  9,  9, 11,  8,  7, 10,\n",
      "        7,  8,  9,  7, 10,  8,  8,  8,  7, 10,  7, 10,  8,  9,  8,  7, 10,\n",
      "        8,  0,  7,  7,  7,  7,  7, 11,  9,  9,  9, 11,  7,  8, 12,  7,  9,\n",
      "        7, 10,  9,  7,  7, 10,  7,  7,  7, 10, 11, 11, 11, 12,  9, 12,  7,\n",
      "       10,  8, 11, 12,  7,  8,  7, 10,  7,  7, 11,  9,  7, 10,  7, 12,  7,\n",
      "       12, 11,  7, 10,  8, 12,  8, 11,  7, 10,  9,  8,  8, 12,  8,  7,  7,\n",
      "        7,  7, 10,  9,  9,  7, 10,  7,  9, 11,  7, 12,  9,  7,  7, 10,  9,\n",
      "        7, 10, 12, 12, 12,  7, 10,  8,  7, 10,  9, 12,  8, 12,  8,  7,  0,\n",
      "        7,  7, 10, 12,  7, 10,  8,  9,  8,  9,  7, 10,  9,  9,  7, 10,  0,\n",
      "       11,  8,  0,  9,  7, 10,  8,  9,  7,  7, 10,  0,  7, 10, 10,  9,  7,\n",
      "       10,  9,  9,  7, 10, 10, 12,  9,  7, 10,  9,  7, 10,  9,  7, 10,  8,\n",
      "        7, 10,  7,  8,  8,  7, 12,  8,  7,  7,  7,  9, 11,  8, 11,  9,  8,\n",
      "        8,  7,  7, 10,  7,  8, 11,  8, 11, 11,  7,  9,  7,  7, 10,  7, 10,\n",
      "        7, 10, 12,  7,  7, 10, 10,  8, 11, 12, 12,  8, 12,  8, 12,  7,  7,\n",
      "       10, 11,  7,  9,  9,  9, 11, 11,  7,  7, 10,  7,  9, 12,  8,  7,  8,\n",
      "       11, 11, 11, 11,  9,  8, 11,  7, 12,  8, 11,  9,  7,  7, 12,  8,  7,\n",
      "       10,  7,  7, 10,  9, 12, 11, 12, 12,  9,  7,  8, 11,  7, 10,  7, 10,\n",
      "        7, 10,  7, 10,  8, 10,  8, 11,  8,  9,  7, 10,  7, 10, 11,  8,  9,\n",
      "        7,  8,  7,  9, 11, 12,  9,  8,  9,  9,  9,  7, 10,  8,  8, 11,  8,\n",
      "        7,  7, 10,  8,  7, 10,  7,  8,  8,  9,  7,  7,  7, 10, 11,  9, 12,\n",
      "       11,  7, 12,  8, 11,  7,  8,  9,  7,  7, 10,  8,  8,  9,  9,  9,  7,\n",
      "       10,  8,  7, 10, 11,  8,  7,  8,  7, 10, 12,  7,  7,  7, 12,  7,  7,\n",
      "        7, 10,  8, 11,  8, 11,  7, 10,  7, 10,  7, 10]))\n"
     ]
    }
   ],
   "source": [
    "threshold=3\n",
    "print(np.where(z>3))"
   ]
  },
  {
   "cell_type": "code",
   "execution_count": 35,
   "metadata": {},
   "outputs": [
    {
     "data": {
      "text/html": [
       "<div>\n",
       "<style scoped>\n",
       "    .dataframe tbody tr th:only-of-type {\n",
       "        vertical-align: middle;\n",
       "    }\n",
       "\n",
       "    .dataframe tbody tr th {\n",
       "        vertical-align: top;\n",
       "    }\n",
       "\n",
       "    .dataframe thead th {\n",
       "        text-align: right;\n",
       "    }\n",
       "</style>\n",
       "<table border=\"1\" class=\"dataframe\">\n",
       "  <thead>\n",
       "    <tr style=\"text-align: right;\">\n",
       "      <th></th>\n",
       "      <th>Experience</th>\n",
       "      <th>Rating</th>\n",
       "      <th>Profile</th>\n",
       "      <th>MBBS</th>\n",
       "      <th>BDS</th>\n",
       "      <th>BHMS</th>\n",
       "      <th>BAMS</th>\n",
       "      <th>MD - Dermatology</th>\n",
       "      <th>MS - ENT</th>\n",
       "      <th>MD - General Medicine</th>\n",
       "      <th>Venereology &amp; Leprosy</th>\n",
       "      <th>Diploma in Otorhinolaryngology (DLO)</th>\n",
       "      <th>DDVL</th>\n",
       "      <th>Area</th>\n",
       "      <th>City</th>\n",
       "    </tr>\n",
       "  </thead>\n",
       "  <tbody>\n",
       "    <tr>\n",
       "      <th>0</th>\n",
       "      <td>35</td>\n",
       "      <td>-99</td>\n",
       "      <td>4</td>\n",
       "      <td>1</td>\n",
       "      <td>0</td>\n",
       "      <td>0</td>\n",
       "      <td>0</td>\n",
       "      <td>0</td>\n",
       "      <td>0</td>\n",
       "      <td>0</td>\n",
       "      <td>0</td>\n",
       "      <td>0</td>\n",
       "      <td>0</td>\n",
       "      <td>142</td>\n",
       "      <td>6</td>\n",
       "    </tr>\n",
       "    <tr>\n",
       "      <th>3</th>\n",
       "      <td>0</td>\n",
       "      <td>-99</td>\n",
       "      <td>0</td>\n",
       "      <td>0</td>\n",
       "      <td>0</td>\n",
       "      <td>0</td>\n",
       "      <td>1</td>\n",
       "      <td>0</td>\n",
       "      <td>0</td>\n",
       "      <td>0</td>\n",
       "      <td>0</td>\n",
       "      <td>0</td>\n",
       "      <td>0</td>\n",
       "      <td>373</td>\n",
       "      <td>3</td>\n",
       "    </tr>\n",
       "    <tr>\n",
       "      <th>4</th>\n",
       "      <td>16</td>\n",
       "      <td>100</td>\n",
       "      <td>1</td>\n",
       "      <td>0</td>\n",
       "      <td>1</td>\n",
       "      <td>0</td>\n",
       "      <td>0</td>\n",
       "      <td>0</td>\n",
       "      <td>0</td>\n",
       "      <td>0</td>\n",
       "      <td>0</td>\n",
       "      <td>0</td>\n",
       "      <td>0</td>\n",
       "      <td>231</td>\n",
       "      <td>0</td>\n",
       "    </tr>\n",
       "    <tr>\n",
       "      <th>5</th>\n",
       "      <td>14</td>\n",
       "      <td>90</td>\n",
       "      <td>1</td>\n",
       "      <td>0</td>\n",
       "      <td>1</td>\n",
       "      <td>0</td>\n",
       "      <td>0</td>\n",
       "      <td>0</td>\n",
       "      <td>0</td>\n",
       "      <td>0</td>\n",
       "      <td>0</td>\n",
       "      <td>0</td>\n",
       "      <td>0</td>\n",
       "      <td>553</td>\n",
       "      <td>1</td>\n",
       "    </tr>\n",
       "    <tr>\n",
       "      <th>7</th>\n",
       "      <td>9</td>\n",
       "      <td>94</td>\n",
       "      <td>1</td>\n",
       "      <td>0</td>\n",
       "      <td>1</td>\n",
       "      <td>0</td>\n",
       "      <td>0</td>\n",
       "      <td>0</td>\n",
       "      <td>0</td>\n",
       "      <td>0</td>\n",
       "      <td>0</td>\n",
       "      <td>0</td>\n",
       "      <td>0</td>\n",
       "      <td>31</td>\n",
       "      <td>5</td>\n",
       "    </tr>\n",
       "    <tr>\n",
       "      <th>...</th>\n",
       "      <td>...</td>\n",
       "      <td>...</td>\n",
       "      <td>...</td>\n",
       "      <td>...</td>\n",
       "      <td>...</td>\n",
       "      <td>...</td>\n",
       "      <td>...</td>\n",
       "      <td>...</td>\n",
       "      <td>...</td>\n",
       "      <td>...</td>\n",
       "      <td>...</td>\n",
       "      <td>...</td>\n",
       "      <td>...</td>\n",
       "      <td>...</td>\n",
       "      <td>...</td>\n",
       "    </tr>\n",
       "    <tr>\n",
       "      <th>1979</th>\n",
       "      <td>17</td>\n",
       "      <td>100</td>\n",
       "      <td>1</td>\n",
       "      <td>0</td>\n",
       "      <td>1</td>\n",
       "      <td>0</td>\n",
       "      <td>0</td>\n",
       "      <td>0</td>\n",
       "      <td>0</td>\n",
       "      <td>0</td>\n",
       "      <td>0</td>\n",
       "      <td>0</td>\n",
       "      <td>0</td>\n",
       "      <td>424</td>\n",
       "      <td>6</td>\n",
       "    </tr>\n",
       "    <tr>\n",
       "      <th>1980</th>\n",
       "      <td>18</td>\n",
       "      <td>98</td>\n",
       "      <td>1</td>\n",
       "      <td>0</td>\n",
       "      <td>1</td>\n",
       "      <td>0</td>\n",
       "      <td>0</td>\n",
       "      <td>0</td>\n",
       "      <td>0</td>\n",
       "      <td>0</td>\n",
       "      <td>0</td>\n",
       "      <td>0</td>\n",
       "      <td>0</td>\n",
       "      <td>553</td>\n",
       "      <td>1</td>\n",
       "    </tr>\n",
       "    <tr>\n",
       "      <th>1982</th>\n",
       "      <td>10</td>\n",
       "      <td>-99</td>\n",
       "      <td>0</td>\n",
       "      <td>0</td>\n",
       "      <td>0</td>\n",
       "      <td>0</td>\n",
       "      <td>1</td>\n",
       "      <td>0</td>\n",
       "      <td>0</td>\n",
       "      <td>0</td>\n",
       "      <td>0</td>\n",
       "      <td>0</td>\n",
       "      <td>0</td>\n",
       "      <td>58</td>\n",
       "      <td>0</td>\n",
       "    </tr>\n",
       "    <tr>\n",
       "      <th>1984</th>\n",
       "      <td>9</td>\n",
       "      <td>-99</td>\n",
       "      <td>4</td>\n",
       "      <td>1</td>\n",
       "      <td>0</td>\n",
       "      <td>0</td>\n",
       "      <td>0</td>\n",
       "      <td>0</td>\n",
       "      <td>0</td>\n",
       "      <td>0</td>\n",
       "      <td>0</td>\n",
       "      <td>0</td>\n",
       "      <td>0</td>\n",
       "      <td>423</td>\n",
       "      <td>1</td>\n",
       "    </tr>\n",
       "    <tr>\n",
       "      <th>1985</th>\n",
       "      <td>12</td>\n",
       "      <td>98</td>\n",
       "      <td>1</td>\n",
       "      <td>0</td>\n",
       "      <td>1</td>\n",
       "      <td>0</td>\n",
       "      <td>0</td>\n",
       "      <td>0</td>\n",
       "      <td>0</td>\n",
       "      <td>0</td>\n",
       "      <td>0</td>\n",
       "      <td>0</td>\n",
       "      <td>0</td>\n",
       "      <td>26</td>\n",
       "      <td>0</td>\n",
       "    </tr>\n",
       "  </tbody>\n",
       "</table>\n",
       "<p>1429 rows × 15 columns</p>\n",
       "</div>"
      ],
      "text/plain": [
       "      Experience  Rating  Profile  MBBS  BDS  BHMS  BAMS  MD - Dermatology  \\\n",
       "0             35     -99        4     1    0     0     0                 0   \n",
       "3              0     -99        0     0    0     0     1                 0   \n",
       "4             16     100        1     0    1     0     0                 0   \n",
       "5             14      90        1     0    1     0     0                 0   \n",
       "7              9      94        1     0    1     0     0                 0   \n",
       "...          ...     ...      ...   ...  ...   ...   ...               ...   \n",
       "1979          17     100        1     0    1     0     0                 0   \n",
       "1980          18      98        1     0    1     0     0                 0   \n",
       "1982          10     -99        0     0    0     0     1                 0   \n",
       "1984           9     -99        4     1    0     0     0                 0   \n",
       "1985          12      98        1     0    1     0     0                 0   \n",
       "\n",
       "      MS - ENT  MD - General Medicine  Venereology & Leprosy  \\\n",
       "0            0                      0                      0   \n",
       "3            0                      0                      0   \n",
       "4            0                      0                      0   \n",
       "5            0                      0                      0   \n",
       "7            0                      0                      0   \n",
       "...        ...                    ...                    ...   \n",
       "1979         0                      0                      0   \n",
       "1980         0                      0                      0   \n",
       "1982         0                      0                      0   \n",
       "1984         0                      0                      0   \n",
       "1985         0                      0                      0   \n",
       "\n",
       "      Diploma in Otorhinolaryngology (DLO)  DDVL  Area  City  \n",
       "0                                        0     0   142     6  \n",
       "3                                        0     0   373     3  \n",
       "4                                        0     0   231     0  \n",
       "5                                        0     0   553     1  \n",
       "7                                        0     0    31     5  \n",
       "...                                    ...   ...   ...   ...  \n",
       "1979                                     0     0   424     6  \n",
       "1980                                     0     0   553     1  \n",
       "1982                                     0     0    58     0  \n",
       "1984                                     0     0   423     1  \n",
       "1985                                     0     0    26     0  \n",
       "\n",
       "[1429 rows x 15 columns]"
      ]
     },
     "execution_count": 35,
     "metadata": {},
     "output_type": "execute_result"
    }
   ],
   "source": [
    "df_new=df[(z<3).all(axis=1)]\n",
    "df_new"
   ]
  },
  {
   "cell_type": "code",
   "execution_count": 36,
   "metadata": {},
   "outputs": [
    {
     "data": {
      "text/plain": [
       "((1429, 15), (1987, 15))"
      ]
     },
     "execution_count": 36,
     "metadata": {},
     "output_type": "execute_result"
    }
   ],
   "source": [
    "df_new.shape,df.shape"
   ]
  },
  {
   "cell_type": "markdown",
   "metadata": {},
   "source": [
    "550 rows or 25% of data will be lost if we remove outliers. so deciding not to remove them due to huge loss of data"
   ]
  },
  {
   "cell_type": "code",
   "execution_count": 37,
   "metadata": {},
   "outputs": [],
   "source": [
    "# scaling the dataset"
   ]
  },
  {
   "cell_type": "code",
   "execution_count": 38,
   "metadata": {},
   "outputs": [
    {
     "data": {
      "text/plain": [
       "(1987, 15)"
      ]
     },
     "execution_count": 38,
     "metadata": {},
     "output_type": "execute_result"
    }
   ],
   "source": [
    "from sklearn.preprocessing import StandardScaler\n",
    "sc=StandardScaler()\n",
    "scaled_df=sc.fit_transform(df)\n",
    "scaled_df.shape"
   ]
  },
  {
   "cell_type": "markdown",
   "metadata": {},
   "source": [
    "# All EDA and preprocessing has been done on test dataset. After data modelling done on Train dataset we will use this test dataset for prediction in the end ,at the time of conclusion"
   ]
  },
  {
   "cell_type": "markdown",
   "metadata": {},
   "source": [
    "# EDA for train dataset"
   ]
  },
  {
   "cell_type": "code",
   "execution_count": 39,
   "metadata": {},
   "outputs": [
    {
     "data": {
      "text/html": [
       "<div>\n",
       "<style scoped>\n",
       "    .dataframe tbody tr th:only-of-type {\n",
       "        vertical-align: middle;\n",
       "    }\n",
       "\n",
       "    .dataframe tbody tr th {\n",
       "        vertical-align: top;\n",
       "    }\n",
       "\n",
       "    .dataframe thead th {\n",
       "        text-align: right;\n",
       "    }\n",
       "</style>\n",
       "<table border=\"1\" class=\"dataframe\">\n",
       "  <thead>\n",
       "    <tr style=\"text-align: right;\">\n",
       "      <th></th>\n",
       "      <th>Qualification</th>\n",
       "      <th>Experience</th>\n",
       "      <th>Rating</th>\n",
       "      <th>Place</th>\n",
       "      <th>Profile</th>\n",
       "      <th>Miscellaneous_Info</th>\n",
       "      <th>Fees</th>\n",
       "    </tr>\n",
       "  </thead>\n",
       "  <tbody>\n",
       "    <tr>\n",
       "      <th>0</th>\n",
       "      <td>BHMS, MD - Homeopathy</td>\n",
       "      <td>24 years experience</td>\n",
       "      <td>100%</td>\n",
       "      <td>Kakkanad, Ernakulam</td>\n",
       "      <td>Homeopath</td>\n",
       "      <td>100% 16 Feedback Kakkanad, Ernakulam</td>\n",
       "      <td>100</td>\n",
       "    </tr>\n",
       "    <tr>\n",
       "      <th>1</th>\n",
       "      <td>BAMS, MD - Ayurveda Medicine</td>\n",
       "      <td>12 years experience</td>\n",
       "      <td>98%</td>\n",
       "      <td>Whitefield, Bangalore</td>\n",
       "      <td>Ayurveda</td>\n",
       "      <td>98% 76 Feedback Whitefield, Bangalore</td>\n",
       "      <td>350</td>\n",
       "    </tr>\n",
       "    <tr>\n",
       "      <th>2</th>\n",
       "      <td>MBBS, MS - Otorhinolaryngology</td>\n",
       "      <td>9 years experience</td>\n",
       "      <td>NaN</td>\n",
       "      <td>Mathikere - BEL, Bangalore</td>\n",
       "      <td>ENT Specialist</td>\n",
       "      <td>NaN</td>\n",
       "      <td>300</td>\n",
       "    </tr>\n",
       "    <tr>\n",
       "      <th>3</th>\n",
       "      <td>BSc - Zoology, BAMS</td>\n",
       "      <td>12 years experience</td>\n",
       "      <td>NaN</td>\n",
       "      <td>Bannerghatta Road, Bangalore</td>\n",
       "      <td>Ayurveda</td>\n",
       "      <td>Bannerghatta Road, Bangalore ₹250 Available on...</td>\n",
       "      <td>250</td>\n",
       "    </tr>\n",
       "    <tr>\n",
       "      <th>4</th>\n",
       "      <td>BAMS</td>\n",
       "      <td>20 years experience</td>\n",
       "      <td>100%</td>\n",
       "      <td>Keelkattalai, Chennai</td>\n",
       "      <td>Ayurveda</td>\n",
       "      <td>100% 4 Feedback Keelkattalai, Chennai</td>\n",
       "      <td>250</td>\n",
       "    </tr>\n",
       "    <tr>\n",
       "      <th>...</th>\n",
       "      <td>...</td>\n",
       "      <td>...</td>\n",
       "      <td>...</td>\n",
       "      <td>...</td>\n",
       "      <td>...</td>\n",
       "      <td>...</td>\n",
       "      <td>...</td>\n",
       "    </tr>\n",
       "    <tr>\n",
       "      <th>5956</th>\n",
       "      <td>MBBS, MS - ENT</td>\n",
       "      <td>19 years experience</td>\n",
       "      <td>98%</td>\n",
       "      <td>Basavanagudi, Bangalore</td>\n",
       "      <td>ENT Specialist</td>\n",
       "      <td>98% 45 Feedback Basavanagudi, Bangalore</td>\n",
       "      <td>300</td>\n",
       "    </tr>\n",
       "    <tr>\n",
       "      <th>5957</th>\n",
       "      <td>MBBS</td>\n",
       "      <td>33 years experience</td>\n",
       "      <td>NaN</td>\n",
       "      <td>Nungambakkam, Chennai</td>\n",
       "      <td>General Medicine</td>\n",
       "      <td>NaN</td>\n",
       "      <td>100</td>\n",
       "    </tr>\n",
       "    <tr>\n",
       "      <th>5958</th>\n",
       "      <td>MBBS</td>\n",
       "      <td>41 years experience</td>\n",
       "      <td>97%</td>\n",
       "      <td>Greater Kailash Part 2, Delhi</td>\n",
       "      <td>General Medicine</td>\n",
       "      <td>97% 11 Feedback Greater Kailash Part 2, Delhi</td>\n",
       "      <td>600</td>\n",
       "    </tr>\n",
       "    <tr>\n",
       "      <th>5959</th>\n",
       "      <td>MBBS, MD - General Medicine</td>\n",
       "      <td>15 years experience</td>\n",
       "      <td>90%</td>\n",
       "      <td>Vileparle West, Mumbai</td>\n",
       "      <td>General Medicine</td>\n",
       "      <td>General Medical Consultation Viral Fever Treat...</td>\n",
       "      <td>100</td>\n",
       "    </tr>\n",
       "    <tr>\n",
       "      <th>5960</th>\n",
       "      <td>BDS, MDS - Orthodontics</td>\n",
       "      <td>17 years experience</td>\n",
       "      <td>100%</td>\n",
       "      <td>Pitampura, Delhi</td>\n",
       "      <td>Dentist</td>\n",
       "      <td>Acrylic Partial Denture Crowns and Bridges Fix...</td>\n",
       "      <td>200</td>\n",
       "    </tr>\n",
       "  </tbody>\n",
       "</table>\n",
       "<p>5961 rows × 7 columns</p>\n",
       "</div>"
      ],
      "text/plain": [
       "                       Qualification           Experience Rating  \\\n",
       "0              BHMS, MD - Homeopathy  24 years experience   100%   \n",
       "1       BAMS, MD - Ayurveda Medicine  12 years experience    98%   \n",
       "2     MBBS, MS - Otorhinolaryngology   9 years experience    NaN   \n",
       "3                BSc - Zoology, BAMS  12 years experience    NaN   \n",
       "4                               BAMS  20 years experience   100%   \n",
       "...                              ...                  ...    ...   \n",
       "5956                  MBBS, MS - ENT  19 years experience    98%   \n",
       "5957                            MBBS  33 years experience    NaN   \n",
       "5958                            MBBS  41 years experience    97%   \n",
       "5959     MBBS, MD - General Medicine  15 years experience    90%   \n",
       "5960         BDS, MDS - Orthodontics  17 years experience   100%   \n",
       "\n",
       "                              Place           Profile  \\\n",
       "0               Kakkanad, Ernakulam         Homeopath   \n",
       "1             Whitefield, Bangalore          Ayurveda   \n",
       "2        Mathikere - BEL, Bangalore    ENT Specialist   \n",
       "3      Bannerghatta Road, Bangalore          Ayurveda   \n",
       "4             Keelkattalai, Chennai          Ayurveda   \n",
       "...                             ...               ...   \n",
       "5956        Basavanagudi, Bangalore    ENT Specialist   \n",
       "5957          Nungambakkam, Chennai  General Medicine   \n",
       "5958  Greater Kailash Part 2, Delhi  General Medicine   \n",
       "5959         Vileparle West, Mumbai  General Medicine   \n",
       "5960               Pitampura, Delhi           Dentist   \n",
       "\n",
       "                                     Miscellaneous_Info  Fees  \n",
       "0                  100% 16 Feedback Kakkanad, Ernakulam   100  \n",
       "1                 98% 76 Feedback Whitefield, Bangalore   350  \n",
       "2                                                   NaN   300  \n",
       "3     Bannerghatta Road, Bangalore ₹250 Available on...   250  \n",
       "4                 100% 4 Feedback Keelkattalai, Chennai   250  \n",
       "...                                                 ...   ...  \n",
       "5956            98% 45 Feedback Basavanagudi, Bangalore   300  \n",
       "5957                                                NaN   100  \n",
       "5958      97% 11 Feedback Greater Kailash Part 2, Delhi   600  \n",
       "5959  General Medical Consultation Viral Fever Treat...   100  \n",
       "5960  Acrylic Partial Denture Crowns and Bridges Fix...   200  \n",
       "\n",
       "[5961 rows x 7 columns]"
      ]
     },
     "execution_count": 39,
     "metadata": {},
     "output_type": "execute_result"
    }
   ],
   "source": [
    "ds=pd.read_csv(\"Final_train.csv\",sep='\\t')\n",
    "ds"
   ]
  },
  {
   "cell_type": "code",
   "execution_count": 40,
   "metadata": {},
   "outputs": [
    {
     "data": {
      "text/plain": [
       "Qualification         object\n",
       "Experience            object\n",
       "Rating                object\n",
       "Place                 object\n",
       "Profile               object\n",
       "Miscellaneous_Info    object\n",
       "Fees                   int64\n",
       "dtype: object"
      ]
     },
     "execution_count": 40,
     "metadata": {},
     "output_type": "execute_result"
    }
   ],
   "source": [
    "ds.dtypes # checking the data types of columns "
   ]
  },
  {
   "cell_type": "code",
   "execution_count": 41,
   "metadata": {},
   "outputs": [
    {
     "data": {
      "text/plain": [
       "Index(['Qualification', 'Experience', 'Rating', 'Place', 'Profile',\n",
       "       'Miscellaneous_Info', 'Fees'],\n",
       "      dtype='object')"
      ]
     },
     "execution_count": 41,
     "metadata": {},
     "output_type": "execute_result"
    }
   ],
   "source": [
    "ds.columns #checking various columns "
   ]
  },
  {
   "cell_type": "code",
   "execution_count": 42,
   "metadata": {},
   "outputs": [
    {
     "data": {
      "text/html": [
       "<div>\n",
       "<style scoped>\n",
       "    .dataframe tbody tr th:only-of-type {\n",
       "        vertical-align: middle;\n",
       "    }\n",
       "\n",
       "    .dataframe tbody tr th {\n",
       "        vertical-align: top;\n",
       "    }\n",
       "\n",
       "    .dataframe thead th {\n",
       "        text-align: right;\n",
       "    }\n",
       "</style>\n",
       "<table border=\"1\" class=\"dataframe\">\n",
       "  <thead>\n",
       "    <tr style=\"text-align: right;\">\n",
       "      <th></th>\n",
       "      <th>Fees</th>\n",
       "    </tr>\n",
       "  </thead>\n",
       "  <tbody>\n",
       "    <tr>\n",
       "      <th>count</th>\n",
       "      <td>5961.000000</td>\n",
       "    </tr>\n",
       "    <tr>\n",
       "      <th>mean</th>\n",
       "      <td>307.944640</td>\n",
       "    </tr>\n",
       "    <tr>\n",
       "      <th>std</th>\n",
       "      <td>190.920373</td>\n",
       "    </tr>\n",
       "    <tr>\n",
       "      <th>min</th>\n",
       "      <td>5.000000</td>\n",
       "    </tr>\n",
       "    <tr>\n",
       "      <th>25%</th>\n",
       "      <td>150.000000</td>\n",
       "    </tr>\n",
       "    <tr>\n",
       "      <th>50%</th>\n",
       "      <td>300.000000</td>\n",
       "    </tr>\n",
       "    <tr>\n",
       "      <th>75%</th>\n",
       "      <td>500.000000</td>\n",
       "    </tr>\n",
       "    <tr>\n",
       "      <th>max</th>\n",
       "      <td>950.000000</td>\n",
       "    </tr>\n",
       "  </tbody>\n",
       "</table>\n",
       "</div>"
      ],
      "text/plain": [
       "              Fees\n",
       "count  5961.000000\n",
       "mean    307.944640\n",
       "std     190.920373\n",
       "min       5.000000\n",
       "25%     150.000000\n",
       "50%     300.000000\n",
       "75%     500.000000\n",
       "max     950.000000"
      ]
     },
     "execution_count": 42,
     "metadata": {},
     "output_type": "execute_result"
    }
   ],
   "source": [
    "ds.describe()"
   ]
  },
  {
   "cell_type": "markdown",
   "metadata": {},
   "source": [
    "key observations here\n",
    "\n",
    "1. mean and median is very near .\n",
    "2. There is huge differnece in 75% and max values means few outliers are there\n",
    "3. Count is same as no. of rows.  means no missing values in this column "
   ]
  },
  {
   "cell_type": "code",
   "execution_count": 43,
   "metadata": {},
   "outputs": [
    {
     "data": {
      "text/plain": [
       "(5961, 7)"
      ]
     },
     "execution_count": 43,
     "metadata": {},
     "output_type": "execute_result"
    }
   ],
   "source": [
    "ds.shape  #checking the rows and ccolumns count"
   ]
  },
  {
   "cell_type": "code",
   "execution_count": 44,
   "metadata": {},
   "outputs": [
    {
     "data": {
      "text/plain": [
       "Qualification            0\n",
       "Experience               0\n",
       "Rating                3302\n",
       "Place                   25\n",
       "Profile                  0\n",
       "Miscellaneous_Info    2620\n",
       "Fees                     0\n",
       "dtype: int64"
      ]
     },
     "execution_count": 44,
     "metadata": {},
     "output_type": "execute_result"
    }
   ],
   "source": [
    "ds.isnull().sum()"
   ]
  },
  {
   "cell_type": "code",
   "execution_count": 45,
   "metadata": {},
   "outputs": [
    {
     "data": {
      "text/plain": [
       "<AxesSubplot:>"
      ]
     },
     "execution_count": 45,
     "metadata": {},
     "output_type": "execute_result"
    },
    {
     "data": {
      "image/png": "[encoded data removed]",
      "text/plain": [
       "<Figure size 432x288 with 2 Axes>"
      ]
     },
     "metadata": {
      "needs_background": "light"
     },
     "output_type": "display_data"
    }
   ],
   "source": [
    "sns.heatmap(ds.isnull()) # checking the null values "
   ]
  },
  {
   "cell_type": "code",
   "execution_count": 46,
   "metadata": {},
   "outputs": [
    {
     "data": {
      "text/html": [
       "<div>\n",
       "<style scoped>\n",
       "    .dataframe tbody tr th:only-of-type {\n",
       "        vertical-align: middle;\n",
       "    }\n",
       "\n",
       "    .dataframe tbody tr th {\n",
       "        vertical-align: top;\n",
       "    }\n",
       "\n",
       "    .dataframe thead th {\n",
       "        text-align: right;\n",
       "    }\n",
       "</style>\n",
       "<table border=\"1\" class=\"dataframe\">\n",
       "  <thead>\n",
       "    <tr style=\"text-align: right;\">\n",
       "      <th></th>\n",
       "      <th>Fees</th>\n",
       "    </tr>\n",
       "  </thead>\n",
       "  <tbody>\n",
       "    <tr>\n",
       "      <th>Fees</th>\n",
       "      <td>1.0</td>\n",
       "    </tr>\n",
       "  </tbody>\n",
       "</table>\n",
       "</div>"
      ],
      "text/plain": [
       "      Fees\n",
       "Fees   1.0"
      ]
     },
     "execution_count": 46,
     "metadata": {},
     "output_type": "execute_result"
    }
   ],
   "source": [
    "dscor=ds.corr() # checking the correlation\n",
    "dscor # only one numerical column . so no correlation"
   ]
  },
  {
   "cell_type": "markdown",
   "metadata": {},
   "source": [
    "Key Obseravtions till here\n",
    "1. Data is not numerical. \n",
    "2. nominal values are alphanumeric also.\n",
    "So, One by one we will try to extract the relevant values from each variable."
   ]
  },
  {
   "cell_type": "code",
   "execution_count": 47,
   "metadata": {},
   "outputs": [],
   "source": [
    " #Extracting Experience Year from Experience column and convert to Numeric.\n",
    "# Experience\n",
    "ds['Experience'] = ds['Experience'].str.split().str[0]\n",
    "ds['Experience'] = ds['Experience'].astype(int)"
   ]
  },
  {
   "cell_type": "markdown",
   "metadata": {},
   "source": [
    "Now, Rating column has % symbols. and having null values too.\n",
    "1. Remove % symbols.\n",
    "2. Changing the null values to -99. Putting values 0 will not serve the purpose and give a negative view having 0 ratings"
   ]
  },
  {
   "cell_type": "code",
   "execution_count": 48,
   "metadata": {},
   "outputs": [],
   "source": [
    "ds['Rating'].fillna('-99%',inplace=True) # filling the null values "
   ]
  },
  {
   "cell_type": "code",
   "execution_count": 49,
   "metadata": {},
   "outputs": [],
   "source": [
    "for i in ds['Rating'].value_counts().index:\n",
    "    ds['Rating'].replace(i,int(i[:-1]),inplace=True)"
   ]
  },
  {
   "cell_type": "markdown",
   "metadata": {},
   "source": [
    "Steps to be followed for extracting Qualification info\n",
    "1. Repeated values in all entries. like MBBS.So making a qualification count\n",
    "2. comma and space sepeartd values to be handled . And Extracting top 10 qualifications\n",
    "3. we will make specific columns for all top degrees which most of the rows carry.\n",
    "4. will drop old Qualification and count column"
   ]
  },
  {
   "cell_type": "code",
   "execution_count": 50,
   "metadata": {},
   "outputs": [
    {
     "data": {
      "text/plain": [
       "2     2628\n",
       "1     1962\n",
       "3      995\n",
       "4      257\n",
       "5       84\n",
       "6       23\n",
       "7        6\n",
       "9        3\n",
       "8        2\n",
       "10       1\n",
       "Name: Qualification_count, dtype: int64"
      ]
     },
     "execution_count": 50,
     "metadata": {},
     "output_type": "execute_result"
    }
   ],
   "source": [
    "ds['Qualification_count'] = ds['Qualification'].apply(lambda x: len(x.split(\",\")))\n",
    "\n",
    "ds['Qualification_count'].value_counts()"
   ]
  },
  {
   "cell_type": "code",
   "execution_count": 51,
   "metadata": {},
   "outputs": [
    {
     "data": {
      "text/plain": [
       "array(['BHMS, MD - Homeopathy', 'BAMS, MD - Ayurveda Medicine',\n",
       "       'MBBS, MS - Otorhinolaryngology', ...,\n",
       "       'MD - Dermatology , Venereology & Leprosy, MBBS, Fellowship In Dermatosurgery',\n",
       "       'BDS, certification in smile designing',\n",
       "       'MD - Homeopathy, Post Graduate Diploma in Healthcare Management(PGDHM), DHMS (Diploma in Homeopathic Medicine and Surgery)'],\n",
       "      dtype=object)"
      ]
     },
     "execution_count": 51,
     "metadata": {},
     "output_type": "execute_result"
    }
   ],
   "source": [
    "ds['Qualification'].unique()"
   ]
  },
  {
   "cell_type": "code",
   "execution_count": 52,
   "metadata": {},
   "outputs": [],
   "source": [
    "# Extracting all the  qualification with there counts\n",
    "ds[\"Qualification\"]=ds[\"Qualification\"].str.split(\",\")\n",
    "Qual ={}\n",
    "for i in ds[\"Qualification\"].values:\n",
    "    for j in i:\n",
    "        j = j.strip()\n",
    "        if j in Qual:\n",
    "            Qual[j]+=1\n",
    "        else:\n",
    "            Qual[j]=1\n",
    "            "
   ]
  },
  {
   "cell_type": "code",
   "execution_count": 53,
   "metadata": {},
   "outputs": [
    {
     "name": "stdout",
     "output_type": "stream",
     "text": [
      "['MBBS', 'BDS', 'BAMS', 'BHMS', 'MD - Dermatology', 'MS - ENT', 'Venereology & Leprosy', 'MD - General Medicine', 'Diploma in Otorhinolaryngology (DLO)', 'MD - Homeopathy']\n"
     ]
    }
   ],
   "source": [
    "#Extracting  top 10 qualification\n",
    "top_qual = sorted(Qual.items(),key=lambda x:x[1],reverse=True)[:10]\n",
    "final_qual = []\n",
    "for qual in top_qual:\n",
    "    final_qual.append(qual[0])\n",
    "    \n",
    "print(final_qual)"
   ]
  },
  {
   "cell_type": "code",
   "execution_count": 54,
   "metadata": {},
   "outputs": [],
   "source": [
    "for qual in final_qual:\n",
    "    ds[qual] = 0\n",
    "\n",
    "for x,y in zip(ds['Qualification'].values, np.array([i for i in range(len(ds))])):\n",
    "    for c in x:\n",
    "        c = c.strip()\n",
    "        if c in final_qual:\n",
    "            ds[c][y] = 1"
   ]
  },
  {
   "cell_type": "code",
   "execution_count": 55,
   "metadata": {},
   "outputs": [],
   "source": [
    "# Now we can drop the original qualificaton column and count column which we added \n",
    "ds.drop(['Qualification','Qualification_count'],axis=1,inplace=True)"
   ]
  },
  {
   "cell_type": "code",
   "execution_count": 56,
   "metadata": {},
   "outputs": [
    {
     "data": {
      "text/html": [
       "<div>\n",
       "<style scoped>\n",
       "    .dataframe tbody tr th:only-of-type {\n",
       "        vertical-align: middle;\n",
       "    }\n",
       "\n",
       "    .dataframe tbody tr th {\n",
       "        vertical-align: top;\n",
       "    }\n",
       "\n",
       "    .dataframe thead th {\n",
       "        text-align: right;\n",
       "    }\n",
       "</style>\n",
       "<table border=\"1\" class=\"dataframe\">\n",
       "  <thead>\n",
       "    <tr style=\"text-align: right;\">\n",
       "      <th></th>\n",
       "      <th>Experience</th>\n",
       "      <th>Rating</th>\n",
       "      <th>Place</th>\n",
       "      <th>Profile</th>\n",
       "      <th>Miscellaneous_Info</th>\n",
       "      <th>Fees</th>\n",
       "      <th>MBBS</th>\n",
       "      <th>BDS</th>\n",
       "      <th>BAMS</th>\n",
       "      <th>BHMS</th>\n",
       "      <th>MD - Dermatology</th>\n",
       "      <th>MS - ENT</th>\n",
       "      <th>Venereology &amp; Leprosy</th>\n",
       "      <th>MD - General Medicine</th>\n",
       "      <th>Diploma in Otorhinolaryngology (DLO)</th>\n",
       "      <th>MD - Homeopathy</th>\n",
       "    </tr>\n",
       "  </thead>\n",
       "  <tbody>\n",
       "    <tr>\n",
       "      <th>0</th>\n",
       "      <td>24</td>\n",
       "      <td>100</td>\n",
       "      <td>Kakkanad, Ernakulam</td>\n",
       "      <td>Homeopath</td>\n",
       "      <td>100% 16 Feedback Kakkanad, Ernakulam</td>\n",
       "      <td>100</td>\n",
       "      <td>0</td>\n",
       "      <td>0</td>\n",
       "      <td>0</td>\n",
       "      <td>1</td>\n",
       "      <td>0</td>\n",
       "      <td>0</td>\n",
       "      <td>0</td>\n",
       "      <td>0</td>\n",
       "      <td>0</td>\n",
       "      <td>1</td>\n",
       "    </tr>\n",
       "    <tr>\n",
       "      <th>1</th>\n",
       "      <td>12</td>\n",
       "      <td>98</td>\n",
       "      <td>Whitefield, Bangalore</td>\n",
       "      <td>Ayurveda</td>\n",
       "      <td>98% 76 Feedback Whitefield, Bangalore</td>\n",
       "      <td>350</td>\n",
       "      <td>0</td>\n",
       "      <td>0</td>\n",
       "      <td>1</td>\n",
       "      <td>0</td>\n",
       "      <td>0</td>\n",
       "      <td>0</td>\n",
       "      <td>0</td>\n",
       "      <td>0</td>\n",
       "      <td>0</td>\n",
       "      <td>0</td>\n",
       "    </tr>\n",
       "    <tr>\n",
       "      <th>2</th>\n",
       "      <td>9</td>\n",
       "      <td>-99</td>\n",
       "      <td>Mathikere - BEL, Bangalore</td>\n",
       "      <td>ENT Specialist</td>\n",
       "      <td>NaN</td>\n",
       "      <td>300</td>\n",
       "      <td>1</td>\n",
       "      <td>0</td>\n",
       "      <td>0</td>\n",
       "      <td>0</td>\n",
       "      <td>0</td>\n",
       "      <td>0</td>\n",
       "      <td>0</td>\n",
       "      <td>0</td>\n",
       "      <td>0</td>\n",
       "      <td>0</td>\n",
       "    </tr>\n",
       "    <tr>\n",
       "      <th>3</th>\n",
       "      <td>12</td>\n",
       "      <td>-99</td>\n",
       "      <td>Bannerghatta Road, Bangalore</td>\n",
       "      <td>Ayurveda</td>\n",
       "      <td>Bannerghatta Road, Bangalore ₹250 Available on...</td>\n",
       "      <td>250</td>\n",
       "      <td>0</td>\n",
       "      <td>0</td>\n",
       "      <td>1</td>\n",
       "      <td>0</td>\n",
       "      <td>0</td>\n",
       "      <td>0</td>\n",
       "      <td>0</td>\n",
       "      <td>0</td>\n",
       "      <td>0</td>\n",
       "      <td>0</td>\n",
       "    </tr>\n",
       "    <tr>\n",
       "      <th>4</th>\n",
       "      <td>20</td>\n",
       "      <td>100</td>\n",
       "      <td>Keelkattalai, Chennai</td>\n",
       "      <td>Ayurveda</td>\n",
       "      <td>100% 4 Feedback Keelkattalai, Chennai</td>\n",
       "      <td>250</td>\n",
       "      <td>0</td>\n",
       "      <td>0</td>\n",
       "      <td>1</td>\n",
       "      <td>0</td>\n",
       "      <td>0</td>\n",
       "      <td>0</td>\n",
       "      <td>0</td>\n",
       "      <td>0</td>\n",
       "      <td>0</td>\n",
       "      <td>0</td>\n",
       "    </tr>\n",
       "  </tbody>\n",
       "</table>\n",
       "</div>"
      ],
      "text/plain": [
       "   Experience  Rating                         Place         Profile  \\\n",
       "0          24     100           Kakkanad, Ernakulam       Homeopath   \n",
       "1          12      98         Whitefield, Bangalore        Ayurveda   \n",
       "2           9     -99    Mathikere - BEL, Bangalore  ENT Specialist   \n",
       "3          12     -99  Bannerghatta Road, Bangalore        Ayurveda   \n",
       "4          20     100         Keelkattalai, Chennai        Ayurveda   \n",
       "\n",
       "                                  Miscellaneous_Info  Fees  MBBS  BDS  BAMS  \\\n",
       "0               100% 16 Feedback Kakkanad, Ernakulam   100     0    0     0   \n",
       "1              98% 76 Feedback Whitefield, Bangalore   350     0    0     1   \n",
       "2                                                NaN   300     1    0     0   \n",
       "3  Bannerghatta Road, Bangalore ₹250 Available on...   250     0    0     1   \n",
       "4              100% 4 Feedback Keelkattalai, Chennai   250     0    0     1   \n",
       "\n",
       "   BHMS  MD - Dermatology  MS - ENT  Venereology & Leprosy  \\\n",
       "0     1                 0         0                      0   \n",
       "1     0                 0         0                      0   \n",
       "2     0                 0         0                      0   \n",
       "3     0                 0         0                      0   \n",
       "4     0                 0         0                      0   \n",
       "\n",
       "   MD - General Medicine  Diploma in Otorhinolaryngology (DLO)  \\\n",
       "0                      0                                     0   \n",
       "1                      0                                     0   \n",
       "2                      0                                     0   \n",
       "3                      0                                     0   \n",
       "4                      0                                     0   \n",
       "\n",
       "   MD - Homeopathy  \n",
       "0                1  \n",
       "1                0  \n",
       "2                0  \n",
       "3                0  \n",
       "4                0  "
      ]
     },
     "execution_count": 56,
     "metadata": {},
     "output_type": "execute_result"
    }
   ],
   "source": [
    "ds.head(5)"
   ]
  },
  {
   "cell_type": "markdown",
   "metadata": {},
   "source": [
    "Now , Place column.\n",
    "1. It has comma seperated city and area names. which we can seperate and make 2 columns \n",
    "2. It has null values . we will assign unknown to them."
   ]
  },
  {
   "cell_type": "code",
   "execution_count": 57,
   "metadata": {},
   "outputs": [],
   "source": [
    "ds.Place.fillna('Unknown,Unknown',inplace=True)\n",
    "\n",
    "ds['Area'] = ds['Place'].str.split(\",\").str[0]\n",
    "ds['City'] = ds['Place'].str.split(\",\").str[1]\n",
    "\n",
    "#dropping  the place variable after splitting it in City and Area\n",
    "ds.drop('Place',axis=1,inplace=True)"
   ]
  },
  {
   "cell_type": "code",
   "execution_count": 58,
   "metadata": {},
   "outputs": [
    {
     "data": {
      "text/plain": [
       "HSR Layout        75\n",
       "Andheri West      70\n",
       "Dwarka            68\n",
       "Banjara Hills     64\n",
       "Mulund West       54\n",
       "                  ..\n",
       "Austin Town        1\n",
       "Pezhakkappilly     1\n",
       "Shanti Niketan     1\n",
       "Geeta Colony       1\n",
       "Cherai             1\n",
       "Name: Area, Length: 867, dtype: int64"
      ]
     },
     "execution_count": 58,
     "metadata": {},
     "output_type": "execute_result"
    }
   ],
   "source": [
    "ds[\"Area\"].value_counts()"
   ]
  },
  {
   "cell_type": "code",
   "execution_count": 59,
   "metadata": {},
   "outputs": [
    {
     "data": {
      "text/plain": [
       " Bangalore             1258\n",
       " Mumbai                1219\n",
       " Delhi                 1184\n",
       " Hyderabad              951\n",
       " Chennai                855\n",
       " Coimbatore             228\n",
       " Ernakulam              153\n",
       " Thiruvananthapuram      86\n",
       "Unknown                  25\n",
       " Sector 5                 1\n",
       "Name: City, dtype: int64"
      ]
     },
     "execution_count": 59,
     "metadata": {},
     "output_type": "execute_result"
    }
   ],
   "source": [
    "ds[\"City\"].value_counts()"
   ]
  },
  {
   "cell_type": "code",
   "execution_count": 60,
   "metadata": {},
   "outputs": [
    {
     "data": {
      "text/plain": [
       "array([' Ernakulam', ' Bangalore', ' Chennai', ' Delhi', ' Hyderabad',\n",
       "       ' Coimbatore', ' Mumbai', ' Thiruvananthapuram', 'Unknown',\n",
       "       ' Sector 5', nan], dtype=object)"
      ]
     },
     "execution_count": 60,
     "metadata": {},
     "output_type": "execute_result"
    }
   ],
   "source": [
    "ds[\"City\"].unique()"
   ]
  },
  {
   "cell_type": "markdown",
   "metadata": {},
   "source": [
    "some observations here:\n",
    "1. City has extra spaces . we will remove them.\n",
    "2. City contains invalid enties too. like sector 5 and nan.\n",
    "3. at loc 2169,City should be delhi in spite of sector 5. we will change it.\n",
    "4. at loc 3980,area is e and city is nan. so we will change it to Unknown"
   ]
  },
  {
   "cell_type": "code",
   "execution_count": 61,
   "metadata": {},
   "outputs": [],
   "source": [
    "# remove the extra spaces before the city\n",
    "import re\n",
    "ds['City'] = ds['City'].apply(lambda x: re.sub(' +','',str(x)))"
   ]
  },
  {
   "cell_type": "code",
   "execution_count": 62,
   "metadata": {},
   "outputs": [
    {
     "data": {
      "text/html": [
       "<div>\n",
       "<style scoped>\n",
       "    .dataframe tbody tr th:only-of-type {\n",
       "        vertical-align: middle;\n",
       "    }\n",
       "\n",
       "    .dataframe tbody tr th {\n",
       "        vertical-align: top;\n",
       "    }\n",
       "\n",
       "    .dataframe thead th {\n",
       "        text-align: right;\n",
       "    }\n",
       "</style>\n",
       "<table border=\"1\" class=\"dataframe\">\n",
       "  <thead>\n",
       "    <tr style=\"text-align: right;\">\n",
       "      <th></th>\n",
       "      <th>Experience</th>\n",
       "      <th>Rating</th>\n",
       "      <th>Profile</th>\n",
       "      <th>Miscellaneous_Info</th>\n",
       "      <th>Fees</th>\n",
       "      <th>MBBS</th>\n",
       "      <th>BDS</th>\n",
       "      <th>BAMS</th>\n",
       "      <th>BHMS</th>\n",
       "      <th>MD - Dermatology</th>\n",
       "      <th>MS - ENT</th>\n",
       "      <th>Venereology &amp; Leprosy</th>\n",
       "      <th>MD - General Medicine</th>\n",
       "      <th>Diploma in Otorhinolaryngology (DLO)</th>\n",
       "      <th>MD - Homeopathy</th>\n",
       "      <th>Area</th>\n",
       "      <th>City</th>\n",
       "    </tr>\n",
       "  </thead>\n",
       "  <tbody>\n",
       "    <tr>\n",
       "      <th>2169</th>\n",
       "      <td>11</td>\n",
       "      <td>-99</td>\n",
       "      <td>Dentist</td>\n",
       "      <td>NaN</td>\n",
       "      <td>250</td>\n",
       "      <td>0</td>\n",
       "      <td>1</td>\n",
       "      <td>0</td>\n",
       "      <td>0</td>\n",
       "      <td>0</td>\n",
       "      <td>0</td>\n",
       "      <td>0</td>\n",
       "      <td>0</td>\n",
       "      <td>0</td>\n",
       "      <td>0</td>\n",
       "      <td>Dwarka</td>\n",
       "      <td>Sector5</td>\n",
       "    </tr>\n",
       "    <tr>\n",
       "      <th>3980</th>\n",
       "      <td>23</td>\n",
       "      <td>-99</td>\n",
       "      <td>Dentist</td>\n",
       "      <td>NaN</td>\n",
       "      <td>250</td>\n",
       "      <td>0</td>\n",
       "      <td>1</td>\n",
       "      <td>0</td>\n",
       "      <td>0</td>\n",
       "      <td>0</td>\n",
       "      <td>0</td>\n",
       "      <td>0</td>\n",
       "      <td>0</td>\n",
       "      <td>0</td>\n",
       "      <td>0</td>\n",
       "      <td>e</td>\n",
       "      <td>nan</td>\n",
       "    </tr>\n",
       "  </tbody>\n",
       "</table>\n",
       "</div>"
      ],
      "text/plain": [
       "      Experience  Rating  Profile Miscellaneous_Info  Fees  MBBS  BDS  BAMS  \\\n",
       "2169          11     -99  Dentist                NaN   250     0    1     0   \n",
       "3980          23     -99  Dentist                NaN   250     0    1     0   \n",
       "\n",
       "      BHMS  MD - Dermatology  MS - ENT  Venereology & Leprosy  \\\n",
       "2169     0                 0         0                      0   \n",
       "3980     0                 0         0                      0   \n",
       "\n",
       "      MD - General Medicine  Diploma in Otorhinolaryngology (DLO)  \\\n",
       "2169                      0                                     0   \n",
       "3980                      0                                     0   \n",
       "\n",
       "      MD - Homeopathy    Area     City  \n",
       "2169                0  Dwarka  Sector5  \n",
       "3980                0       e      nan  "
      ]
     },
     "execution_count": 62,
     "metadata": {},
     "output_type": "execute_result"
    }
   ],
   "source": [
    "# finding the improper data\n",
    "ds[(ds['City'] == \"nan\") | (ds['City'] == \"Sector5\")]"
   ]
  },
  {
   "cell_type": "code",
   "execution_count": 63,
   "metadata": {},
   "outputs": [],
   "source": [
    "# step 3 and 4 of observation\n",
    "ds['City'] = np.where(ds['City']==\"Sector5\",\"Delhi\", ds['City'])\n",
    "\n",
    "#nan\n",
    "ds['City'].loc[3980] = \"Unknown\"\n",
    "ds['Area'].loc[3980] = \"Unknown\""
   ]
  },
  {
   "cell_type": "code",
   "execution_count": 64,
   "metadata": {},
   "outputs": [
    {
     "data": {
      "text/html": [
       "<div>\n",
       "<style scoped>\n",
       "    .dataframe tbody tr th:only-of-type {\n",
       "        vertical-align: middle;\n",
       "    }\n",
       "\n",
       "    .dataframe tbody tr th {\n",
       "        vertical-align: top;\n",
       "    }\n",
       "\n",
       "    .dataframe thead th {\n",
       "        text-align: right;\n",
       "    }\n",
       "</style>\n",
       "<table border=\"1\" class=\"dataframe\">\n",
       "  <thead>\n",
       "    <tr style=\"text-align: right;\">\n",
       "      <th></th>\n",
       "      <th>Experience</th>\n",
       "      <th>Rating</th>\n",
       "      <th>Profile</th>\n",
       "      <th>Miscellaneous_Info</th>\n",
       "      <th>Fees</th>\n",
       "      <th>MBBS</th>\n",
       "      <th>BDS</th>\n",
       "      <th>BAMS</th>\n",
       "      <th>BHMS</th>\n",
       "      <th>MD - Dermatology</th>\n",
       "      <th>MS - ENT</th>\n",
       "      <th>Venereology &amp; Leprosy</th>\n",
       "      <th>MD - General Medicine</th>\n",
       "      <th>Diploma in Otorhinolaryngology (DLO)</th>\n",
       "      <th>MD - Homeopathy</th>\n",
       "      <th>Area</th>\n",
       "      <th>City</th>\n",
       "    </tr>\n",
       "  </thead>\n",
       "  <tbody>\n",
       "    <tr>\n",
       "      <th>0</th>\n",
       "      <td>24</td>\n",
       "      <td>100</td>\n",
       "      <td>Homeopath</td>\n",
       "      <td>100% 16 Feedback Kakkanad, Ernakulam</td>\n",
       "      <td>100</td>\n",
       "      <td>0</td>\n",
       "      <td>0</td>\n",
       "      <td>0</td>\n",
       "      <td>1</td>\n",
       "      <td>0</td>\n",
       "      <td>0</td>\n",
       "      <td>0</td>\n",
       "      <td>0</td>\n",
       "      <td>0</td>\n",
       "      <td>1</td>\n",
       "      <td>Kakkanad</td>\n",
       "      <td>Ernakulam</td>\n",
       "    </tr>\n",
       "    <tr>\n",
       "      <th>1</th>\n",
       "      <td>12</td>\n",
       "      <td>98</td>\n",
       "      <td>Ayurveda</td>\n",
       "      <td>98% 76 Feedback Whitefield, Bangalore</td>\n",
       "      <td>350</td>\n",
       "      <td>0</td>\n",
       "      <td>0</td>\n",
       "      <td>1</td>\n",
       "      <td>0</td>\n",
       "      <td>0</td>\n",
       "      <td>0</td>\n",
       "      <td>0</td>\n",
       "      <td>0</td>\n",
       "      <td>0</td>\n",
       "      <td>0</td>\n",
       "      <td>Whitefield</td>\n",
       "      <td>Bangalore</td>\n",
       "    </tr>\n",
       "    <tr>\n",
       "      <th>2</th>\n",
       "      <td>9</td>\n",
       "      <td>-99</td>\n",
       "      <td>ENT Specialist</td>\n",
       "      <td>NaN</td>\n",
       "      <td>300</td>\n",
       "      <td>1</td>\n",
       "      <td>0</td>\n",
       "      <td>0</td>\n",
       "      <td>0</td>\n",
       "      <td>0</td>\n",
       "      <td>0</td>\n",
       "      <td>0</td>\n",
       "      <td>0</td>\n",
       "      <td>0</td>\n",
       "      <td>0</td>\n",
       "      <td>Mathikere - BEL</td>\n",
       "      <td>Bangalore</td>\n",
       "    </tr>\n",
       "    <tr>\n",
       "      <th>3</th>\n",
       "      <td>12</td>\n",
       "      <td>-99</td>\n",
       "      <td>Ayurveda</td>\n",
       "      <td>Bannerghatta Road, Bangalore ₹250 Available on...</td>\n",
       "      <td>250</td>\n",
       "      <td>0</td>\n",
       "      <td>0</td>\n",
       "      <td>1</td>\n",
       "      <td>0</td>\n",
       "      <td>0</td>\n",
       "      <td>0</td>\n",
       "      <td>0</td>\n",
       "      <td>0</td>\n",
       "      <td>0</td>\n",
       "      <td>0</td>\n",
       "      <td>Bannerghatta Road</td>\n",
       "      <td>Bangalore</td>\n",
       "    </tr>\n",
       "    <tr>\n",
       "      <th>4</th>\n",
       "      <td>20</td>\n",
       "      <td>100</td>\n",
       "      <td>Ayurveda</td>\n",
       "      <td>100% 4 Feedback Keelkattalai, Chennai</td>\n",
       "      <td>250</td>\n",
       "      <td>0</td>\n",
       "      <td>0</td>\n",
       "      <td>1</td>\n",
       "      <td>0</td>\n",
       "      <td>0</td>\n",
       "      <td>0</td>\n",
       "      <td>0</td>\n",
       "      <td>0</td>\n",
       "      <td>0</td>\n",
       "      <td>0</td>\n",
       "      <td>Keelkattalai</td>\n",
       "      <td>Chennai</td>\n",
       "    </tr>\n",
       "  </tbody>\n",
       "</table>\n",
       "</div>"
      ],
      "text/plain": [
       "   Experience  Rating         Profile  \\\n",
       "0          24     100       Homeopath   \n",
       "1          12      98        Ayurveda   \n",
       "2           9     -99  ENT Specialist   \n",
       "3          12     -99        Ayurveda   \n",
       "4          20     100        Ayurveda   \n",
       "\n",
       "                                  Miscellaneous_Info  Fees  MBBS  BDS  BAMS  \\\n",
       "0               100% 16 Feedback Kakkanad, Ernakulam   100     0    0     0   \n",
       "1              98% 76 Feedback Whitefield, Bangalore   350     0    0     1   \n",
       "2                                                NaN   300     1    0     0   \n",
       "3  Bannerghatta Road, Bangalore ₹250 Available on...   250     0    0     1   \n",
       "4              100% 4 Feedback Keelkattalai, Chennai   250     0    0     1   \n",
       "\n",
       "   BHMS  MD - Dermatology  MS - ENT  Venereology & Leprosy  \\\n",
       "0     1                 0         0                      0   \n",
       "1     0                 0         0                      0   \n",
       "2     0                 0         0                      0   \n",
       "3     0                 0         0                      0   \n",
       "4     0                 0         0                      0   \n",
       "\n",
       "   MD - General Medicine  Diploma in Otorhinolaryngology (DLO)  \\\n",
       "0                      0                                     0   \n",
       "1                      0                                     0   \n",
       "2                      0                                     0   \n",
       "3                      0                                     0   \n",
       "4                      0                                     0   \n",
       "\n",
       "   MD - Homeopathy               Area       City  \n",
       "0                1           Kakkanad  Ernakulam  \n",
       "1                0         Whitefield  Bangalore  \n",
       "2                0    Mathikere - BEL  Bangalore  \n",
       "3                0  Bannerghatta Road  Bangalore  \n",
       "4                0       Keelkattalai    Chennai  "
      ]
     },
     "execution_count": 64,
     "metadata": {},
     "output_type": "execute_result"
    }
   ],
   "source": [
    "ds.head(5)"
   ]
  },
  {
   "cell_type": "markdown",
   "metadata": {},
   "source": [
    "Last comes is Misc_Info column. \n",
    "1. this column contains lots of information but very messy and having null values also\n",
    "2. Information in this column is somehow can be seen in some of rows \n",
    "Dropping this column."
   ]
  },
  {
   "cell_type": "code",
   "execution_count": 65,
   "metadata": {},
   "outputs": [],
   "source": [
    "ds.drop([\"Miscellaneous_Info\"],axis=1,inplace=True)"
   ]
  },
  {
   "cell_type": "markdown",
   "metadata": {},
   "source": [
    "# Univariate and Bivariate Analysis"
   ]
  },
  {
   "cell_type": "code",
   "execution_count": 66,
   "metadata": {},
   "outputs": [],
   "source": [
    "#univariate analysis"
   ]
  },
  {
   "cell_type": "code",
   "execution_count": 67,
   "metadata": {},
   "outputs": [
    {
     "data": {
      "image/png": "[encoded data removed]",
      "text/plain": [
       "<Figure size 432x288 with 1 Axes>"
      ]
     },
     "metadata": {
      "needs_background": "light"
     },
     "output_type": "display_data"
    }
   ],
   "source": [
    "sns.countplot(ds[\"MBBS\"])\n",
    "plt.title(\"Doctors having Qualification MBBS\\n \")\n",
    "plt.show() "
   ]
  },
  {
   "cell_type": "code",
   "execution_count": 68,
   "metadata": {},
   "outputs": [
    {
     "data": {
      "image/png": "[encoded data removed]",
      "text/plain": [
       "<Figure size 432x288 with 1 Axes>"
      ]
     },
     "metadata": {
      "needs_background": "light"
     },
     "output_type": "display_data"
    }
   ],
   "source": [
    "plt.title(\"BHMS qualified\")\n",
    "sns.distplot(ds[\"BHMS\"])\n",
    "plt.show() # shows very less are BDS Qualified"
   ]
  },
  {
   "cell_type": "code",
   "execution_count": 69,
   "metadata": {},
   "outputs": [
    {
     "data": {
      "image/png": "[encoded data removed]",
      "text/plain": [
       "<Figure size 432x288 with 1 Axes>"
      ]
     },
     "metadata": {
      "needs_background": "light"
     },
     "output_type": "display_data"
    }
   ],
   "source": [
    "plt.title(\"MS-ENT qualified\")\n",
    "sns.distplot(ds[\"MS - ENT\"])\n",
    "plt.show() # shows very less are ENT specialist"
   ]
  },
  {
   "cell_type": "code",
   "execution_count": 70,
   "metadata": {},
   "outputs": [
    {
     "data": {
      "image/png": "[encoded data removed]",
      "text/plain": [
       "<Figure size 720x576 with 1 Axes>"
      ]
     },
     "metadata": {
      "needs_background": "light"
     },
     "output_type": "display_data"
    }
   ],
   "source": [
    "plt.figure(figsize=(10,8))\n",
    "ax = sns.lineplot(x='Experience',y='Fees',data=ds)\n",
    "ax.set_title(\"Fees as per Experience\")\n",
    "plt.show()"
   ]
  },
  {
   "cell_type": "code",
   "execution_count": 71,
   "metadata": {
    "scrolled": true
   },
   "outputs": [
    {
     "data": {
      "image/png": "[encoded data removed]",
      "text/plain": [
       "<Figure size 720x720 with 1 Axes>"
      ]
     },
     "metadata": {
      "needs_background": "light"
     },
     "output_type": "display_data"
    }
   ],
   "source": [
    "plt.figure(figsize=(10,10))\n",
    "plt.title('Profile wise fees Distribution')\n",
    "plt.scatter(ds['Profile'],ds['Fees'])\n",
    "plt.show()"
   ]
  },
  {
   "cell_type": "code",
   "execution_count": 72,
   "metadata": {},
   "outputs": [
    {
     "data": {
      "image/png": "[encoded data removed]",
      "text/plain": [
       "<Figure size 1440x720 with 1 Axes>"
      ]
     },
     "metadata": {
      "needs_background": "light"
     },
     "output_type": "display_data"
    }
   ],
   "source": [
    "plt.figure(figsize=(20,10))\n",
    "plt.title('Rating wise fees Distribution\\n')\n",
    "sns.barplot(ds['Rating'],ds['Fees'])\n",
    "plt.show() # shows the fees is max when the rating is near 48%"
   ]
  },
  {
   "cell_type": "code",
   "execution_count": 73,
   "metadata": {},
   "outputs": [
    {
     "data": {
      "text/plain": [
       "Text(0.5, 1.0, 'No of doctors having rating more than 70 \\n')"
      ]
     },
     "execution_count": 73,
     "metadata": {},
     "output_type": "execute_result"
    },
    {
     "data": {
      "image/png": "[encoded data removed]",
      "text/plain": [
       "<Figure size 1152x504 with 1 Axes>"
      ]
     },
     "metadata": {
      "needs_background": "light"
     },
     "output_type": "display_data"
    }
   ],
   "source": [
    "plt.figure(figsize=(16,7))\n",
    "sns.distplot(ds[ds['Rating']>70]['Fees'],kde=False,bins=40)\n",
    "plt.title('No of doctors having rating more than 70 \\n')"
   ]
  },
  {
   "cell_type": "code",
   "execution_count": 74,
   "metadata": {},
   "outputs": [
    {
     "data": {
      "text/plain": [
       "Text(0.5, 1.0, 'No of doctors having Experience more than 30 years \\n')"
      ]
     },
     "execution_count": 74,
     "metadata": {},
     "output_type": "execute_result"
    },
    {
     "data": {
      "image/png": "[encoded data removed]",
      "text/plain": [
       "<Figure size 1152x504 with 1 Axes>"
      ]
     },
     "metadata": {
      "needs_background": "light"
     },
     "output_type": "display_data"
    }
   ],
   "source": [
    "plt.figure(figsize=(16,7))\n",
    "sns.distplot(ds[ds['Experience']>30]['Fees'],kde=False,bins=30)\n",
    "plt.title('No of doctors having Experience more than 30 years \\n')"
   ]
  },
  {
   "cell_type": "markdown",
   "metadata": {},
   "source": [
    "# Changing the nominal values  to numerical"
   ]
  },
  {
   "cell_type": "markdown",
   "metadata": {},
   "source": [
    "Profile column has 6 values which can later be label encoded "
   ]
  },
  {
   "cell_type": "code",
   "execution_count": 75,
   "metadata": {},
   "outputs": [
    {
     "data": {
      "text/plain": [
       "Dentist             1397\n",
       "General Medicine    1173\n",
       "Dermatologists      1034\n",
       "Homeopath            843\n",
       "Ayurveda             786\n",
       "ENT Specialist       728\n",
       "Name: Profile, dtype: int64"
      ]
     },
     "execution_count": 75,
     "metadata": {},
     "output_type": "execute_result"
    }
   ],
   "source": [
    "ds.Profile.value_counts() # "
   ]
  },
  {
   "cell_type": "code",
   "execution_count": 76,
   "metadata": {},
   "outputs": [],
   "source": [
    "from sklearn.preprocessing import LabelEncoder\n",
    "le=LabelEncoder()"
   ]
  },
  {
   "cell_type": "code",
   "execution_count": 77,
   "metadata": {},
   "outputs": [
    {
     "data": {
      "text/html": [
       "<div>\n",
       "<style scoped>\n",
       "    .dataframe tbody tr th:only-of-type {\n",
       "        vertical-align: middle;\n",
       "    }\n",
       "\n",
       "    .dataframe tbody tr th {\n",
       "        vertical-align: top;\n",
       "    }\n",
       "\n",
       "    .dataframe thead th {\n",
       "        text-align: right;\n",
       "    }\n",
       "</style>\n",
       "<table border=\"1\" class=\"dataframe\">\n",
       "  <thead>\n",
       "    <tr style=\"text-align: right;\">\n",
       "      <th></th>\n",
       "      <th>Experience</th>\n",
       "      <th>Rating</th>\n",
       "      <th>Profile</th>\n",
       "      <th>Fees</th>\n",
       "      <th>MBBS</th>\n",
       "      <th>BDS</th>\n",
       "      <th>BAMS</th>\n",
       "      <th>BHMS</th>\n",
       "      <th>MD - Dermatology</th>\n",
       "      <th>MS - ENT</th>\n",
       "      <th>Venereology &amp; Leprosy</th>\n",
       "      <th>MD - General Medicine</th>\n",
       "      <th>Diploma in Otorhinolaryngology (DLO)</th>\n",
       "      <th>MD - Homeopathy</th>\n",
       "      <th>Area</th>\n",
       "      <th>City</th>\n",
       "    </tr>\n",
       "  </thead>\n",
       "  <tbody>\n",
       "    <tr>\n",
       "      <th>0</th>\n",
       "      <td>24</td>\n",
       "      <td>100</td>\n",
       "      <td>5</td>\n",
       "      <td>100</td>\n",
       "      <td>0</td>\n",
       "      <td>0</td>\n",
       "      <td>0</td>\n",
       "      <td>1</td>\n",
       "      <td>0</td>\n",
       "      <td>0</td>\n",
       "      <td>0</td>\n",
       "      <td>0</td>\n",
       "      <td>0</td>\n",
       "      <td>1</td>\n",
       "      <td>296</td>\n",
       "      <td>4</td>\n",
       "    </tr>\n",
       "    <tr>\n",
       "      <th>1</th>\n",
       "      <td>12</td>\n",
       "      <td>98</td>\n",
       "      <td>0</td>\n",
       "      <td>350</td>\n",
       "      <td>0</td>\n",
       "      <td>0</td>\n",
       "      <td>1</td>\n",
       "      <td>0</td>\n",
       "      <td>0</td>\n",
       "      <td>0</td>\n",
       "      <td>0</td>\n",
       "      <td>0</td>\n",
       "      <td>0</td>\n",
       "      <td>0</td>\n",
       "      <td>856</td>\n",
       "      <td>0</td>\n",
       "    </tr>\n",
       "    <tr>\n",
       "      <th>2</th>\n",
       "      <td>9</td>\n",
       "      <td>-99</td>\n",
       "      <td>3</td>\n",
       "      <td>300</td>\n",
       "      <td>1</td>\n",
       "      <td>0</td>\n",
       "      <td>0</td>\n",
       "      <td>0</td>\n",
       "      <td>0</td>\n",
       "      <td>0</td>\n",
       "      <td>0</td>\n",
       "      <td>0</td>\n",
       "      <td>0</td>\n",
       "      <td>0</td>\n",
       "      <td>452</td>\n",
       "      <td>0</td>\n",
       "    </tr>\n",
       "    <tr>\n",
       "      <th>3</th>\n",
       "      <td>12</td>\n",
       "      <td>-99</td>\n",
       "      <td>0</td>\n",
       "      <td>250</td>\n",
       "      <td>0</td>\n",
       "      <td>0</td>\n",
       "      <td>1</td>\n",
       "      <td>0</td>\n",
       "      <td>0</td>\n",
       "      <td>0</td>\n",
       "      <td>0</td>\n",
       "      <td>0</td>\n",
       "      <td>0</td>\n",
       "      <td>0</td>\n",
       "      <td>68</td>\n",
       "      <td>0</td>\n",
       "    </tr>\n",
       "    <tr>\n",
       "      <th>4</th>\n",
       "      <td>20</td>\n",
       "      <td>100</td>\n",
       "      <td>0</td>\n",
       "      <td>250</td>\n",
       "      <td>0</td>\n",
       "      <td>0</td>\n",
       "      <td>1</td>\n",
       "      <td>0</td>\n",
       "      <td>0</td>\n",
       "      <td>0</td>\n",
       "      <td>0</td>\n",
       "      <td>0</td>\n",
       "      <td>0</td>\n",
       "      <td>0</td>\n",
       "      <td>335</td>\n",
       "      <td>1</td>\n",
       "    </tr>\n",
       "  </tbody>\n",
       "</table>\n",
       "</div>"
      ],
      "text/plain": [
       "   Experience  Rating  Profile  Fees  MBBS  BDS  BAMS  BHMS  MD - Dermatology  \\\n",
       "0          24     100        5   100     0    0     0     1                 0   \n",
       "1          12      98        0   350     0    0     1     0                 0   \n",
       "2           9     -99        3   300     1    0     0     0                 0   \n",
       "3          12     -99        0   250     0    0     1     0                 0   \n",
       "4          20     100        0   250     0    0     1     0                 0   \n",
       "\n",
       "   MS - ENT  Venereology & Leprosy  MD - General Medicine  \\\n",
       "0         0                      0                      0   \n",
       "1         0                      0                      0   \n",
       "2         0                      0                      0   \n",
       "3         0                      0                      0   \n",
       "4         0                      0                      0   \n",
       "\n",
       "   Diploma in Otorhinolaryngology (DLO)  MD - Homeopathy  Area  City  \n",
       "0                                     0                1   296     4  \n",
       "1                                     0                0   856     0  \n",
       "2                                     0                0   452     0  \n",
       "3                                     0                0    68     0  \n",
       "4                                     0                0   335     1  "
      ]
     },
     "execution_count": 77,
     "metadata": {},
     "output_type": "execute_result"
    }
   ],
   "source": [
    "list1=['Profile','Area','City']\n",
    "for val in list1:\n",
    "    ds[val]=le.fit_transform(ds[val].astype(str))\n",
    "ds.head(5)"
   ]
  },
  {
   "cell_type": "code",
   "execution_count": null,
   "metadata": {},
   "outputs": [],
   "source": []
  },
  {
   "cell_type": "code",
   "execution_count": null,
   "metadata": {},
   "outputs": [],
   "source": []
  },
  {
   "cell_type": "markdown",
   "metadata": {},
   "source": [
    "# Handling the outliers¶"
   ]
  },
  {
   "cell_type": "code",
   "execution_count": 78,
   "metadata": {},
   "outputs": [
    {
     "data": {
      "text/plain": [
       "<AxesSubplot:>"
      ]
     },
     "execution_count": 78,
     "metadata": {},
     "output_type": "execute_result"
    },
    {
     "data": {
      "image/png": "[encoded data removed]",
      "text/plain": [
       "<Figure size 432x288 with 1 Axes>"
      ]
     },
     "metadata": {
      "needs_background": "light"
     },
     "output_type": "display_data"
    }
   ],
   "source": [
    "ds[\"Rating\"].plot.box()"
   ]
  },
  {
   "cell_type": "code",
   "execution_count": 79,
   "metadata": {},
   "outputs": [
    {
     "data": {
      "text/plain": [
       "<AxesSubplot:>"
      ]
     },
     "execution_count": 79,
     "metadata": {},
     "output_type": "execute_result"
    },
    {
     "data": {
      "image/png": "[encoded data removed]",
      "text/plain": [
       "<Figure size 432x288 with 1 Axes>"
      ]
     },
     "metadata": {
      "needs_background": "light"
     },
     "output_type": "display_data"
    }
   ],
   "source": [
    "ds[\"Experience\"].plot.box()"
   ]
  },
  {
   "cell_type": "code",
   "execution_count": 80,
   "metadata": {},
   "outputs": [
    {
     "data": {
      "text/plain": [
       "<AxesSubplot:>"
      ]
     },
     "execution_count": 80,
     "metadata": {},
     "output_type": "execute_result"
    },
    {
     "data": {
      "image/png": "[encoded data removed]",
      "text/plain": [
       "<Figure size 432x288 with 1 Axes>"
      ]
     },
     "metadata": {
      "needs_background": "light"
     },
     "output_type": "display_data"
    }
   ],
   "source": [
    "ds[\"Fees\"].plot.box()"
   ]
  },
  {
   "cell_type": "code",
   "execution_count": 81,
   "metadata": {},
   "outputs": [],
   "source": [
    "from scipy.stats import zscore"
   ]
  },
  {
   "cell_type": "code",
   "execution_count": 82,
   "metadata": {},
   "outputs": [],
   "source": [
    "z=np.abs(zscore(ds))"
   ]
  },
  {
   "cell_type": "code",
   "execution_count": 83,
   "metadata": {},
   "outputs": [
    {
     "name": "stdout",
     "output_type": "stream",
     "text": [
      "(array([   0,    8,   14, ..., 5955, 5956, 5959]), array([13, 11, 12, ..., 13,  9, 11]))\n"
     ]
    }
   ],
   "source": [
    "threshold=3\n",
    "print(np.where(z>3))"
   ]
  },
  {
   "cell_type": "code",
   "execution_count": 84,
   "metadata": {},
   "outputs": [
    {
     "data": {
      "text/plain": [
       "((4569, 16), (5961, 16))"
      ]
     },
     "execution_count": 84,
     "metadata": {},
     "output_type": "execute_result"
    }
   ],
   "source": [
    "ds_new=ds[(z<3).all(axis=1)]\n",
    "ds_new.shape,  ds.shape"
   ]
  },
  {
   "cell_type": "markdown",
   "metadata": {},
   "source": [
    "1500 rows or 25% of data will be lost if we remove outliers. so deciding not to remove them due to huge loss of data"
   ]
  },
  {
   "cell_type": "code",
   "execution_count": 85,
   "metadata": {},
   "outputs": [],
   "source": [
    "x=ds.drop(columns=['Fees'])"
   ]
  },
  {
   "cell_type": "code",
   "execution_count": 86,
   "metadata": {},
   "outputs": [],
   "source": [
    "y=pd.DataFrame(ds['Fees'])"
   ]
  },
  {
   "cell_type": "code",
   "execution_count": 87,
   "metadata": {},
   "outputs": [
    {
     "data": {
      "text/plain": [
       "((5961, 15), (5961, 1))"
      ]
     },
     "execution_count": 87,
     "metadata": {},
     "output_type": "execute_result"
    }
   ],
   "source": [
    "x.shape,  y.shape"
   ]
  },
  {
   "cell_type": "code",
   "execution_count": 88,
   "metadata": {},
   "outputs": [
    {
     "data": {
      "text/plain": [
       "Experience                              0.991089\n",
       "Rating                                  0.225184\n",
       "Profile                                 0.108803\n",
       "Fees                                    0.751870\n",
       "MBBS                                    0.118000\n",
       "BDS                                     1.293695\n",
       "BAMS                                    2.229777\n",
       "BHMS                                    2.261706\n",
       "MD - Dermatology                        2.639954\n",
       "MS - ENT                                3.403459\n",
       "Venereology & Leprosy                   4.171950\n",
       "MD - General Medicine                   4.239699\n",
       "Diploma in Otorhinolaryngology (DLO)    4.581912\n",
       "MD - Homeopathy                         5.475409\n",
       "Area                                    0.109032\n",
       "City                                    0.010640\n",
       "dtype: float64"
      ]
     },
     "execution_count": 88,
     "metadata": {},
     "output_type": "execute_result"
    }
   ],
   "source": [
    "ds.skew()"
   ]
  },
  {
   "cell_type": "markdown",
   "metadata": {},
   "source": [
    "little skewness is there so we will remove it"
   ]
  },
  {
   "cell_type": "code",
   "execution_count": 89,
   "metadata": {},
   "outputs": [],
   "source": [
    "from sklearn.preprocessing import power_transform"
   ]
  },
  {
   "cell_type": "code",
   "execution_count": 90,
   "metadata": {},
   "outputs": [],
   "source": [
    "x=power_transform(x,method='yeo-johnson')"
   ]
  },
  {
   "cell_type": "markdown",
   "metadata": {},
   "source": [
    "#scaling the dataset"
   ]
  },
  {
   "cell_type": "code",
   "execution_count": 91,
   "metadata": {},
   "outputs": [
    {
     "data": {
      "text/plain": [
       "(5961, 15)"
      ]
     },
     "execution_count": 91,
     "metadata": {},
     "output_type": "execute_result"
    }
   ],
   "source": [
    "#scaling the dataset\n",
    "from sklearn.preprocessing import StandardScaler\n",
    "sc=StandardScaler()\n",
    "x_t=sc.fit_transform(x)\n",
    "x_t.shape"
   ]
  },
  {
   "cell_type": "code",
   "execution_count": 92,
   "metadata": {},
   "outputs": [],
   "source": [
    "# finding the best random state"
   ]
  },
  {
   "cell_type": "code",
   "execution_count": 93,
   "metadata": {},
   "outputs": [],
   "source": [
    "# importing our model libraries\n",
    "from sklearn.model_selection import train_test_split,GridSearchCV\n",
    "from sklearn.ensemble import RandomForestRegressor,BaggingRegressor\n",
    "from sklearn.tree import DecisionTreeRegressor"
   ]
  },
  {
   "cell_type": "code",
   "execution_count": 94,
   "metadata": {},
   "outputs": [],
   "source": [
    "from sklearn.metrics import mean_squared_error,mean_squared_log_error"
   ]
  },
  {
   "cell_type": "code",
   "execution_count": 95,
   "metadata": {},
   "outputs": [],
   "source": [
    "x_train,x_test,y_train,y_test=train_test_split(x_t,y,test_size=.22,random_state=0)"
   ]
  },
  {
   "cell_type": "code",
   "execution_count": 96,
   "metadata": {},
   "outputs": [
    {
     "data": {
      "text/plain": [
       "(4649, 15)"
      ]
     },
     "execution_count": 96,
     "metadata": {},
     "output_type": "execute_result"
    }
   ],
   "source": [
    "x_train.shape"
   ]
  },
  {
   "cell_type": "code",
   "execution_count": 97,
   "metadata": {},
   "outputs": [
    {
     "data": {
      "text/plain": [
       "(1312, 15)"
      ]
     },
     "execution_count": 97,
     "metadata": {},
     "output_type": "execute_result"
    }
   ],
   "source": [
    "x_test.shape"
   ]
  },
  {
   "cell_type": "code",
   "execution_count": 98,
   "metadata": {},
   "outputs": [
    {
     "data": {
      "text/plain": [
       "(4649, 1)"
      ]
     },
     "execution_count": 98,
     "metadata": {},
     "output_type": "execute_result"
    }
   ],
   "source": [
    "y_train.shape"
   ]
  },
  {
   "cell_type": "code",
   "execution_count": 99,
   "metadata": {},
   "outputs": [
    {
     "data": {
      "text/plain": [
       "(1312, 1)"
      ]
     },
     "execution_count": 99,
     "metadata": {},
     "output_type": "execute_result"
    }
   ],
   "source": [
    "y_test.shape"
   ]
  },
  {
   "cell_type": "markdown",
   "metadata": {},
   "source": [
    "# Finding the best model\n"
   ]
  },
  {
   "cell_type": "code",
   "execution_count": 100,
   "metadata": {
    "scrolled": true
   },
   "outputs": [
    {
     "name": "stdout",
     "output_type": "stream",
     "text": [
      "Score is  0.9959304603277528\n",
      "RMSLE:Root Mean Squared LogError for  DecisionTreeRegressor()  is  0.8602824365466738\n",
      "Root mean Squared error for  is \n",
      " 244.54794223939615\n",
      "**********************************************************************\n",
      "\n",
      "Score is  0.8795124549875482\n",
      "RMSLE:Root Mean Squared LogError for  RandomForestRegressor()  is  0.6486892618817182\n",
      "Root mean Squared error for  is \n",
      " 179.3839072068614\n",
      "**********************************************************************\n",
      "\n",
      "Score is  0.8332682039597133\n",
      "RMSLE:Root Mean Squared LogError for  BaggingRegressor()  is  0.6638045420188712\n",
      "Root mean Squared error for  is \n",
      " 186.53170175462753\n",
      "**********************************************************************\n",
      "\n"
     ]
    }
   ],
   "source": [
    "#using algorithms in for loops\n",
    "model=[DecisionTreeRegressor(),RandomForestRegressor(),BaggingRegressor()]\n",
    "for m in model:\n",
    "    m.fit(x_train,y_train)\n",
    "    y_pred=m.predict(x_test)\n",
    "    print(\"Score is \",m.score(x_train,y_train))\n",
    "    print('RMSLE:Root Mean Squared LogError for ' ,m , ' is ', np.sqrt(mean_squared_log_error(y_test, y_pred)))\n",
    "    print(\"Root mean Squared error for  is \\n\",np.sqrt(mean_squared_error(y_test,y_pred)))\n",
    "    print(\"**********************************************************************\\n\")"
   ]
  },
  {
   "cell_type": "markdown",
   "metadata": {},
   "source": [
    "As DecisionTreeRegressor is giving 99% score. But  rmse high . I will continue with RandomForestRegressor"
   ]
  },
  {
   "cell_type": "markdown",
   "metadata": {},
   "source": [
    "# hyperparameter tuning"
   ]
  },
  {
   "cell_type": "code",
   "execution_count": 101,
   "metadata": {},
   "outputs": [],
   "source": [
    "# randomForestRegressor is best performing model so finding its best parameter\n",
    "from sklearn.model_selection import GridSearchCV"
   ]
  },
  {
   "cell_type": "code",
   "execution_count": 102,
   "metadata": {},
   "outputs": [],
   "source": [
    "# Create the parameter grid based on the results of random search \n",
    "param_grid = {'bootstrap':[True],'criterion':['mse'] , \n",
    "              'max_features':['auto'],  'bootstrap': [True], 'max_depth': [58, 60, None], 'n_estimators': [10, 11, 12, 13, 15,20,25,29,30],'random_state':[0,11]}"
   ]
  },
  {
   "cell_type": "code",
   "execution_count": 103,
   "metadata": {},
   "outputs": [],
   "source": [
    "rfr = RandomForestRegressor()\n",
    "g_search = GridSearchCV(estimator = rfr, param_grid = param_grid, \n",
    "                          cv = 5, n_jobs = -1)"
   ]
  },
  {
   "cell_type": "code",
   "execution_count": 104,
   "metadata": {},
   "outputs": [
    {
     "name": "stdout",
     "output_type": "stream",
     "text": [
      "{'bootstrap': True, 'criterion': 'mse', 'max_depth': 58, 'max_features': 'auto', 'n_estimators': 29, 'random_state': 11}\n"
     ]
    }
   ],
   "source": [
    "g_search.fit(x_train, y_train);\n",
    "print(g_search.best_params_)"
   ]
  },
  {
   "cell_type": "code",
   "execution_count": 105,
   "metadata": {},
   "outputs": [
    {
     "name": "stdout",
     "output_type": "stream",
     "text": [
      "Score is  0.8702733460554202\n",
      "RMSLE: 0.650129232045552\n",
      "Root mean Squared error is \n",
      " 179.80611731222504\n",
      "**********************************************************************\n",
      "\n"
     ]
    }
   ],
   "source": [
    "rf = RandomForestRegressor(bootstrap=True, criterion='mse', max_depth=58,\n",
    "                           max_features='auto', n_estimators= 29, random_state=11)\n",
    "rf = rf.fit(x_train, y_train)\n",
    "y_pred = rf.predict(x_test)\n",
    "print(\"Score is \" , rf.score(x_train,y_train))\n",
    "print('RMSLE:', np.sqrt(mean_squared_log_error(y_test, y_pred)))\n",
    "print(\"Root mean Squared error is \\n\",np.sqrt(mean_squared_error(y_test,y_pred)))\n",
    "print(\"**********************************************************************\\n\")"
   ]
  },
  {
   "cell_type": "markdown",
   "metadata": {},
   "source": [
    "# Conclusion\n",
    "\n",
    "According to hackathon MachineHack,This Doctors Fee Prediction will be evaluated by RMSLE(Root MeanSquared LogError) "
   ]
  },
  {
   "cell_type": "markdown",
   "metadata": {},
   "source": [
    "# Saving the model- Serialization"
   ]
  },
  {
   "cell_type": "code",
   "execution_count": 106,
   "metadata": {},
   "outputs": [],
   "source": [
    "# saving the prediction model\n",
    "\n",
    "import pickle\n",
    "filename=\"DoctorFee.pkl\"\n",
    "pickle.dump(rf,open(filename,'wb'))"
   ]
  },
  {
   "cell_type": "code",
   "execution_count": 107,
   "metadata": {},
   "outputs": [],
   "source": [
    "# load the model\n",
    "fitted_model=pickle.load(open(\"DoctorFee.pkl\",'rb'))"
   ]
  },
  {
   "cell_type": "code",
   "execution_count": 108,
   "metadata": {},
   "outputs": [
    {
     "data": {
      "text/plain": [
       "RandomForestRegressor(max_depth=58, n_estimators=29, random_state=11)"
      ]
     },
     "execution_count": 108,
     "metadata": {},
     "output_type": "execute_result"
    }
   ],
   "source": [
    "fitted_model"
   ]
  },
  {
   "cell_type": "code",
   "execution_count": 109,
   "metadata": {},
   "outputs": [],
   "source": [
    "# predictions over test data (final_test.csv)\n",
    "predictions=fitted_model.predict(scaled_df)"
   ]
  },
  {
   "cell_type": "code",
   "execution_count": 110,
   "metadata": {},
   "outputs": [],
   "source": [
    "predictions=predictions.astype(int)"
   ]
  },
  {
   "cell_type": "code",
   "execution_count": 111,
   "metadata": {},
   "outputs": [],
   "source": [
    "ds_pred=pd.DataFrame(data=predictions,columns=['Fees'])\n",
    "writer = pd.ExcelWriter('DoctorFee.xlsx', engine='xlsxwriter')\n",
    "ds_pred.to_excel(writer,sheet_name='Sheet1', index=False)\n",
    "writer.save()"
   ]
  },
  {
   "cell_type": "code",
   "execution_count": 112,
   "metadata": {},
   "outputs": [
    {
     "data": {
      "text/html": [
       "<div>\n",
       "<style scoped>\n",
       "    .dataframe tbody tr th:only-of-type {\n",
       "        vertical-align: middle;\n",
       "    }\n",
       "\n",
       "    .dataframe tbody tr th {\n",
       "        vertical-align: top;\n",
       "    }\n",
       "\n",
       "    .dataframe thead th {\n",
       "        text-align: right;\n",
       "    }\n",
       "</style>\n",
       "<table border=\"1\" class=\"dataframe\">\n",
       "  <thead>\n",
       "    <tr style=\"text-align: right;\">\n",
       "      <th></th>\n",
       "      <th>Fees</th>\n",
       "    </tr>\n",
       "  </thead>\n",
       "  <tbody>\n",
       "    <tr>\n",
       "      <th>0</th>\n",
       "      <td>171</td>\n",
       "    </tr>\n",
       "    <tr>\n",
       "      <th>1</th>\n",
       "      <td>317</td>\n",
       "    </tr>\n",
       "    <tr>\n",
       "      <th>2</th>\n",
       "      <td>237</td>\n",
       "    </tr>\n",
       "    <tr>\n",
       "      <th>3</th>\n",
       "      <td>275</td>\n",
       "    </tr>\n",
       "    <tr>\n",
       "      <th>4</th>\n",
       "      <td>213</td>\n",
       "    </tr>\n",
       "    <tr>\n",
       "      <th>...</th>\n",
       "      <td>...</td>\n",
       "    </tr>\n",
       "    <tr>\n",
       "      <th>1982</th>\n",
       "      <td>202</td>\n",
       "    </tr>\n",
       "    <tr>\n",
       "      <th>1983</th>\n",
       "      <td>343</td>\n",
       "    </tr>\n",
       "    <tr>\n",
       "      <th>1984</th>\n",
       "      <td>260</td>\n",
       "    </tr>\n",
       "    <tr>\n",
       "      <th>1985</th>\n",
       "      <td>286</td>\n",
       "    </tr>\n",
       "    <tr>\n",
       "      <th>1986</th>\n",
       "      <td>308</td>\n",
       "    </tr>\n",
       "  </tbody>\n",
       "</table>\n",
       "<p>1987 rows × 1 columns</p>\n",
       "</div>"
      ],
      "text/plain": [
       "      Fees\n",
       "0      171\n",
       "1      317\n",
       "2      237\n",
       "3      275\n",
       "4      213\n",
       "...    ...\n",
       "1982   202\n",
       "1983   343\n",
       "1984   260\n",
       "1985   286\n",
       "1986   308\n",
       "\n",
       "[1987 rows x 1 columns]"
      ]
     },
     "execution_count": 112,
     "metadata": {},
     "output_type": "execute_result"
    }
   ],
   "source": [
    "ds_pred"
   ]
  },
  {
   "cell_type": "code",
   "execution_count": null,
   "metadata": {},
   "outputs": [],
   "source": []
  }
 ],
 "metadata": {
  "kernelspec": {
   "display_name": "Python 3",
   "language": "python",
   "name": "python3"
  },
  "language_info": {
   "codemirror_mode": {
    "name": "ipython",
    "version": 3
   },
   "file_extension": ".py",
   "mimetype": "text/x-python",
   "name": "python",
   "nbconvert_exporter": "python",
   "pygments_lexer": "ipython3",
   "version": "3.8.5"
  }
 },
 "nbformat": 4,
 "nbformat_minor": 4
}
