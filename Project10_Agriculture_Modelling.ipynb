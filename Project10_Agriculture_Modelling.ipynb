{
 "cells": [
  {
   "cell_type": "code",
   "execution_count": 1,
   "metadata": {},
   "outputs": [],
   "source": [
    "import pandas as pd \n",
    "import numpy as np \n",
    "import matplotlib.pyplot as plt\n",
    "import seaborn as sns\n",
    "import warnings\n",
    "warnings.filterwarnings('ignore')"
   ]
  },
  {
   "cell_type": "code",
   "execution_count": 2,
   "metadata": {},
   "outputs": [
    {
     "data": {
      "text/html": [
       "<div>\n",
       "<style scoped>\n",
       "    .dataframe tbody tr th:only-of-type {\n",
       "        vertical-align: middle;\n",
       "    }\n",
       "\n",
       "    .dataframe tbody tr th {\n",
       "        vertical-align: top;\n",
       "    }\n",
       "\n",
       "    .dataframe thead th {\n",
       "        text-align: right;\n",
       "    }\n",
       "</style>\n",
       "<table border=\"1\" class=\"dataframe\">\n",
       "  <thead>\n",
       "    <tr style=\"text-align: right;\">\n",
       "      <th></th>\n",
       "      <th>ID</th>\n",
       "      <th>Estimated_Insects_Count</th>\n",
       "      <th>Crop_Type</th>\n",
       "      <th>Soil_Type</th>\n",
       "      <th>Pesticide_Use_Category</th>\n",
       "      <th>Number_Doses_Week</th>\n",
       "      <th>Number_Weeks_Used</th>\n",
       "      <th>Number_Weeks_Quit</th>\n",
       "      <th>Season</th>\n",
       "    </tr>\n",
       "  </thead>\n",
       "  <tbody>\n",
       "    <tr>\n",
       "      <th>0</th>\n",
       "      <td>F00000002</td>\n",
       "      <td>188</td>\n",
       "      <td>1</td>\n",
       "      <td>1</td>\n",
       "      <td>1</td>\n",
       "      <td>0</td>\n",
       "      <td>NaN</td>\n",
       "      <td>0</td>\n",
       "      <td>2</td>\n",
       "    </tr>\n",
       "    <tr>\n",
       "      <th>1</th>\n",
       "      <td>F00000007</td>\n",
       "      <td>410</td>\n",
       "      <td>1</td>\n",
       "      <td>1</td>\n",
       "      <td>1</td>\n",
       "      <td>0</td>\n",
       "      <td>0.0</td>\n",
       "      <td>0</td>\n",
       "      <td>2</td>\n",
       "    </tr>\n",
       "    <tr>\n",
       "      <th>2</th>\n",
       "      <td>F00000011</td>\n",
       "      <td>626</td>\n",
       "      <td>1</td>\n",
       "      <td>0</td>\n",
       "      <td>1</td>\n",
       "      <td>0</td>\n",
       "      <td>0.0</td>\n",
       "      <td>0</td>\n",
       "      <td>2</td>\n",
       "    </tr>\n",
       "    <tr>\n",
       "      <th>3</th>\n",
       "      <td>F00000013</td>\n",
       "      <td>731</td>\n",
       "      <td>1</td>\n",
       "      <td>0</td>\n",
       "      <td>1</td>\n",
       "      <td>0</td>\n",
       "      <td>0.0</td>\n",
       "      <td>0</td>\n",
       "      <td>2</td>\n",
       "    </tr>\n",
       "    <tr>\n",
       "      <th>4</th>\n",
       "      <td>F00000014</td>\n",
       "      <td>789</td>\n",
       "      <td>0</td>\n",
       "      <td>0</td>\n",
       "      <td>1</td>\n",
       "      <td>0</td>\n",
       "      <td>0.0</td>\n",
       "      <td>0</td>\n",
       "      <td>1</td>\n",
       "    </tr>\n",
       "  </tbody>\n",
       "</table>\n",
       "</div>"
      ],
      "text/plain": [
       "          ID  Estimated_Insects_Count  Crop_Type  Soil_Type  \\\n",
       "0  F00000002                      188          1          1   \n",
       "1  F00000007                      410          1          1   \n",
       "2  F00000011                      626          1          0   \n",
       "3  F00000013                      731          1          0   \n",
       "4  F00000014                      789          0          0   \n",
       "\n",
       "   Pesticide_Use_Category  Number_Doses_Week  Number_Weeks_Used  \\\n",
       "0                       1                  0                NaN   \n",
       "1                       1                  0                0.0   \n",
       "2                       1                  0                0.0   \n",
       "3                       1                  0                0.0   \n",
       "4                       1                  0                0.0   \n",
       "\n",
       "   Number_Weeks_Quit  Season  \n",
       "0                  0       2  \n",
       "1                  0       2  \n",
       "2                  0       2  \n",
       "3                  0       2  \n",
       "4                  0       1  "
      ]
     },
     "execution_count": 2,
     "metadata": {},
     "output_type": "execute_result"
    }
   ],
   "source": [
    "df=pd.read_csv('test_agriculture.csv',sep='\\t' )\n",
    "df.head(5)\n"
   ]
  },
  {
   "cell_type": "markdown",
   "metadata": {},
   "source": [
    "# EDA for Test Data"
   ]
  },
  {
   "cell_type": "code",
   "execution_count": 3,
   "metadata": {},
   "outputs": [
    {
     "data": {
      "text/plain": [
       "(1194, 9)"
      ]
     },
     "execution_count": 3,
     "metadata": {},
     "output_type": "execute_result"
    }
   ],
   "source": [
    "df.shape #checking the rows and ccolumns count"
   ]
  },
  {
   "cell_type": "code",
   "execution_count": 4,
   "metadata": {},
   "outputs": [
    {
     "data": {
      "text/plain": [
       "Index(['ID', 'Estimated_Insects_Count', 'Crop_Type', 'Soil_Type',\n",
       "       'Pesticide_Use_Category', 'Number_Doses_Week', 'Number_Weeks_Used',\n",
       "       'Number_Weeks_Quit', 'Season'],\n",
       "      dtype='object')"
      ]
     },
     "execution_count": 4,
     "metadata": {},
     "output_type": "execute_result"
    }
   ],
   "source": [
    "df.columns #checking various columns "
   ]
  },
  {
   "cell_type": "code",
   "execution_count": 5,
   "metadata": {},
   "outputs": [
    {
     "data": {
      "text/html": [
       "<div>\n",
       "<style scoped>\n",
       "    .dataframe tbody tr th:only-of-type {\n",
       "        vertical-align: middle;\n",
       "    }\n",
       "\n",
       "    .dataframe tbody tr th {\n",
       "        vertical-align: top;\n",
       "    }\n",
       "\n",
       "    .dataframe thead th {\n",
       "        text-align: right;\n",
       "    }\n",
       "</style>\n",
       "<table border=\"1\" class=\"dataframe\">\n",
       "  <thead>\n",
       "    <tr style=\"text-align: right;\">\n",
       "      <th></th>\n",
       "      <th>Estimated_Insects_Count</th>\n",
       "      <th>Crop_Type</th>\n",
       "      <th>Soil_Type</th>\n",
       "      <th>Pesticide_Use_Category</th>\n",
       "      <th>Number_Doses_Week</th>\n",
       "      <th>Number_Weeks_Used</th>\n",
       "      <th>Number_Weeks_Quit</th>\n",
       "      <th>Season</th>\n",
       "    </tr>\n",
       "  </thead>\n",
       "  <tbody>\n",
       "    <tr>\n",
       "      <th>count</th>\n",
       "      <td>1194.000000</td>\n",
       "      <td>1194.000000</td>\n",
       "      <td>1194.000000</td>\n",
       "      <td>1194.000000</td>\n",
       "      <td>1194.000000</td>\n",
       "      <td>1076.000000</td>\n",
       "      <td>1194.000000</td>\n",
       "      <td>1194.000000</td>\n",
       "    </tr>\n",
       "    <tr>\n",
       "      <th>mean</th>\n",
       "      <td>1289.259631</td>\n",
       "      <td>0.195142</td>\n",
       "      <td>0.453099</td>\n",
       "      <td>2.385260</td>\n",
       "      <td>26.561977</td>\n",
       "      <td>29.041822</td>\n",
       "      <td>7.033501</td>\n",
       "      <td>1.881910</td>\n",
       "    </tr>\n",
       "    <tr>\n",
       "      <th>std</th>\n",
       "      <td>846.731347</td>\n",
       "      <td>0.396476</td>\n",
       "      <td>0.498004</td>\n",
       "      <td>0.523369</td>\n",
       "      <td>16.166877</td>\n",
       "      <td>12.793716</td>\n",
       "      <td>8.861260</td>\n",
       "      <td>0.684121</td>\n",
       "    </tr>\n",
       "    <tr>\n",
       "      <th>min</th>\n",
       "      <td>150.000000</td>\n",
       "      <td>0.000000</td>\n",
       "      <td>0.000000</td>\n",
       "      <td>1.000000</td>\n",
       "      <td>0.000000</td>\n",
       "      <td>0.000000</td>\n",
       "      <td>0.000000</td>\n",
       "      <td>1.000000</td>\n",
       "    </tr>\n",
       "    <tr>\n",
       "      <th>25%</th>\n",
       "      <td>677.000000</td>\n",
       "      <td>0.000000</td>\n",
       "      <td>0.000000</td>\n",
       "      <td>2.000000</td>\n",
       "      <td>15.000000</td>\n",
       "      <td>20.000000</td>\n",
       "      <td>0.000000</td>\n",
       "      <td>1.000000</td>\n",
       "    </tr>\n",
       "    <tr>\n",
       "      <th>50%</th>\n",
       "      <td>1056.000000</td>\n",
       "      <td>0.000000</td>\n",
       "      <td>0.000000</td>\n",
       "      <td>2.000000</td>\n",
       "      <td>20.000000</td>\n",
       "      <td>28.000000</td>\n",
       "      <td>2.000000</td>\n",
       "      <td>2.000000</td>\n",
       "    </tr>\n",
       "    <tr>\n",
       "      <th>75%</th>\n",
       "      <td>1785.000000</td>\n",
       "      <td>0.000000</td>\n",
       "      <td>1.000000</td>\n",
       "      <td>3.000000</td>\n",
       "      <td>40.000000</td>\n",
       "      <td>38.000000</td>\n",
       "      <td>13.000000</td>\n",
       "      <td>2.000000</td>\n",
       "    </tr>\n",
       "    <tr>\n",
       "      <th>max</th>\n",
       "      <td>4097.000000</td>\n",
       "      <td>1.000000</td>\n",
       "      <td>1.000000</td>\n",
       "      <td>3.000000</td>\n",
       "      <td>90.000000</td>\n",
       "      <td>64.000000</td>\n",
       "      <td>42.000000</td>\n",
       "      <td>3.000000</td>\n",
       "    </tr>\n",
       "  </tbody>\n",
       "</table>\n",
       "</div>"
      ],
      "text/plain": [
       "       Estimated_Insects_Count    Crop_Type    Soil_Type  \\\n",
       "count              1194.000000  1194.000000  1194.000000   \n",
       "mean               1289.259631     0.195142     0.453099   \n",
       "std                 846.731347     0.396476     0.498004   \n",
       "min                 150.000000     0.000000     0.000000   \n",
       "25%                 677.000000     0.000000     0.000000   \n",
       "50%                1056.000000     0.000000     0.000000   \n",
       "75%                1785.000000     0.000000     1.000000   \n",
       "max                4097.000000     1.000000     1.000000   \n",
       "\n",
       "       Pesticide_Use_Category  Number_Doses_Week  Number_Weeks_Used  \\\n",
       "count             1194.000000        1194.000000        1076.000000   \n",
       "mean                 2.385260          26.561977          29.041822   \n",
       "std                  0.523369          16.166877          12.793716   \n",
       "min                  1.000000           0.000000           0.000000   \n",
       "25%                  2.000000          15.000000          20.000000   \n",
       "50%                  2.000000          20.000000          28.000000   \n",
       "75%                  3.000000          40.000000          38.000000   \n",
       "max                  3.000000          90.000000          64.000000   \n",
       "\n",
       "       Number_Weeks_Quit       Season  \n",
       "count        1194.000000  1194.000000  \n",
       "mean            7.033501     1.881910  \n",
       "std             8.861260     0.684121  \n",
       "min             0.000000     1.000000  \n",
       "25%             0.000000     1.000000  \n",
       "50%             2.000000     2.000000  \n",
       "75%            13.000000     2.000000  \n",
       "max            42.000000     3.000000  "
      ]
     },
     "execution_count": 5,
     "metadata": {},
     "output_type": "execute_result"
    }
   ],
   "source": [
    "df.describe()"
   ]
  },
  {
   "cell_type": "markdown",
   "metadata": {},
   "source": [
    "key observations here\n",
    "\n",
    "1. mean and median are not very near in all columns\n",
    "2. There is huge differnece in 75% and max values in few columns. means few outliers are there\n",
    "3. Count is same in all columns other than Number_Weeks_Used. means missing values in this column "
   ]
  },
  {
   "cell_type": "code",
   "execution_count": 6,
   "metadata": {},
   "outputs": [
    {
     "data": {
      "text/plain": [
       "ID                          object\n",
       "Estimated_Insects_Count      int64\n",
       "Crop_Type                    int64\n",
       "Soil_Type                    int64\n",
       "Pesticide_Use_Category       int64\n",
       "Number_Doses_Week            int64\n",
       "Number_Weeks_Used          float64\n",
       "Number_Weeks_Quit            int64\n",
       "Season                       int64\n",
       "dtype: object"
      ]
     },
     "execution_count": 6,
     "metadata": {},
     "output_type": "execute_result"
    }
   ],
   "source": [
    "df.dtypes  # checking the data types of columns "
   ]
  },
  {
   "cell_type": "code",
   "execution_count": 7,
   "metadata": {},
   "outputs": [
    {
     "data": {
      "text/plain": [
       "ID                           0\n",
       "Estimated_Insects_Count      0\n",
       "Crop_Type                    0\n",
       "Soil_Type                    0\n",
       "Pesticide_Use_Category       0\n",
       "Number_Doses_Week            0\n",
       "Number_Weeks_Used          118\n",
       "Number_Weeks_Quit            0\n",
       "Season                       0\n",
       "dtype: int64"
      ]
     },
     "execution_count": 7,
     "metadata": {},
     "output_type": "execute_result"
    }
   ],
   "source": [
    "df.isnull().sum() # checking for null values "
   ]
  },
  {
   "cell_type": "code",
   "execution_count": 8,
   "metadata": {},
   "outputs": [
    {
     "data": {
      "text/plain": [
       "<AxesSubplot:>"
      ]
     },
     "execution_count": 8,
     "metadata": {},
     "output_type": "execute_result"
    },
    {
     "data": {
      "image/png": "[encoded data removed]",
      "text/plain": [
       "<Figure size 432x288 with 2 Axes>"
      ]
     },
     "metadata": {
      "needs_background": "light"
     },
     "output_type": "display_data"
    }
   ],
   "source": [
    "sns.heatmap(df.isnull())"
   ]
  },
  {
   "cell_type": "markdown",
   "metadata": {},
   "source": [
    "There are null values in column  Number_Weeks_Used  "
   ]
  },
  {
   "cell_type": "code",
   "execution_count": 9,
   "metadata": {},
   "outputs": [
    {
     "data": {
      "text/html": [
       "<div>\n",
       "<style scoped>\n",
       "    .dataframe tbody tr th:only-of-type {\n",
       "        vertical-align: middle;\n",
       "    }\n",
       "\n",
       "    .dataframe tbody tr th {\n",
       "        vertical-align: top;\n",
       "    }\n",
       "\n",
       "    .dataframe thead th {\n",
       "        text-align: right;\n",
       "    }\n",
       "</style>\n",
       "<table border=\"1\" class=\"dataframe\">\n",
       "  <thead>\n",
       "    <tr style=\"text-align: right;\">\n",
       "      <th></th>\n",
       "      <th>Estimated_Insects_Count</th>\n",
       "      <th>Crop_Type</th>\n",
       "      <th>Soil_Type</th>\n",
       "      <th>Pesticide_Use_Category</th>\n",
       "      <th>Number_Doses_Week</th>\n",
       "      <th>Number_Weeks_Used</th>\n",
       "      <th>Number_Weeks_Quit</th>\n",
       "      <th>Season</th>\n",
       "    </tr>\n",
       "  </thead>\n",
       "  <tbody>\n",
       "    <tr>\n",
       "      <th>Estimated_Insects_Count</th>\n",
       "      <td>1.000000</td>\n",
       "      <td>0.020481</td>\n",
       "      <td>-0.339709</td>\n",
       "      <td>0.037850</td>\n",
       "      <td>-0.121269</td>\n",
       "      <td>0.521670</td>\n",
       "      <td>0.147096</td>\n",
       "      <td>0.023366</td>\n",
       "    </tr>\n",
       "    <tr>\n",
       "      <th>Crop_Type</th>\n",
       "      <td>0.020481</td>\n",
       "      <td>1.000000</td>\n",
       "      <td>0.065497</td>\n",
       "      <td>0.481655</td>\n",
       "      <td>-0.170519</td>\n",
       "      <td>0.065631</td>\n",
       "      <td>-0.390998</td>\n",
       "      <td>0.020134</td>\n",
       "    </tr>\n",
       "    <tr>\n",
       "      <th>Soil_Type</th>\n",
       "      <td>-0.339709</td>\n",
       "      <td>0.065497</td>\n",
       "      <td>1.000000</td>\n",
       "      <td>0.133705</td>\n",
       "      <td>0.057779</td>\n",
       "      <td>-0.146737</td>\n",
       "      <td>-0.195289</td>\n",
       "      <td>-0.069168</td>\n",
       "    </tr>\n",
       "    <tr>\n",
       "      <th>Pesticide_Use_Category</th>\n",
       "      <td>0.037850</td>\n",
       "      <td>0.481655</td>\n",
       "      <td>0.133705</td>\n",
       "      <td>1.000000</td>\n",
       "      <td>-0.011245</td>\n",
       "      <td>0.430705</td>\n",
       "      <td>-0.584771</td>\n",
       "      <td>0.014799</td>\n",
       "    </tr>\n",
       "    <tr>\n",
       "      <th>Number_Doses_Week</th>\n",
       "      <td>-0.121269</td>\n",
       "      <td>-0.170519</td>\n",
       "      <td>0.057779</td>\n",
       "      <td>-0.011245</td>\n",
       "      <td>1.000000</td>\n",
       "      <td>0.130143</td>\n",
       "      <td>0.010722</td>\n",
       "      <td>0.026544</td>\n",
       "    </tr>\n",
       "    <tr>\n",
       "      <th>Number_Weeks_Used</th>\n",
       "      <td>0.521670</td>\n",
       "      <td>0.065631</td>\n",
       "      <td>-0.146737</td>\n",
       "      <td>0.430705</td>\n",
       "      <td>0.130143</td>\n",
       "      <td>1.000000</td>\n",
       "      <td>-0.379640</td>\n",
       "      <td>0.017526</td>\n",
       "    </tr>\n",
       "    <tr>\n",
       "      <th>Number_Weeks_Quit</th>\n",
       "      <td>0.147096</td>\n",
       "      <td>-0.390998</td>\n",
       "      <td>-0.195289</td>\n",
       "      <td>-0.584771</td>\n",
       "      <td>0.010722</td>\n",
       "      <td>-0.379640</td>\n",
       "      <td>1.000000</td>\n",
       "      <td>0.029690</td>\n",
       "    </tr>\n",
       "    <tr>\n",
       "      <th>Season</th>\n",
       "      <td>0.023366</td>\n",
       "      <td>0.020134</td>\n",
       "      <td>-0.069168</td>\n",
       "      <td>0.014799</td>\n",
       "      <td>0.026544</td>\n",
       "      <td>0.017526</td>\n",
       "      <td>0.029690</td>\n",
       "      <td>1.000000</td>\n",
       "    </tr>\n",
       "  </tbody>\n",
       "</table>\n",
       "</div>"
      ],
      "text/plain": [
       "                         Estimated_Insects_Count  Crop_Type  Soil_Type  \\\n",
       "Estimated_Insects_Count                 1.000000   0.020481  -0.339709   \n",
       "Crop_Type                               0.020481   1.000000   0.065497   \n",
       "Soil_Type                              -0.339709   0.065497   1.000000   \n",
       "Pesticide_Use_Category                  0.037850   0.481655   0.133705   \n",
       "Number_Doses_Week                      -0.121269  -0.170519   0.057779   \n",
       "Number_Weeks_Used                       0.521670   0.065631  -0.146737   \n",
       "Number_Weeks_Quit                       0.147096  -0.390998  -0.195289   \n",
       "Season                                  0.023366   0.020134  -0.069168   \n",
       "\n",
       "                         Pesticide_Use_Category  Number_Doses_Week  \\\n",
       "Estimated_Insects_Count                0.037850          -0.121269   \n",
       "Crop_Type                              0.481655          -0.170519   \n",
       "Soil_Type                              0.133705           0.057779   \n",
       "Pesticide_Use_Category                 1.000000          -0.011245   \n",
       "Number_Doses_Week                     -0.011245           1.000000   \n",
       "Number_Weeks_Used                      0.430705           0.130143   \n",
       "Number_Weeks_Quit                     -0.584771           0.010722   \n",
       "Season                                 0.014799           0.026544   \n",
       "\n",
       "                         Number_Weeks_Used  Number_Weeks_Quit    Season  \n",
       "Estimated_Insects_Count           0.521670           0.147096  0.023366  \n",
       "Crop_Type                         0.065631          -0.390998  0.020134  \n",
       "Soil_Type                        -0.146737          -0.195289 -0.069168  \n",
       "Pesticide_Use_Category            0.430705          -0.584771  0.014799  \n",
       "Number_Doses_Week                 0.130143           0.010722  0.026544  \n",
       "Number_Weeks_Used                 1.000000          -0.379640  0.017526  \n",
       "Number_Weeks_Quit                -0.379640           1.000000  0.029690  \n",
       "Season                            0.017526           0.029690  1.000000  "
      ]
     },
     "execution_count": 9,
     "metadata": {},
     "output_type": "execute_result"
    }
   ],
   "source": [
    "dfcor=df.corr()\n",
    "dfcor"
   ]
  },
  {
   "cell_type": "code",
   "execution_count": 10,
   "metadata": {},
   "outputs": [
    {
     "data": {
      "text/plain": [
       "<AxesSubplot:>"
      ]
     },
     "execution_count": 10,
     "metadata": {},
     "output_type": "execute_result"
    },
    {
     "data": {
      "image/png": "[encoded data removed]",
      "text/plain": [
       "<Figure size 864x720 with 2 Axes>"
      ]
     },
     "metadata": {
      "needs_background": "light"
     },
     "output_type": "display_data"
    }
   ],
   "source": [
    "plt.figure(figsize=(12,10))\n",
    "sns.heatmap(df.corr(),annot=True,cmap=\"magma\",fmt='.2f')"
   ]
  },
  {
   "cell_type": "markdown",
   "metadata": {},
   "source": [
    "key observations here\n",
    "1. Estimated_Insects_Count, Pesticide_Use_Category are are highly correlated with Number_Weeks_Used \n",
    "2. Crop_type and Pesticide_Use_Category are highly correlated\n",
    "3. Number_Weeks_Quit is negitively correlated with Pesticide_Use_Category"
   ]
  },
  {
   "cell_type": "code",
   "execution_count": 11,
   "metadata": {},
   "outputs": [
    {
     "data": {
      "image/png": "[encoded data removed]",
      "text/plain": [
       "<Figure size 432x288 with 1 Axes>"
      ]
     },
     "metadata": {
      "needs_background": "light"
     },
     "output_type": "display_data"
    }
   ],
   "source": [
    "sns.distplot(df[\"Pesticide_Use_Category\"])\n",
    "plt.show()"
   ]
  },
  {
   "cell_type": "code",
   "execution_count": 12,
   "metadata": {},
   "outputs": [
    {
     "data": {
      "image/png": "[encoded data removed]",
      "text/plain": [
       "<Figure size 432x288 with 1 Axes>"
      ]
     },
     "metadata": {
      "needs_background": "light"
     },
     "output_type": "display_data"
    }
   ],
   "source": [
    "sns.distplot(df[\"Estimated_Insects_Count\"])\n",
    "plt.show()"
   ]
  },
  {
   "cell_type": "code",
   "execution_count": 13,
   "metadata": {},
   "outputs": [
    {
     "data": {
      "image/png": "[encoded data removed]",
      "text/plain": [
       "<Figure size 432x288 with 1 Axes>"
      ]
     },
     "metadata": {
      "needs_background": "light"
     },
     "output_type": "display_data"
    }
   ],
   "source": [
    "sns.distplot(df[\"Number_Weeks_Used\"])\n",
    "plt.show()"
   ]
  },
  {
   "cell_type": "code",
   "execution_count": 14,
   "metadata": {},
   "outputs": [
    {
     "data": {
      "image/png": "[encoded data removed]",
      "text/plain": [
       "<Figure size 432x288 with 1 Axes>"
      ]
     },
     "metadata": {
      "needs_background": "light"
     },
     "output_type": "display_data"
    }
   ],
   "source": [
    "sns.distplot(df[\"Number_Weeks_Quit\"])\n",
    "plt.show()"
   ]
  },
  {
   "cell_type": "markdown",
   "metadata": {},
   "source": [
    "Univariate analysis shows the data is not normalised.\n",
    "\n",
    "Bivariate analysis not done as this dataset has no target variable"
   ]
  },
  {
   "cell_type": "markdown",
   "metadata": {},
   "source": [
    "# Handling the null values\n",
    "only this ccolumn has null values which is numerical . so changing the null with mean()"
   ]
  },
  {
   "cell_type": "code",
   "execution_count": 15,
   "metadata": {},
   "outputs": [],
   "source": [
    "df['Number_Weeks_Used'] = df['Number_Weeks_Used'].fillna((df['Number_Weeks_Used'].mean()))"
   ]
  },
  {
   "cell_type": "code",
   "execution_count": 16,
   "metadata": {},
   "outputs": [],
   "source": [
    "# changing the nominal value to integer for training model\n",
    "from sklearn.preprocessing import LabelEncoder\n",
    "le=LabelEncoder()\n",
    "df[\"ID\"]=le.fit_transform(df[\"ID\"])"
   ]
  },
  {
   "cell_type": "code",
   "execution_count": 17,
   "metadata": {},
   "outputs": [
    {
     "data": {
      "text/html": [
       "<div>\n",
       "<style scoped>\n",
       "    .dataframe tbody tr th:only-of-type {\n",
       "        vertical-align: middle;\n",
       "    }\n",
       "\n",
       "    .dataframe tbody tr th {\n",
       "        vertical-align: top;\n",
       "    }\n",
       "\n",
       "    .dataframe thead th {\n",
       "        text-align: right;\n",
       "    }\n",
       "</style>\n",
       "<table border=\"1\" class=\"dataframe\">\n",
       "  <thead>\n",
       "    <tr style=\"text-align: right;\">\n",
       "      <th></th>\n",
       "      <th>ID</th>\n",
       "      <th>Estimated_Insects_Count</th>\n",
       "      <th>Crop_Type</th>\n",
       "      <th>Soil_Type</th>\n",
       "      <th>Pesticide_Use_Category</th>\n",
       "      <th>Number_Doses_Week</th>\n",
       "      <th>Number_Weeks_Used</th>\n",
       "      <th>Number_Weeks_Quit</th>\n",
       "      <th>Season</th>\n",
       "    </tr>\n",
       "  </thead>\n",
       "  <tbody>\n",
       "    <tr>\n",
       "      <th>0</th>\n",
       "      <td>0</td>\n",
       "      <td>188</td>\n",
       "      <td>1</td>\n",
       "      <td>1</td>\n",
       "      <td>1</td>\n",
       "      <td>0</td>\n",
       "      <td>29.041822</td>\n",
       "      <td>0</td>\n",
       "      <td>2</td>\n",
       "    </tr>\n",
       "    <tr>\n",
       "      <th>1</th>\n",
       "      <td>1</td>\n",
       "      <td>410</td>\n",
       "      <td>1</td>\n",
       "      <td>1</td>\n",
       "      <td>1</td>\n",
       "      <td>0</td>\n",
       "      <td>0.000000</td>\n",
       "      <td>0</td>\n",
       "      <td>2</td>\n",
       "    </tr>\n",
       "    <tr>\n",
       "      <th>2</th>\n",
       "      <td>2</td>\n",
       "      <td>626</td>\n",
       "      <td>1</td>\n",
       "      <td>0</td>\n",
       "      <td>1</td>\n",
       "      <td>0</td>\n",
       "      <td>0.000000</td>\n",
       "      <td>0</td>\n",
       "      <td>2</td>\n",
       "    </tr>\n",
       "    <tr>\n",
       "      <th>3</th>\n",
       "      <td>3</td>\n",
       "      <td>731</td>\n",
       "      <td>1</td>\n",
       "      <td>0</td>\n",
       "      <td>1</td>\n",
       "      <td>0</td>\n",
       "      <td>0.000000</td>\n",
       "      <td>0</td>\n",
       "      <td>2</td>\n",
       "    </tr>\n",
       "    <tr>\n",
       "      <th>4</th>\n",
       "      <td>4</td>\n",
       "      <td>789</td>\n",
       "      <td>0</td>\n",
       "      <td>0</td>\n",
       "      <td>1</td>\n",
       "      <td>0</td>\n",
       "      <td>0.000000</td>\n",
       "      <td>0</td>\n",
       "      <td>1</td>\n",
       "    </tr>\n",
       "  </tbody>\n",
       "</table>\n",
       "</div>"
      ],
      "text/plain": [
       "   ID  Estimated_Insects_Count  Crop_Type  Soil_Type  Pesticide_Use_Category  \\\n",
       "0   0                      188          1          1                       1   \n",
       "1   1                      410          1          1                       1   \n",
       "2   2                      626          1          0                       1   \n",
       "3   3                      731          1          0                       1   \n",
       "4   4                      789          0          0                       1   \n",
       "\n",
       "   Number_Doses_Week  Number_Weeks_Used  Number_Weeks_Quit  Season  \n",
       "0                  0          29.041822                  0       2  \n",
       "1                  0           0.000000                  0       2  \n",
       "2                  0           0.000000                  0       2  \n",
       "3                  0           0.000000                  0       2  \n",
       "4                  0           0.000000                  0       1  "
      ]
     },
     "execution_count": 17,
     "metadata": {},
     "output_type": "execute_result"
    }
   ],
   "source": [
    "df.head(5)"
   ]
  },
  {
   "cell_type": "markdown",
   "metadata": {},
   "source": [
    "# Handling the outliers\n"
   ]
  },
  {
   "cell_type": "code",
   "execution_count": 18,
   "metadata": {},
   "outputs": [
    {
     "data": {
      "text/plain": [
       "<AxesSubplot:>"
      ]
     },
     "execution_count": 18,
     "metadata": {},
     "output_type": "execute_result"
    },
    {
     "data": {
      "image/png": "[encoded data removed]",
      "text/plain": [
       "<Figure size 432x288 with 1 Axes>"
      ]
     },
     "metadata": {
      "needs_background": "light"
     },
     "output_type": "display_data"
    }
   ],
   "source": [
    "df[\"Estimated_Insects_Count\"].plot.box()"
   ]
  },
  {
   "cell_type": "code",
   "execution_count": 19,
   "metadata": {},
   "outputs": [
    {
     "data": {
      "text/plain": [
       "<AxesSubplot:>"
      ]
     },
     "execution_count": 19,
     "metadata": {},
     "output_type": "execute_result"
    },
    {
     "data": {
      "image/png": "[encoded data removed]",
      "text/plain": [
       "<Figure size 432x288 with 1 Axes>"
      ]
     },
     "metadata": {
      "needs_background": "light"
     },
     "output_type": "display_data"
    }
   ],
   "source": [
    "df[\"Number_Doses_Week\"].plot.box()"
   ]
  },
  {
   "cell_type": "code",
   "execution_count": 20,
   "metadata": {},
   "outputs": [
    {
     "data": {
      "text/plain": [
       "<AxesSubplot:>"
      ]
     },
     "execution_count": 20,
     "metadata": {},
     "output_type": "execute_result"
    },
    {
     "data": {
      "image/png": "[encoded data removed]",
      "text/plain": [
       "<Figure size 432x288 with 1 Axes>"
      ]
     },
     "metadata": {
      "needs_background": "light"
     },
     "output_type": "display_data"
    }
   ],
   "source": [
    "df[\"Number_Weeks_Used\"].plot.box()"
   ]
  },
  {
   "cell_type": "code",
   "execution_count": 21,
   "metadata": {},
   "outputs": [],
   "source": [
    "# few outliers are present. So removing them"
   ]
  },
  {
   "cell_type": "code",
   "execution_count": 22,
   "metadata": {},
   "outputs": [],
   "source": [
    "from scipy.stats import zscore\n"
   ]
  },
  {
   "cell_type": "code",
   "execution_count": 23,
   "metadata": {},
   "outputs": [
    {
     "data": {
      "text/plain": [
       "array([[1.73060079, 1.30114598, 2.03087752, ..., 0.        , 0.79406857,\n",
       "        0.17268872],\n",
       "       [1.72769953, 1.03885142, 2.03087752, ..., 2.39235191, 0.79406857,\n",
       "        0.17268872],\n",
       "       [1.72479827, 0.78364591, 2.03087752, ..., 2.39235191, 0.79406857,\n",
       "        0.17268872],\n",
       "       ...,\n",
       "       [1.72479827, 0.18580336, 0.49239798, ..., 0.49081149, 0.34247635,\n",
       "        0.17268872],\n",
       "       [1.72769953, 0.18580336, 0.49239798, ..., 1.23908655, 1.80258672,\n",
       "        0.17268872],\n",
       "       [1.73060079, 0.18580336, 0.49239798, ..., 0.        , 0.67360616,\n",
       "        1.28965409]])"
      ]
     },
     "execution_count": 23,
     "metadata": {},
     "output_type": "execute_result"
    }
   ],
   "source": [
    "z=np.abs(zscore(df))\n",
    "z"
   ]
  },
  {
   "cell_type": "code",
   "execution_count": 24,
   "metadata": {},
   "outputs": [
    {
     "name": "stdout",
     "output_type": "stream",
     "text": [
      "(array([  50,   83,  129,  136,  179,  255,  280,  281,  282,  501,  502,\n",
      "        503,  535,  574,  613,  630,  751,  775,  827,  829,  853,  868,\n",
      "        870,  871,  883,  890,  895,  897,  902,  904,  910,  911,  912,\n",
      "        913,  914,  915,  916, 1030]), array([5, 5, 5, 5, 5, 5, 1, 1, 1, 1, 1, 1, 5, 5, 5, 5, 5, 7, 7, 7, 7, 7,\n",
      "       7, 7, 7, 7, 7, 7, 7, 7, 1, 1, 1, 1, 1, 1, 1, 5]))\n"
     ]
    }
   ],
   "source": [
    "threshold=3\n",
    "print(np.where(z>3))"
   ]
  },
  {
   "cell_type": "code",
   "execution_count": 25,
   "metadata": {},
   "outputs": [
    {
     "data": {
      "text/html": [
       "<div>\n",
       "<style scoped>\n",
       "    .dataframe tbody tr th:only-of-type {\n",
       "        vertical-align: middle;\n",
       "    }\n",
       "\n",
       "    .dataframe tbody tr th {\n",
       "        vertical-align: top;\n",
       "    }\n",
       "\n",
       "    .dataframe thead th {\n",
       "        text-align: right;\n",
       "    }\n",
       "</style>\n",
       "<table border=\"1\" class=\"dataframe\">\n",
       "  <thead>\n",
       "    <tr style=\"text-align: right;\">\n",
       "      <th></th>\n",
       "      <th>ID</th>\n",
       "      <th>Estimated_Insects_Count</th>\n",
       "      <th>Crop_Type</th>\n",
       "      <th>Soil_Type</th>\n",
       "      <th>Pesticide_Use_Category</th>\n",
       "      <th>Number_Doses_Week</th>\n",
       "      <th>Number_Weeks_Used</th>\n",
       "      <th>Number_Weeks_Quit</th>\n",
       "      <th>Season</th>\n",
       "    </tr>\n",
       "  </thead>\n",
       "  <tbody>\n",
       "    <tr>\n",
       "      <th>0</th>\n",
       "      <td>0</td>\n",
       "      <td>188</td>\n",
       "      <td>1</td>\n",
       "      <td>1</td>\n",
       "      <td>1</td>\n",
       "      <td>0</td>\n",
       "      <td>29.041822</td>\n",
       "      <td>0</td>\n",
       "      <td>2</td>\n",
       "    </tr>\n",
       "    <tr>\n",
       "      <th>1</th>\n",
       "      <td>1</td>\n",
       "      <td>410</td>\n",
       "      <td>1</td>\n",
       "      <td>1</td>\n",
       "      <td>1</td>\n",
       "      <td>0</td>\n",
       "      <td>0.000000</td>\n",
       "      <td>0</td>\n",
       "      <td>2</td>\n",
       "    </tr>\n",
       "    <tr>\n",
       "      <th>2</th>\n",
       "      <td>2</td>\n",
       "      <td>626</td>\n",
       "      <td>1</td>\n",
       "      <td>0</td>\n",
       "      <td>1</td>\n",
       "      <td>0</td>\n",
       "      <td>0.000000</td>\n",
       "      <td>0</td>\n",
       "      <td>2</td>\n",
       "    </tr>\n",
       "    <tr>\n",
       "      <th>3</th>\n",
       "      <td>3</td>\n",
       "      <td>731</td>\n",
       "      <td>1</td>\n",
       "      <td>0</td>\n",
       "      <td>1</td>\n",
       "      <td>0</td>\n",
       "      <td>0.000000</td>\n",
       "      <td>0</td>\n",
       "      <td>2</td>\n",
       "    </tr>\n",
       "    <tr>\n",
       "      <th>4</th>\n",
       "      <td>4</td>\n",
       "      <td>789</td>\n",
       "      <td>0</td>\n",
       "      <td>0</td>\n",
       "      <td>1</td>\n",
       "      <td>0</td>\n",
       "      <td>0.000000</td>\n",
       "      <td>0</td>\n",
       "      <td>1</td>\n",
       "    </tr>\n",
       "    <tr>\n",
       "      <th>...</th>\n",
       "      <td>...</td>\n",
       "      <td>...</td>\n",
       "      <td>...</td>\n",
       "      <td>...</td>\n",
       "      <td>...</td>\n",
       "      <td>...</td>\n",
       "      <td>...</td>\n",
       "      <td>...</td>\n",
       "      <td>...</td>\n",
       "    </tr>\n",
       "    <tr>\n",
       "      <th>1189</th>\n",
       "      <td>1189</td>\n",
       "      <td>1132</td>\n",
       "      <td>0</td>\n",
       "      <td>1</td>\n",
       "      <td>2</td>\n",
       "      <td>40</td>\n",
       "      <td>20.000000</td>\n",
       "      <td>23</td>\n",
       "      <td>2</td>\n",
       "    </tr>\n",
       "    <tr>\n",
       "      <th>1190</th>\n",
       "      <td>1190</td>\n",
       "      <td>1132</td>\n",
       "      <td>0</td>\n",
       "      <td>1</td>\n",
       "      <td>2</td>\n",
       "      <td>40</td>\n",
       "      <td>25.000000</td>\n",
       "      <td>18</td>\n",
       "      <td>1</td>\n",
       "    </tr>\n",
       "    <tr>\n",
       "      <th>1191</th>\n",
       "      <td>1191</td>\n",
       "      <td>1132</td>\n",
       "      <td>0</td>\n",
       "      <td>1</td>\n",
       "      <td>2</td>\n",
       "      <td>40</td>\n",
       "      <td>35.000000</td>\n",
       "      <td>4</td>\n",
       "      <td>2</td>\n",
       "    </tr>\n",
       "    <tr>\n",
       "      <th>1192</th>\n",
       "      <td>1192</td>\n",
       "      <td>1132</td>\n",
       "      <td>0</td>\n",
       "      <td>1</td>\n",
       "      <td>2</td>\n",
       "      <td>60</td>\n",
       "      <td>14.000000</td>\n",
       "      <td>23</td>\n",
       "      <td>2</td>\n",
       "    </tr>\n",
       "    <tr>\n",
       "      <th>1193</th>\n",
       "      <td>1193</td>\n",
       "      <td>1132</td>\n",
       "      <td>0</td>\n",
       "      <td>1</td>\n",
       "      <td>2</td>\n",
       "      <td>60</td>\n",
       "      <td>29.041822</td>\n",
       "      <td>13</td>\n",
       "      <td>1</td>\n",
       "    </tr>\n",
       "  </tbody>\n",
       "</table>\n",
       "<p>1156 rows × 9 columns</p>\n",
       "</div>"
      ],
      "text/plain": [
       "        ID  Estimated_Insects_Count  Crop_Type  Soil_Type  \\\n",
       "0        0                      188          1          1   \n",
       "1        1                      410          1          1   \n",
       "2        2                      626          1          0   \n",
       "3        3                      731          1          0   \n",
       "4        4                      789          0          0   \n",
       "...    ...                      ...        ...        ...   \n",
       "1189  1189                     1132          0          1   \n",
       "1190  1190                     1132          0          1   \n",
       "1191  1191                     1132          0          1   \n",
       "1192  1192                     1132          0          1   \n",
       "1193  1193                     1132          0          1   \n",
       "\n",
       "      Pesticide_Use_Category  Number_Doses_Week  Number_Weeks_Used  \\\n",
       "0                          1                  0          29.041822   \n",
       "1                          1                  0           0.000000   \n",
       "2                          1                  0           0.000000   \n",
       "3                          1                  0           0.000000   \n",
       "4                          1                  0           0.000000   \n",
       "...                      ...                ...                ...   \n",
       "1189                       2                 40          20.000000   \n",
       "1190                       2                 40          25.000000   \n",
       "1191                       2                 40          35.000000   \n",
       "1192                       2                 60          14.000000   \n",
       "1193                       2                 60          29.041822   \n",
       "\n",
       "      Number_Weeks_Quit  Season  \n",
       "0                     0       2  \n",
       "1                     0       2  \n",
       "2                     0       2  \n",
       "3                     0       2  \n",
       "4                     0       1  \n",
       "...                 ...     ...  \n",
       "1189                 23       2  \n",
       "1190                 18       1  \n",
       "1191                  4       2  \n",
       "1192                 23       2  \n",
       "1193                 13       1  \n",
       "\n",
       "[1156 rows x 9 columns]"
      ]
     },
     "execution_count": 25,
     "metadata": {},
     "output_type": "execute_result"
    }
   ],
   "source": [
    "df_new=df[(z<3).all(axis=1)]\n",
    "df_new"
   ]
  },
  {
   "cell_type": "code",
   "execution_count": 26,
   "metadata": {},
   "outputs": [
    {
     "data": {
      "text/plain": [
       "(1156, 9)"
      ]
     },
     "execution_count": 26,
     "metadata": {},
     "output_type": "execute_result"
    }
   ],
   "source": [
    "df_new.shape"
   ]
  },
  {
   "cell_type": "code",
   "execution_count": 27,
   "metadata": {},
   "outputs": [
    {
     "data": {
      "text/plain": [
       "ID                         0.020057\n",
       "Estimated_Insects_Count    1.010894\n",
       "Crop_Type                  1.510094\n",
       "Soil_Type                  0.156386\n",
       "Pesticide_Use_Category     0.063260\n",
       "Number_Doses_Week          0.657597\n",
       "Number_Weeks_Used          0.221900\n",
       "Number_Weeks_Quit          1.037757\n",
       "Season                     0.157502\n",
       "dtype: float64"
      ]
     },
     "execution_count": 27,
     "metadata": {},
     "output_type": "execute_result"
    }
   ],
   "source": [
    "df_new.skew() # shows little skewness . So removing it"
   ]
  },
  {
   "cell_type": "code",
   "execution_count": 28,
   "metadata": {},
   "outputs": [],
   "source": [
    "from sklearn.preprocessing import power_transform"
   ]
  },
  {
   "cell_type": "code",
   "execution_count": 29,
   "metadata": {},
   "outputs": [],
   "source": [
    "df_new=power_transform(df_new,method='yeo-johnson')"
   ]
  },
  {
   "cell_type": "code",
   "execution_count": 30,
   "metadata": {},
   "outputs": [],
   "source": [
    "# scaling the dataset"
   ]
  },
  {
   "cell_type": "code",
   "execution_count": 31,
   "metadata": {},
   "outputs": [
    {
     "data": {
      "text/plain": [
       "(1156, 9)"
      ]
     },
     "execution_count": 31,
     "metadata": {},
     "output_type": "execute_result"
    }
   ],
   "source": [
    "from sklearn.preprocessing import MinMaxScaler\n",
    "sc=MinMaxScaler()\n",
    "scaled_df=sc.fit_transform(df_new)\n",
    "scaled_df.shape"
   ]
  },
  {
   "cell_type": "markdown",
   "metadata": {},
   "source": [
    "# All EDA and preprocessing has been done on test dataset. After data modelling done on Train dataset we will use this test dataset for prediction in the end at the time of conclusion"
   ]
  },
  {
   "cell_type": "markdown",
   "metadata": {},
   "source": [
    "# EDA for train dataset"
   ]
  },
  {
   "cell_type": "code",
   "execution_count": 32,
   "metadata": {},
   "outputs": [
    {
     "data": {
      "text/html": [
       "<div>\n",
       "<style scoped>\n",
       "    .dataframe tbody tr th:only-of-type {\n",
       "        vertical-align: middle;\n",
       "    }\n",
       "\n",
       "    .dataframe tbody tr th {\n",
       "        vertical-align: top;\n",
       "    }\n",
       "\n",
       "    .dataframe thead th {\n",
       "        text-align: right;\n",
       "    }\n",
       "</style>\n",
       "<table border=\"1\" class=\"dataframe\">\n",
       "  <thead>\n",
       "    <tr style=\"text-align: right;\">\n",
       "      <th></th>\n",
       "      <th>ID</th>\n",
       "      <th>Estimated_Insects_Count</th>\n",
       "      <th>Crop_Type</th>\n",
       "      <th>Soil_Type</th>\n",
       "      <th>Pesticide_Use_Category</th>\n",
       "      <th>Number_Doses_Week</th>\n",
       "      <th>Number_Weeks_Used</th>\n",
       "      <th>Number_Weeks_Quit</th>\n",
       "      <th>Season</th>\n",
       "      <th>Crop_Damage</th>\n",
       "    </tr>\n",
       "  </thead>\n",
       "  <tbody>\n",
       "    <tr>\n",
       "      <th>0</th>\n",
       "      <td>F00000001</td>\n",
       "      <td>188</td>\n",
       "      <td>1</td>\n",
       "      <td>0</td>\n",
       "      <td>1</td>\n",
       "      <td>0</td>\n",
       "      <td>0.0</td>\n",
       "      <td>0</td>\n",
       "      <td>1</td>\n",
       "      <td>0</td>\n",
       "    </tr>\n",
       "    <tr>\n",
       "      <th>1</th>\n",
       "      <td>F00000003</td>\n",
       "      <td>209</td>\n",
       "      <td>1</td>\n",
       "      <td>0</td>\n",
       "      <td>1</td>\n",
       "      <td>0</td>\n",
       "      <td>0.0</td>\n",
       "      <td>0</td>\n",
       "      <td>2</td>\n",
       "      <td>1</td>\n",
       "    </tr>\n",
       "    <tr>\n",
       "      <th>2</th>\n",
       "      <td>F00000004</td>\n",
       "      <td>257</td>\n",
       "      <td>1</td>\n",
       "      <td>0</td>\n",
       "      <td>1</td>\n",
       "      <td>0</td>\n",
       "      <td>0.0</td>\n",
       "      <td>0</td>\n",
       "      <td>2</td>\n",
       "      <td>1</td>\n",
       "    </tr>\n",
       "    <tr>\n",
       "      <th>3</th>\n",
       "      <td>F00000005</td>\n",
       "      <td>257</td>\n",
       "      <td>1</td>\n",
       "      <td>1</td>\n",
       "      <td>1</td>\n",
       "      <td>0</td>\n",
       "      <td>0.0</td>\n",
       "      <td>0</td>\n",
       "      <td>2</td>\n",
       "      <td>1</td>\n",
       "    </tr>\n",
       "    <tr>\n",
       "      <th>4</th>\n",
       "      <td>F00000006</td>\n",
       "      <td>342</td>\n",
       "      <td>1</td>\n",
       "      <td>0</td>\n",
       "      <td>1</td>\n",
       "      <td>0</td>\n",
       "      <td>0.0</td>\n",
       "      <td>0</td>\n",
       "      <td>2</td>\n",
       "      <td>1</td>\n",
       "    </tr>\n",
       "  </tbody>\n",
       "</table>\n",
       "</div>"
      ],
      "text/plain": [
       "          ID  Estimated_Insects_Count  Crop_Type  Soil_Type  \\\n",
       "0  F00000001                      188          1          0   \n",
       "1  F00000003                      209          1          0   \n",
       "2  F00000004                      257          1          0   \n",
       "3  F00000005                      257          1          1   \n",
       "4  F00000006                      342          1          0   \n",
       "\n",
       "   Pesticide_Use_Category  Number_Doses_Week  Number_Weeks_Used  \\\n",
       "0                       1                  0                0.0   \n",
       "1                       1                  0                0.0   \n",
       "2                       1                  0                0.0   \n",
       "3                       1                  0                0.0   \n",
       "4                       1                  0                0.0   \n",
       "\n",
       "   Number_Weeks_Quit  Season  Crop_Damage  \n",
       "0                  0       1            0  \n",
       "1                  0       2            1  \n",
       "2                  0       2            1  \n",
       "3                  0       2            1  \n",
       "4                  0       2            1  "
      ]
     },
     "execution_count": 32,
     "metadata": {},
     "output_type": "execute_result"
    }
   ],
   "source": [
    "ds=pd.read_csv(\"train_agriculture.csv\",sep='\\t')\n",
    "ds.head(5)"
   ]
  },
  {
   "cell_type": "code",
   "execution_count": 33,
   "metadata": {},
   "outputs": [
    {
     "data": {
      "text/plain": [
       "ID                          object\n",
       "Estimated_Insects_Count      int64\n",
       "Crop_Type                    int64\n",
       "Soil_Type                    int64\n",
       "Pesticide_Use_Category       int64\n",
       "Number_Doses_Week            int64\n",
       "Number_Weeks_Used          float64\n",
       "Number_Weeks_Quit            int64\n",
       "Season                       int64\n",
       "Crop_Damage                  int64\n",
       "dtype: object"
      ]
     },
     "execution_count": 33,
     "metadata": {},
     "output_type": "execute_result"
    }
   ],
   "source": [
    "ds.dtypes # checking the data types of columns "
   ]
  },
  {
   "cell_type": "code",
   "execution_count": 34,
   "metadata": {},
   "outputs": [
    {
     "data": {
      "text/plain": [
       "Index(['ID', 'Estimated_Insects_Count', 'Crop_Type', 'Soil_Type',\n",
       "       'Pesticide_Use_Category', 'Number_Doses_Week', 'Number_Weeks_Used',\n",
       "       'Number_Weeks_Quit', 'Season', 'Crop_Damage'],\n",
       "      dtype='object')"
      ]
     },
     "execution_count": 34,
     "metadata": {},
     "output_type": "execute_result"
    }
   ],
   "source": [
    "ds.columns #checking various columns "
   ]
  },
  {
   "cell_type": "code",
   "execution_count": 35,
   "metadata": {},
   "outputs": [
    {
     "data": {
      "text/html": [
       "<div>\n",
       "<style scoped>\n",
       "    .dataframe tbody tr th:only-of-type {\n",
       "        vertical-align: middle;\n",
       "    }\n",
       "\n",
       "    .dataframe tbody tr th {\n",
       "        vertical-align: top;\n",
       "    }\n",
       "\n",
       "    .dataframe thead th {\n",
       "        text-align: right;\n",
       "    }\n",
       "</style>\n",
       "<table border=\"1\" class=\"dataframe\">\n",
       "  <thead>\n",
       "    <tr style=\"text-align: right;\">\n",
       "      <th></th>\n",
       "      <th>Estimated_Insects_Count</th>\n",
       "      <th>Crop_Type</th>\n",
       "      <th>Soil_Type</th>\n",
       "      <th>Pesticide_Use_Category</th>\n",
       "      <th>Number_Doses_Week</th>\n",
       "      <th>Number_Weeks_Used</th>\n",
       "      <th>Number_Weeks_Quit</th>\n",
       "      <th>Season</th>\n",
       "      <th>Crop_Damage</th>\n",
       "    </tr>\n",
       "  </thead>\n",
       "  <tbody>\n",
       "    <tr>\n",
       "      <th>count</th>\n",
       "      <td>4599.000000</td>\n",
       "      <td>4599.000000</td>\n",
       "      <td>4599.000000</td>\n",
       "      <td>4599.000000</td>\n",
       "      <td>4599.000000</td>\n",
       "      <td>4157.000000</td>\n",
       "      <td>4599.000000</td>\n",
       "      <td>4599.000000</td>\n",
       "      <td>4599.000000</td>\n",
       "    </tr>\n",
       "    <tr>\n",
       "      <th>mean</th>\n",
       "      <td>1363.000435</td>\n",
       "      <td>0.224831</td>\n",
       "      <td>0.476625</td>\n",
       "      <td>2.283540</td>\n",
       "      <td>26.477495</td>\n",
       "      <td>28.891027</td>\n",
       "      <td>9.205479</td>\n",
       "      <td>1.894325</td>\n",
       "      <td>0.194390</td>\n",
       "    </tr>\n",
       "    <tr>\n",
       "      <th>std</th>\n",
       "      <td>814.439120</td>\n",
       "      <td>0.417517</td>\n",
       "      <td>0.499508</td>\n",
       "      <td>0.471978</td>\n",
       "      <td>15.524647</td>\n",
       "      <td>12.586005</td>\n",
       "      <td>9.713253</td>\n",
       "      <td>0.694952</td>\n",
       "      <td>0.454597</td>\n",
       "    </tr>\n",
       "    <tr>\n",
       "      <th>min</th>\n",
       "      <td>150.000000</td>\n",
       "      <td>0.000000</td>\n",
       "      <td>0.000000</td>\n",
       "      <td>1.000000</td>\n",
       "      <td>0.000000</td>\n",
       "      <td>0.000000</td>\n",
       "      <td>0.000000</td>\n",
       "      <td>1.000000</td>\n",
       "      <td>0.000000</td>\n",
       "    </tr>\n",
       "    <tr>\n",
       "      <th>25%</th>\n",
       "      <td>731.000000</td>\n",
       "      <td>0.000000</td>\n",
       "      <td>0.000000</td>\n",
       "      <td>2.000000</td>\n",
       "      <td>15.000000</td>\n",
       "      <td>20.000000</td>\n",
       "      <td>0.000000</td>\n",
       "      <td>1.000000</td>\n",
       "      <td>0.000000</td>\n",
       "    </tr>\n",
       "    <tr>\n",
       "      <th>50%</th>\n",
       "      <td>1212.000000</td>\n",
       "      <td>0.000000</td>\n",
       "      <td>0.000000</td>\n",
       "      <td>2.000000</td>\n",
       "      <td>20.000000</td>\n",
       "      <td>28.000000</td>\n",
       "      <td>7.000000</td>\n",
       "      <td>2.000000</td>\n",
       "      <td>0.000000</td>\n",
       "    </tr>\n",
       "    <tr>\n",
       "      <th>75%</th>\n",
       "      <td>1786.000000</td>\n",
       "      <td>0.000000</td>\n",
       "      <td>1.000000</td>\n",
       "      <td>3.000000</td>\n",
       "      <td>40.000000</td>\n",
       "      <td>38.000000</td>\n",
       "      <td>16.000000</td>\n",
       "      <td>2.000000</td>\n",
       "      <td>0.000000</td>\n",
       "    </tr>\n",
       "    <tr>\n",
       "      <th>max</th>\n",
       "      <td>4097.000000</td>\n",
       "      <td>1.000000</td>\n",
       "      <td>1.000000</td>\n",
       "      <td>3.000000</td>\n",
       "      <td>95.000000</td>\n",
       "      <td>66.000000</td>\n",
       "      <td>47.000000</td>\n",
       "      <td>3.000000</td>\n",
       "      <td>2.000000</td>\n",
       "    </tr>\n",
       "  </tbody>\n",
       "</table>\n",
       "</div>"
      ],
      "text/plain": [
       "       Estimated_Insects_Count    Crop_Type    Soil_Type  \\\n",
       "count              4599.000000  4599.000000  4599.000000   \n",
       "mean               1363.000435     0.224831     0.476625   \n",
       "std                 814.439120     0.417517     0.499508   \n",
       "min                 150.000000     0.000000     0.000000   \n",
       "25%                 731.000000     0.000000     0.000000   \n",
       "50%                1212.000000     0.000000     0.000000   \n",
       "75%                1786.000000     0.000000     1.000000   \n",
       "max                4097.000000     1.000000     1.000000   \n",
       "\n",
       "       Pesticide_Use_Category  Number_Doses_Week  Number_Weeks_Used  \\\n",
       "count             4599.000000        4599.000000        4157.000000   \n",
       "mean                 2.283540          26.477495          28.891027   \n",
       "std                  0.471978          15.524647          12.586005   \n",
       "min                  1.000000           0.000000           0.000000   \n",
       "25%                  2.000000          15.000000          20.000000   \n",
       "50%                  2.000000          20.000000          28.000000   \n",
       "75%                  3.000000          40.000000          38.000000   \n",
       "max                  3.000000          95.000000          66.000000   \n",
       "\n",
       "       Number_Weeks_Quit       Season  Crop_Damage  \n",
       "count        4599.000000  4599.000000  4599.000000  \n",
       "mean            9.205479     1.894325     0.194390  \n",
       "std             9.713253     0.694952     0.454597  \n",
       "min             0.000000     1.000000     0.000000  \n",
       "25%             0.000000     1.000000     0.000000  \n",
       "50%             7.000000     2.000000     0.000000  \n",
       "75%            16.000000     2.000000     0.000000  \n",
       "max            47.000000     3.000000     2.000000  "
      ]
     },
     "execution_count": 35,
     "metadata": {},
     "output_type": "execute_result"
    }
   ],
   "source": [
    "ds.describe()"
   ]
  },
  {
   "cell_type": "markdown",
   "metadata": {},
   "source": [
    "key observations here\n",
    "\n",
    "1. mean and median are not very near in all columns\n",
    "2. There is huge differnece in 75% and max values in few columns. means few outliers are there\n",
    "3. Count is same in all columns other than Number_Weeks_Used. means missing values in this column "
   ]
  },
  {
   "cell_type": "code",
   "execution_count": 36,
   "metadata": {},
   "outputs": [
    {
     "data": {
      "text/plain": [
       "(4599, 10)"
      ]
     },
     "execution_count": 36,
     "metadata": {},
     "output_type": "execute_result"
    }
   ],
   "source": [
    "ds.shape  #checking the rows and ccolumns count"
   ]
  },
  {
   "cell_type": "code",
   "execution_count": 37,
   "metadata": {},
   "outputs": [
    {
     "data": {
      "text/plain": [
       "ID                           0\n",
       "Estimated_Insects_Count      0\n",
       "Crop_Type                    0\n",
       "Soil_Type                    0\n",
       "Pesticide_Use_Category       0\n",
       "Number_Doses_Week            0\n",
       "Number_Weeks_Used          442\n",
       "Number_Weeks_Quit            0\n",
       "Season                       0\n",
       "Crop_Damage                  0\n",
       "dtype: int64"
      ]
     },
     "execution_count": 37,
     "metadata": {},
     "output_type": "execute_result"
    }
   ],
   "source": [
    "ds.isnull().sum()"
   ]
  },
  {
   "cell_type": "code",
   "execution_count": 38,
   "metadata": {},
   "outputs": [
    {
     "data": {
      "text/plain": [
       "<AxesSubplot:>"
      ]
     },
     "execution_count": 38,
     "metadata": {},
     "output_type": "execute_result"
    },
    {
     "data": {
      "image/png": "[encoded data removed]",
      "text/plain": [
       "<Figure size 432x288 with 2 Axes>"
      ]
     },
     "metadata": {
      "needs_background": "light"
     },
     "output_type": "display_data"
    }
   ],
   "source": [
    "sns.heatmap(ds.isnull()) # checking the null values "
   ]
  },
  {
   "cell_type": "code",
   "execution_count": 39,
   "metadata": {},
   "outputs": [
    {
     "data": {
      "text/html": [
       "<div>\n",
       "<style scoped>\n",
       "    .dataframe tbody tr th:only-of-type {\n",
       "        vertical-align: middle;\n",
       "    }\n",
       "\n",
       "    .dataframe tbody tr th {\n",
       "        vertical-align: top;\n",
       "    }\n",
       "\n",
       "    .dataframe thead th {\n",
       "        text-align: right;\n",
       "    }\n",
       "</style>\n",
       "<table border=\"1\" class=\"dataframe\">\n",
       "  <thead>\n",
       "    <tr style=\"text-align: right;\">\n",
       "      <th></th>\n",
       "      <th>Estimated_Insects_Count</th>\n",
       "      <th>Crop_Type</th>\n",
       "      <th>Soil_Type</th>\n",
       "      <th>Pesticide_Use_Category</th>\n",
       "      <th>Number_Doses_Week</th>\n",
       "      <th>Number_Weeks_Used</th>\n",
       "      <th>Number_Weeks_Quit</th>\n",
       "      <th>Season</th>\n",
       "      <th>Crop_Damage</th>\n",
       "    </tr>\n",
       "  </thead>\n",
       "  <tbody>\n",
       "    <tr>\n",
       "      <th>Estimated_Insects_Count</th>\n",
       "      <td>1.000000</td>\n",
       "      <td>-0.036911</td>\n",
       "      <td>-0.151796</td>\n",
       "      <td>-0.027111</td>\n",
       "      <td>-0.122509</td>\n",
       "      <td>0.449470</td>\n",
       "      <td>0.246719</td>\n",
       "      <td>-0.009482</td>\n",
       "      <td>0.202312</td>\n",
       "    </tr>\n",
       "    <tr>\n",
       "      <th>Crop_Type</th>\n",
       "      <td>-0.036911</td>\n",
       "      <td>1.000000</td>\n",
       "      <td>-0.175019</td>\n",
       "      <td>0.349662</td>\n",
       "      <td>-0.163832</td>\n",
       "      <td>-0.002237</td>\n",
       "      <td>-0.273475</td>\n",
       "      <td>-0.000549</td>\n",
       "      <td>0.021772</td>\n",
       "    </tr>\n",
       "    <tr>\n",
       "      <th>Soil_Type</th>\n",
       "      <td>-0.151796</td>\n",
       "      <td>-0.175019</td>\n",
       "      <td>1.000000</td>\n",
       "      <td>0.021661</td>\n",
       "      <td>0.050099</td>\n",
       "      <td>-0.098399</td>\n",
       "      <td>-0.034355</td>\n",
       "      <td>0.011052</td>\n",
       "      <td>-0.059481</td>\n",
       "    </tr>\n",
       "    <tr>\n",
       "      <th>Pesticide_Use_Category</th>\n",
       "      <td>-0.027111</td>\n",
       "      <td>0.349662</td>\n",
       "      <td>0.021661</td>\n",
       "      <td>1.000000</td>\n",
       "      <td>-0.005985</td>\n",
       "      <td>0.387982</td>\n",
       "      <td>-0.569467</td>\n",
       "      <td>0.008487</td>\n",
       "      <td>0.199195</td>\n",
       "    </tr>\n",
       "    <tr>\n",
       "      <th>Number_Doses_Week</th>\n",
       "      <td>-0.122509</td>\n",
       "      <td>-0.163832</td>\n",
       "      <td>0.050099</td>\n",
       "      <td>-0.005985</td>\n",
       "      <td>1.000000</td>\n",
       "      <td>0.104022</td>\n",
       "      <td>-0.032381</td>\n",
       "      <td>-0.003768</td>\n",
       "      <td>-0.018363</td>\n",
       "    </tr>\n",
       "    <tr>\n",
       "      <th>Number_Weeks_Used</th>\n",
       "      <td>0.449470</td>\n",
       "      <td>-0.002237</td>\n",
       "      <td>-0.098399</td>\n",
       "      <td>0.387982</td>\n",
       "      <td>0.104022</td>\n",
       "      <td>1.000000</td>\n",
       "      <td>-0.467386</td>\n",
       "      <td>-0.011108</td>\n",
       "      <td>0.244988</td>\n",
       "    </tr>\n",
       "    <tr>\n",
       "      <th>Number_Weeks_Quit</th>\n",
       "      <td>0.246719</td>\n",
       "      <td>-0.273475</td>\n",
       "      <td>-0.034355</td>\n",
       "      <td>-0.569467</td>\n",
       "      <td>-0.032381</td>\n",
       "      <td>-0.467386</td>\n",
       "      <td>1.000000</td>\n",
       "      <td>0.004861</td>\n",
       "      <td>-0.152918</td>\n",
       "    </tr>\n",
       "    <tr>\n",
       "      <th>Season</th>\n",
       "      <td>-0.009482</td>\n",
       "      <td>-0.000549</td>\n",
       "      <td>0.011052</td>\n",
       "      <td>0.008487</td>\n",
       "      <td>-0.003768</td>\n",
       "      <td>-0.011108</td>\n",
       "      <td>0.004861</td>\n",
       "      <td>1.000000</td>\n",
       "      <td>-0.016196</td>\n",
       "    </tr>\n",
       "    <tr>\n",
       "      <th>Crop_Damage</th>\n",
       "      <td>0.202312</td>\n",
       "      <td>0.021772</td>\n",
       "      <td>-0.059481</td>\n",
       "      <td>0.199195</td>\n",
       "      <td>-0.018363</td>\n",
       "      <td>0.244988</td>\n",
       "      <td>-0.152918</td>\n",
       "      <td>-0.016196</td>\n",
       "      <td>1.000000</td>\n",
       "    </tr>\n",
       "  </tbody>\n",
       "</table>\n",
       "</div>"
      ],
      "text/plain": [
       "                         Estimated_Insects_Count  Crop_Type  Soil_Type  \\\n",
       "Estimated_Insects_Count                 1.000000  -0.036911  -0.151796   \n",
       "Crop_Type                              -0.036911   1.000000  -0.175019   \n",
       "Soil_Type                              -0.151796  -0.175019   1.000000   \n",
       "Pesticide_Use_Category                 -0.027111   0.349662   0.021661   \n",
       "Number_Doses_Week                      -0.122509  -0.163832   0.050099   \n",
       "Number_Weeks_Used                       0.449470  -0.002237  -0.098399   \n",
       "Number_Weeks_Quit                       0.246719  -0.273475  -0.034355   \n",
       "Season                                 -0.009482  -0.000549   0.011052   \n",
       "Crop_Damage                             0.202312   0.021772  -0.059481   \n",
       "\n",
       "                         Pesticide_Use_Category  Number_Doses_Week  \\\n",
       "Estimated_Insects_Count               -0.027111          -0.122509   \n",
       "Crop_Type                              0.349662          -0.163832   \n",
       "Soil_Type                              0.021661           0.050099   \n",
       "Pesticide_Use_Category                 1.000000          -0.005985   \n",
       "Number_Doses_Week                     -0.005985           1.000000   \n",
       "Number_Weeks_Used                      0.387982           0.104022   \n",
       "Number_Weeks_Quit                     -0.569467          -0.032381   \n",
       "Season                                 0.008487          -0.003768   \n",
       "Crop_Damage                            0.199195          -0.018363   \n",
       "\n",
       "                         Number_Weeks_Used  Number_Weeks_Quit    Season  \\\n",
       "Estimated_Insects_Count           0.449470           0.246719 -0.009482   \n",
       "Crop_Type                        -0.002237          -0.273475 -0.000549   \n",
       "Soil_Type                        -0.098399          -0.034355  0.011052   \n",
       "Pesticide_Use_Category            0.387982          -0.569467  0.008487   \n",
       "Number_Doses_Week                 0.104022          -0.032381 -0.003768   \n",
       "Number_Weeks_Used                 1.000000          -0.467386 -0.011108   \n",
       "Number_Weeks_Quit                -0.467386           1.000000  0.004861   \n",
       "Season                           -0.011108           0.004861  1.000000   \n",
       "Crop_Damage                       0.244988          -0.152918 -0.016196   \n",
       "\n",
       "                         Crop_Damage  \n",
       "Estimated_Insects_Count     0.202312  \n",
       "Crop_Type                   0.021772  \n",
       "Soil_Type                  -0.059481  \n",
       "Pesticide_Use_Category      0.199195  \n",
       "Number_Doses_Week          -0.018363  \n",
       "Number_Weeks_Used           0.244988  \n",
       "Number_Weeks_Quit          -0.152918  \n",
       "Season                     -0.016196  \n",
       "Crop_Damage                 1.000000  "
      ]
     },
     "execution_count": 39,
     "metadata": {},
     "output_type": "execute_result"
    }
   ],
   "source": [
    "dscor=ds.corr() # checking the correlation\n",
    "dscor"
   ]
  },
  {
   "cell_type": "code",
   "execution_count": 40,
   "metadata": {},
   "outputs": [
    {
     "data": {
      "text/plain": [
       "<AxesSubplot:>"
      ]
     },
     "execution_count": 40,
     "metadata": {},
     "output_type": "execute_result"
    },
    {
     "data": {
      "image/png": "[encoded data removed]",
      "text/plain": [
       "<Figure size 864x720 with 2 Axes>"
      ]
     },
     "metadata": {
      "needs_background": "light"
     },
     "output_type": "display_data"
    }
   ],
   "source": [
    "plt.figure(figsize=(12,10))\n",
    "sns.heatmap(ds.corr(),annot=True,cmap=\"magma\",fmt='.2f')"
   ]
  },
  {
   "cell_type": "markdown",
   "metadata": {},
   "source": [
    "key observations here\n",
    "1. Estimated_Insects_Count, Pesticide_Use_Category are are highly correlated with Number_Weeks_Used \n",
    "2. Crop_type and Pesticide_Use_Category are highly correlated\n",
    "3. Number_Weeks_Quit is negitively correlated with Pesticide_Use_Category"
   ]
  },
  {
   "cell_type": "code",
   "execution_count": 41,
   "metadata": {},
   "outputs": [],
   "source": [
    "#univariate analysis"
   ]
  },
  {
   "cell_type": "code",
   "execution_count": 42,
   "metadata": {},
   "outputs": [
    {
     "data": {
      "image/png": "[encoded data removed]",
      "text/plain": [
       "<Figure size 432x288 with 1 Axes>"
      ]
     },
     "metadata": {
      "needs_background": "light"
     },
     "output_type": "display_data"
    }
   ],
   "source": [
    "sns.distplot(ds[\"Pesticide_Use_Category\"])\n",
    "plt.show()"
   ]
  },
  {
   "cell_type": "code",
   "execution_count": 43,
   "metadata": {},
   "outputs": [
    {
     "data": {
      "image/png": "[encoded data removed]",
      "text/plain": [
       "<Figure size 432x288 with 1 Axes>"
      ]
     },
     "metadata": {
      "needs_background": "light"
     },
     "output_type": "display_data"
    }
   ],
   "source": [
    "sns.distplot(ds[\"Estimated_Insects_Count\"])\n",
    "plt.show()"
   ]
  },
  {
   "cell_type": "code",
   "execution_count": 44,
   "metadata": {},
   "outputs": [
    {
     "data": {
      "image/png": "[encoded data removed]",
      "text/plain": [
       "<Figure size 432x288 with 1 Axes>"
      ]
     },
     "metadata": {
      "needs_background": "light"
     },
     "output_type": "display_data"
    }
   ],
   "source": [
    "sns.distplot(ds[\"Number_Weeks_Used\"])\n",
    "plt.show()"
   ]
  },
  {
   "cell_type": "code",
   "execution_count": 45,
   "metadata": {},
   "outputs": [
    {
     "data": {
      "image/png": "[encoded data removed]",
      "text/plain": [
       "<Figure size 432x288 with 1 Axes>"
      ]
     },
     "metadata": {
      "needs_background": "light"
     },
     "output_type": "display_data"
    }
   ],
   "source": [
    "sns.distplot(ds[\"Number_Weeks_Quit\"])\n",
    "plt.show()"
   ]
  },
  {
   "cell_type": "markdown",
   "metadata": {},
   "source": [
    "#univariate analysis suggests that data is positively skewed. not normalized"
   ]
  },
  {
   "cell_type": "code",
   "execution_count": 46,
   "metadata": {},
   "outputs": [],
   "source": [
    "#bivariate analysis"
   ]
  },
  {
   "cell_type": "code",
   "execution_count": 47,
   "metadata": {},
   "outputs": [
    {
     "data": {
      "text/plain": [
       "array([0, 1, 2])"
      ]
     },
     "execution_count": 47,
     "metadata": {},
     "output_type": "execute_result"
    }
   ],
   "source": [
    "ds.Crop_Damage.unique() # checking the target variable"
   ]
  },
  {
   "cell_type": "code",
   "execution_count": 48,
   "metadata": {},
   "outputs": [
    {
     "data": {
      "text/plain": [
       "Text(0.5, 1.0, 'Number_Weeks_Used for Damaged by other reasons-1 \\n')"
      ]
     },
     "execution_count": 48,
     "metadata": {},
     "output_type": "execute_result"
    },
    {
     "data": {
      "image/png": "[encoded data removed]",
      "text/plain": [
       "<Figure size 1152x504 with 1 Axes>"
      ]
     },
     "metadata": {
      "needs_background": "light"
     },
     "output_type": "display_data"
    }
   ],
   "source": [
    "plt.figure(figsize=(16,7))\n",
    "sns.distplot(ds[ds['Crop_Damage']==1]['Number_Weeks_Used'],kde=False,bins=40)\n",
    "plt.title('Number_Weeks_Used for Damaged by other reasons-1 \\n')"
   ]
  },
  {
   "cell_type": "code",
   "execution_count": 49,
   "metadata": {},
   "outputs": [
    {
     "data": {
      "image/png": "[encoded data removed]",
      "text/plain": [
       "<Figure size 432x288 with 1 Axes>"
      ]
     },
     "metadata": {
      "needs_background": "light"
     },
     "output_type": "display_data"
    }
   ],
   "source": [
    "plt.scatter(ds[\"Estimated_Insects_Count\"],ds[\"Crop_Damage\"])\n",
    "plt.title('Alive- 0      Damaged by other reasons- 1     Damaged by pesticides -2\\n')\n",
    "plt.xlabel(\"Crop_Damage\")\n",
    "plt.ylabel(\"Estimated_Insects_Count\")\n",
    "plt.show()"
   ]
  },
  {
   "cell_type": "code",
   "execution_count": 50,
   "metadata": {},
   "outputs": [
    {
     "data": {
      "image/png": "[encoded data removed]",
      "text/plain": [
       "<Figure size 432x288 with 1 Axes>"
      ]
     },
     "metadata": {
      "needs_background": "light"
     },
     "output_type": "display_data"
    }
   ],
   "source": [
    "plt.scatter(ds[\"Number_Weeks_Used\"],ds[\"Crop_Damage\"])\n",
    "plt.title('Alive- 0      Damaged by other reasons- 1     Damaged by pesticides -2\\n')\n",
    "plt.xlabel(\"Crop_Damage\")\n",
    "plt.ylabel(\"Number_Weeks_Used\")\n",
    "plt.show()"
   ]
  },
  {
   "cell_type": "code",
   "execution_count": 51,
   "metadata": {},
   "outputs": [
    {
     "data": {
      "image/png": "[encoded data removed]",
      "text/plain": [
       "<Figure size 864x720 with 1 Axes>"
      ]
     },
     "metadata": {
      "needs_background": "light"
     },
     "output_type": "display_data"
    }
   ],
   "source": [
    "plt.figure(figsize=(12,10))\n",
    "sns.countplot(x ='Estimated_Insects_Count',hue='Crop_Damage', data = ds)\n",
    "plt.title('Alive- 0      Damaged by other reasons- 1     Damaged by pesticides -2\\n')\n",
    "plt.show()"
   ]
  },
  {
   "cell_type": "code",
   "execution_count": 52,
   "metadata": {},
   "outputs": [
    {
     "data": {
      "text/plain": [
       "Text(0.5, 1.0, 'Pesticide_Use_Category for Damaged by pesticides-2 \\n')"
      ]
     },
     "execution_count": 52,
     "metadata": {},
     "output_type": "execute_result"
    },
    {
     "data": {
      "image/png": "[encoded data removed]",
      "text/plain": [
       "<Figure size 1152x504 with 1 Axes>"
      ]
     },
     "metadata": {
      "needs_background": "light"
     },
     "output_type": "display_data"
    }
   ],
   "source": [
    "plt.figure(figsize=(16,7))\n",
    "sns.distplot(ds[ds['Crop_Damage']==2]['Pesticide_Use_Category'],kde=False,bins=40)\n",
    "plt.title('Pesticide_Use_Category for Damaged by pesticides-2 \\n')"
   ]
  },
  {
   "cell_type": "markdown",
   "metadata": {},
   "source": [
    "# Handling the null values\n",
    "only this ccolumn has null values which is numerical . so changing the null with mean()"
   ]
  },
  {
   "cell_type": "code",
   "execution_count": 53,
   "metadata": {},
   "outputs": [],
   "source": [
    "ds['Number_Weeks_Used'] = ds['Number_Weeks_Used'].fillna((ds['Number_Weeks_Used'].mean()))"
   ]
  },
  {
   "cell_type": "code",
   "execution_count": 54,
   "metadata": {},
   "outputs": [],
   "source": [
    "# changing the nominal value to integer for training model\n",
    "from sklearn.preprocessing import LabelEncoder\n",
    "le=LabelEncoder()\n",
    "ds[\"ID\"]=le.fit_transform(ds[\"ID\"])"
   ]
  },
  {
   "cell_type": "markdown",
   "metadata": {},
   "source": [
    "# Handling the outliers¶"
   ]
  },
  {
   "cell_type": "code",
   "execution_count": 55,
   "metadata": {},
   "outputs": [
    {
     "data": {
      "text/plain": [
       "<AxesSubplot:>"
      ]
     },
     "execution_count": 55,
     "metadata": {},
     "output_type": "execute_result"
    },
    {
     "data": {
      "image/png": "[encoded data removed]",
      "text/plain": [
       "<Figure size 432x288 with 1 Axes>"
      ]
     },
     "metadata": {
      "needs_background": "light"
     },
     "output_type": "display_data"
    }
   ],
   "source": [
    "ds[\"Estimated_Insects_Count\"].plot.box()"
   ]
  },
  {
   "cell_type": "code",
   "execution_count": 56,
   "metadata": {},
   "outputs": [
    {
     "data": {
      "text/plain": [
       "<AxesSubplot:>"
      ]
     },
     "execution_count": 56,
     "metadata": {},
     "output_type": "execute_result"
    },
    {
     "data": {
      "image/png": "[encoded data removed]",
      "text/plain": [
       "<Figure size 432x288 with 1 Axes>"
      ]
     },
     "metadata": {
      "needs_background": "light"
     },
     "output_type": "display_data"
    }
   ],
   "source": [
    "ds[\"Number_Doses_Week\"].plot.box()"
   ]
  },
  {
   "cell_type": "code",
   "execution_count": 57,
   "metadata": {},
   "outputs": [
    {
     "data": {
      "text/plain": [
       "<AxesSubplot:>"
      ]
     },
     "execution_count": 57,
     "metadata": {},
     "output_type": "execute_result"
    },
    {
     "data": {
      "image/png": "[encoded data removed]",
      "text/plain": [
       "<Figure size 432x288 with 1 Axes>"
      ]
     },
     "metadata": {
      "needs_background": "light"
     },
     "output_type": "display_data"
    }
   ],
   "source": [
    "ds[\"Number_Weeks_Used\"].plot.box()"
   ]
  },
  {
   "cell_type": "code",
   "execution_count": 58,
   "metadata": {},
   "outputs": [],
   "source": [
    "collist=ds.columns.values\n",
    "ncol=12\n",
    "nrows=10"
   ]
  },
  {
   "cell_type": "code",
   "execution_count": 59,
   "metadata": {},
   "outputs": [
    {
     "data": {
      "image/png": "[encoded data removed]",
      "text/plain": [
       "<Figure size 4320x4320 with 9 Axes>"
      ]
     },
     "metadata": {
      "needs_background": "light"
     },
     "output_type": "display_data"
    }
   ],
   "source": [
    "plt.figure(figsize=(5*ncol,5*ncol))\n",
    "for i in range(1,len(collist)):\n",
    "    plt.subplot(nrows,ncol,i+1)\n",
    "    sns.boxplot(ds[collist[i]],color='green',orient='v')\n",
    "    plt.tight_layout()"
   ]
  },
  {
   "cell_type": "code",
   "execution_count": 60,
   "metadata": {},
   "outputs": [],
   "source": [
    "from scipy.stats import zscore"
   ]
  },
  {
   "cell_type": "code",
   "execution_count": 61,
   "metadata": {},
   "outputs": [
    {
     "data": {
      "text/plain": [
       "array([[1.73167423, 1.44286807, 1.85681868, ..., 0.94782668, 1.28702725,\n",
       "        0.42765624],\n",
       "       [1.730921  , 1.41708065, 1.85681868, ..., 0.94782668, 0.15207762,\n",
       "        1.77233374],\n",
       "       [1.73016778, 1.35813798, 1.85681868, ..., 0.94782668, 0.15207762,\n",
       "        1.77233374],\n",
       "       ...,\n",
       "       [1.73016778, 1.11008649, 0.53855555, ..., 1.83218282, 0.15207762,\n",
       "        0.42765624],\n",
       "       [1.730921  , 1.11008649, 0.53855555, ..., 1.52329287, 0.15207762,\n",
       "        0.42765624],\n",
       "       [1.73167423, 1.11008649, 0.53855555, ..., 0.80254967, 0.15207762,\n",
       "        0.42765624]])"
      ]
     },
     "execution_count": 61,
     "metadata": {},
     "output_type": "execute_result"
    }
   ],
   "source": [
    "z=np.abs(zscore(ds))\n",
    "z"
   ]
  },
  {
   "cell_type": "code",
   "execution_count": 62,
   "metadata": {},
   "outputs": [
    {
     "name": "stdout",
     "output_type": "stream",
     "text": [
      "(array([   7,    9,   14,   22,   23,  100,  103,  112,  149,  165,  166,\n",
      "        167,  179,  185,  186,  197,  207,  222,  223,  242,  248,  252,\n",
      "        264,  265,  290,  296,  305,  316,  325,  346,  351,  355,  361,\n",
      "        374,  375,  377,  384,  453,  458,  466,  480,  510,  517,  522,\n",
      "        557,  595,  612,  634,  693,  702,  703,  704,  705,  706,  807,\n",
      "        819,  855,  856,  911,  944,  978,  980,  998, 1017, 1019, 1067,\n",
      "       1097, 1178, 1212, 1291, 1307, 1324, 1326, 1327, 1329, 1337, 1339,\n",
      "       1340, 1341, 1342, 1343, 1344, 1345, 1346, 1347, 1347, 1348, 1349,\n",
      "       1406, 1443, 1457, 1489, 1523, 1589, 1652, 1654, 1737, 1807, 1868,\n",
      "       2019, 2043, 2090, 2136, 2139, 2140, 2165, 2170, 2171, 2174, 2183,\n",
      "       2185, 2188, 2190, 2190, 2191, 2192, 2193, 2194, 2237, 2392, 2553,\n",
      "       2565, 2585, 2589, 2590, 2590, 2591, 2615, 2663, 2671, 2696, 2702,\n",
      "       2710, 2714, 2716, 2723, 2767, 2779, 2792, 2796, 2797, 2804, 2806,\n",
      "       2814, 2828, 2829, 2834, 2841, 2842, 2851, 2860, 2861, 2870, 2884,\n",
      "       2888, 2912, 2915, 2917, 2921, 2923, 2928, 2929, 2940, 2942, 2944,\n",
      "       2945, 3015, 3045, 3048, 3058, 3086, 3107, 3126, 3183, 3189, 3206,\n",
      "       3241, 3248, 3252, 3253, 3254, 3255, 3256, 3257, 3336, 3388, 3526,\n",
      "       3628, 3629, 3657, 3682, 3686, 3716, 3717, 3718, 3718, 3740, 3766,\n",
      "       3796, 3830, 3840, 3841, 3850, 3851, 3856, 3894, 3902, 3915, 3919,\n",
      "       3932, 3932, 3933, 3934, 3935, 3935, 3936, 3937, 3938, 3939, 3940,\n",
      "       3940, 4024, 4091, 4155, 4186, 4213, 4274, 4277, 4278, 4375, 4376,\n",
      "       4378, 4436, 4516, 4545, 4570]), array([9, 9, 9, 1, 1, 5, 9, 9, 9, 9, 9, 9, 9, 5, 9, 9, 9, 9, 9, 9, 9, 5,\n",
      "       9, 9, 9, 9, 9, 9, 5, 5, 9, 9, 9, 9, 6, 9, 1, 9, 9, 9, 9, 9, 9, 9,\n",
      "       9, 9, 9, 9, 9, 1, 1, 1, 1, 1, 5, 9, 5, 5, 5, 9, 5, 9, 5, 5, 5, 9,\n",
      "       5, 9, 7, 7, 7, 7, 7, 9, 7, 7, 9, 9, 1, 1, 1, 1, 1, 1, 1, 7, 1, 1,\n",
      "       5, 5, 5, 5, 5, 5, 5, 5, 9, 9, 5, 5, 9, 7, 5, 9, 7, 7, 9, 9, 7, 7,\n",
      "       7, 7, 1, 7, 1, 1, 1, 1, 9, 5, 7, 7, 9, 1, 1, 9, 1, 5, 9, 9, 9, 5,\n",
      "       9, 5, 9, 9, 9, 5, 9, 9, 9, 9, 9, 9, 9, 9, 9, 9, 9, 9, 9, 9, 9, 9,\n",
      "       9, 9, 9, 9, 9, 9, 6, 6, 6, 6, 1, 1, 9, 9, 5, 9, 9, 9, 9, 9, 9, 9,\n",
      "       6, 9, 1, 1, 1, 1, 1, 1, 5, 5, 5, 9, 9, 9, 5, 9, 9, 9, 5, 9, 9, 5,\n",
      "       9, 5, 7, 7, 9, 9, 7, 7, 7, 5, 7, 1, 7, 1, 1, 1, 9, 1, 1, 1, 1, 1,\n",
      "       7, 5, 9, 9, 5, 5, 5, 9, 9, 5, 5, 9, 5, 5, 9, 9]))\n"
     ]
    }
   ],
   "source": [
    "threshold=3\n",
    "print(np.where(z>3))"
   ]
  },
  {
   "cell_type": "code",
   "execution_count": 63,
   "metadata": {},
   "outputs": [
    {
     "data": {
      "text/plain": [
       "((4370, 10), (4599, 10))"
      ]
     },
     "execution_count": 63,
     "metadata": {},
     "output_type": "execute_result"
    }
   ],
   "source": [
    "ds_new=ds[(z<3).all(axis=1)]\n",
    "ds_new.shape,ds.shape"
   ]
  },
  {
   "cell_type": "code",
   "execution_count": 64,
   "metadata": {},
   "outputs": [
    {
     "data": {
      "text/plain": [
       "ID                         0.002956\n",
       "Estimated_Insects_Count    0.789806\n",
       "Crop_Type                  1.308548\n",
       "Soil_Type                  0.079724\n",
       "Pesticide_Use_Category     0.753578\n",
       "Number_Doses_Week          0.711083\n",
       "Number_Weeks_Used          0.275330\n",
       "Number_Weeks_Quit          0.813382\n",
       "Season                     0.141605\n",
       "Crop_Damage                2.003206\n",
       "dtype: float64"
      ]
     },
     "execution_count": 64,
     "metadata": {},
     "output_type": "execute_result"
    }
   ],
   "source": [
    "ds_new.skew()"
   ]
  },
  {
   "cell_type": "markdown",
   "metadata": {},
   "source": [
    "little skewness is there so we will remove it"
   ]
  },
  {
   "cell_type": "code",
   "execution_count": 65,
   "metadata": {},
   "outputs": [
    {
     "name": "stdout",
     "output_type": "stream",
     "text": [
      "(4370, 9) (4370, 1)\n"
     ]
    }
   ],
   "source": [
    "ds_x=ds_new.drop(columns=['Crop_Damage'])\n",
    "y_t=pd.DataFrame(ds_new['Crop_Damage'])\n",
    "print(ds_x.shape, y_t.shape)"
   ]
  },
  {
   "cell_type": "code",
   "execution_count": 66,
   "metadata": {},
   "outputs": [],
   "source": [
    "from sklearn.preprocessing import power_transform"
   ]
  },
  {
   "cell_type": "code",
   "execution_count": 67,
   "metadata": {},
   "outputs": [],
   "source": [
    "ds_x=power_transform(ds_x,method='yeo-johnson')"
   ]
  },
  {
   "cell_type": "code",
   "execution_count": 68,
   "metadata": {},
   "outputs": [],
   "source": [
    "#y=ds_new.iloc[:,-1]\n",
    "#y.shape"
   ]
  },
  {
   "cell_type": "markdown",
   "metadata": {},
   "source": [
    "#scaling the dataset"
   ]
  },
  {
   "cell_type": "code",
   "execution_count": 69,
   "metadata": {},
   "outputs": [],
   "source": [
    "from sklearn.preprocessing import StandardScaler"
   ]
  },
  {
   "cell_type": "code",
   "execution_count": 70,
   "metadata": {},
   "outputs": [
    {
     "data": {
      "text/plain": [
       "(4370, 9)"
      ]
     },
     "execution_count": 70,
     "metadata": {},
     "output_type": "execute_result"
    }
   ],
   "source": [
    "#scaling the dataset\n",
    "from sklearn.preprocessing import MinMaxScaler\n",
    "sc=MinMaxScaler()\n",
    "scaledX=sc.fit_transform(ds_x)\n",
    "scaledX.shape"
   ]
  },
  {
   "cell_type": "code",
   "execution_count": 71,
   "metadata": {},
   "outputs": [],
   "source": [
    "# finding the best random state"
   ]
  },
  {
   "cell_type": "code",
   "execution_count": 72,
   "metadata": {},
   "outputs": [],
   "source": [
    "# importing our model libraries\n",
    "from sklearn.model_selection import train_test_split,GridSearchCV\n",
    "from sklearn.linear_model import LogisticRegression\n",
    "from sklearn.svm import SVC\n",
    "from sklearn.naive_bayes import MultinomialNB\n",
    "from sklearn.tree import DecisionTreeClassifier\n",
    "from sklearn.ensemble import RandomForestClassifier\n",
    "from sklearn.neighbors import KNeighborsClassifier"
   ]
  },
  {
   "cell_type": "code",
   "execution_count": 73,
   "metadata": {},
   "outputs": [],
   "source": [
    "from sklearn.metrics import accuracy_score,confusion_matrix,classification_report\n",
    "import warnings\n",
    "warnings.filterwarnings('ignore')"
   ]
  },
  {
   "cell_type": "code",
   "execution_count": 74,
   "metadata": {},
   "outputs": [
    {
     "name": "stdout",
     "output_type": "stream",
     "text": [
      "Best Accuracy 87.31808731808732 Random state 66\n"
     ]
    }
   ],
   "source": [
    "best_rstate=0\n",
    "accuracy=0\n",
    "for i in range(30,200):\n",
    "    x_train,x_test,y_train,y_test=train_test_split(scaledX,y_t,test_size=.22,random_state=i)\n",
    "    mod=LogisticRegression()\n",
    "    mod.fit(x_train,y_train)\n",
    "    predlr=mod.predict(x_test)\n",
    "    tempaccu=accuracy_score(y_test,predlr)\n",
    "    if(tempaccu>accuracy):\n",
    "        accuracy=tempaccu\n",
    "        best_rstate=i\n",
    "        \n",
    "print(\"Best Accuracy\",accuracy*100, \"Random state\",best_rstate)        "
   ]
  },
  {
   "cell_type": "code",
   "execution_count": 75,
   "metadata": {},
   "outputs": [],
   "source": [
    "#using the best random state"
   ]
  },
  {
   "cell_type": "code",
   "execution_count": 76,
   "metadata": {},
   "outputs": [],
   "source": [
    "x_train,x_test,y_train,y_test=train_test_split(scaledX,y_t,test_size=.22,random_state=66)"
   ]
  },
  {
   "cell_type": "code",
   "execution_count": 77,
   "metadata": {},
   "outputs": [
    {
     "data": {
      "text/plain": [
       "(3408, 9)"
      ]
     },
     "execution_count": 77,
     "metadata": {},
     "output_type": "execute_result"
    }
   ],
   "source": [
    "x_train.shape"
   ]
  },
  {
   "cell_type": "code",
   "execution_count": 78,
   "metadata": {},
   "outputs": [
    {
     "data": {
      "text/plain": [
       "(962, 9)"
      ]
     },
     "execution_count": 78,
     "metadata": {},
     "output_type": "execute_result"
    }
   ],
   "source": [
    "x_test.shape"
   ]
  },
  {
   "cell_type": "code",
   "execution_count": 79,
   "metadata": {},
   "outputs": [
    {
     "data": {
      "text/plain": [
       "(3408, 1)"
      ]
     },
     "execution_count": 79,
     "metadata": {},
     "output_type": "execute_result"
    }
   ],
   "source": [
    "y_train.shape"
   ]
  },
  {
   "cell_type": "code",
   "execution_count": 80,
   "metadata": {},
   "outputs": [
    {
     "data": {
      "text/plain": [
       "(962, 1)"
      ]
     },
     "execution_count": 80,
     "metadata": {},
     "output_type": "execute_result"
    }
   ],
   "source": [
    "y_test.shape"
   ]
  },
  {
   "cell_type": "markdown",
   "metadata": {},
   "source": [
    "# Finding the best model\n"
   ]
  },
  {
   "cell_type": "code",
   "execution_count": 81,
   "metadata": {},
   "outputs": [
    {
     "name": "stdout",
     "output_type": "stream",
     "text": [
      "Accuracy score of  LogisticRegression() is  0.8731808731808732\n",
      "confusion matrix of  LogisticRegression() is \n",
      " [[833   4]\n",
      " [118   7]]\n",
      "classification report of  LogisticRegression() is \n",
      "               precision    recall  f1-score   support\n",
      "\n",
      "           0       0.88      1.00      0.93       837\n",
      "           1       0.64      0.06      0.10       125\n",
      "\n",
      "    accuracy                           0.87       962\n",
      "   macro avg       0.76      0.53      0.52       962\n",
      "weighted avg       0.84      0.87      0.82       962\n",
      "\n",
      "**********************************************************************\n",
      "\n",
      "Accuracy score of  MultinomialNB() is  0.8700623700623701\n",
      "confusion matrix of  MultinomialNB() is \n",
      " [[837   0]\n",
      " [125   0]]\n",
      "classification report of  MultinomialNB() is \n",
      "               precision    recall  f1-score   support\n",
      "\n",
      "           0       0.87      1.00      0.93       837\n",
      "           1       0.00      0.00      0.00       125\n",
      "\n",
      "    accuracy                           0.87       962\n",
      "   macro avg       0.44      0.50      0.47       962\n",
      "weighted avg       0.76      0.87      0.81       962\n",
      "\n",
      "**********************************************************************\n",
      "\n",
      "Accuracy score of  DecisionTreeClassifier() is  0.7765072765072765\n",
      "confusion matrix of  DecisionTreeClassifier() is \n",
      " [[699 138]\n",
      " [ 77  48]]\n",
      "classification report of  DecisionTreeClassifier() is \n",
      "               precision    recall  f1-score   support\n",
      "\n",
      "           0       0.90      0.84      0.87       837\n",
      "           1       0.26      0.38      0.31       125\n",
      "\n",
      "    accuracy                           0.78       962\n",
      "   macro avg       0.58      0.61      0.59       962\n",
      "weighted avg       0.82      0.78      0.79       962\n",
      "\n",
      "**********************************************************************\n",
      "\n",
      "Accuracy score of  RandomForestClassifier() is  0.8638253638253638\n",
      "confusion matrix of  RandomForestClassifier() is \n",
      " [[801  36]\n",
      " [ 95  30]]\n",
      "classification report of  RandomForestClassifier() is \n",
      "               precision    recall  f1-score   support\n",
      "\n",
      "           0       0.89      0.96      0.92       837\n",
      "           1       0.45      0.24      0.31       125\n",
      "\n",
      "    accuracy                           0.86       962\n",
      "   macro avg       0.67      0.60      0.62       962\n",
      "weighted avg       0.84      0.86      0.85       962\n",
      "\n",
      "**********************************************************************\n",
      "\n",
      "Accuracy score of  KNeighborsClassifier() is  0.8523908523908524\n",
      "confusion matrix of  KNeighborsClassifier() is \n",
      " [[794  43]\n",
      " [ 99  26]]\n",
      "classification report of  KNeighborsClassifier() is \n",
      "               precision    recall  f1-score   support\n",
      "\n",
      "           0       0.89      0.95      0.92       837\n",
      "           1       0.38      0.21      0.27       125\n",
      "\n",
      "    accuracy                           0.85       962\n",
      "   macro avg       0.63      0.58      0.59       962\n",
      "weighted avg       0.82      0.85      0.83       962\n",
      "\n",
      "**********************************************************************\n",
      "\n",
      "Accuracy score of  SVC() is  0.8731808731808732\n",
      "confusion matrix of  SVC() is \n",
      " [[836   1]\n",
      " [121   4]]\n",
      "classification report of  SVC() is \n",
      "               precision    recall  f1-score   support\n",
      "\n",
      "           0       0.87      1.00      0.93       837\n",
      "           1       0.80      0.03      0.06       125\n",
      "\n",
      "    accuracy                           0.87       962\n",
      "   macro avg       0.84      0.52      0.50       962\n",
      "weighted avg       0.86      0.87      0.82       962\n",
      "\n",
      "**********************************************************************\n",
      "\n"
     ]
    }
   ],
   "source": [
    "#using algorithms in for loops\n",
    "model=[LogisticRegression(),MultinomialNB(),DecisionTreeClassifier(),RandomForestClassifier(),KNeighborsClassifier(),SVC()]\n",
    "for m in model:\n",
    "    m.fit(x_train,y_train)\n",
    "    y_pred=m.predict(x_test)\n",
    "    print(\"Accuracy score of \" , m , \"is \" , accuracy_score(y_test,y_pred))\n",
    "    print(\"confusion matrix of \" , m , \"is \\n\",confusion_matrix(y_test,y_pred))\n",
    "    print(\"classification report of \" , m, \"is \\n\",classification_report(y_test,y_pred))\n",
    "    print(\"**********************************************************************\\n\")"
   ]
  },
  {
   "cell_type": "markdown",
   "metadata": {},
   "source": [
    "# Conclusion\n",
    "\n",
    "LogisticRegression is performing best among all above with accuaracy score .87"
   ]
  },
  {
   "cell_type": "markdown",
   "metadata": {},
   "source": [
    "# hyper parameter tuning"
   ]
  },
  {
   "cell_type": "code",
   "execution_count": 82,
   "metadata": {},
   "outputs": [],
   "source": [
    "# GradientBoostingRegressor is best performing model so finding its best parameter\n",
    "from sklearn.model_selection import GridSearchCV"
   ]
  },
  {
   "cell_type": "code",
   "execution_count": 83,
   "metadata": {},
   "outputs": [
    {
     "name": "stdout",
     "output_type": "stream",
     "text": [
      "best parameters  {'C': 10, 'penalty': 'l2'}\n",
      "accuracy : 0.845363981369674\n"
     ]
    }
   ],
   "source": [
    "grid={\"C\":[1,10], \"penalty\":[\"l1\",\"l2\"]}# l1 lasso l2 ridge\n",
    "lr=LogisticRegression()\n",
    "clf=GridSearchCV(lr,grid,cv=10)\n",
    "clf.fit(x_train,y_train)\n",
    "\n",
    "print(\"best parameters \",clf.best_params_)\n",
    "print(\"accuracy :\",clf.best_score_)"
   ]
  },
  {
   "cell_type": "code",
   "execution_count": 84,
   "metadata": {},
   "outputs": [
    {
     "name": "stdout",
     "output_type": "stream",
     "text": [
      "accuracy score 0.8690228690228691\n",
      "confusion matrix\n",
      " [[828   9]\n",
      " [117   8]]\n",
      "classification report               precision    recall  f1-score   support\n",
      "\n",
      "           0       0.88      0.99      0.93       837\n",
      "           1       0.47      0.06      0.11       125\n",
      "\n",
      "    accuracy                           0.87       962\n",
      "   macro avg       0.67      0.53      0.52       962\n",
      "weighted avg       0.82      0.87      0.82       962\n",
      "\n"
     ]
    }
   ],
   "source": [
    "# Logistic Reression with best parameters \n",
    "lr=LogisticRegression(C=10,penalty='l2',random_state=66)\n",
    "lr.fit(x_train,y_train)\n",
    "lr.score=(x_train,y_train)\n",
    "predlr=lr.predict(x_test)\n",
    "print(\"accuracy score\",accuracy_score(y_test,predlr))\n",
    "print(\"confusion matrix\\n\",confusion_matrix(y_test,predlr))\n",
    "print(\"classification report\",classification_report(y_test,predlr))"
   ]
  },
  {
   "cell_type": "code",
   "execution_count": 85,
   "metadata": {},
   "outputs": [
    {
     "name": "stdout",
     "output_type": "stream",
     "text": [
      "Cross Validation Score :  [0.69336384 0.84439359 0.83981693 0.85354691 0.85354691 0.85354691\n",
      " 0.76201373 0.8604119  0.85125858 0.85354691] \n",
      "\n",
      "Mean 0.8265446224256292\n",
      "Standard Deviation 0.052029186237518774\n"
     ]
    }
   ],
   "source": [
    "# cross validating Logistic Regression\n",
    "from sklearn.model_selection import cross_val_score\n",
    "score=cross_val_score(lr,scaledX,y_t,cv=10,scoring='accuracy')\n",
    "print(\"Cross Validation Score : \", score,\"\\n\")\n",
    "print(\"Mean\" , score.mean())\n",
    "print(\"Standard Deviation\" , score.std())"
   ]
  },
  {
   "cell_type": "markdown",
   "metadata": {},
   "source": [
    "# Saving the model- Serialization"
   ]
  },
  {
   "cell_type": "code",
   "execution_count": 86,
   "metadata": {},
   "outputs": [],
   "source": [
    "# saving the prediction model\n",
    "\n",
    "import pickle\n",
    "filename=\"Agriculture.pkl\"\n",
    "pickle.dump(lr,open(filename,'wb'))"
   ]
  },
  {
   "cell_type": "code",
   "execution_count": 87,
   "metadata": {},
   "outputs": [],
   "source": [
    "# load the model\n",
    "fitted_model=pickle.load(open(\"Agriculture.pkl\",'rb'))"
   ]
  },
  {
   "cell_type": "code",
   "execution_count": 88,
   "metadata": {},
   "outputs": [
    {
     "data": {
      "text/plain": [
       "LogisticRegression(C=10, random_state=66)"
      ]
     },
     "execution_count": 88,
     "metadata": {},
     "output_type": "execute_result"
    }
   ],
   "source": [
    "fitted_model"
   ]
  },
  {
   "cell_type": "code",
   "execution_count": 89,
   "metadata": {},
   "outputs": [],
   "source": [
    "# predictions over test data (test_agriculture.csv)\n",
    "predictions=fitted_model.predict(scaled_df)"
   ]
  },
  {
   "cell_type": "code",
   "execution_count": 90,
   "metadata": {},
   "outputs": [
    {
     "data": {
      "text/plain": [
       "array([0, 0, 0, ..., 0, 0, 0])"
      ]
     },
     "execution_count": 90,
     "metadata": {},
     "output_type": "execute_result"
    }
   ],
   "source": [
    "predictions"
   ]
  },
  {
   "cell_type": "code",
   "execution_count": 91,
   "metadata": {},
   "outputs": [],
   "source": [
    "ds_pred=pd.DataFrame(predictions)"
   ]
  },
  {
   "cell_type": "code",
   "execution_count": null,
   "metadata": {},
   "outputs": [],
   "source": []
  }
 ],
 "metadata": {
  "kernelspec": {
   "display_name": "Python 3",
   "language": "python",
   "name": "python3"
  },
  "language_info": {
   "codemirror_mode": {
    "name": "ipython",
    "version": 3
   },
   "file_extension": ".py",
   "mimetype": "text/x-python",
   "name": "python",
   "nbconvert_exporter": "python",
   "pygments_lexer": "ipython3",
   "version": "3.8.5"
  }
 },
 "nbformat": 4,
 "nbformat_minor": 4
}
