{
 "cells": [
  {
   "cell_type": "code",
   "execution_count": 1,
   "metadata": {},
   "outputs": [],
   "source": [
    "import pandas as pd\n",
    "import numpy as np\n",
    "import seaborn as sns\n",
    "import matplotlib.pyplot as plt\n",
    "import warnings\n",
    "warnings.simplefilter(\"ignore\")"
   ]
  },
  {
   "cell_type": "markdown",
   "metadata": {},
   "source": [
    "# problem definition\n",
    "Every observation is described by 17 feature columns and 1 class column which identifies it to be either a star, galaxy or quasar.\n",
    " \n",
    "Feature description is:\n",
    "\n",
    "1. objid = Object Identifier\n",
    "2. ra = J2000 Right Ascension (r-band)\n",
    "3. dec = J2000 Declination (r-band)\n",
    "4. u = better of DeV/Exp magnitude fit\n",
    "5. g = better of DeV/Exp magnitude fit\n",
    "6. r = better of DeV/Exp magnitude fit\n",
    "7. i = better of DeV/Exp magnitude fit\n",
    "8. z = better of DeV/Exp magnitude fit\n",
    "9. run number, which identifies the specific scan,\n",
    "10. the camera column, or \"camcol,\" a number from 1 to 6, identifying the scanline within the run, and\n",
    "11. the field number. The field number typically starts at 11 (after an initial rampup time), and can be as large as 800 for particularly long runs.\n",
    "12. An additional number, rerun, specifies how the image was processed.\n",
    "13. specobjid = Object Identifier\n",
    "14. class = object class (galaxy, star or quasar object)  (TARGET VARIABLE)\n",
    "15. redshift = Final Redshift\n",
    "16. plate = plate number\n",
    "17. mjd = MJD of observation\n",
    "18. fiberid = fiber ID\n",
    "\n"
   ]
  },
  {
   "cell_type": "code",
   "execution_count": 2,
   "metadata": {},
   "outputs": [
    {
     "data": {
      "text/html": [
       "<div>\n",
       "<style scoped>\n",
       "    .dataframe tbody tr th:only-of-type {\n",
       "        vertical-align: middle;\n",
       "    }\n",
       "\n",
       "    .dataframe tbody tr th {\n",
       "        vertical-align: top;\n",
       "    }\n",
       "\n",
       "    .dataframe thead th {\n",
       "        text-align: right;\n",
       "    }\n",
       "</style>\n",
       "<table border=\"1\" class=\"dataframe\">\n",
       "  <thead>\n",
       "    <tr style=\"text-align: right;\">\n",
       "      <th></th>\n",
       "      <th>objid</th>\n",
       "      <th>ra</th>\n",
       "      <th>dec</th>\n",
       "      <th>u</th>\n",
       "      <th>g</th>\n",
       "      <th>r</th>\n",
       "      <th>i</th>\n",
       "      <th>z</th>\n",
       "      <th>run</th>\n",
       "      <th>rerun</th>\n",
       "      <th>camcol</th>\n",
       "      <th>field</th>\n",
       "      <th>specobjid</th>\n",
       "      <th>class</th>\n",
       "      <th>redshift</th>\n",
       "      <th>plate</th>\n",
       "      <th>mjd</th>\n",
       "      <th>fiberid</th>\n",
       "    </tr>\n",
       "  </thead>\n",
       "  <tbody>\n",
       "    <tr>\n",
       "      <th>0</th>\n",
       "      <td>1.237650e+18</td>\n",
       "      <td>183.531326</td>\n",
       "      <td>0.089693</td>\n",
       "      <td>19.47406</td>\n",
       "      <td>17.04240</td>\n",
       "      <td>15.94699</td>\n",
       "      <td>15.50342</td>\n",
       "      <td>15.22531</td>\n",
       "      <td>752</td>\n",
       "      <td>301</td>\n",
       "      <td>4</td>\n",
       "      <td>267</td>\n",
       "      <td>3.722360e+18</td>\n",
       "      <td>STAR</td>\n",
       "      <td>-0.000009</td>\n",
       "      <td>3306</td>\n",
       "      <td>54922</td>\n",
       "      <td>491</td>\n",
       "    </tr>\n",
       "    <tr>\n",
       "      <th>1</th>\n",
       "      <td>1.237650e+18</td>\n",
       "      <td>183.598371</td>\n",
       "      <td>0.135285</td>\n",
       "      <td>18.66280</td>\n",
       "      <td>17.21449</td>\n",
       "      <td>16.67637</td>\n",
       "      <td>16.48922</td>\n",
       "      <td>16.39150</td>\n",
       "      <td>752</td>\n",
       "      <td>301</td>\n",
       "      <td>4</td>\n",
       "      <td>267</td>\n",
       "      <td>3.638140e+17</td>\n",
       "      <td>STAR</td>\n",
       "      <td>-0.000055</td>\n",
       "      <td>323</td>\n",
       "      <td>51615</td>\n",
       "      <td>541</td>\n",
       "    </tr>\n",
       "    <tr>\n",
       "      <th>2</th>\n",
       "      <td>1.237650e+18</td>\n",
       "      <td>183.680207</td>\n",
       "      <td>0.126185</td>\n",
       "      <td>19.38298</td>\n",
       "      <td>18.19169</td>\n",
       "      <td>17.47428</td>\n",
       "      <td>17.08732</td>\n",
       "      <td>16.80125</td>\n",
       "      <td>752</td>\n",
       "      <td>301</td>\n",
       "      <td>4</td>\n",
       "      <td>268</td>\n",
       "      <td>3.232740e+17</td>\n",
       "      <td>GALAXY</td>\n",
       "      <td>0.123111</td>\n",
       "      <td>287</td>\n",
       "      <td>52023</td>\n",
       "      <td>513</td>\n",
       "    </tr>\n",
       "    <tr>\n",
       "      <th>3</th>\n",
       "      <td>1.237650e+18</td>\n",
       "      <td>183.870529</td>\n",
       "      <td>0.049911</td>\n",
       "      <td>17.76536</td>\n",
       "      <td>16.60272</td>\n",
       "      <td>16.16116</td>\n",
       "      <td>15.98233</td>\n",
       "      <td>15.90438</td>\n",
       "      <td>752</td>\n",
       "      <td>301</td>\n",
       "      <td>4</td>\n",
       "      <td>269</td>\n",
       "      <td>3.722370e+18</td>\n",
       "      <td>STAR</td>\n",
       "      <td>-0.000111</td>\n",
       "      <td>3306</td>\n",
       "      <td>54922</td>\n",
       "      <td>510</td>\n",
       "    </tr>\n",
       "    <tr>\n",
       "      <th>4</th>\n",
       "      <td>1.237650e+18</td>\n",
       "      <td>183.883288</td>\n",
       "      <td>0.102557</td>\n",
       "      <td>17.55025</td>\n",
       "      <td>16.26342</td>\n",
       "      <td>16.43869</td>\n",
       "      <td>16.55492</td>\n",
       "      <td>16.61326</td>\n",
       "      <td>752</td>\n",
       "      <td>301</td>\n",
       "      <td>4</td>\n",
       "      <td>269</td>\n",
       "      <td>3.722370e+18</td>\n",
       "      <td>STAR</td>\n",
       "      <td>0.000590</td>\n",
       "      <td>3306</td>\n",
       "      <td>54922</td>\n",
       "      <td>512</td>\n",
       "    </tr>\n",
       "  </tbody>\n",
       "</table>\n",
       "</div>"
      ],
      "text/plain": [
       "          objid          ra       dec         u         g         r         i  \\\n",
       "0  1.237650e+18  183.531326  0.089693  19.47406  17.04240  15.94699  15.50342   \n",
       "1  1.237650e+18  183.598371  0.135285  18.66280  17.21449  16.67637  16.48922   \n",
       "2  1.237650e+18  183.680207  0.126185  19.38298  18.19169  17.47428  17.08732   \n",
       "3  1.237650e+18  183.870529  0.049911  17.76536  16.60272  16.16116  15.98233   \n",
       "4  1.237650e+18  183.883288  0.102557  17.55025  16.26342  16.43869  16.55492   \n",
       "\n",
       "          z  run  rerun  camcol  field     specobjid   class  redshift  plate  \\\n",
       "0  15.22531  752    301       4    267  3.722360e+18    STAR -0.000009   3306   \n",
       "1  16.39150  752    301       4    267  3.638140e+17    STAR -0.000055    323   \n",
       "2  16.80125  752    301       4    268  3.232740e+17  GALAXY  0.123111    287   \n",
       "3  15.90438  752    301       4    269  3.722370e+18    STAR -0.000111   3306   \n",
       "4  16.61326  752    301       4    269  3.722370e+18    STAR  0.000590   3306   \n",
       "\n",
       "     mjd  fiberid  \n",
       "0  54922      491  \n",
       "1  51615      541  \n",
       "2  52023      513  \n",
       "3  54922      510  \n",
       "4  54922      512  "
      ]
     },
     "execution_count": 2,
     "metadata": {},
     "output_type": "execute_result"
    }
   ],
   "source": [
    "df=pd.read_csv(\"skyserver.csv\")\n",
    "df.head(5)"
   ]
  },
  {
   "cell_type": "markdown",
   "metadata": {},
   "source": [
    "# EDA"
   ]
  },
  {
   "cell_type": "code",
   "execution_count": 3,
   "metadata": {},
   "outputs": [
    {
     "data": {
      "text/plain": [
       "(10000, 18)"
      ]
     },
     "execution_count": 3,
     "metadata": {},
     "output_type": "execute_result"
    }
   ],
   "source": [
    "df.shape  # checking the rows and cols count"
   ]
  },
  {
   "cell_type": "code",
   "execution_count": 4,
   "metadata": {},
   "outputs": [
    {
     "data": {
      "text/plain": [
       "Index(['objid', 'ra', 'dec', 'u', 'g', 'r', 'i', 'z', 'run', 'rerun', 'camcol',\n",
       "       'field', 'specobjid', 'class', 'redshift', 'plate', 'mjd', 'fiberid'],\n",
       "      dtype='object')"
      ]
     },
     "execution_count": 4,
     "metadata": {},
     "output_type": "execute_result"
    }
   ],
   "source": [
    "df.columns # checking the various cols"
   ]
  },
  {
   "cell_type": "code",
   "execution_count": 5,
   "metadata": {},
   "outputs": [
    {
     "data": {
      "text/plain": [
       "objid        float64\n",
       "ra           float64\n",
       "dec          float64\n",
       "u            float64\n",
       "g            float64\n",
       "r            float64\n",
       "i            float64\n",
       "z            float64\n",
       "run            int64\n",
       "rerun          int64\n",
       "camcol         int64\n",
       "field          int64\n",
       "specobjid    float64\n",
       "class         object\n",
       "redshift     float64\n",
       "plate          int64\n",
       "mjd            int64\n",
       "fiberid        int64\n",
       "dtype: object"
      ]
     },
     "execution_count": 5,
     "metadata": {},
     "output_type": "execute_result"
    }
   ],
   "source": [
    "df.dtypes # checking the datatypes of cols"
   ]
  },
  {
   "cell_type": "code",
   "execution_count": 6,
   "metadata": {},
   "outputs": [
    {
     "data": {
      "text/html": [
       "<div>\n",
       "<style scoped>\n",
       "    .dataframe tbody tr th:only-of-type {\n",
       "        vertical-align: middle;\n",
       "    }\n",
       "\n",
       "    .dataframe tbody tr th {\n",
       "        vertical-align: top;\n",
       "    }\n",
       "\n",
       "    .dataframe thead th {\n",
       "        text-align: right;\n",
       "    }\n",
       "</style>\n",
       "<table border=\"1\" class=\"dataframe\">\n",
       "  <thead>\n",
       "    <tr style=\"text-align: right;\">\n",
       "      <th></th>\n",
       "      <th>objid</th>\n",
       "      <th>ra</th>\n",
       "      <th>dec</th>\n",
       "      <th>u</th>\n",
       "      <th>g</th>\n",
       "      <th>r</th>\n",
       "      <th>i</th>\n",
       "      <th>z</th>\n",
       "      <th>run</th>\n",
       "      <th>rerun</th>\n",
       "      <th>camcol</th>\n",
       "      <th>field</th>\n",
       "      <th>specobjid</th>\n",
       "      <th>redshift</th>\n",
       "      <th>plate</th>\n",
       "      <th>mjd</th>\n",
       "      <th>fiberid</th>\n",
       "    </tr>\n",
       "  </thead>\n",
       "  <tbody>\n",
       "    <tr>\n",
       "      <th>count</th>\n",
       "      <td>1.000000e+04</td>\n",
       "      <td>10000.000000</td>\n",
       "      <td>10000.000000</td>\n",
       "      <td>10000.000000</td>\n",
       "      <td>10000.000000</td>\n",
       "      <td>10000.000000</td>\n",
       "      <td>10000.000000</td>\n",
       "      <td>10000.000000</td>\n",
       "      <td>10000.000000</td>\n",
       "      <td>10000.0</td>\n",
       "      <td>10000.000000</td>\n",
       "      <td>10000.000000</td>\n",
       "      <td>1.000000e+04</td>\n",
       "      <td>10000.000000</td>\n",
       "      <td>10000.000000</td>\n",
       "      <td>10000.000000</td>\n",
       "      <td>10000.000000</td>\n",
       "    </tr>\n",
       "    <tr>\n",
       "      <th>mean</th>\n",
       "      <td>1.237650e+18</td>\n",
       "      <td>175.529987</td>\n",
       "      <td>14.836148</td>\n",
       "      <td>18.619355</td>\n",
       "      <td>17.371931</td>\n",
       "      <td>16.840963</td>\n",
       "      <td>16.583579</td>\n",
       "      <td>16.422833</td>\n",
       "      <td>981.034800</td>\n",
       "      <td>301.0</td>\n",
       "      <td>3.648700</td>\n",
       "      <td>302.380100</td>\n",
       "      <td>1.645022e+18</td>\n",
       "      <td>0.143726</td>\n",
       "      <td>1460.986400</td>\n",
       "      <td>52943.533300</td>\n",
       "      <td>353.069400</td>\n",
       "    </tr>\n",
       "    <tr>\n",
       "      <th>std</th>\n",
       "      <td>1.577039e+05</td>\n",
       "      <td>47.783439</td>\n",
       "      <td>25.212207</td>\n",
       "      <td>0.828656</td>\n",
       "      <td>0.945457</td>\n",
       "      <td>1.067764</td>\n",
       "      <td>1.141805</td>\n",
       "      <td>1.203188</td>\n",
       "      <td>273.305024</td>\n",
       "      <td>0.0</td>\n",
       "      <td>1.666183</td>\n",
       "      <td>162.577763</td>\n",
       "      <td>2.013998e+18</td>\n",
       "      <td>0.388774</td>\n",
       "      <td>1788.778371</td>\n",
       "      <td>1511.150651</td>\n",
       "      <td>206.298149</td>\n",
       "    </tr>\n",
       "    <tr>\n",
       "      <th>min</th>\n",
       "      <td>1.237650e+18</td>\n",
       "      <td>8.235100</td>\n",
       "      <td>-5.382632</td>\n",
       "      <td>12.988970</td>\n",
       "      <td>12.799550</td>\n",
       "      <td>12.431600</td>\n",
       "      <td>11.947210</td>\n",
       "      <td>11.610410</td>\n",
       "      <td>308.000000</td>\n",
       "      <td>301.0</td>\n",
       "      <td>1.000000</td>\n",
       "      <td>11.000000</td>\n",
       "      <td>2.995780e+17</td>\n",
       "      <td>-0.004136</td>\n",
       "      <td>266.000000</td>\n",
       "      <td>51578.000000</td>\n",
       "      <td>1.000000</td>\n",
       "    </tr>\n",
       "    <tr>\n",
       "      <th>25%</th>\n",
       "      <td>1.237650e+18</td>\n",
       "      <td>157.370946</td>\n",
       "      <td>-0.539035</td>\n",
       "      <td>18.178035</td>\n",
       "      <td>16.815100</td>\n",
       "      <td>16.173333</td>\n",
       "      <td>15.853705</td>\n",
       "      <td>15.618285</td>\n",
       "      <td>752.000000</td>\n",
       "      <td>301.0</td>\n",
       "      <td>2.000000</td>\n",
       "      <td>184.000000</td>\n",
       "      <td>3.389248e+17</td>\n",
       "      <td>0.000081</td>\n",
       "      <td>301.000000</td>\n",
       "      <td>51900.000000</td>\n",
       "      <td>186.750000</td>\n",
       "    </tr>\n",
       "    <tr>\n",
       "      <th>50%</th>\n",
       "      <td>1.237650e+18</td>\n",
       "      <td>180.394514</td>\n",
       "      <td>0.404166</td>\n",
       "      <td>18.853095</td>\n",
       "      <td>17.495135</td>\n",
       "      <td>16.858770</td>\n",
       "      <td>16.554985</td>\n",
       "      <td>16.389945</td>\n",
       "      <td>756.000000</td>\n",
       "      <td>301.0</td>\n",
       "      <td>4.000000</td>\n",
       "      <td>299.000000</td>\n",
       "      <td>4.966580e+17</td>\n",
       "      <td>0.042591</td>\n",
       "      <td>441.000000</td>\n",
       "      <td>51997.000000</td>\n",
       "      <td>351.000000</td>\n",
       "    </tr>\n",
       "    <tr>\n",
       "      <th>75%</th>\n",
       "      <td>1.237650e+18</td>\n",
       "      <td>201.547279</td>\n",
       "      <td>35.649397</td>\n",
       "      <td>19.259232</td>\n",
       "      <td>18.010145</td>\n",
       "      <td>17.512675</td>\n",
       "      <td>17.258550</td>\n",
       "      <td>17.141447</td>\n",
       "      <td>1331.000000</td>\n",
       "      <td>301.0</td>\n",
       "      <td>5.000000</td>\n",
       "      <td>414.000000</td>\n",
       "      <td>2.881300e+18</td>\n",
       "      <td>0.092579</td>\n",
       "      <td>2559.000000</td>\n",
       "      <td>54468.000000</td>\n",
       "      <td>510.000000</td>\n",
       "    </tr>\n",
       "    <tr>\n",
       "      <th>max</th>\n",
       "      <td>1.237650e+18</td>\n",
       "      <td>260.884382</td>\n",
       "      <td>68.542265</td>\n",
       "      <td>19.599900</td>\n",
       "      <td>19.918970</td>\n",
       "      <td>24.802040</td>\n",
       "      <td>28.179630</td>\n",
       "      <td>22.833060</td>\n",
       "      <td>1412.000000</td>\n",
       "      <td>301.0</td>\n",
       "      <td>6.000000</td>\n",
       "      <td>768.000000</td>\n",
       "      <td>9.468830e+18</td>\n",
       "      <td>5.353854</td>\n",
       "      <td>8410.000000</td>\n",
       "      <td>57481.000000</td>\n",
       "      <td>1000.000000</td>\n",
       "    </tr>\n",
       "  </tbody>\n",
       "</table>\n",
       "</div>"
      ],
      "text/plain": [
       "              objid            ra           dec             u             g  \\\n",
       "count  1.000000e+04  10000.000000  10000.000000  10000.000000  10000.000000   \n",
       "mean   1.237650e+18    175.529987     14.836148     18.619355     17.371931   \n",
       "std    1.577039e+05     47.783439     25.212207      0.828656      0.945457   \n",
       "min    1.237650e+18      8.235100     -5.382632     12.988970     12.799550   \n",
       "25%    1.237650e+18    157.370946     -0.539035     18.178035     16.815100   \n",
       "50%    1.237650e+18    180.394514      0.404166     18.853095     17.495135   \n",
       "75%    1.237650e+18    201.547279     35.649397     19.259232     18.010145   \n",
       "max    1.237650e+18    260.884382     68.542265     19.599900     19.918970   \n",
       "\n",
       "                  r             i             z           run    rerun  \\\n",
       "count  10000.000000  10000.000000  10000.000000  10000.000000  10000.0   \n",
       "mean      16.840963     16.583579     16.422833    981.034800    301.0   \n",
       "std        1.067764      1.141805      1.203188    273.305024      0.0   \n",
       "min       12.431600     11.947210     11.610410    308.000000    301.0   \n",
       "25%       16.173333     15.853705     15.618285    752.000000    301.0   \n",
       "50%       16.858770     16.554985     16.389945    756.000000    301.0   \n",
       "75%       17.512675     17.258550     17.141447   1331.000000    301.0   \n",
       "max       24.802040     28.179630     22.833060   1412.000000    301.0   \n",
       "\n",
       "             camcol         field     specobjid      redshift         plate  \\\n",
       "count  10000.000000  10000.000000  1.000000e+04  10000.000000  10000.000000   \n",
       "mean       3.648700    302.380100  1.645022e+18      0.143726   1460.986400   \n",
       "std        1.666183    162.577763  2.013998e+18      0.388774   1788.778371   \n",
       "min        1.000000     11.000000  2.995780e+17     -0.004136    266.000000   \n",
       "25%        2.000000    184.000000  3.389248e+17      0.000081    301.000000   \n",
       "50%        4.000000    299.000000  4.966580e+17      0.042591    441.000000   \n",
       "75%        5.000000    414.000000  2.881300e+18      0.092579   2559.000000   \n",
       "max        6.000000    768.000000  9.468830e+18      5.353854   8410.000000   \n",
       "\n",
       "                mjd       fiberid  \n",
       "count  10000.000000  10000.000000  \n",
       "mean   52943.533300    353.069400  \n",
       "std     1511.150651    206.298149  \n",
       "min    51578.000000      1.000000  \n",
       "25%    51900.000000    186.750000  \n",
       "50%    51997.000000    351.000000  \n",
       "75%    54468.000000    510.000000  \n",
       "max    57481.000000   1000.000000  "
      ]
     },
     "execution_count": 6,
     "metadata": {},
     "output_type": "execute_result"
    }
   ],
   "source": [
    "df.describe()"
   ]
  },
  {
   "cell_type": "markdown",
   "metadata": {},
   "source": [
    "Key Observations here\n",
    "\n",
    "1. Mean and median in most of features are almost same other than dec,run and plate .\n",
    "2.  There is huge difference in 75% and max values of many variables like ra,dec,r,i,z, run,field, redshift,plate,fiberid\n",
    "3. Few Outliers are there"
   ]
  },
  {
   "cell_type": "code",
   "execution_count": 7,
   "metadata": {},
   "outputs": [
    {
     "name": "stdout",
     "output_type": "stream",
     "text": [
      "<class 'pandas.core.frame.DataFrame'>\n",
      "RangeIndex: 10000 entries, 0 to 9999\n",
      "Data columns (total 18 columns):\n",
      " #   Column     Non-Null Count  Dtype  \n",
      "---  ------     --------------  -----  \n",
      " 0   objid      10000 non-null  float64\n",
      " 1   ra         10000 non-null  float64\n",
      " 2   dec        10000 non-null  float64\n",
      " 3   u          10000 non-null  float64\n",
      " 4   g          10000 non-null  float64\n",
      " 5   r          10000 non-null  float64\n",
      " 6   i          10000 non-null  float64\n",
      " 7   z          10000 non-null  float64\n",
      " 8   run        10000 non-null  int64  \n",
      " 9   rerun      10000 non-null  int64  \n",
      " 10  camcol     10000 non-null  int64  \n",
      " 11  field      10000 non-null  int64  \n",
      " 12  specobjid  10000 non-null  float64\n",
      " 13  class      10000 non-null  object \n",
      " 14  redshift   10000 non-null  float64\n",
      " 15  plate      10000 non-null  int64  \n",
      " 16  mjd        10000 non-null  int64  \n",
      " 17  fiberid    10000 non-null  int64  \n",
      "dtypes: float64(10), int64(7), object(1)\n",
      "memory usage: 1.4+ MB\n"
     ]
    }
   ],
   "source": [
    "# checking the information about the not-null, datatypes, rows and cols count of the dataset\n",
    "df.info()"
   ]
  },
  {
   "cell_type": "code",
   "execution_count": 8,
   "metadata": {},
   "outputs": [
    {
     "data": {
      "text/html": [
       "<div>\n",
       "<style scoped>\n",
       "    .dataframe tbody tr th:only-of-type {\n",
       "        vertical-align: middle;\n",
       "    }\n",
       "\n",
       "    .dataframe tbody tr th {\n",
       "        vertical-align: top;\n",
       "    }\n",
       "\n",
       "    .dataframe thead th {\n",
       "        text-align: right;\n",
       "    }\n",
       "</style>\n",
       "<table border=\"1\" class=\"dataframe\">\n",
       "  <thead>\n",
       "    <tr style=\"text-align: right;\">\n",
       "      <th></th>\n",
       "      <th>objid</th>\n",
       "      <th>ra</th>\n",
       "      <th>dec</th>\n",
       "      <th>u</th>\n",
       "      <th>g</th>\n",
       "      <th>r</th>\n",
       "      <th>i</th>\n",
       "      <th>z</th>\n",
       "      <th>run</th>\n",
       "      <th>rerun</th>\n",
       "      <th>camcol</th>\n",
       "      <th>field</th>\n",
       "      <th>specobjid</th>\n",
       "      <th>class</th>\n",
       "      <th>redshift</th>\n",
       "      <th>plate</th>\n",
       "      <th>mjd</th>\n",
       "      <th>fiberid</th>\n",
       "    </tr>\n",
       "  </thead>\n",
       "  <tbody>\n",
       "    <tr>\n",
       "      <th>0</th>\n",
       "      <td>False</td>\n",
       "      <td>False</td>\n",
       "      <td>False</td>\n",
       "      <td>False</td>\n",
       "      <td>False</td>\n",
       "      <td>False</td>\n",
       "      <td>False</td>\n",
       "      <td>False</td>\n",
       "      <td>False</td>\n",
       "      <td>False</td>\n",
       "      <td>False</td>\n",
       "      <td>False</td>\n",
       "      <td>False</td>\n",
       "      <td>False</td>\n",
       "      <td>False</td>\n",
       "      <td>False</td>\n",
       "      <td>False</td>\n",
       "      <td>False</td>\n",
       "    </tr>\n",
       "    <tr>\n",
       "      <th>1</th>\n",
       "      <td>False</td>\n",
       "      <td>False</td>\n",
       "      <td>False</td>\n",
       "      <td>False</td>\n",
       "      <td>False</td>\n",
       "      <td>False</td>\n",
       "      <td>False</td>\n",
       "      <td>False</td>\n",
       "      <td>False</td>\n",
       "      <td>False</td>\n",
       "      <td>False</td>\n",
       "      <td>False</td>\n",
       "      <td>False</td>\n",
       "      <td>False</td>\n",
       "      <td>False</td>\n",
       "      <td>False</td>\n",
       "      <td>False</td>\n",
       "      <td>False</td>\n",
       "    </tr>\n",
       "    <tr>\n",
       "      <th>2</th>\n",
       "      <td>False</td>\n",
       "      <td>False</td>\n",
       "      <td>False</td>\n",
       "      <td>False</td>\n",
       "      <td>False</td>\n",
       "      <td>False</td>\n",
       "      <td>False</td>\n",
       "      <td>False</td>\n",
       "      <td>False</td>\n",
       "      <td>False</td>\n",
       "      <td>False</td>\n",
       "      <td>False</td>\n",
       "      <td>False</td>\n",
       "      <td>False</td>\n",
       "      <td>False</td>\n",
       "      <td>False</td>\n",
       "      <td>False</td>\n",
       "      <td>False</td>\n",
       "    </tr>\n",
       "    <tr>\n",
       "      <th>3</th>\n",
       "      <td>False</td>\n",
       "      <td>False</td>\n",
       "      <td>False</td>\n",
       "      <td>False</td>\n",
       "      <td>False</td>\n",
       "      <td>False</td>\n",
       "      <td>False</td>\n",
       "      <td>False</td>\n",
       "      <td>False</td>\n",
       "      <td>False</td>\n",
       "      <td>False</td>\n",
       "      <td>False</td>\n",
       "      <td>False</td>\n",
       "      <td>False</td>\n",
       "      <td>False</td>\n",
       "      <td>False</td>\n",
       "      <td>False</td>\n",
       "      <td>False</td>\n",
       "    </tr>\n",
       "    <tr>\n",
       "      <th>4</th>\n",
       "      <td>False</td>\n",
       "      <td>False</td>\n",
       "      <td>False</td>\n",
       "      <td>False</td>\n",
       "      <td>False</td>\n",
       "      <td>False</td>\n",
       "      <td>False</td>\n",
       "      <td>False</td>\n",
       "      <td>False</td>\n",
       "      <td>False</td>\n",
       "      <td>False</td>\n",
       "      <td>False</td>\n",
       "      <td>False</td>\n",
       "      <td>False</td>\n",
       "      <td>False</td>\n",
       "      <td>False</td>\n",
       "      <td>False</td>\n",
       "      <td>False</td>\n",
       "    </tr>\n",
       "    <tr>\n",
       "      <th>...</th>\n",
       "      <td>...</td>\n",
       "      <td>...</td>\n",
       "      <td>...</td>\n",
       "      <td>...</td>\n",
       "      <td>...</td>\n",
       "      <td>...</td>\n",
       "      <td>...</td>\n",
       "      <td>...</td>\n",
       "      <td>...</td>\n",
       "      <td>...</td>\n",
       "      <td>...</td>\n",
       "      <td>...</td>\n",
       "      <td>...</td>\n",
       "      <td>...</td>\n",
       "      <td>...</td>\n",
       "      <td>...</td>\n",
       "      <td>...</td>\n",
       "      <td>...</td>\n",
       "    </tr>\n",
       "    <tr>\n",
       "      <th>9995</th>\n",
       "      <td>False</td>\n",
       "      <td>False</td>\n",
       "      <td>False</td>\n",
       "      <td>False</td>\n",
       "      <td>False</td>\n",
       "      <td>False</td>\n",
       "      <td>False</td>\n",
       "      <td>False</td>\n",
       "      <td>False</td>\n",
       "      <td>False</td>\n",
       "      <td>False</td>\n",
       "      <td>False</td>\n",
       "      <td>False</td>\n",
       "      <td>False</td>\n",
       "      <td>False</td>\n",
       "      <td>False</td>\n",
       "      <td>False</td>\n",
       "      <td>False</td>\n",
       "    </tr>\n",
       "    <tr>\n",
       "      <th>9996</th>\n",
       "      <td>False</td>\n",
       "      <td>False</td>\n",
       "      <td>False</td>\n",
       "      <td>False</td>\n",
       "      <td>False</td>\n",
       "      <td>False</td>\n",
       "      <td>False</td>\n",
       "      <td>False</td>\n",
       "      <td>False</td>\n",
       "      <td>False</td>\n",
       "      <td>False</td>\n",
       "      <td>False</td>\n",
       "      <td>False</td>\n",
       "      <td>False</td>\n",
       "      <td>False</td>\n",
       "      <td>False</td>\n",
       "      <td>False</td>\n",
       "      <td>False</td>\n",
       "    </tr>\n",
       "    <tr>\n",
       "      <th>9997</th>\n",
       "      <td>False</td>\n",
       "      <td>False</td>\n",
       "      <td>False</td>\n",
       "      <td>False</td>\n",
       "      <td>False</td>\n",
       "      <td>False</td>\n",
       "      <td>False</td>\n",
       "      <td>False</td>\n",
       "      <td>False</td>\n",
       "      <td>False</td>\n",
       "      <td>False</td>\n",
       "      <td>False</td>\n",
       "      <td>False</td>\n",
       "      <td>False</td>\n",
       "      <td>False</td>\n",
       "      <td>False</td>\n",
       "      <td>False</td>\n",
       "      <td>False</td>\n",
       "    </tr>\n",
       "    <tr>\n",
       "      <th>9998</th>\n",
       "      <td>False</td>\n",
       "      <td>False</td>\n",
       "      <td>False</td>\n",
       "      <td>False</td>\n",
       "      <td>False</td>\n",
       "      <td>False</td>\n",
       "      <td>False</td>\n",
       "      <td>False</td>\n",
       "      <td>False</td>\n",
       "      <td>False</td>\n",
       "      <td>False</td>\n",
       "      <td>False</td>\n",
       "      <td>False</td>\n",
       "      <td>False</td>\n",
       "      <td>False</td>\n",
       "      <td>False</td>\n",
       "      <td>False</td>\n",
       "      <td>False</td>\n",
       "    </tr>\n",
       "    <tr>\n",
       "      <th>9999</th>\n",
       "      <td>False</td>\n",
       "      <td>False</td>\n",
       "      <td>False</td>\n",
       "      <td>False</td>\n",
       "      <td>False</td>\n",
       "      <td>False</td>\n",
       "      <td>False</td>\n",
       "      <td>False</td>\n",
       "      <td>False</td>\n",
       "      <td>False</td>\n",
       "      <td>False</td>\n",
       "      <td>False</td>\n",
       "      <td>False</td>\n",
       "      <td>False</td>\n",
       "      <td>False</td>\n",
       "      <td>False</td>\n",
       "      <td>False</td>\n",
       "      <td>False</td>\n",
       "    </tr>\n",
       "  </tbody>\n",
       "</table>\n",
       "<p>10000 rows × 18 columns</p>\n",
       "</div>"
      ],
      "text/plain": [
       "      objid     ra    dec      u      g      r      i      z    run  rerun  \\\n",
       "0     False  False  False  False  False  False  False  False  False  False   \n",
       "1     False  False  False  False  False  False  False  False  False  False   \n",
       "2     False  False  False  False  False  False  False  False  False  False   \n",
       "3     False  False  False  False  False  False  False  False  False  False   \n",
       "4     False  False  False  False  False  False  False  False  False  False   \n",
       "...     ...    ...    ...    ...    ...    ...    ...    ...    ...    ...   \n",
       "9995  False  False  False  False  False  False  False  False  False  False   \n",
       "9996  False  False  False  False  False  False  False  False  False  False   \n",
       "9997  False  False  False  False  False  False  False  False  False  False   \n",
       "9998  False  False  False  False  False  False  False  False  False  False   \n",
       "9999  False  False  False  False  False  False  False  False  False  False   \n",
       "\n",
       "      camcol  field  specobjid  class  redshift  plate    mjd  fiberid  \n",
       "0      False  False      False  False     False  False  False    False  \n",
       "1      False  False      False  False     False  False  False    False  \n",
       "2      False  False      False  False     False  False  False    False  \n",
       "3      False  False      False  False     False  False  False    False  \n",
       "4      False  False      False  False     False  False  False    False  \n",
       "...      ...    ...        ...    ...       ...    ...    ...      ...  \n",
       "9995   False  False      False  False     False  False  False    False  \n",
       "9996   False  False      False  False     False  False  False    False  \n",
       "9997   False  False      False  False     False  False  False    False  \n",
       "9998   False  False      False  False     False  False  False    False  \n",
       "9999   False  False      False  False     False  False  False    False  \n",
       "\n",
       "[10000 rows x 18 columns]"
      ]
     },
     "execution_count": 8,
     "metadata": {},
     "output_type": "execute_result"
    }
   ],
   "source": [
    "df.isnull() # checking for any null values"
   ]
  },
  {
   "cell_type": "code",
   "execution_count": 9,
   "metadata": {},
   "outputs": [
    {
     "data": {
      "text/plain": [
       "objid        0\n",
       "ra           0\n",
       "dec          0\n",
       "u            0\n",
       "g            0\n",
       "r            0\n",
       "i            0\n",
       "z            0\n",
       "run          0\n",
       "rerun        0\n",
       "camcol       0\n",
       "field        0\n",
       "specobjid    0\n",
       "class        0\n",
       "redshift     0\n",
       "plate        0\n",
       "mjd          0\n",
       "fiberid      0\n",
       "dtype: int64"
      ]
     },
     "execution_count": 9,
     "metadata": {},
     "output_type": "execute_result"
    }
   ],
   "source": [
    "df.isnull().sum() # null  values column wise counts"
   ]
  },
  {
   "cell_type": "code",
   "execution_count": 10,
   "metadata": {},
   "outputs": [
    {
     "data": {
      "text/plain": [
       "GALAXY    4998\n",
       "STAR      4152\n",
       "QSO        850\n",
       "Name: class, dtype: int64"
      ]
     },
     "execution_count": 10,
     "metadata": {},
     "output_type": "execute_result"
    }
   ],
   "source": [
    "df[\"class\"].value_counts()"
   ]
  },
  {
   "cell_type": "code",
   "execution_count": 11,
   "metadata": {
    "scrolled": true
   },
   "outputs": [
    {
     "data": {
      "text/plain": [
       "<AxesSubplot:>"
      ]
     },
     "execution_count": 11,
     "metadata": {},
     "output_type": "execute_result"
    },
    {
     "data": {
      "image/png": "[encoded data removed]",
      "text/plain": [
       "<Figure size 432x288 with 2 Axes>"
      ]
     },
     "metadata": {
      "needs_background": "light"
     },
     "output_type": "display_data"
    }
   ],
   "source": [
    "sns.heatmap(df.isnull())"
   ]
  },
  {
   "cell_type": "markdown",
   "metadata": {},
   "source": [
    "# transforming nominal values to numerical so as to get the better bivariate analysis and correlation between variables and target.\n"
   ]
  },
  {
   "cell_type": "markdown",
   "metadata": {},
   "source": [
    "#tranforming the target variable"
   ]
  },
  {
   "cell_type": "code",
   "execution_count": 12,
   "metadata": {},
   "outputs": [],
   "source": [
    "from sklearn.preprocessing import LabelEncoder\n",
    "le=LabelEncoder()"
   ]
  },
  {
   "cell_type": "code",
   "execution_count": 13,
   "metadata": {},
   "outputs": [
    {
     "data": {
      "text/html": [
       "<div>\n",
       "<style scoped>\n",
       "    .dataframe tbody tr th:only-of-type {\n",
       "        vertical-align: middle;\n",
       "    }\n",
       "\n",
       "    .dataframe tbody tr th {\n",
       "        vertical-align: top;\n",
       "    }\n",
       "\n",
       "    .dataframe thead th {\n",
       "        text-align: right;\n",
       "    }\n",
       "</style>\n",
       "<table border=\"1\" class=\"dataframe\">\n",
       "  <thead>\n",
       "    <tr style=\"text-align: right;\">\n",
       "      <th></th>\n",
       "      <th>objid</th>\n",
       "      <th>ra</th>\n",
       "      <th>dec</th>\n",
       "      <th>u</th>\n",
       "      <th>g</th>\n",
       "      <th>r</th>\n",
       "      <th>i</th>\n",
       "      <th>z</th>\n",
       "      <th>run</th>\n",
       "      <th>rerun</th>\n",
       "      <th>camcol</th>\n",
       "      <th>field</th>\n",
       "      <th>specobjid</th>\n",
       "      <th>class</th>\n",
       "      <th>redshift</th>\n",
       "      <th>plate</th>\n",
       "      <th>mjd</th>\n",
       "      <th>fiberid</th>\n",
       "    </tr>\n",
       "  </thead>\n",
       "  <tbody>\n",
       "    <tr>\n",
       "      <th>9995</th>\n",
       "      <td>1.237650e+18</td>\n",
       "      <td>131.316413</td>\n",
       "      <td>51.539547</td>\n",
       "      <td>18.81777</td>\n",
       "      <td>17.47053</td>\n",
       "      <td>16.91508</td>\n",
       "      <td>16.68305</td>\n",
       "      <td>16.50570</td>\n",
       "      <td>1345</td>\n",
       "      <td>301</td>\n",
       "      <td>3</td>\n",
       "      <td>161</td>\n",
       "      <td>5.033450e+17</td>\n",
       "      <td>0</td>\n",
       "      <td>0.027583</td>\n",
       "      <td>447</td>\n",
       "      <td>51877</td>\n",
       "      <td>246</td>\n",
       "    </tr>\n",
       "    <tr>\n",
       "      <th>9996</th>\n",
       "      <td>1.237650e+18</td>\n",
       "      <td>131.306083</td>\n",
       "      <td>51.671341</td>\n",
       "      <td>18.27255</td>\n",
       "      <td>17.43849</td>\n",
       "      <td>17.07692</td>\n",
       "      <td>16.71661</td>\n",
       "      <td>16.69897</td>\n",
       "      <td>1345</td>\n",
       "      <td>301</td>\n",
       "      <td>3</td>\n",
       "      <td>162</td>\n",
       "      <td>5.033400e+17</td>\n",
       "      <td>0</td>\n",
       "      <td>0.117772</td>\n",
       "      <td>447</td>\n",
       "      <td>51877</td>\n",
       "      <td>228</td>\n",
       "    </tr>\n",
       "    <tr>\n",
       "      <th>9997</th>\n",
       "      <td>1.237650e+18</td>\n",
       "      <td>131.552562</td>\n",
       "      <td>51.666986</td>\n",
       "      <td>18.75818</td>\n",
       "      <td>17.77784</td>\n",
       "      <td>17.51872</td>\n",
       "      <td>17.43302</td>\n",
       "      <td>17.42048</td>\n",
       "      <td>1345</td>\n",
       "      <td>301</td>\n",
       "      <td>3</td>\n",
       "      <td>162</td>\n",
       "      <td>8.222620e+18</td>\n",
       "      <td>2</td>\n",
       "      <td>-0.000402</td>\n",
       "      <td>7303</td>\n",
       "      <td>57013</td>\n",
       "      <td>622</td>\n",
       "    </tr>\n",
       "    <tr>\n",
       "      <th>9998</th>\n",
       "      <td>1.237650e+18</td>\n",
       "      <td>131.477151</td>\n",
       "      <td>51.753068</td>\n",
       "      <td>18.88287</td>\n",
       "      <td>17.91068</td>\n",
       "      <td>17.53152</td>\n",
       "      <td>17.36284</td>\n",
       "      <td>17.13988</td>\n",
       "      <td>1345</td>\n",
       "      <td>301</td>\n",
       "      <td>3</td>\n",
       "      <td>163</td>\n",
       "      <td>5.033400e+17</td>\n",
       "      <td>0</td>\n",
       "      <td>0.014019</td>\n",
       "      <td>447</td>\n",
       "      <td>51877</td>\n",
       "      <td>229</td>\n",
       "    </tr>\n",
       "    <tr>\n",
       "      <th>9999</th>\n",
       "      <td>1.237650e+18</td>\n",
       "      <td>131.665012</td>\n",
       "      <td>51.805307</td>\n",
       "      <td>19.27586</td>\n",
       "      <td>17.37829</td>\n",
       "      <td>16.30542</td>\n",
       "      <td>15.83548</td>\n",
       "      <td>15.50588</td>\n",
       "      <td>1345</td>\n",
       "      <td>301</td>\n",
       "      <td>3</td>\n",
       "      <td>163</td>\n",
       "      <td>5.033410e+17</td>\n",
       "      <td>0</td>\n",
       "      <td>0.118417</td>\n",
       "      <td>447</td>\n",
       "      <td>51877</td>\n",
       "      <td>233</td>\n",
       "    </tr>\n",
       "  </tbody>\n",
       "</table>\n",
       "</div>"
      ],
      "text/plain": [
       "             objid          ra        dec         u         g         r  \\\n",
       "9995  1.237650e+18  131.316413  51.539547  18.81777  17.47053  16.91508   \n",
       "9996  1.237650e+18  131.306083  51.671341  18.27255  17.43849  17.07692   \n",
       "9997  1.237650e+18  131.552562  51.666986  18.75818  17.77784  17.51872   \n",
       "9998  1.237650e+18  131.477151  51.753068  18.88287  17.91068  17.53152   \n",
       "9999  1.237650e+18  131.665012  51.805307  19.27586  17.37829  16.30542   \n",
       "\n",
       "             i         z   run  rerun  camcol  field     specobjid  class  \\\n",
       "9995  16.68305  16.50570  1345    301       3    161  5.033450e+17      0   \n",
       "9996  16.71661  16.69897  1345    301       3    162  5.033400e+17      0   \n",
       "9997  17.43302  17.42048  1345    301       3    162  8.222620e+18      2   \n",
       "9998  17.36284  17.13988  1345    301       3    163  5.033400e+17      0   \n",
       "9999  15.83548  15.50588  1345    301       3    163  5.033410e+17      0   \n",
       "\n",
       "      redshift  plate    mjd  fiberid  \n",
       "9995  0.027583    447  51877      246  \n",
       "9996  0.117772    447  51877      228  \n",
       "9997 -0.000402   7303  57013      622  \n",
       "9998  0.014019    447  51877      229  \n",
       "9999  0.118417    447  51877      233  "
      ]
     },
     "execution_count": 13,
     "metadata": {},
     "output_type": "execute_result"
    }
   ],
   "source": [
    "df[\"class\"]=le.fit_transform(df[\"class\"])\n",
    "df.tail(5)"
   ]
  },
  {
   "cell_type": "code",
   "execution_count": 14,
   "metadata": {},
   "outputs": [
    {
     "data": {
      "text/html": [
       "<div>\n",
       "<style scoped>\n",
       "    .dataframe tbody tr th:only-of-type {\n",
       "        vertical-align: middle;\n",
       "    }\n",
       "\n",
       "    .dataframe tbody tr th {\n",
       "        vertical-align: top;\n",
       "    }\n",
       "\n",
       "    .dataframe thead th {\n",
       "        text-align: right;\n",
       "    }\n",
       "</style>\n",
       "<table border=\"1\" class=\"dataframe\">\n",
       "  <thead>\n",
       "    <tr style=\"text-align: right;\">\n",
       "      <th></th>\n",
       "      <th>objid</th>\n",
       "      <th>ra</th>\n",
       "      <th>dec</th>\n",
       "      <th>u</th>\n",
       "      <th>g</th>\n",
       "      <th>r</th>\n",
       "      <th>i</th>\n",
       "      <th>z</th>\n",
       "      <th>run</th>\n",
       "      <th>rerun</th>\n",
       "      <th>camcol</th>\n",
       "      <th>field</th>\n",
       "      <th>specobjid</th>\n",
       "      <th>class</th>\n",
       "      <th>redshift</th>\n",
       "      <th>plate</th>\n",
       "      <th>mjd</th>\n",
       "      <th>fiberid</th>\n",
       "    </tr>\n",
       "  </thead>\n",
       "  <tbody>\n",
       "    <tr>\n",
       "      <th>objid</th>\n",
       "      <td>1.000000e+00</td>\n",
       "      <td>2.524419e-14</td>\n",
       "      <td>-1.937483e-15</td>\n",
       "      <td>5.581214e-14</td>\n",
       "      <td>1.001149e-13</td>\n",
       "      <td>2.995673e-14</td>\n",
       "      <td>2.212198e-14</td>\n",
       "      <td>-4.107700e-14</td>\n",
       "      <td>-1.553011e-14</td>\n",
       "      <td>NaN</td>\n",
       "      <td>1.921887e-15</td>\n",
       "      <td>5.938881e-16</td>\n",
       "      <td>-1.829075e-15</td>\n",
       "      <td>-3.355500e-15</td>\n",
       "      <td>5.085882e-16</td>\n",
       "      <td>4.156934e-16</td>\n",
       "      <td>-3.317582e-15</td>\n",
       "      <td>4.665195e-15</td>\n",
       "    </tr>\n",
       "    <tr>\n",
       "      <th>ra</th>\n",
       "      <td>2.524419e-14</td>\n",
       "      <td>1.000000e+00</td>\n",
       "      <td>3.596046e-03</td>\n",
       "      <td>3.123756e-02</td>\n",
       "      <td>4.390863e-02</td>\n",
       "      <td>4.710290e-02</td>\n",
       "      <td>4.573107e-02</td>\n",
       "      <td>4.294957e-02</td>\n",
       "      <td>-9.274056e-02</td>\n",
       "      <td>NaN</td>\n",
       "      <td>-6.293831e-03</td>\n",
       "      <td>5.946996e-01</td>\n",
       "      <td>-9.532711e-02</td>\n",
       "      <td>-4.321896e-02</td>\n",
       "      <td>3.030740e-02</td>\n",
       "      <td>-9.532933e-02</td>\n",
       "      <td>-8.688726e-02</td>\n",
       "      <td>5.748482e-02</td>\n",
       "    </tr>\n",
       "    <tr>\n",
       "      <th>dec</th>\n",
       "      <td>-1.937483e-15</td>\n",
       "      <td>3.596046e-03</td>\n",
       "      <td>1.000000e+00</td>\n",
       "      <td>3.527932e-02</td>\n",
       "      <td>6.187471e-02</td>\n",
       "      <td>6.340395e-02</td>\n",
       "      <td>5.829189e-02</td>\n",
       "      <td>5.687030e-02</td>\n",
       "      <td>7.783849e-01</td>\n",
       "      <td>NaN</td>\n",
       "      <td>1.146139e-01</td>\n",
       "      <td>-1.314714e-01</td>\n",
       "      <td>8.834533e-02</td>\n",
       "      <td>-5.891815e-02</td>\n",
       "      <td>6.702076e-02</td>\n",
       "      <td>8.834153e-02</td>\n",
       "      <td>6.614663e-02</td>\n",
       "      <td>1.550124e-01</td>\n",
       "    </tr>\n",
       "    <tr>\n",
       "      <th>u</th>\n",
       "      <td>5.581214e-14</td>\n",
       "      <td>3.123756e-02</td>\n",
       "      <td>3.527932e-02</td>\n",
       "      <td>1.000000e+00</td>\n",
       "      <td>8.492320e-01</td>\n",
       "      <td>6.923790e-01</td>\n",
       "      <td>6.026302e-01</td>\n",
       "      <td>5.514828e-01</td>\n",
       "      <td>3.822910e-02</td>\n",
       "      <td>NaN</td>\n",
       "      <td>9.944672e-03</td>\n",
       "      <td>8.547880e-03</td>\n",
       "      <td>-1.294293e-01</td>\n",
       "      <td>-2.690437e-01</td>\n",
       "      <td>1.637409e-01</td>\n",
       "      <td>-1.294304e-01</td>\n",
       "      <td>-1.687927e-01</td>\n",
       "      <td>1.130112e-02</td>\n",
       "    </tr>\n",
       "    <tr>\n",
       "      <th>g</th>\n",
       "      <td>1.001149e-13</td>\n",
       "      <td>4.390863e-02</td>\n",
       "      <td>6.187471e-02</td>\n",
       "      <td>8.492320e-01</td>\n",
       "      <td>1.000000e+00</td>\n",
       "      <td>9.581062e-01</td>\n",
       "      <td>9.074187e-01</td>\n",
       "      <td>8.796222e-01</td>\n",
       "      <td>5.844630e-02</td>\n",
       "      <td>NaN</td>\n",
       "      <td>1.022304e-02</td>\n",
       "      <td>1.465110e-02</td>\n",
       "      <td>-5.497908e-02</td>\n",
       "      <td>-9.921163e-02</td>\n",
       "      <td>4.075763e-01</td>\n",
       "      <td>-5.498078e-02</td>\n",
       "      <td>-9.277155e-02</td>\n",
       "      <td>4.718739e-02</td>\n",
       "    </tr>\n",
       "    <tr>\n",
       "      <th>r</th>\n",
       "      <td>2.995673e-14</td>\n",
       "      <td>4.710290e-02</td>\n",
       "      <td>6.340395e-02</td>\n",
       "      <td>6.923790e-01</td>\n",
       "      <td>9.581062e-01</td>\n",
       "      <td>1.000000e+00</td>\n",
       "      <td>9.776718e-01</td>\n",
       "      <td>9.691967e-01</td>\n",
       "      <td>5.726060e-02</td>\n",
       "      <td>NaN</td>\n",
       "      <td>1.074725e-02</td>\n",
       "      <td>1.713294e-02</td>\n",
       "      <td>1.978831e-02</td>\n",
       "      <td>4.962769e-02</td>\n",
       "      <td>4.410797e-01</td>\n",
       "      <td>1.978671e-02</td>\n",
       "      <td>-9.344506e-03</td>\n",
       "      <td>6.108141e-02</td>\n",
       "    </tr>\n",
       "    <tr>\n",
       "      <th>i</th>\n",
       "      <td>2.212198e-14</td>\n",
       "      <td>4.573107e-02</td>\n",
       "      <td>5.829189e-02</td>\n",
       "      <td>6.026302e-01</td>\n",
       "      <td>9.074187e-01</td>\n",
       "      <td>9.776718e-01</td>\n",
       "      <td>1.000000e+00</td>\n",
       "      <td>9.815066e-01</td>\n",
       "      <td>4.976478e-02</td>\n",
       "      <td>NaN</td>\n",
       "      <td>1.346079e-02</td>\n",
       "      <td>1.978147e-02</td>\n",
       "      <td>7.295994e-02</td>\n",
       "      <td>1.467908e-01</td>\n",
       "      <td>4.314500e-01</td>\n",
       "      <td>7.295843e-02</td>\n",
       "      <td>5.089616e-02</td>\n",
       "      <td>6.997739e-02</td>\n",
       "    </tr>\n",
       "    <tr>\n",
       "      <th>z</th>\n",
       "      <td>-4.107700e-14</td>\n",
       "      <td>4.294957e-02</td>\n",
       "      <td>5.687030e-02</td>\n",
       "      <td>5.514828e-01</td>\n",
       "      <td>8.796222e-01</td>\n",
       "      <td>9.691967e-01</td>\n",
       "      <td>9.815066e-01</td>\n",
       "      <td>1.000000e+00</td>\n",
       "      <td>4.825225e-02</td>\n",
       "      <td>NaN</td>\n",
       "      <td>1.092981e-02</td>\n",
       "      <td>1.824845e-02</td>\n",
       "      <td>1.123981e-01</td>\n",
       "      <td>2.157584e-01</td>\n",
       "      <td>4.240342e-01</td>\n",
       "      <td>1.123969e-01</td>\n",
       "      <td>9.565845e-02</td>\n",
       "      <td>6.797999e-02</td>\n",
       "    </tr>\n",
       "    <tr>\n",
       "      <th>run</th>\n",
       "      <td>-1.553011e-14</td>\n",
       "      <td>-9.274056e-02</td>\n",
       "      <td>7.783849e-01</td>\n",
       "      <td>3.822910e-02</td>\n",
       "      <td>5.844630e-02</td>\n",
       "      <td>5.726060e-02</td>\n",
       "      <td>4.976478e-02</td>\n",
       "      <td>4.825225e-02</td>\n",
       "      <td>1.000000e+00</td>\n",
       "      <td>NaN</td>\n",
       "      <td>1.518143e-01</td>\n",
       "      <td>-4.638975e-01</td>\n",
       "      <td>9.360436e-02</td>\n",
       "      <td>-7.816172e-02</td>\n",
       "      <td>5.905595e-02</td>\n",
       "      <td>9.360107e-02</td>\n",
       "      <td>7.035433e-02</td>\n",
       "      <td>1.385659e-01</td>\n",
       "    </tr>\n",
       "    <tr>\n",
       "      <th>rerun</th>\n",
       "      <td>NaN</td>\n",
       "      <td>NaN</td>\n",
       "      <td>NaN</td>\n",
       "      <td>NaN</td>\n",
       "      <td>NaN</td>\n",
       "      <td>NaN</td>\n",
       "      <td>NaN</td>\n",
       "      <td>NaN</td>\n",
       "      <td>NaN</td>\n",
       "      <td>NaN</td>\n",
       "      <td>NaN</td>\n",
       "      <td>NaN</td>\n",
       "      <td>NaN</td>\n",
       "      <td>NaN</td>\n",
       "      <td>NaN</td>\n",
       "      <td>NaN</td>\n",
       "      <td>NaN</td>\n",
       "      <td>NaN</td>\n",
       "    </tr>\n",
       "    <tr>\n",
       "      <th>camcol</th>\n",
       "      <td>1.921887e-15</td>\n",
       "      <td>-6.293831e-03</td>\n",
       "      <td>1.146139e-01</td>\n",
       "      <td>9.944672e-03</td>\n",
       "      <td>1.022304e-02</td>\n",
       "      <td>1.074725e-02</td>\n",
       "      <td>1.346079e-02</td>\n",
       "      <td>1.092981e-02</td>\n",
       "      <td>1.518143e-01</td>\n",
       "      <td>NaN</td>\n",
       "      <td>1.000000e+00</td>\n",
       "      <td>-6.792055e-02</td>\n",
       "      <td>4.080943e-02</td>\n",
       "      <td>-6.185920e-03</td>\n",
       "      <td>6.833537e-03</td>\n",
       "      <td>4.079461e-02</td>\n",
       "      <td>2.628396e-02</td>\n",
       "      <td>5.356292e-01</td>\n",
       "    </tr>\n",
       "    <tr>\n",
       "      <th>field</th>\n",
       "      <td>5.938881e-16</td>\n",
       "      <td>5.946996e-01</td>\n",
       "      <td>-1.314714e-01</td>\n",
       "      <td>8.547880e-03</td>\n",
       "      <td>1.465110e-02</td>\n",
       "      <td>1.713294e-02</td>\n",
       "      <td>1.978147e-02</td>\n",
       "      <td>1.824845e-02</td>\n",
       "      <td>-4.638975e-01</td>\n",
       "      <td>NaN</td>\n",
       "      <td>-6.792055e-02</td>\n",
       "      <td>1.000000e+00</td>\n",
       "      <td>-9.372375e-02</td>\n",
       "      <td>7.712555e-03</td>\n",
       "      <td>1.541360e-02</td>\n",
       "      <td>-9.372323e-02</td>\n",
       "      <td>-8.655805e-02</td>\n",
       "      <td>-4.049295e-02</td>\n",
       "    </tr>\n",
       "    <tr>\n",
       "      <th>specobjid</th>\n",
       "      <td>-1.829075e-15</td>\n",
       "      <td>-9.532711e-02</td>\n",
       "      <td>8.834533e-02</td>\n",
       "      <td>-1.294293e-01</td>\n",
       "      <td>-5.497908e-02</td>\n",
       "      <td>1.978831e-02</td>\n",
       "      <td>7.295994e-02</td>\n",
       "      <td>1.123981e-01</td>\n",
       "      <td>9.360436e-02</td>\n",
       "      <td>NaN</td>\n",
       "      <td>4.080943e-02</td>\n",
       "      <td>-9.372375e-02</td>\n",
       "      <td>1.000000e+00</td>\n",
       "      <td>5.854925e-01</td>\n",
       "      <td>-3.808992e-02</td>\n",
       "      <td>1.000000e+00</td>\n",
       "      <td>9.668799e-01</td>\n",
       "      <td>2.298375e-01</td>\n",
       "    </tr>\n",
       "    <tr>\n",
       "      <th>class</th>\n",
       "      <td>-3.355500e-15</td>\n",
       "      <td>-4.321896e-02</td>\n",
       "      <td>-5.891815e-02</td>\n",
       "      <td>-2.690437e-01</td>\n",
       "      <td>-9.921163e-02</td>\n",
       "      <td>4.962769e-02</td>\n",
       "      <td>1.467908e-01</td>\n",
       "      <td>2.157584e-01</td>\n",
       "      <td>-7.816172e-02</td>\n",
       "      <td>NaN</td>\n",
       "      <td>-6.185920e-03</td>\n",
       "      <td>7.712555e-03</td>\n",
       "      <td>5.854925e-01</td>\n",
       "      <td>1.000000e+00</td>\n",
       "      <td>-7.550956e-02</td>\n",
       "      <td>5.854948e-01</td>\n",
       "      <td>6.487679e-01</td>\n",
       "      <td>5.359261e-02</td>\n",
       "    </tr>\n",
       "    <tr>\n",
       "      <th>redshift</th>\n",
       "      <td>5.085882e-16</td>\n",
       "      <td>3.030740e-02</td>\n",
       "      <td>6.702076e-02</td>\n",
       "      <td>1.637409e-01</td>\n",
       "      <td>4.075763e-01</td>\n",
       "      <td>4.410797e-01</td>\n",
       "      <td>4.314500e-01</td>\n",
       "      <td>4.240342e-01</td>\n",
       "      <td>5.905595e-02</td>\n",
       "      <td>NaN</td>\n",
       "      <td>6.833537e-03</td>\n",
       "      <td>1.541360e-02</td>\n",
       "      <td>-3.808992e-02</td>\n",
       "      <td>-7.550956e-02</td>\n",
       "      <td>1.000000e+00</td>\n",
       "      <td>-3.809149e-02</td>\n",
       "      <td>-5.795732e-02</td>\n",
       "      <td>4.653223e-02</td>\n",
       "    </tr>\n",
       "    <tr>\n",
       "      <th>plate</th>\n",
       "      <td>4.156934e-16</td>\n",
       "      <td>-9.532933e-02</td>\n",
       "      <td>8.834153e-02</td>\n",
       "      <td>-1.294304e-01</td>\n",
       "      <td>-5.498078e-02</td>\n",
       "      <td>1.978671e-02</td>\n",
       "      <td>7.295843e-02</td>\n",
       "      <td>1.123969e-01</td>\n",
       "      <td>9.360107e-02</td>\n",
       "      <td>NaN</td>\n",
       "      <td>4.079461e-02</td>\n",
       "      <td>-9.372323e-02</td>\n",
       "      <td>1.000000e+00</td>\n",
       "      <td>5.854948e-01</td>\n",
       "      <td>-3.809149e-02</td>\n",
       "      <td>1.000000e+00</td>\n",
       "      <td>9.668808e-01</td>\n",
       "      <td>2.298108e-01</td>\n",
       "    </tr>\n",
       "    <tr>\n",
       "      <th>mjd</th>\n",
       "      <td>-3.317582e-15</td>\n",
       "      <td>-8.688726e-02</td>\n",
       "      <td>6.614663e-02</td>\n",
       "      <td>-1.687927e-01</td>\n",
       "      <td>-9.277155e-02</td>\n",
       "      <td>-9.344506e-03</td>\n",
       "      <td>5.089616e-02</td>\n",
       "      <td>9.565845e-02</td>\n",
       "      <td>7.035433e-02</td>\n",
       "      <td>NaN</td>\n",
       "      <td>2.628396e-02</td>\n",
       "      <td>-8.655805e-02</td>\n",
       "      <td>9.668799e-01</td>\n",
       "      <td>6.487679e-01</td>\n",
       "      <td>-5.795732e-02</td>\n",
       "      <td>9.668808e-01</td>\n",
       "      <td>1.000000e+00</td>\n",
       "      <td>1.903281e-01</td>\n",
       "    </tr>\n",
       "    <tr>\n",
       "      <th>fiberid</th>\n",
       "      <td>4.665195e-15</td>\n",
       "      <td>5.748482e-02</td>\n",
       "      <td>1.550124e-01</td>\n",
       "      <td>1.130112e-02</td>\n",
       "      <td>4.718739e-02</td>\n",
       "      <td>6.108141e-02</td>\n",
       "      <td>6.997739e-02</td>\n",
       "      <td>6.797999e-02</td>\n",
       "      <td>1.385659e-01</td>\n",
       "      <td>NaN</td>\n",
       "      <td>5.356292e-01</td>\n",
       "      <td>-4.049295e-02</td>\n",
       "      <td>2.298375e-01</td>\n",
       "      <td>5.359261e-02</td>\n",
       "      <td>4.653223e-02</td>\n",
       "      <td>2.298108e-01</td>\n",
       "      <td>1.903281e-01</td>\n",
       "      <td>1.000000e+00</td>\n",
       "    </tr>\n",
       "  </tbody>\n",
       "</table>\n",
       "</div>"
      ],
      "text/plain": [
       "                  objid            ra           dec             u  \\\n",
       "objid      1.000000e+00  2.524419e-14 -1.937483e-15  5.581214e-14   \n",
       "ra         2.524419e-14  1.000000e+00  3.596046e-03  3.123756e-02   \n",
       "dec       -1.937483e-15  3.596046e-03  1.000000e+00  3.527932e-02   \n",
       "u          5.581214e-14  3.123756e-02  3.527932e-02  1.000000e+00   \n",
       "g          1.001149e-13  4.390863e-02  6.187471e-02  8.492320e-01   \n",
       "r          2.995673e-14  4.710290e-02  6.340395e-02  6.923790e-01   \n",
       "i          2.212198e-14  4.573107e-02  5.829189e-02  6.026302e-01   \n",
       "z         -4.107700e-14  4.294957e-02  5.687030e-02  5.514828e-01   \n",
       "run       -1.553011e-14 -9.274056e-02  7.783849e-01  3.822910e-02   \n",
       "rerun               NaN           NaN           NaN           NaN   \n",
       "camcol     1.921887e-15 -6.293831e-03  1.146139e-01  9.944672e-03   \n",
       "field      5.938881e-16  5.946996e-01 -1.314714e-01  8.547880e-03   \n",
       "specobjid -1.829075e-15 -9.532711e-02  8.834533e-02 -1.294293e-01   \n",
       "class     -3.355500e-15 -4.321896e-02 -5.891815e-02 -2.690437e-01   \n",
       "redshift   5.085882e-16  3.030740e-02  6.702076e-02  1.637409e-01   \n",
       "plate      4.156934e-16 -9.532933e-02  8.834153e-02 -1.294304e-01   \n",
       "mjd       -3.317582e-15 -8.688726e-02  6.614663e-02 -1.687927e-01   \n",
       "fiberid    4.665195e-15  5.748482e-02  1.550124e-01  1.130112e-02   \n",
       "\n",
       "                      g             r             i             z  \\\n",
       "objid      1.001149e-13  2.995673e-14  2.212198e-14 -4.107700e-14   \n",
       "ra         4.390863e-02  4.710290e-02  4.573107e-02  4.294957e-02   \n",
       "dec        6.187471e-02  6.340395e-02  5.829189e-02  5.687030e-02   \n",
       "u          8.492320e-01  6.923790e-01  6.026302e-01  5.514828e-01   \n",
       "g          1.000000e+00  9.581062e-01  9.074187e-01  8.796222e-01   \n",
       "r          9.581062e-01  1.000000e+00  9.776718e-01  9.691967e-01   \n",
       "i          9.074187e-01  9.776718e-01  1.000000e+00  9.815066e-01   \n",
       "z          8.796222e-01  9.691967e-01  9.815066e-01  1.000000e+00   \n",
       "run        5.844630e-02  5.726060e-02  4.976478e-02  4.825225e-02   \n",
       "rerun               NaN           NaN           NaN           NaN   \n",
       "camcol     1.022304e-02  1.074725e-02  1.346079e-02  1.092981e-02   \n",
       "field      1.465110e-02  1.713294e-02  1.978147e-02  1.824845e-02   \n",
       "specobjid -5.497908e-02  1.978831e-02  7.295994e-02  1.123981e-01   \n",
       "class     -9.921163e-02  4.962769e-02  1.467908e-01  2.157584e-01   \n",
       "redshift   4.075763e-01  4.410797e-01  4.314500e-01  4.240342e-01   \n",
       "plate     -5.498078e-02  1.978671e-02  7.295843e-02  1.123969e-01   \n",
       "mjd       -9.277155e-02 -9.344506e-03  5.089616e-02  9.565845e-02   \n",
       "fiberid    4.718739e-02  6.108141e-02  6.997739e-02  6.797999e-02   \n",
       "\n",
       "                    run  rerun        camcol         field     specobjid  \\\n",
       "objid     -1.553011e-14    NaN  1.921887e-15  5.938881e-16 -1.829075e-15   \n",
       "ra        -9.274056e-02    NaN -6.293831e-03  5.946996e-01 -9.532711e-02   \n",
       "dec        7.783849e-01    NaN  1.146139e-01 -1.314714e-01  8.834533e-02   \n",
       "u          3.822910e-02    NaN  9.944672e-03  8.547880e-03 -1.294293e-01   \n",
       "g          5.844630e-02    NaN  1.022304e-02  1.465110e-02 -5.497908e-02   \n",
       "r          5.726060e-02    NaN  1.074725e-02  1.713294e-02  1.978831e-02   \n",
       "i          4.976478e-02    NaN  1.346079e-02  1.978147e-02  7.295994e-02   \n",
       "z          4.825225e-02    NaN  1.092981e-02  1.824845e-02  1.123981e-01   \n",
       "run        1.000000e+00    NaN  1.518143e-01 -4.638975e-01  9.360436e-02   \n",
       "rerun               NaN    NaN           NaN           NaN           NaN   \n",
       "camcol     1.518143e-01    NaN  1.000000e+00 -6.792055e-02  4.080943e-02   \n",
       "field     -4.638975e-01    NaN -6.792055e-02  1.000000e+00 -9.372375e-02   \n",
       "specobjid  9.360436e-02    NaN  4.080943e-02 -9.372375e-02  1.000000e+00   \n",
       "class     -7.816172e-02    NaN -6.185920e-03  7.712555e-03  5.854925e-01   \n",
       "redshift   5.905595e-02    NaN  6.833537e-03  1.541360e-02 -3.808992e-02   \n",
       "plate      9.360107e-02    NaN  4.079461e-02 -9.372323e-02  1.000000e+00   \n",
       "mjd        7.035433e-02    NaN  2.628396e-02 -8.655805e-02  9.668799e-01   \n",
       "fiberid    1.385659e-01    NaN  5.356292e-01 -4.049295e-02  2.298375e-01   \n",
       "\n",
       "                  class      redshift         plate           mjd  \\\n",
       "objid     -3.355500e-15  5.085882e-16  4.156934e-16 -3.317582e-15   \n",
       "ra        -4.321896e-02  3.030740e-02 -9.532933e-02 -8.688726e-02   \n",
       "dec       -5.891815e-02  6.702076e-02  8.834153e-02  6.614663e-02   \n",
       "u         -2.690437e-01  1.637409e-01 -1.294304e-01 -1.687927e-01   \n",
       "g         -9.921163e-02  4.075763e-01 -5.498078e-02 -9.277155e-02   \n",
       "r          4.962769e-02  4.410797e-01  1.978671e-02 -9.344506e-03   \n",
       "i          1.467908e-01  4.314500e-01  7.295843e-02  5.089616e-02   \n",
       "z          2.157584e-01  4.240342e-01  1.123969e-01  9.565845e-02   \n",
       "run       -7.816172e-02  5.905595e-02  9.360107e-02  7.035433e-02   \n",
       "rerun               NaN           NaN           NaN           NaN   \n",
       "camcol    -6.185920e-03  6.833537e-03  4.079461e-02  2.628396e-02   \n",
       "field      7.712555e-03  1.541360e-02 -9.372323e-02 -8.655805e-02   \n",
       "specobjid  5.854925e-01 -3.808992e-02  1.000000e+00  9.668799e-01   \n",
       "class      1.000000e+00 -7.550956e-02  5.854948e-01  6.487679e-01   \n",
       "redshift  -7.550956e-02  1.000000e+00 -3.809149e-02 -5.795732e-02   \n",
       "plate      5.854948e-01 -3.809149e-02  1.000000e+00  9.668808e-01   \n",
       "mjd        6.487679e-01 -5.795732e-02  9.668808e-01  1.000000e+00   \n",
       "fiberid    5.359261e-02  4.653223e-02  2.298108e-01  1.903281e-01   \n",
       "\n",
       "                fiberid  \n",
       "objid      4.665195e-15  \n",
       "ra         5.748482e-02  \n",
       "dec        1.550124e-01  \n",
       "u          1.130112e-02  \n",
       "g          4.718739e-02  \n",
       "r          6.108141e-02  \n",
       "i          6.997739e-02  \n",
       "z          6.797999e-02  \n",
       "run        1.385659e-01  \n",
       "rerun               NaN  \n",
       "camcol     5.356292e-01  \n",
       "field     -4.049295e-02  \n",
       "specobjid  2.298375e-01  \n",
       "class      5.359261e-02  \n",
       "redshift   4.653223e-02  \n",
       "plate      2.298108e-01  \n",
       "mjd        1.903281e-01  \n",
       "fiberid    1.000000e+00  "
      ]
     },
     "execution_count": 14,
     "metadata": {},
     "output_type": "execute_result"
    }
   ],
   "source": [
    "df_cor=df.corr()  #checking the correlation\n",
    "df_cor"
   ]
  },
  {
   "cell_type": "code",
   "execution_count": 15,
   "metadata": {},
   "outputs": [
    {
     "data": {
      "text/plain": [
       "array([4, 2, 1, 5, 6, 3])"
      ]
     },
     "execution_count": 15,
     "metadata": {},
     "output_type": "execute_result"
    }
   ],
   "source": [
    "df[\"camcol\"].unique()"
   ]
  },
  {
   "cell_type": "code",
   "execution_count": 16,
   "metadata": {},
   "outputs": [
    {
     "data": {
      "text/plain": [
       "<AxesSubplot:>"
      ]
     },
     "execution_count": 16,
     "metadata": {},
     "output_type": "execute_result"
    },
    {
     "data": {
      "image/png": "[encoded data removed]",
      "text/plain": [
       "<Figure size 864x720 with 2 Axes>"
      ]
     },
     "metadata": {
      "needs_background": "light"
     },
     "output_type": "display_data"
    }
   ],
   "source": [
    "plt.figure(figsize=(12,10))\n",
    "sns.heatmap(df.corr(),annot=True,cmap=\"magma\",fmt='.2f')"
   ]
  },
  {
   "cell_type": "markdown",
   "metadata": {},
   "source": [
    "key observations here\n",
    "1. plate and mjd are highly correlated with each other\n",
    "2. specobjid,plate,mjd are highly correlated with target class\n",
    "3. specojid is highly correlated with plate,mjd\n",
    "4. variable u  is negitively correlated with target variable (class)\n",
    "5. u,g,i,r,z  are positively correlated"
   ]
  },
  {
   "cell_type": "markdown",
   "metadata": {},
   "source": [
    "# Data Visualization\n",
    "\n",
    "Univariate Analysis & Bivariate Analysis"
   ]
  },
  {
   "cell_type": "code",
   "execution_count": 17,
   "metadata": {},
   "outputs": [
    {
     "data": {
      "image/png": "[encoded data removed]",
      "text/plain": [
       "<Figure size 432x288 with 1 Axes>"
      ]
     },
     "metadata": {
      "needs_background": "light"
     },
     "output_type": "display_data"
    }
   ],
   "source": [
    "sns.distplot(df[\"plate\"])\n",
    "plt.title(\"Plate Number\\n\")\n",
    "plt.show()  # shows positively skewed"
   ]
  },
  {
   "cell_type": "code",
   "execution_count": 18,
   "metadata": {},
   "outputs": [
    {
     "data": {
      "image/png": "[encoded data removed]",
      "text/plain": [
       "<Figure size 432x288 with 1 Axes>"
      ]
     },
     "metadata": {
      "needs_background": "light"
     },
     "output_type": "display_data"
    }
   ],
   "source": [
    "sns.distplot(df[\"redshift\"])\n",
    "plt.title(\"Final RedShift\")\n",
    "plt.show() # showing positively skewed"
   ]
  },
  {
   "cell_type": "code",
   "execution_count": 19,
   "metadata": {},
   "outputs": [
    {
     "data": {
      "image/png": "[encoded data removed]",
      "text/plain": [
       "<Figure size 432x288 with 1 Axes>"
      ]
     },
     "metadata": {
      "needs_background": "light"
     },
     "output_type": "display_data"
    }
   ],
   "source": [
    "sns.distplot(df[\"mjd\"])\n",
    "plt.title(\"MJD of observation\")\n",
    "plt.show() # showing skewness"
   ]
  },
  {
   "cell_type": "code",
   "execution_count": 20,
   "metadata": {},
   "outputs": [
    {
     "data": {
      "image/png": "[encoded data removed]",
      "text/plain": [
       "<Figure size 432x288 with 1 Axes>"
      ]
     },
     "metadata": {
      "needs_background": "light"
     },
     "output_type": "display_data"
    }
   ],
   "source": [
    "sns.distplot(df[\"z\"])\n",
    "plt.title(\"better of DeV/Exp magnitude fit\")\n",
    "plt.show() # showing z value is normalised"
   ]
  },
  {
   "cell_type": "code",
   "execution_count": 21,
   "metadata": {},
   "outputs": [
    {
     "data": {
      "image/png": "[encoded data removed]",
      "text/plain": [
       "<Figure size 432x288 with 1 Axes>"
      ]
     },
     "metadata": {
      "needs_background": "light"
     },
     "output_type": "display_data"
    }
   ],
   "source": [
    "sns.distplot(df[\"u\"])\n",
    "plt.title(\"better of DeV/Exp magnitude fit\")\n",
    "plt.show()  # showing data is negitively skewed"
   ]
  },
  {
   "cell_type": "code",
   "execution_count": 22,
   "metadata": {},
   "outputs": [
    {
     "data": {
      "image/png": "[encoded data removed]",
      "text/plain": [
       "<Figure size 864x720 with 1 Axes>"
      ]
     },
     "metadata": {
      "needs_background": "light"
     },
     "output_type": "display_data"
    }
   ],
   "source": [
    "plt.figure(figsize=(12,10))\n",
    "sns.countplot(x ='run',hue='class', data = df)\n",
    "plt.title('Run v/s Class\\n 2 Star   1-Quasar     0-Galaxy')\n",
    "plt.show()"
   ]
  },
  {
   "cell_type": "code",
   "execution_count": 23,
   "metadata": {},
   "outputs": [
    {
     "data": {
      "text/plain": [
       "Text(0.5, 1.0, 'MJD Observation for Quasar\\n')"
      ]
     },
     "execution_count": 23,
     "metadata": {},
     "output_type": "execute_result"
    },
    {
     "data": {
      "image/png": "[encoded data removed]",
      "text/plain": [
       "<Figure size 1152x504 with 1 Axes>"
      ]
     },
     "metadata": {
      "needs_background": "light"
     },
     "output_type": "display_data"
    }
   ],
   "source": [
    "plt.figure(figsize=(16,7))\n",
    "sns.distplot(df[df['class']==1]['mjd'],kde=False,bins=40)\n",
    "plt.title('MJD Observation for Quasar\\n')\n"
   ]
  },
  {
   "cell_type": "markdown",
   "metadata": {},
   "source": [
    "above plot shows MJD values for Quasar is mostly concentrated near52000"
   ]
  },
  {
   "cell_type": "code",
   "execution_count": 24,
   "metadata": {},
   "outputs": [
    {
     "data": {
      "text/plain": [
       "Text(0.5, 1.0, 'MJD observation for Star\\n')"
      ]
     },
     "execution_count": 24,
     "metadata": {},
     "output_type": "execute_result"
    },
    {
     "data": {
      "image/png": "[encoded data removed]",
      "text/plain": [
       "<Figure size 1152x504 with 1 Axes>"
      ]
     },
     "metadata": {
      "needs_background": "light"
     },
     "output_type": "display_data"
    }
   ],
   "source": [
    "plt.figure(figsize=(16,7))\n",
    "sns.distplot(df[df['class']==2]['mjd'],kde=False,bins=40)\n",
    "plt.title('MJD observation for Star\\n')"
   ]
  },
  {
   "cell_type": "markdown",
   "metadata": {},
   "source": [
    "MJD values are scattered mainly near 52000,54000-55000 and around56500 in class variable STAR"
   ]
  },
  {
   "cell_type": "code",
   "execution_count": 25,
   "metadata": {},
   "outputs": [
    {
     "data": {
      "text/plain": [
       "Text(0.5, 1.0, 'MJD observation for Galaxy\\n')"
      ]
     },
     "execution_count": 25,
     "metadata": {},
     "output_type": "execute_result"
    },
    {
     "data": {
      "image/png": "[encoded data removed]",
      "text/plain": [
       "<Figure size 1152x504 with 1 Axes>"
      ]
     },
     "metadata": {
      "needs_background": "light"
     },
     "output_type": "display_data"
    }
   ],
   "source": [
    "plt.figure(figsize=(16,7))\n",
    "sns.distplot(df[df['class']==0]['mjd'],kde=False,bins=40)\n",
    "plt.title('MJD observation for Galaxy\\n')"
   ]
  },
  {
   "cell_type": "markdown",
   "metadata": {},
   "source": [
    "MJD observation is mainly lies around 52000 when class is Galaxy"
   ]
  },
  {
   "cell_type": "code",
   "execution_count": 26,
   "metadata": {},
   "outputs": [
    {
     "data": {
      "image/png": "[encoded data removed]",
      "text/plain": [
       "<Figure size 432x288 with 1 Axes>"
      ]
     },
     "metadata": {
      "needs_background": "light"
     },
     "output_type": "display_data"
    }
   ],
   "source": [
    "plt.scatter(df[\"plate\"],df[\"class\"])\n",
    "plt.title(\"scatter plot\")\n",
    "plt.xlabel(\"plate\")\n",
    "plt.ylabel(\"class\")\n",
    "plt.show()"
   ]
  },
  {
   "cell_type": "markdown",
   "metadata": {},
   "source": [
    " above plot shows Plate Number values for class Star,Quasar,Galaxy "
   ]
  },
  {
   "cell_type": "code",
   "execution_count": 27,
   "metadata": {},
   "outputs": [
    {
     "data": {
      "image/png": "[encoded data removed]",
      "text/plain": [
       "<Figure size 432x288 with 1 Axes>"
      ]
     },
     "metadata": {
      "needs_background": "light"
     },
     "output_type": "display_data"
    }
   ],
   "source": [
    "plt.scatter(df[\"redshift\"],df[\"class\"])\n",
    "plt.title(\"scatter plot\")\n",
    "plt.xlabel(\"redshift\")\n",
    "plt.ylabel(\"class\")\n",
    "plt.show()"
   ]
  },
  {
   "cell_type": "markdown",
   "metadata": {},
   "source": [
    "above plot shows redshift values are mostly scattered in Quasar"
   ]
  },
  {
   "cell_type": "markdown",
   "metadata": {},
   "source": [
    "# plotting the outliers"
   ]
  },
  {
   "cell_type": "code",
   "execution_count": 28,
   "metadata": {},
   "outputs": [
    {
     "data": {
      "text/plain": [
       "<AxesSubplot:>"
      ]
     },
     "execution_count": 28,
     "metadata": {},
     "output_type": "execute_result"
    },
    {
     "data": {
      "image/png": "[encoded data removed]",
      "text/plain": [
       "<Figure size 432x288 with 1 Axes>"
      ]
     },
     "metadata": {
      "needs_background": "light"
     },
     "output_type": "display_data"
    }
   ],
   "source": [
    "df[\"u\"].plot.box()"
   ]
  },
  {
   "cell_type": "code",
   "execution_count": 29,
   "metadata": {},
   "outputs": [
    {
     "data": {
      "text/plain": [
       "<AxesSubplot:>"
      ]
     },
     "execution_count": 29,
     "metadata": {},
     "output_type": "execute_result"
    },
    {
     "data": {
      "image/png": "[encoded data removed]",
      "text/plain": [
       "<Figure size 432x288 with 1 Axes>"
      ]
     },
     "metadata": {
      "needs_background": "light"
     },
     "output_type": "display_data"
    }
   ],
   "source": [
    "df[\"i\"].plot.box()"
   ]
  },
  {
   "cell_type": "code",
   "execution_count": 30,
   "metadata": {},
   "outputs": [
    {
     "data": {
      "text/plain": [
       "<AxesSubplot:>"
      ]
     },
     "execution_count": 30,
     "metadata": {},
     "output_type": "execute_result"
    },
    {
     "data": {
      "image/png": "[encoded data removed]",
      "text/plain": [
       "<Figure size 432x288 with 1 Axes>"
      ]
     },
     "metadata": {
      "needs_background": "light"
     },
     "output_type": "display_data"
    }
   ],
   "source": [
    "df[\"z\"].plot.box()"
   ]
  },
  {
   "cell_type": "code",
   "execution_count": 31,
   "metadata": {},
   "outputs": [
    {
     "data": {
      "text/plain": [
       "<AxesSubplot:>"
      ]
     },
     "execution_count": 31,
     "metadata": {},
     "output_type": "execute_result"
    },
    {
     "data": {
      "image/png": "[encoded data removed]",
      "text/plain": [
       "<Figure size 432x288 with 1 Axes>"
      ]
     },
     "metadata": {
      "needs_background": "light"
     },
     "output_type": "display_data"
    }
   ],
   "source": [
    "df[\"plate\"].plot.box()"
   ]
  },
  {
   "cell_type": "code",
   "execution_count": 32,
   "metadata": {},
   "outputs": [],
   "source": [
    "collist=df.columns.values\n",
    "ncol=12\n",
    "nrows=10"
   ]
  },
  {
   "cell_type": "code",
   "execution_count": 33,
   "metadata": {},
   "outputs": [
    {
     "data": {
      "image/png": "[encoded data removed]",
      "text/plain": [
       "<Figure size 4320x4320 with 17 Axes>"
      ]
     },
     "metadata": {
      "needs_background": "light"
     },
     "output_type": "display_data"
    }
   ],
   "source": [
    "plt.figure(figsize=(5*ncol,5*ncol))\n",
    "for i in range(1,len(collist)):\n",
    "    plt.subplot(nrows,ncol,i+1)\n",
    "    sns.boxplot(df[collist[i]],color='green',orient='v')\n",
    "    plt.tight_layout()"
   ]
  },
  {
   "cell_type": "markdown",
   "metadata": {},
   "source": [
    "All the above boxplot shows outliers are present \n",
    "But that big differences of values in variables might be good as these are predicting the target. not removing the outliers"
   ]
  },
  {
   "cell_type": "code",
   "execution_count": 34,
   "metadata": {},
   "outputs": [],
   "source": [
    "# dividing the x varaibles features from y variable target (class)\n",
    "x=df.drop(columns=[\"class\"])\n",
    "y=df[[\"class\"]]"
   ]
  },
  {
   "cell_type": "code",
   "execution_count": 35,
   "metadata": {},
   "outputs": [
    {
     "name": "stdout",
     "output_type": "stream",
     "text": [
      "(10000, 17) \t (10000, 1)\n"
     ]
    }
   ],
   "source": [
    "print(x.shape ,\"\\t\" , y.shape)"
   ]
  },
  {
   "cell_type": "markdown",
   "metadata": {},
   "source": [
    "# To check the distribution of skewness"
   ]
  },
  {
   "cell_type": "code",
   "execution_count": 36,
   "metadata": {},
   "outputs": [
    {
     "data": {
      "text/plain": [
       "objid        0.000000\n",
       "ra          -1.227350\n",
       "dec          1.191544\n",
       "u           -1.219795\n",
       "g           -0.536293\n",
       "r           -0.021673\n",
       "i            0.286442\n",
       "z            0.214313\n",
       "run          0.412555\n",
       "rerun        0.000000\n",
       "camcol      -0.100220\n",
       "field        0.249795\n",
       "specobjid    1.794627\n",
       "class        0.169292\n",
       "redshift     4.265729\n",
       "plate        1.794609\n",
       "mjd          1.039610\n",
       "fiberid      0.308053\n",
       "dtype: float64"
      ]
     },
     "execution_count": 36,
     "metadata": {},
     "output_type": "execute_result"
    }
   ],
   "source": [
    "df.skew()  # shows  very little skewness"
   ]
  },
  {
   "cell_type": "code",
   "execution_count": 37,
   "metadata": {},
   "outputs": [],
   "source": [
    "# removing skewness by transforming data\n",
    "from sklearn.preprocessing import power_transform"
   ]
  },
  {
   "cell_type": "code",
   "execution_count": 38,
   "metadata": {},
   "outputs": [],
   "source": [
    "x=power_transform(x,method='yeo-johnson')"
   ]
  },
  {
   "cell_type": "markdown",
   "metadata": {},
   "source": [
    "# Model Training\n",
    "\n",
    "Logistic REgression"
   ]
  },
  {
   "cell_type": "code",
   "execution_count": 39,
   "metadata": {},
   "outputs": [],
   "source": [
    "# scaling the input variable\n",
    "from sklearn.preprocessing import MinMaxScaler\n",
    "minmax=MinMaxScaler()\n",
    "scaledX=minmax.fit_transform(x)"
   ]
  },
  {
   "cell_type": "code",
   "execution_count": 40,
   "metadata": {},
   "outputs": [],
   "source": [
    "# importing our model libraries\n",
    "from sklearn.model_selection import train_test_split,GridSearchCV\n",
    "from sklearn.linear_model import LogisticRegression\n",
    "from sklearn.svm import SVC\n",
    "from sklearn.naive_bayes import MultinomialNB\n",
    "from sklearn.tree import DecisionTreeClassifier\n",
    "from sklearn.ensemble import RandomForestClassifier,AdaBoostClassifier\n",
    "from sklearn.neighbors import KNeighborsClassifier"
   ]
  },
  {
   "cell_type": "code",
   "execution_count": 41,
   "metadata": {},
   "outputs": [],
   "source": [
    "from sklearn.metrics import accuracy_score,confusion_matrix,classification_report\n",
    "from sklearn.model_selection import cross_val_score\n",
    "import warnings\n",
    "warnings.filterwarnings('ignore')"
   ]
  },
  {
   "cell_type": "code",
   "execution_count": 55,
   "metadata": {},
   "outputs": [
    {
     "name": "stdout",
     "output_type": "stream",
     "text": [
      "Best Accuracy 98.88 Random state 69\n"
     ]
    }
   ],
   "source": [
    "best_rstate=0\n",
    "accuracy=0\n",
    "for i in range(30,200):\n",
    "    x_train,x_test,y_train,y_test=train_test_split(scaledX,y,test_size=.25,random_state=i)\n",
    "    mod=LogisticRegression()\n",
    "    mod.fit(x_train,y_train)\n",
    "    predlr=mod.predict(x_test)\n",
    "    tempaccu=accuracy_score(y_test,predlr)\n",
    "    if(tempaccu>accuracy):\n",
    "        accuracy=tempaccu\n",
    "        best_rstate=i\n",
    "        \n",
    "print(\"Best Accuracy\",accuracy*100, \"Random state\",best_rstate)        "
   ]
  },
  {
   "cell_type": "code",
   "execution_count": 56,
   "metadata": {},
   "outputs": [],
   "source": [
    "# breaking out input and output variable into train and test data with bst random state\n",
    "x_train,x_test,y_train,y_test=train_test_split(scaledX,y,test_size=.25,random_state=69)"
   ]
  },
  {
   "cell_type": "code",
   "execution_count": 57,
   "metadata": {},
   "outputs": [
    {
     "data": {
      "text/plain": [
       "((7500, 17), (7500, 1), (2500, 17), (2500, 1))"
      ]
     },
     "execution_count": 57,
     "metadata": {},
     "output_type": "execute_result"
    }
   ],
   "source": [
    "x_train.shape , y_train.shape,x_test.shape,y_test.shape"
   ]
  },
  {
   "cell_type": "code",
   "execution_count": 58,
   "metadata": {},
   "outputs": [
    {
     "name": "stdout",
     "output_type": "stream",
     "text": [
      "Accuracy score of  LogisticRegression() is  0.9888\n",
      "confusion matrix of  LogisticRegression() is \n",
      " [[1210    3   13]\n",
      " [  11  217    0]\n",
      " [   1    0 1045]]\n",
      "classification report of  LogisticRegression() is \n",
      "               precision    recall  f1-score   support\n",
      "\n",
      "           0       0.99      0.99      0.99      1226\n",
      "           1       0.99      0.95      0.97       228\n",
      "           2       0.99      1.00      0.99      1046\n",
      "\n",
      "    accuracy                           0.99      2500\n",
      "   macro avg       0.99      0.98      0.98      2500\n",
      "weighted avg       0.99      0.99      0.99      2500\n",
      "\n",
      "**********************************************************************\n",
      "\n",
      "Accuracy score of  AdaBoostClassifier() is  0.8916\n",
      "confusion matrix of  AdaBoostClassifier() is \n",
      " [[1218    6    2]\n",
      " [ 196   32    0]\n",
      " [  66    1  979]]\n",
      "classification report of  AdaBoostClassifier() is \n",
      "               precision    recall  f1-score   support\n",
      "\n",
      "           0       0.82      0.99      0.90      1226\n",
      "           1       0.82      0.14      0.24       228\n",
      "           2       1.00      0.94      0.97      1046\n",
      "\n",
      "    accuracy                           0.89      2500\n",
      "   macro avg       0.88      0.69      0.70      2500\n",
      "weighted avg       0.90      0.89      0.87      2500\n",
      "\n",
      "**********************************************************************\n",
      "\n",
      "Accuracy score of  MultinomialNB() is  0.7992\n",
      "confusion matrix of  MultinomialNB() is \n",
      " [[1197    0   29]\n",
      " [ 228    0    0]\n",
      " [ 245    0  801]]\n",
      "classification report of  MultinomialNB() is \n",
      "               precision    recall  f1-score   support\n",
      "\n",
      "           0       0.72      0.98      0.83      1226\n",
      "           1       0.00      0.00      0.00       228\n",
      "           2       0.97      0.77      0.85      1046\n",
      "\n",
      "    accuracy                           0.80      2500\n",
      "   macro avg       0.56      0.58      0.56      2500\n",
      "weighted avg       0.76      0.80      0.76      2500\n",
      "\n",
      "**********************************************************************\n",
      "\n",
      "Accuracy score of  DecisionTreeClassifier() is  0.9912\n",
      "confusion matrix of  DecisionTreeClassifier() is \n",
      " [[1215    9    2]\n",
      " [  11  217    0]\n",
      " [   0    0 1046]]\n",
      "classification report of  DecisionTreeClassifier() is \n",
      "               precision    recall  f1-score   support\n",
      "\n",
      "           0       0.99      0.99      0.99      1226\n",
      "           1       0.96      0.95      0.96       228\n",
      "           2       1.00      1.00      1.00      1046\n",
      "\n",
      "    accuracy                           0.99      2500\n",
      "   macro avg       0.98      0.98      0.98      2500\n",
      "weighted avg       0.99      0.99      0.99      2500\n",
      "\n",
      "**********************************************************************\n",
      "\n",
      "Accuracy score of  RandomForestClassifier() is  0.9936\n",
      "confusion matrix of  RandomForestClassifier() is \n",
      " [[1219    4    3]\n",
      " [   9  219    0]\n",
      " [   0    0 1046]]\n",
      "classification report of  RandomForestClassifier() is \n",
      "               precision    recall  f1-score   support\n",
      "\n",
      "           0       0.99      0.99      0.99      1226\n",
      "           1       0.98      0.96      0.97       228\n",
      "           2       1.00      1.00      1.00      1046\n",
      "\n",
      "    accuracy                           0.99      2500\n",
      "   macro avg       0.99      0.98      0.99      2500\n",
      "weighted avg       0.99      0.99      0.99      2500\n",
      "\n",
      "**********************************************************************\n",
      "\n",
      "Accuracy score of  KNeighborsClassifier() is  0.9696\n",
      "confusion matrix of  KNeighborsClassifier() is \n",
      " [[1186    5   35]\n",
      " [  12  216    0]\n",
      " [  24    0 1022]]\n",
      "classification report of  KNeighborsClassifier() is \n",
      "               precision    recall  f1-score   support\n",
      "\n",
      "           0       0.97      0.97      0.97      1226\n",
      "           1       0.98      0.95      0.96       228\n",
      "           2       0.97      0.98      0.97      1046\n",
      "\n",
      "    accuracy                           0.97      2500\n",
      "   macro avg       0.97      0.96      0.97      2500\n",
      "weighted avg       0.97      0.97      0.97      2500\n",
      "\n",
      "**********************************************************************\n",
      "\n",
      "Accuracy score of  SVC() is  0.9896\n",
      "confusion matrix of  SVC() is \n",
      " [[1210    4   12]\n",
      " [  10  218    0]\n",
      " [   0    0 1046]]\n",
      "classification report of  SVC() is \n",
      "               precision    recall  f1-score   support\n",
      "\n",
      "           0       0.99      0.99      0.99      1226\n",
      "           1       0.98      0.96      0.97       228\n",
      "           2       0.99      1.00      0.99      1046\n",
      "\n",
      "    accuracy                           0.99      2500\n",
      "   macro avg       0.99      0.98      0.98      2500\n",
      "weighted avg       0.99      0.99      0.99      2500\n",
      "\n",
      "**********************************************************************\n",
      "\n"
     ]
    }
   ],
   "source": [
    "#using algorithms in for loops and finding cross validation score\n",
    "model=[LogisticRegression(),AdaBoostClassifier(),MultinomialNB(),DecisionTreeClassifier(),RandomForestClassifier(),KNeighborsClassifier(),SVC()]\n",
    "for m in model:\n",
    "    m.fit(x_train,y_train)\n",
    "    y_pred=m.predict(x_test)\n",
    "    print(\"Accuracy score of \" , m , \"is \" , accuracy_score(y_test,y_pred))\n",
    "    print(\"confusion matrix of \" , m , \"is \\n\",confusion_matrix(y_test,y_pred))\n",
    "    print(\"classification report of \" , m, \"is \\n\",classification_report(y_test,y_pred))\n",
    "    print(\"**********************************************************************\\n\")"
   ]
  },
  {
   "cell_type": "markdown",
   "metadata": {},
   "source": [
    "# hyperparameter tuning"
   ]
  },
  {
   "cell_type": "code",
   "execution_count": 59,
   "metadata": {},
   "outputs": [],
   "source": [
    "rfc=RandomForestClassifier()\n",
    "# Create the parameter grid based on the results of random search \n",
    "param_grid = {  'bootstrap': [True], 'max_depth': [5, 10, None], 'n_estimators': [5, 6, 7, 8, 9, 10, 11, 12, 13, 15]}"
   ]
  },
  {
   "cell_type": "code",
   "execution_count": 60,
   "metadata": {},
   "outputs": [],
   "source": [
    "rfc = RandomForestClassifier()\n",
    "\n",
    "g_search = GridSearchCV(estimator = rfc, param_grid = param_grid, \n",
    "\n",
    "                          cv = 5, n_jobs = 1, verbose = 0, return_train_score=True)"
   ]
  },
  {
   "cell_type": "code",
   "execution_count": 61,
   "metadata": {},
   "outputs": [
    {
     "name": "stdout",
     "output_type": "stream",
     "text": [
      "{'bootstrap': True, 'max_depth': 10, 'n_estimators': 10}\n"
     ]
    }
   ],
   "source": [
    "#finding the best parameters \n",
    "g_search.fit(x_train, y_train);\n",
    "\n",
    "print(g_search.best_params_)"
   ]
  },
  {
   "cell_type": "code",
   "execution_count": 62,
   "metadata": {},
   "outputs": [
    {
     "name": "stdout",
     "output_type": "stream",
     "text": [
      "Accuracy score of is  0.9924\n",
      "confusion matrix of is \n",
      " [[1218    5    3]\n",
      " [  11  217    0]\n",
      " [   0    0 1046]]\n",
      "classification report of is \n",
      "               precision    recall  f1-score   support\n",
      "\n",
      "           0       0.99      0.99      0.99      1226\n",
      "           1       0.98      0.95      0.96       228\n",
      "           2       1.00      1.00      1.00      1046\n",
      "\n",
      "    accuracy                           0.99      2500\n",
      "   macro avg       0.99      0.98      0.99      2500\n",
      "weighted avg       0.99      0.99      0.99      2500\n",
      "\n",
      "**********************************************************************\n",
      "\n"
     ]
    }
   ],
   "source": [
    "# using RandomForestClasifier with best parameters\n",
    "rf=RandomForestClassifier(max_depth=10,bootstrap=True,n_estimators=10)\n",
    "rf.fit(x_train,y_train)\n",
    "predrfc=rf.predict(x_test)\n",
    "print(\"Accuracy score of is \" , accuracy_score(y_test,predrfc))\n",
    "print(\"confusion matrix of is \\n\",confusion_matrix(y_test,predrfc))\n",
    "print(\"classification report of is \\n\",classification_report(y_test,predrfc))\n",
    "print(\"**********************************************************************\\n\")"
   ]
  },
  {
   "cell_type": "code",
   "execution_count": 63,
   "metadata": {},
   "outputs": [
    {
     "name": "stdout",
     "output_type": "stream",
     "text": [
      "Cross Validation Score :  [0.989  0.989  0.9885 0.983  0.9875] \n",
      "\n",
      "Mean 0.9874\n",
      "Standard Deviation 0.002267156809750935\n"
     ]
    }
   ],
   "source": [
    "# cross validating RandomForestClasifier\n",
    "score=cross_val_score(rf,scaledX,y,cv=5,scoring='accuracy')\n",
    "print(\"Cross Validation Score : \", score,\"\\n\")\n",
    "print(\"Mean\" , score.mean())\n",
    "print(\"Standard Deviation\" , score.std())"
   ]
  },
  {
   "cell_type": "markdown",
   "metadata": {},
   "source": [
    "# Conclusion\n",
    "\n",
    "RandomForestClasifier is performing best among all above with accuaracy score .99"
   ]
  },
  {
   "cell_type": "markdown",
   "metadata": {},
   "source": [
    "# Saving the model- Serialization"
   ]
  },
  {
   "cell_type": "code",
   "execution_count": 64,
   "metadata": {},
   "outputs": [],
   "source": [
    "# saving the prediction model\n",
    "\n",
    "import pickle\n",
    "filename=\"SpaceServer.pkl\"\n",
    "pickle.dump(predrfc,open(filename,'wb'))"
   ]
  },
  {
   "cell_type": "code",
   "execution_count": null,
   "metadata": {},
   "outputs": [],
   "source": []
  },
  {
   "cell_type": "code",
   "execution_count": null,
   "metadata": {},
   "outputs": [],
   "source": []
  }
 ],
 "metadata": {
  "kernelspec": {
   "display_name": "Python 3",
   "language": "python",
   "name": "python3"
  },
  "language_info": {
   "codemirror_mode": {
    "name": "ipython",
    "version": 3
   },
   "file_extension": ".py",
   "mimetype": "text/x-python",
   "name": "python",
   "nbconvert_exporter": "python",
   "pygments_lexer": "ipython3",
   "version": "3.8.5"
  }
 },
 "nbformat": 4,
 "nbformat_minor": 4
}
